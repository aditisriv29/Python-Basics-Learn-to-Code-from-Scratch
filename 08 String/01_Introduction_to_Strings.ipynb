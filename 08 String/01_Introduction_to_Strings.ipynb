{
 "cells": [
  {
   "cell_type": "markdown",
   "id": "2a0aacb5-4363-4b22-902c-a1b6a9a9b5b2",
   "metadata": {},
   "source": [
    "## String\n",
    "In Python, a string is a sequence of characters enclosed within single, double or triple quotes. It is one of the most commonly used data types in Python. In this module, we will explore various operations that can be performed on strings in Python."
   ]
  },
  {
   "cell_type": "markdown",
   "id": "43bd52fb-20fc-49bb-b2f0-ca53ce107571",
   "metadata": {},
   "source": [
    "### String Creation\n",
    "To create a string in Python, simply enclose a sequence of characters within single, double or triple quotes. For example:"
   ]
  },
  {
   "cell_type": "code",
   "execution_count": 1,
   "id": "2bfa5949-711a-4501-9789-061e0bf700b1",
   "metadata": {
    "tags": []
   },
   "outputs": [
    {
     "name": "stdout",
     "output_type": "stream",
     "text": [
      "GeoNext\n",
      "Krishnagopal Halder\n",
      "\n",
      "Hello, my name is Krishnagopal.\n",
      "I am modern GIS geek.\n",
      "Thanks for joining today's class.\n",
      "\n",
      "<class 'str'>\n",
      "<class 'str'>\n",
      "<class 'str'>\n"
     ]
    }
   ],
   "source": [
    "# Defining strings in Python\n",
    "\n",
    "# Using single quote\n",
    "name1 = 'GeoNext'\n",
    "print(name1)\n",
    "\n",
    "# using double quote\n",
    "name2 = \"Krishnagopal Halder\"\n",
    "print(name2)\n",
    "\n",
    "# We can use triple quotes to create docstrings and/or multiline strings.\n",
    "message = '''\n",
    "Hello, my name is Krishnagopal.\n",
    "I am modern GIS geek.\n",
    "Thanks for joining today's class.\n",
    "'''\n",
    "print(message)\n",
    "\n",
    "print(type(name1))\n",
    "print(type(name2))\n",
    "print(type(message))"
   ]
  },
  {
   "cell_type": "markdown",
   "id": "e1b9eca6-36a8-48e2-9720-3822d33ff1c0",
   "metadata": {},
   "source": [
    "### Accessing Characters in a String\n",
    "To access individual characters in a string, we use indexing. In Python, indexing starts at 0. "
   ]
  },
  {
   "cell_type": "code",
   "execution_count": 2,
   "id": "b32b490e-4409-4407-99a3-e9ad33f4f67b",
   "metadata": {
    "tags": []
   },
   "outputs": [
    {
     "name": "stdout",
     "output_type": "stream",
     "text": [
      "G\n",
      "e\n",
      "o\n"
     ]
    }
   ],
   "source": [
    "print(name1[0]) # Output: G\n",
    "print(name1[1]) # Output: e\n",
    "print(name1[2]) # Output: o"
   ]
  },
  {
   "cell_type": "markdown",
   "id": "d5821602-4dac-4b4f-bd48-0a3df5a74ebd",
   "metadata": {},
   "source": [
    "### Negative Indexing\n",
    "Python allows negative indexing for strings. The index of -1 refers to the last character, -2 refers to the second last character, and so on. The negative indexing starts from the last character in the string."
   ]
  },
  {
   "cell_type": "code",
   "execution_count": 3,
   "id": "33aca3c8-0875-45f9-846d-542103e477a2",
   "metadata": {
    "tags": []
   },
   "outputs": [
    {
     "name": "stdout",
     "output_type": "stream",
     "text": [
      "t\n",
      "x\n",
      "e\n",
      "N\n"
     ]
    }
   ],
   "source": [
    "print(name1[-1]) # Output: t\n",
    "print(name1[-2]) # Output: x \n",
    "print(name1[-3]) # Output: e \n",
    "print(name1[-4]) # Output: N "
   ]
  },
  {
   "cell_type": "markdown",
   "id": "295161b9-8e9e-4df3-b071-06129c16af67",
   "metadata": {},
   "source": [
    "### String Slicing\n",
    "Slicing a string means extracting a substring from the original string. We use the slice operator : for this purpose."
   ]
  },
  {
   "cell_type": "code",
   "execution_count": 4,
   "id": "a5e79a1f-cc63-4642-ad6c-7dc597576c3a",
   "metadata": {
    "tags": []
   },
   "outputs": [
    {
     "name": "stdout",
     "output_type": "stream",
     "text": [
      "Geo\n",
      "GeoNext\n",
      "Next\n"
     ]
    }
   ],
   "source": [
    "print(name1[0:3]) # Output: Geo\n",
    "print(name1[:]) # Output: GeoNext\n",
    "print(name1[3:]) # Output: Next"
   ]
  },
  {
   "cell_type": "code",
   "execution_count": 5,
   "id": "5d13c1aa-1dfe-42ff-871f-2fd4c687d4a4",
   "metadata": {
    "tags": []
   },
   "outputs": [
    {
     "name": "stdout",
     "output_type": "stream",
     "text": [
      "t\n",
      "Next\n",
      "Nex\n"
     ]
    }
   ],
   "source": [
    "print(name1[-1]) # Output: t\n",
    "print(name1[-4:]) # Output: Next\n",
    "print(name1[-4:-1]) # Output: Nex"
   ]
  }
 ],
 "metadata": {
  "kernelspec": {
   "display_name": "Python 3 (ipykernel)",
   "language": "python",
   "name": "python3"
  },
  "language_info": {
   "codemirror_mode": {
    "name": "ipython",
    "version": 3
   },
   "file_extension": ".py",
   "mimetype": "text/x-python",
   "name": "python",
   "nbconvert_exporter": "python",
   "pygments_lexer": "ipython3",
   "version": "3.9.16"
  }
 },
 "nbformat": 4,
 "nbformat_minor": 5
}
