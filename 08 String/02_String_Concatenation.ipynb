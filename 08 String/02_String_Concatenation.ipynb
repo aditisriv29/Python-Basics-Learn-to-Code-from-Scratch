{
 "cells": [
  {
   "cell_type": "markdown",
   "id": "6e8d3c91-be31-4a20-b2ba-443a834bd9a7",
   "metadata": {},
   "source": [
    "## String Concatenation\n",
    "String concatenation is the process of combining two or more strings into a single string. String concatenation can be done using many ways.\n",
    "We can perform string concatenation using the following ways:\n",
    "* Using + operator \n",
    "* Using join() method \n",
    "* Using % operator \n",
    "* Using format() function"
   ]
  },
  {
   "cell_type": "markdown",
   "id": "eff31253-c8f1-463f-bfa0-117f289caa64",
   "metadata": {},
   "source": [
    "### Using + Operator\n",
    "The simplest way to concatenate two strings in Python is to use the + operator. The + operator functions is similar to the arithmetic + operator, but here both the operands must be string."
   ]
  },
  {
   "cell_type": "code",
   "execution_count": 2,
   "id": "6c259c79-b9f8-4b68-9f05-3416bb8539e1",
   "metadata": {
    "tags": []
   },
   "outputs": [
    {
     "name": "stdout",
     "output_type": "stream",
     "text": [
      "Krishnagopal Halder\n"
     ]
    }
   ],
   "source": [
    "first_name = \"Krishnagopal\"\n",
    "last_name = \"Halder\"\n",
    "print(first_name + \" \" + last_name)"
   ]
  },
  {
   "cell_type": "markdown",
   "id": "53efc218-5f5f-4217-b741-cc56499eb292",
   "metadata": {},
   "source": [
    "### Using join() Method\n",
    "The join() method is a powerful and efficient way to concatenate strings in Python. It takes an iterable object (such as a list or tuple) and joins the elements of the iterable with the string. If the iterable contains any non-string values, it raises a TypeError exception."
   ]
  },
  {
   "cell_type": "code",
   "execution_count": 5,
   "id": "ab946709-1250-4975-9710-cbb52289ec21",
   "metadata": {
    "tags": []
   },
   "outputs": [
    {
     "name": "stdout",
     "output_type": "stream",
     "text": [
      "Krishnagopal Halder is a student of Geoinformatics\n",
      "Krishnagopal Halder\n"
     ]
    }
   ],
   "source": [
    "words = [\"Krishnagopal\", \"Halder\", \"is\", \"a\", \"student\", \"of\", \"Geoinformatics\"]\n",
    "print(\" \".join(words))\n",
    "name = \" \".join([first_name, last_name])\n",
    "print(name)"
   ]
  },
  {
   "cell_type": "markdown",
   "id": "bb6d2489-1fde-4fcf-b273-5273ba56bd82",
   "metadata": {},
   "source": [
    "### Using % Operator\n",
    "We have used % operator for string formatting, but it can also be used for string concatenation. % operator helps both in string concatenation and string formatting."
   ]
  },
  {
   "cell_type": "code",
   "execution_count": 8,
   "id": "c8cfc4a6-0acd-4951-a3eb-a24e112c92bf",
   "metadata": {
    "tags": []
   },
   "outputs": [
    {
     "name": "stdout",
     "output_type": "stream",
     "text": [
      "GeoNext\n"
     ]
    }
   ],
   "source": [
    "n1 = \"Geo\"\n",
    "n2 = \"Next\"\n",
    "print(\"%s%s\"%(n1, n2))"
   ]
  },
  {
   "cell_type": "markdown",
   "id": "11ca5b33-04e3-43dd-820b-9077dbbf145a",
   "metadata": {},
   "source": [
    "### Using format() function\n",
    "The format() function is a powerful way to format strings in Python. It provides a flexible and efficient way to combine strings and variables into a single string."
   ]
  },
  {
   "cell_type": "code",
   "execution_count": 13,
   "id": "f81317bc-af72-4148-9441-ddcd7f332f52",
   "metadata": {
    "tags": []
   },
   "outputs": [
    {
     "name": "stdout",
     "output_type": "stream",
     "text": [
      "Hello, Krishnagopal Halder. Thank you for joining this Python online course.\n"
     ]
    }
   ],
   "source": [
    "name = \"Krishnagopal Halder\"\n",
    "course = \"Python\"\n",
    "message = \"Hello, {}. Thank you for joining this {} online course.\".format(name, course)\n",
    "print(message)"
   ]
  }
 ],
 "metadata": {
  "kernelspec": {
   "display_name": "Python 3 (ipykernel)",
   "language": "python",
   "name": "python3"
  },
  "language_info": {
   "codemirror_mode": {
    "name": "ipython",
    "version": 3
   },
   "file_extension": ".py",
   "mimetype": "text/x-python",
   "name": "python",
   "nbconvert_exporter": "python",
   "pygments_lexer": "ipython3",
   "version": "3.9.16"
  }
 },
 "nbformat": 4,
 "nbformat_minor": 5
}
