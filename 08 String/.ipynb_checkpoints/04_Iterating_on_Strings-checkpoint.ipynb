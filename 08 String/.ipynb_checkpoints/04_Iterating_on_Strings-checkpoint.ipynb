{
 "cells": [
  {
   "cell_type": "markdown",
   "id": "c869faa8-c0c5-410d-b9c8-8925b6e76933",
   "metadata": {},
   "source": [
    "## Iterating on Strings\n",
    "Iterating over strings means to access each character in the string one at a time and perform some operation on it. In Python, there are several ways to iterate over strings."
   ]
  },
  {
   "cell_type": "markdown",
   "id": "09addf72-4457-4361-9adf-c3d8840f590d",
   "metadata": {},
   "source": [
    "### Using for loop"
   ]
  },
  {
   "cell_type": "code",
   "execution_count": 1,
   "id": "195e3073-d860-41fd-aed5-ef544a29e117",
   "metadata": {
    "tags": []
   },
   "outputs": [
    {
     "name": "stdout",
     "output_type": "stream",
     "text": [
      "K\n",
      "r\n",
      "i\n",
      "s\n",
      "h\n",
      "n\n",
      "a\n",
      "g\n",
      "o\n",
      "p\n",
      "a\n",
      "l\n",
      " \n",
      "H\n",
      "a\n",
      "l\n",
      "d\n",
      "e\n",
      "r\n"
     ]
    }
   ],
   "source": [
    "str1 = \"Krishnagopal Halder\"\n",
    "\n",
    "# Using for loop\n",
    "for i in str1:\n",
    "    print(i)"
   ]
  },
  {
   "cell_type": "markdown",
   "id": "636fee40-a634-4b5c-b6db-8bb424f88ab9",
   "metadata": {},
   "source": [
    "### Using for loop and range()"
   ]
  },
  {
   "cell_type": "code",
   "execution_count": 2,
   "id": "d017142e-2d96-431e-922c-8a28cd68cdab",
   "metadata": {
    "tags": []
   },
   "outputs": [
    {
     "name": "stdout",
     "output_type": "stream",
     "text": [
      "K r i s h n a g o p a l   H a l d e r "
     ]
    }
   ],
   "source": [
    "for i in range(len(str1)):\n",
    "    print(str1[i], end=\" \")"
   ]
  },
  {
   "cell_type": "markdown",
   "id": "e68736f3-a39e-4101-a7b9-31bb3a0e25e1",
   "metadata": {},
   "source": [
    "### Using while loop"
   ]
  },
  {
   "cell_type": "code",
   "execution_count": 3,
   "id": "f6550af2-84c1-482f-86d3-ffffb7e9acde",
   "metadata": {
    "tags": []
   },
   "outputs": [
    {
     "name": "stdout",
     "output_type": "stream",
     "text": [
      "K\n",
      "r\n",
      "i\n",
      "s\n",
      "h\n",
      "n\n",
      "a\n",
      "g\n",
      "o\n",
      "p\n",
      "a\n",
      "l\n",
      " \n",
      "H\n",
      "a\n",
      "l\n",
      "d\n",
      "e\n",
      "r\n"
     ]
    }
   ],
   "source": [
    "i = 0\n",
    "while i < len(str1):\n",
    "    print(str1[i])\n",
    "    i += 1"
   ]
  }
 ],
 "metadata": {
  "kernelspec": {
   "display_name": "Python 3 (ipykernel)",
   "language": "python",
   "name": "python3"
  },
  "language_info": {
   "codemirror_mode": {
    "name": "ipython",
    "version": 3
   },
   "file_extension": ".py",
   "mimetype": "text/x-python",
   "name": "python",
   "nbconvert_exporter": "python",
   "pygments_lexer": "ipython3",
   "version": "3.9.16"
  }
 },
 "nbformat": 4,
 "nbformat_minor": 5
}
