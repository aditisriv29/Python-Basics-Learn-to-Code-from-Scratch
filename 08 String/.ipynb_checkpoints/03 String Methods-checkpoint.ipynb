{
 "cells": [
  {
   "cell_type": "markdown",
   "id": "a1965c4d-73db-4b51-9a33-50ca416827a2",
   "metadata": {},
   "source": [
    "## String Methods"
   ]
  },
  {
   "cell_type": "markdown",
   "id": "d5d0da4e-3ce4-49af-97e3-256baaf685bf",
   "metadata": {},
   "source": [
    "### Repeating/Replicating Strings\n",
    "In Python, we can repeat or replicate strings using the multiplication operator *. The multiplication operator takes two operands: a string and an integer. When we multiply a string by an integer, Python returns a new string that contains the original string repeated the specified number of times."
   ]
  },
  {
   "cell_type": "code",
   "execution_count": 1,
   "id": "2e3dbd05-0f7c-48bd-b21c-6200e3166fb4",
   "metadata": {
    "tags": []
   },
   "outputs": [
    {
     "name": "stdout",
     "output_type": "stream",
     "text": [
      "GeoNextGeoNextGeoNext\n"
     ]
    }
   ],
   "source": [
    "name = \"GeoNext\"\n",
    "print(name * 3)"
   ]
  },
  {
   "cell_type": "markdown",
   "id": "cf55298d-20a5-4ea7-8f0f-4f3c50edc803",
   "metadata": {},
   "source": [
    "### String Slicing\n",
    "String slicing is the process of extracting a part of a string. In Python, we can slice a string using two methods.\n",
    "* Extending Indexing\n",
    "* slice() Constructor"
   ]
  },
  {
   "cell_type": "markdown",
   "id": "b1bc25c6-244a-48b6-96ae-d699a72403d0",
   "metadata": {},
   "source": [
    "#### Extending Indexing\n",
    "In Python, we can slice a string using the indexing operator []. The indexing operator takes one or two arguments: the index of the character we want to extract, or the start and end indices of the slice we want to extract."
   ]
  },
  {
   "cell_type": "code",
   "execution_count": 2,
   "id": "fefe079d-66ba-4445-a065-444e70efc997",
   "metadata": {
    "tags": []
   },
   "outputs": [
    {
     "name": "stdout",
     "output_type": "stream",
     "text": [
      "N\n",
      "Geo\n",
      "Next\n",
      "Goet\n"
     ]
    }
   ],
   "source": [
    "name = \"GeoNext\"\n",
    "print(name[3])\n",
    "print(name[0:3])\n",
    "print(name[3:])\n",
    "print(name[::2])"
   ]
  },
  {
   "cell_type": "code",
   "execution_count": 3,
   "id": "7d4b3d55-6ccf-4027-b745-cd5e530fa4f5",
   "metadata": {
    "tags": []
   },
   "outputs": [
    {
     "name": "stdout",
     "output_type": "stream",
     "text": [
      "txeNoeG\n"
     ]
    }
   ],
   "source": [
    "# Print string in reverse\n",
    "print(name[::-1])"
   ]
  },
  {
   "cell_type": "markdown",
   "id": "aeadce5a-afce-4f36-a26e-705d13b993c7",
   "metadata": {},
   "source": [
    "#### slice() Constructor\n",
    "Python provides a built-in function called slice() that we can use to create slice objects. Slice objects can then be passed as arguments to the indexing operator to slice a string.<br>\n",
    "**Syntax:**\n",
    "slice(start, stop, step)\n",
    "* start: Optional. An integer that specifies the starting index of the slice. If omitted, it defaults to None, which means the slice starts at the beginning of the string.\n",
    "* stop: Required. An integer that specifies the ending index of the slice. This index is not included in the slice.\n",
    "* step: Optional. An integer that specifies the step size of the slice. If omitted, it defaults to None, which means the slice uses a step size of 1."
   ]
  },
  {
   "cell_type": "code",
   "execution_count": 4,
   "id": "472f3bdb-7aa7-4483-af0f-0a40d1371046",
   "metadata": {
    "tags": []
   },
   "outputs": [
    {
     "name": "stdout",
     "output_type": "stream",
     "text": [
      "Geo\n",
      "Next\n",
      "Goet\n"
     ]
    }
   ],
   "source": [
    "name = \"GeoNext\"\n",
    "s1 = slice(0, 3)\n",
    "s2 = slice(3, 8)\n",
    "s3 = slice(0, 8, 2)\n",
    "print(name[s1])\n",
    "print(name[s2])\n",
    "print(name[s3])"
   ]
  },
  {
   "cell_type": "markdown",
   "id": "2e509ab8-882f-4baf-836a-209e07d0a2fd",
   "metadata": {},
   "source": [
    "### String Comparison\n",
    "Comparing strings is the process of comparing two or more strings to determine whether they are equal or not. String comparison in Python takes place character by character i.e. each character in the same index, are compared with each other.\n",
    "\n",
    "There are several ways to compare strings in Python. One way is to use the comparison operators such as ==, !=, <, <=, >, and >=. These operators compare the strings lexicographically and return a Boolean value of True or False depending on the comparison result."
   ]
  },
  {
   "cell_type": "code",
   "execution_count": 5,
   "id": "f30cbe5c-0d86-4491-ac63-12287c9d6c0b",
   "metadata": {
    "tags": []
   },
   "outputs": [
    {
     "name": "stdout",
     "output_type": "stream",
     "text": [
      "True\n",
      "True\n",
      "False\n",
      "False\n",
      "True\n",
      "True\n"
     ]
    }
   ],
   "source": [
    "str1 = \"Krishnagopal\"\n",
    "str2 = \"Krishnagopal\"\n",
    "str3 = \"Halder\"\n",
    "print(str1 == str2) # Checks if two strings are equal or not\n",
    "print (str1 != str3) # Checks if two strings are not equal\n",
    "print(str1 < str3) # Checks if the first string is less than the second string\n",
    "print(str1 <= str3) # Checks if the first string is less than or equal to the second string\n",
    "print(str1 > str3) # Checks if the first string is greater than the second string\n",
    "print(str1 >= str3) # Checks if the first string is greater than or equal to the second string"
   ]
  }
 ],
 "metadata": {
  "kernelspec": {
   "display_name": "Python 3 (ipykernel)",
   "language": "python",
   "name": "python3"
  },
  "language_info": {
   "codemirror_mode": {
    "name": "ipython",
    "version": 3
   },
   "file_extension": ".py",
   "mimetype": "text/x-python",
   "name": "python",
   "nbconvert_exporter": "python",
   "pygments_lexer": "ipython3",
   "version": "3.9.16"
  }
 },
 "nbformat": 4,
 "nbformat_minor": 5
}
