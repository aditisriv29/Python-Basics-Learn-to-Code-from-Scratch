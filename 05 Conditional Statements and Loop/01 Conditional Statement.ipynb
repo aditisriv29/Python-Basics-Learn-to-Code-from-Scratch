{
 "cells": [
  {
   "cell_type": "markdown",
   "id": "ad293edd-67b2-4dad-af0e-7fb853841887",
   "metadata": {},
   "source": [
    "## Conditional Statement"
   ]
  },
  {
   "cell_type": "markdown",
   "id": "481556d7-a101-4237-93ac-29a1895a2586",
   "metadata": {},
   "source": [
    "In Python, conditional statements are used to execute certain code if a particular condition is true. The most commonly used conditional statements in Python are if, elif, and else. This course material will cover the syntax and usage of these statements.\n",
    "\n",
    "* If Statement: The if statement is used to execute code if a specific condition is true.\n",
    "\n",
    "* If-Else Statement: The if-else statement is used to execute one block of code if a condition is true and another block of code if it is false. \n",
    "\n",
    "* If-Elif-Else Statement: The if-elif-else statement is used to execute one block of code if the first condition is true, another block of code if the second condition is true, and so on. If none of the conditions are true, then the code inside the else block will be executed. "
   ]
  },
  {
   "cell_type": "markdown",
   "id": "d6305416-9552-4ac1-ac5f-0cb0b812605a",
   "metadata": {},
   "source": [
    "### If Statement"
   ]
  },
  {
   "cell_type": "code",
   "execution_count": 3,
   "id": "d6a69474-11f6-41d0-b186-da4f7fec8411",
   "metadata": {
    "tags": []
   },
   "outputs": [
    {
     "name": "stdin",
     "output_type": "stream",
     "text": [
      "Enter a number:  6\n"
     ]
    },
    {
     "name": "stdout",
     "output_type": "stream",
     "text": [
      "6 is even.\n"
     ]
    }
   ],
   "source": [
    "# Check whether a given number is even or odd.\n",
    "num = int(input(\"Enter a number: \"))\n",
    "\n",
    "if num % 2 == 0:\n",
    "    print(num, \"is even.\")"
   ]
  },
  {
   "cell_type": "markdown",
   "id": "4d027f6c-9719-4a59-b4dd-90cf70949dd7",
   "metadata": {},
   "source": [
    "### If-Else Statement"
   ]
  },
  {
   "cell_type": "code",
   "execution_count": 6,
   "id": "3076ffda-6bef-42e3-9948-1f6b895885d1",
   "metadata": {
    "tags": []
   },
   "outputs": [
    {
     "name": "stdin",
     "output_type": "stream",
     "text": [
      "Enter a number:  8\n"
     ]
    },
    {
     "name": "stdout",
     "output_type": "stream",
     "text": [
      "8 is even.\n"
     ]
    }
   ],
   "source": [
    "# Check whether a given number is even or odd.\n",
    "num = int(input(\"Enter a number: \"))\n",
    "\n",
    "if num % 2 == 0:\n",
    "    print(num, \"is even.\")\n",
    "else:\n",
    "    print(num, \"is odd.\")"
   ]
  },
  {
   "cell_type": "markdown",
   "id": "7e093067-5331-426a-8cc4-ed19958c70cd",
   "metadata": {},
   "source": [
    "### If-Elif-Else Statement"
   ]
  },
  {
   "cell_type": "code",
   "execution_count": 7,
   "id": "c297b97a-b36d-481a-8951-112deba0e595",
   "metadata": {
    "tags": []
   },
   "outputs": [
    {
     "name": "stdout",
     "output_type": "stream",
     "text": [
      "c is greater.\n"
     ]
    }
   ],
   "source": [
    "# Find the largest among three numbers\n",
    "a = 10\n",
    "b = 8\n",
    "c = 15\n",
    "\n",
    "if a >= b and a >= c:\n",
    "    print(\"a is greater.\")\n",
    "elif b >= a and b >= c:\n",
    "    print(\"b is greater.\")\n",
    "else:\n",
    "    print(\"c is greater.\")"
   ]
  }
 ],
 "metadata": {
  "kernelspec": {
   "display_name": "Python 3 (ipykernel)",
   "language": "python",
   "name": "python3"
  },
  "language_info": {
   "codemirror_mode": {
    "name": "ipython",
    "version": 3
   },
   "file_extension": ".py",
   "mimetype": "text/x-python",
   "name": "python",
   "nbconvert_exporter": "python",
   "pygments_lexer": "ipython3",
   "version": "3.9.16"
  }
 },
 "nbformat": 4,
 "nbformat_minor": 5
}
