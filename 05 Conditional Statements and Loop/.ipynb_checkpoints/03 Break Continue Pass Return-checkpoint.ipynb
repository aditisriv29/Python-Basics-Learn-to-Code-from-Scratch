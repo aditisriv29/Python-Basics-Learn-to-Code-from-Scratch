{
 "cells": [
  {
   "cell_type": "markdown",
   "id": "5d9edf00-54bf-43d9-bced-436af4bce34d",
   "metadata": {},
   "source": [
    "## Break, Continue, Pass and Return Statement"
   ]
  },
  {
   "cell_type": "markdown",
   "id": "52e78617-627d-482d-907f-058e80aa7ffc",
   "metadata": {},
   "source": [
    "Introduction In Python programming, there are several types of control flow statements that allow you to alter the normal flow of program execution. These include the break, continue, pass, and return statements. In this course material, we will discuss each of these statements and how they can be used in Python programming.\n",
    "\n",
    "* The break Statement: The break statement is used to prematurely exit out of a loop. It works with the for loop and the while loop. When a break statement is executed within a loop, the loop is immediately terminated, and the program continues to run from the first statement after the loop. The break statement is typically used to stop a loop when a certain condition has been met.\n",
    "\n",
    "* The continue Statement: The continue statement is used to skip to the next iteration of a loop without executing any statements within the loop for the current iteration. It works with the for loop and the while loop. The continue statement is typically used to skip over certain values in a loop.\n",
    "\n",
    "* Pass Statement: The pass statement is a null operation statement, meaning that it does nothing. It is used as a placeholder when there is no code to be executed in a certain part of a program.\n",
    "\n",
    "* Return Statement: The return statement is used to end the execution of a function and return a value to the caller. When the interpreter reaches the return statement, it immediately exits the function and returns control back to the caller with the value provided."
   ]
  },
  {
   "cell_type": "markdown",
   "id": "2ddcc78d-2a9d-44e9-90c1-f66781487d9c",
   "metadata": {},
   "source": [
    "### Break Statement"
   ]
  },
  {
   "cell_type": "code",
   "execution_count": 1,
   "id": "98d7ecdc-ba33-40d8-80b7-43fef0f6b3e7",
   "metadata": {
    "tags": []
   },
   "outputs": [
    {
     "name": "stdout",
     "output_type": "stream",
     "text": [
      "Program started.\n",
      "0\n",
      "1\n",
      "2\n",
      "Executing break statement in the next statement.\n",
      "Program ended.\n"
     ]
    }
   ],
   "source": [
    "i = 0\n",
    "print(\"Program started.\")\n",
    "\n",
    "while i < 5:\n",
    "    if i == 3:\n",
    "        print(\"Executing break statement in the next statement.\")\n",
    "        break\n",
    "    print(i)\n",
    "    i += 1\n",
    "    \n",
    "print(\"Program ended.\")"
   ]
  },
  {
   "cell_type": "markdown",
   "id": "0550c0d5-b693-4a34-a3ad-06ace1c93791",
   "metadata": {},
   "source": [
    "### Continue Statement"
   ]
  },
  {
   "cell_type": "code",
   "execution_count": 7,
   "id": "5153cb67-2606-4dac-9476-b371978d8015",
   "metadata": {
    "tags": []
   },
   "outputs": [
    {
     "name": "stdout",
     "output_type": "stream",
     "text": [
      "Program started.\n",
      "0\n",
      "1\n",
      "2\n",
      "4\n",
      "Program ended.\n"
     ]
    }
   ],
   "source": [
    "i = 0\n",
    "print(\"Program started.\")\n",
    "\n",
    "while i < 5:\n",
    "    if i == 3:\n",
    "        i += 1\n",
    "        continue\n",
    "    print(i)\n",
    "    i += 1\n",
    "    \n",
    "print(\"Program ended.\")"
   ]
  },
  {
   "cell_type": "markdown",
   "id": "5e8e09da-9b85-442a-83da-ab3a933ade5b",
   "metadata": {},
   "source": [
    "### Pass Statement"
   ]
  },
  {
   "cell_type": "code",
   "execution_count": 8,
   "id": "ad09d3c2-bdae-4287-9061-26cf040b6718",
   "metadata": {
    "tags": []
   },
   "outputs": [
    {
     "name": "stdout",
     "output_type": "stream",
     "text": [
      "Program started.\n",
      "0\n",
      "1\n",
      "2\n",
      "4\n",
      "Program ended.\n"
     ]
    }
   ],
   "source": [
    "i = 0\n",
    "print(\"Program started.\")\n",
    "\n",
    "while i < 5:\n",
    "    if i == 3:\n",
    "        i += 1\n",
    "        pass\n",
    "    else:\n",
    "        print(i)\n",
    "        i += 1\n",
    "        \n",
    "print(\"Program ended.\")"
   ]
  },
  {
   "cell_type": "markdown",
   "id": "0f79ac95-8f87-4cfc-9df4-e9f2e6de4320",
   "metadata": {},
   "source": [
    "### Return Statement"
   ]
  },
  {
   "cell_type": "code",
   "execution_count": 11,
   "id": "0d3183d7-6d77-4e4b-82b1-b88acb12916e",
   "metadata": {
    "tags": []
   },
   "outputs": [],
   "source": [
    "# Factorial of nth number\n",
    "def factorial(n):\n",
    "    fac = 1\n",
    "    if n == 0 or n == 1:\n",
    "        return 1\n",
    "    else:\n",
    "        for i in range(1, n+1):\n",
    "            fac = fac * i\n",
    "        return fac"
   ]
  },
  {
   "cell_type": "code",
   "execution_count": 14,
   "id": "87cb5ea4-03ad-44de-a49e-8bf11b319b70",
   "metadata": {
    "tags": []
   },
   "outputs": [
    {
     "data": {
      "text/plain": [
       "120"
      ]
     },
     "execution_count": 14,
     "metadata": {},
     "output_type": "execute_result"
    }
   ],
   "source": [
    "factorial(5)"
   ]
  }
 ],
 "metadata": {
  "kernelspec": {
   "display_name": "Python 3 (ipykernel)",
   "language": "python",
   "name": "python3"
  },
  "language_info": {
   "codemirror_mode": {
    "name": "ipython",
    "version": 3
   },
   "file_extension": ".py",
   "mimetype": "text/x-python",
   "name": "python",
   "nbconvert_exporter": "python",
   "pygments_lexer": "ipython3",
   "version": "3.9.16"
  }
 },
 "nbformat": 4,
 "nbformat_minor": 5
}
