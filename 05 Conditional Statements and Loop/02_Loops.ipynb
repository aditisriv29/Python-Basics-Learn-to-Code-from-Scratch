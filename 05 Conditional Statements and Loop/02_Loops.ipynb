{
 "cells": [
  {
   "cell_type": "markdown",
   "id": "bad5f1e0-6600-430c-bd57-25a0a0c62411",
   "metadata": {},
   "source": [
    "## Loops"
   ]
  },
  {
   "cell_type": "markdown",
   "id": "35ded238-1595-4eba-abbd-ca8e479bdf66",
   "metadata": {},
   "source": [
    "In Python, loops are used to execute a block of code repeatedly. There are two types of loops in Python: for loops and while loops.\n",
    "\n",
    "* For Loops: For loops are used to iterate over a sequence of values. The for loop in Python is used to iterate over a sequence (list, tuple, string, dictionary) or other iterable objects. Iterating over a sequence is called traversal.\n",
    "\n",
    "* While Loops: While loops are used to execute a block of code as long as a condition is true. We generally use this loop when we don't know the number of times to iterate beforehand."
   ]
  },
  {
   "cell_type": "markdown",
   "id": "c9b3b046-b0af-42f6-b891-94f7945860ef",
   "metadata": {},
   "source": [
    "### for loop"
   ]
  },
  {
   "cell_type": "code",
   "execution_count": 1,
   "id": "2e3f6dc6-226f-4468-8620-9012a4a5c8f5",
   "metadata": {
    "tags": []
   },
   "outputs": [
    {
     "name": "stdin",
     "output_type": "stream",
     "text": [
      "Enter the number yo want to print:  5\n"
     ]
    },
    {
     "name": "stdout",
     "output_type": "stream",
     "text": [
      "0\n",
      "1\n",
      "2\n",
      "3\n",
      "4\n",
      "5\n"
     ]
    }
   ],
   "source": [
    "# Print all numbers from 0 to n\n",
    "n = int(input(\"Enter the number yo want to print: \"))\n",
    "\n",
    "for i in range (0, n+1):\n",
    "    print(i)"
   ]
  },
  {
   "cell_type": "markdown",
   "id": "4416144c-3687-49fe-8678-a740b0452d00",
   "metadata": {},
   "source": [
    "### Python range() Function"
   ]
  },
  {
   "cell_type": "markdown",
   "id": "04580fe0-4bd3-4864-b492-23bebf118315",
   "metadata": {},
   "source": [
    "The range function is often used in for loops to generate a sequence of numbers."
   ]
  },
  {
   "cell_type": "code",
   "execution_count": 2,
   "id": "8f7a3608-25c5-437d-a302-97583952e0cf",
   "metadata": {
    "tags": []
   },
   "outputs": [
    {
     "name": "stdout",
     "output_type": "stream",
     "text": [
      "0\n",
      "1\n",
      "2\n",
      "3\n",
      "4\n"
     ]
    }
   ],
   "source": [
    "for i in range(5):\n",
    "    print(i)"
   ]
  },
  {
   "cell_type": "code",
   "execution_count": 3,
   "id": "59a546c4-8cf3-4c23-b6df-4a61267c42b5",
   "metadata": {
    "tags": []
   },
   "outputs": [
    {
     "name": "stdout",
     "output_type": "stream",
     "text": [
      "10\n",
      "11\n",
      "12\n",
      "13\n",
      "14\n"
     ]
    }
   ],
   "source": [
    "for i in range(10, 15):\n",
    "    print(i)"
   ]
  },
  {
   "cell_type": "markdown",
   "id": "129f76d8-ca71-4e19-b062-3165c6bf8dba",
   "metadata": {},
   "source": [
    "### while loop"
   ]
  },
  {
   "cell_type": "code",
   "execution_count": 4,
   "id": "79b15cad-e47e-4a91-ba7c-4a53a1cbaca9",
   "metadata": {
    "tags": []
   },
   "outputs": [
    {
     "name": "stdout",
     "output_type": "stream",
     "text": [
      "0\n",
      "1\n",
      "2\n",
      "3\n",
      "4\n"
     ]
    }
   ],
   "source": [
    "i = 0\n",
    "while i < 5:\n",
    "    print(i)\n",
    "    i += 1"
   ]
  }
 ],
 "metadata": {
  "kernelspec": {
   "display_name": "Python 3 (ipykernel)",
   "language": "python",
   "name": "python3"
  },
  "language_info": {
   "codemirror_mode": {
    "name": "ipython",
    "version": 3
   },
   "file_extension": ".py",
   "mimetype": "text/x-python",
   "name": "python",
   "nbconvert_exporter": "python",
   "pygments_lexer": "ipython3",
   "version": "3.9.16"
  }
 },
 "nbformat": 4,
 "nbformat_minor": 5
}
