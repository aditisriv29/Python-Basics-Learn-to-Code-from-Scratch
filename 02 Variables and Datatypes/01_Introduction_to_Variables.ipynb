{
 "cells": [
  {
   "cell_type": "markdown",
   "id": "f6ae2c8d-a8ea-4d39-9fbd-fc7209965ac1",
   "metadata": {},
   "source": [
    "## Introduction to Variables\n",
    "Variables in Python are containers that store data values. They are used to hold and manipulate data in a program. Python uses a dynamic typing system, which means that you don't need to declare the data type of a variable before using it.\n",
    "\n",
    "Variables are fundamental to programming for two reasons: \n",
    "* **Variables keep values accessible:** For example,The result of a time-consuming operation can be assigned to a variable so that the operation need not be performed each time we need the result.\n",
    "\n",
    "* **Variables give values context:** For example, The number 56 could mean lots of different things, such as the number of students in a class, or the average weight of all students in the class. Assigning the number 56 to a variable with a name like num_students would make more sense, to distinguish it from another variable average_weight, which would refer to the average weight of the students. This way we can have different variables pointing to different values."
   ]
  },
  {
   "cell_type": "markdown",
   "id": "398870be-4432-4177-949e-2cb6ccb9753e",
   "metadata": {},
   "source": [
    "### How are Values Assigned to A Variable?\n",
    "In Python, you can assign values to variables using the assignment operator (=). The assignment operator assigns the value on the right-hand side of the operator to the variable on the left-hand side of the operator.\n",
    "\n",
    "For Example:Now let us create a variable namely myNum to hold a specific number."
   ]
  },
  {
   "cell_type": "code",
   "execution_count": 1,
   "id": "93e8d177-774e-4db4-98ef-cb1605355629",
   "metadata": {
    "tags": []
   },
   "outputs": [
    {
     "data": {
      "text/plain": [
       "4"
      ]
     },
     "execution_count": 1,
     "metadata": {},
     "output_type": "execute_result"
    }
   ],
   "source": [
    "# Creating a new variable\n",
    "myNum = 4\n",
    "myNum"
   ]
  },
  {
   "cell_type": "markdown",
   "id": "049df330-574b-46e3-83c3-c7c258e8a681",
   "metadata": {},
   "source": [
    "<center><img src=\"https://miro.medium.com/v2/resize:fit:1400/1*QT3V91g69EUI7Uv0GY1nsg.png\" style=\"max-width: 450px; height: auto\"></center>"
   ]
  },
  {
   "cell_type": "code",
   "execution_count": 2,
   "id": "c19cf2e0-75c7-43d0-8658-a982342f2405",
   "metadata": {
    "tags": []
   },
   "outputs": [
    {
     "name": "stdout",
     "output_type": "stream",
     "text": [
      "4\n",
      "2.5\n",
      "a\n",
      "hello\n"
     ]
    }
   ],
   "source": [
    "# Creating multiple variables\n",
    "myInt = 4\n",
    "myReal = 2.5\n",
    "myChar = \"a\"\n",
    "myString = \"hello\"\n",
    "print(myInt)\n",
    "print(myReal)\n",
    "print(myChar)\n",
    "print(myString)"
   ]
  },
  {
   "cell_type": "markdown",
   "id": "fe50b745-2b39-446a-af99-040ace5fdc03",
   "metadata": {},
   "source": [
    "<center><img src=\"https://miro.medium.com/v2/resize:fit:1400/1*Px7h03Ih7B5QZu4KQpSEoQ.png\" style=\"max-width: 850px; height: auto\"></center> "
   ]
  },
  {
   "cell_type": "markdown",
   "id": "3bfca77e-2961-4e0d-a984-f82afca32358",
   "metadata": {},
   "source": [
    "### Naming a Variable\n",
    "When naming a variable in Python, there are some rules and conventions you should follow to make your code more readable and understandable. Here are some guidelines for naming variables:\n",
    "\n",
    "* Variable names must start with a letter or underscore (_), but cannot start with a number.\n",
    "* Variable names can only contain letters, numbers, and underscores (_). They cannot contain spaces or special characters.\n",
    "* Variable names should be descriptive and meaningful, so that other programmers can understand what the variable represents.\n",
    "* Variable names are case-sensitive. For example:- The variable names Temp and temp are different\n",
    "* Variable names should be written in lowercase, with words separated by underscores (_). This convention is called \"snake_case\" and is widely used in Python.\n",
    "* Avoid using reserved keywords as variable names, such as \"if\", \"while\", \"for\", \"and\", \"or\", etc."
   ]
  },
  {
   "cell_type": "markdown",
   "id": "c7d53a86-0fe6-4651-8fb2-9169d55b6222",
   "metadata": {},
   "source": [
    "### Examples"
   ]
  },
  {
   "cell_type": "code",
   "execution_count": 3,
   "id": "048cf424-cf98-47ef-9a54-9c03530ade8b",
   "metadata": {
    "tags": []
   },
   "outputs": [],
   "source": [
    "# Correct Variables\n",
    "a1 = 5\n",
    "_b2 = 10\n",
    "b = 10"
   ]
  },
  {
   "cell_type": "code",
   "execution_count": 4,
   "id": "00443630-adb7-4c81-bdeb-c350ffb43b5e",
   "metadata": {
    "tags": []
   },
   "outputs": [],
   "source": [
    "# Incorrect Variables\n",
    "# 1a = 5\n",
    "# 23b = 10\n",
    "# 1@ = 5"
   ]
  }
 ],
 "metadata": {
  "kernelspec": {
   "display_name": "Python 3 (ipykernel)",
   "language": "python",
   "name": "python3"
  },
  "language_info": {
   "codemirror_mode": {
    "name": "ipython",
    "version": 3
   },
   "file_extension": ".py",
   "mimetype": "text/x-python",
   "name": "python",
   "nbconvert_exporter": "python",
   "pygments_lexer": "ipython3",
   "version": "3.10.9"
  }
 },
 "nbformat": 4,
 "nbformat_minor": 5
}
