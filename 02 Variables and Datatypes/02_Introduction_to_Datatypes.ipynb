{
 "cells": [
  {
   "cell_type": "markdown",
   "id": "a40c4554-51d2-4e48-a72b-767f2e1e003e",
   "metadata": {},
   "source": [
    "## Introduction to Datatypes\n",
    "In Python, data types are used to categorize and represent different types of data that can be used in a program. They are used to classify different types of data that can be stored and manipulated in a program. The most common data types in Python include integers, floats, strings, booleans, and lists.\n",
    "\n",
    "The most common built-in data types in Python are:\n",
    "* **Integer:** Represents whole numbers, such as 1, 2, 3, -4, -5, etc.\n",
    "\n",
    "* **Float:** Represents decimal numbers, such as 3.14, 2.5, -1.0, etc.\n",
    "\n",
    "* **String:** Represents a sequence of characters, such as \"hello\", \"world\", \"123\", etc.\n",
    "\n",
    "* **Boolean:** Represents either True or False.\n",
    "\n",
    "* **List:** Represents an ordered collection of values, which can be of any data type. For example, [1, 2, 3], [\"apple\", \"banana\", \"orange\"], etc.\n",
    "\n",
    "* **Tuple:** Similar to a list, but immutable, meaning it cannot be modified once created. For example, (1, 2, 3), (\"apple\", \"banana\", \"orange\"), etc.\n",
    "\n",
    "* **Set:** Represents an unordered collection of unique values. For example, {1, 2, 3}, {\"apple\", \"banana\", \"orange\"}, etc.\n",
    "\n",
    "* **Dictionary:** Represents a collection of key-value pairs, where each key is associated with a value. For example, {\"name\": \"John\", \"age\": 30}, {\"fruit\": \"apple\", \"color\": \"red\"}, etc"
   ]
  },
  {
   "cell_type": "markdown",
   "id": "12eff451-236f-4bea-ad6f-ecc6ddf3ee23",
   "metadata": {},
   "source": [
    "### Examples"
   ]
  },
  {
   "cell_type": "markdown",
   "id": "d28acd0b-0d6c-4f9d-af64-471538ba1aee",
   "metadata": {},
   "source": [
    "### Integer Datatype\n",
    "Integers are whole numbers, such as 1, 2, 3, etc. They can be positive or negative."
   ]
  },
  {
   "cell_type": "code",
   "execution_count": 1,
   "id": "820faab0-73ac-4b42-8db9-65c51a0c300a",
   "metadata": {
    "tags": []
   },
   "outputs": [
    {
     "name": "stdout",
     "output_type": "stream",
     "text": [
      "8 is a type of <class 'int'>\n"
     ]
    }
   ],
   "source": [
    "# Integer Datatype\n",
    "myInt = 8\n",
    "print(myInt, \"is a type of\", type(myInt))"
   ]
  },
  {
   "cell_type": "markdown",
   "id": "5718929e-7f39-407d-a99d-7c341fa40324",
   "metadata": {},
   "source": [
    "### Float Datatype\n",
    "Floats are numbers with a decimal point, such as 3.14, 2.5, etc. They can also be positive or negative."
   ]
  },
  {
   "cell_type": "code",
   "execution_count": 2,
   "id": "72c5f84c-c18d-43c8-a862-c5efe760d92c",
   "metadata": {
    "tags": []
   },
   "outputs": [
    {
     "name": "stdout",
     "output_type": "stream",
     "text": [
      "8.5 is a type of <class 'float'>\n"
     ]
    }
   ],
   "source": [
    "# Float Datatype\n",
    "myFloat = 8.5\n",
    "print(myFloat, \"is a type of\", type(myFloat))"
   ]
  },
  {
   "cell_type": "markdown",
   "id": "14555730-0b6c-47e9-bc0c-98719bf386aa",
   "metadata": {},
   "source": [
    "### String Datatype\n",
    "Strings are sequences of characters, such as \"hello\", \"world\", etc. They are enclosed in quotation marks (single or double)."
   ]
  },
  {
   "cell_type": "code",
   "execution_count": 3,
   "id": "bd46b15c-751b-4604-8618-986c9179e30e",
   "metadata": {
    "tags": []
   },
   "outputs": [
    {
     "name": "stdout",
     "output_type": "stream",
     "text": [
      "GeoNext is a type of <class 'str'>\n",
      "8.5 is a type of <class 'str'>\n"
     ]
    }
   ],
   "source": [
    "# String Datatype\n",
    "myString1 = \"GeoNext\"\n",
    "myString2 = \"8.5\"\n",
    "print(myString1, \"is a type of\", type(myString1))\n",
    "print(myString2, \"is a type of\", type(myString2))"
   ]
  },
  {
   "cell_type": "markdown",
   "id": "47ca36c4-9cf2-4c69-94d9-f7a4ba1fbc07",
   "metadata": {},
   "source": [
    "### Boolean Datatype\n",
    "Booleans are values that can be either True or False. They are often used in conditional statements and loops."
   ]
  },
  {
   "cell_type": "code",
   "execution_count": 4,
   "id": "4bfd7fcc-0329-4512-b708-b33f9dd5a7f4",
   "metadata": {
    "tags": []
   },
   "outputs": [
    {
     "name": "stdout",
     "output_type": "stream",
     "text": [
      "True is a type of <class 'bool'>\n",
      "False is a type of <class 'bool'>\n"
     ]
    }
   ],
   "source": [
    "# Boolean Datatype\n",
    "myBool1 = True\n",
    "myBool2 = False\n",
    "print(myBool1, \"is a type of\", type(myBool1))\n",
    "print(myBool2, \"is a type of\", type(myBool2))"
   ]
  },
  {
   "cell_type": "markdown",
   "id": "1628003b-f6d0-4a4d-8ce4-6130516fd9dc",
   "metadata": {},
   "source": [
    "### List Datatype\n",
    "Lists are ordered collections of values, which can be of any data type. They are enclosed in square brackets and separated by commas, like [1, 2, 3] or [\"apple\", \"banana\", \"orange\"]."
   ]
  },
  {
   "cell_type": "code",
   "execution_count": 5,
   "id": "2e1c74e1-6246-4b84-ac35-09437b39408c",
   "metadata": {
    "tags": []
   },
   "outputs": [
    {
     "name": "stdout",
     "output_type": "stream",
     "text": [
      "['Apple', 'Banana', 'Orange'] is a type of <class 'list'>\n",
      "[1, 2, 3] is a type of <class 'list'>\n",
      "['Apple', 2, 3.5] is a type of <class 'list'>\n"
     ]
    }
   ],
   "source": [
    "# List Datatype\n",
    "myList1 = [\"Apple\", \"Banana\", \"Orange\"]\n",
    "myList2 = [1, 2, 3] \n",
    "myList3 = [\"Apple\", 2, 3.5]  \n",
    "print(myList1, \"is a type of\", type(myList1))\n",
    "print(myList2, \"is a type of\", type(myList2))\n",
    "print(myList3, \"is a type of\", type(myList3))"
   ]
  },
  {
   "cell_type": "markdown",
   "id": "f0ce042a-7e9a-4aa3-a089-e7d79cb41212",
   "metadata": {},
   "source": [
    "### Tuple Datatype\n",
    "Tuples are similar to a list, but immutable, meaning it cannot be modified once created. They are enclosed in round brackets and separated by commas, such as (1, 2, 3) or (\"apple\", \"banana\", \"orange\")."
   ]
  },
  {
   "cell_type": "code",
   "execution_count": 6,
   "id": "12fe1d2d-ad41-4c23-bc3f-01645d7504ec",
   "metadata": {
    "tags": []
   },
   "outputs": [
    {
     "name": "stdout",
     "output_type": "stream",
     "text": [
      "('Apple', 'Banana', 'Orange') is a type of <class 'tuple'>\n",
      "(1, 2, 3) is a type of <class 'tuple'>\n",
      "('Apple', 2, 3.5) is a type of <class 'tuple'>\n"
     ]
    }
   ],
   "source": [
    "# Tuple Datatype\n",
    "myTuple1 = (\"Apple\", \"Banana\", \"Orange\")\n",
    "myTuple2 = (1, 2, 3)\n",
    "myTuple3 = (\"Apple\", 2, 3.5)\n",
    "print(myTuple1, \"is a type of\", type(myTuple1))\n",
    "print(myTuple2, \"is a type of\", type(myTuple2))\n",
    "print(myTuple3, \"is a type of\", type(myTuple3))"
   ]
  },
  {
   "cell_type": "markdown",
   "id": "ee7cbe3c-f066-4cf8-9ee9-8fe4aa3da7b2",
   "metadata": {},
   "source": [
    "### Set Datatype\n",
    "Set represents an unordered collection of unique values. They are enclosed in curly brackets and separated by commas. For example, {1, 2, 3}, {\"apple\", \"banana\", \"orange\"}, etc."
   ]
  },
  {
   "cell_type": "code",
   "execution_count": 7,
   "id": "6a1aaf64-fa00-4419-8ddd-58cd15439188",
   "metadata": {
    "tags": []
   },
   "outputs": [
    {
     "name": "stdout",
     "output_type": "stream",
     "text": [
      "{'Banana', 'Orange', 'Apple'} is a type of <class 'set'>\n",
      "{1, 2, 3} is a type of <class 'set'>\n",
      "{2, 3.5, 'Apple'} is a type of <class 'set'>\n"
     ]
    }
   ],
   "source": [
    "# Tuple Datatype\n",
    "mySet1 = {\"Apple\", \"Banana\", \"Orange\"}\n",
    "mySet2 = {1, 2, 3, 2}\n",
    "mySet3 = {\"Apple\", 2, 3.5, \"Apple\"}\n",
    "print(mySet1, \"is a type of\", type(mySet1))\n",
    "print(mySet2, \"is a type of\", type(mySet2))\n",
    "print(mySet3, \"is a type of\", type(mySet3))"
   ]
  },
  {
   "cell_type": "markdown",
   "id": "cc807989-49f7-437b-a0c2-d2a78515849b",
   "metadata": {},
   "source": [
    "### Dictionary Datatype\n",
    "It represents a collection of key-value pairs, where each key is associated with a value. Dictionaries are enclosed with curly brackets and the items of the dictionary are separated by commas. For example, {\"name\": \"John\", \"age\": 30}, {\"fruit\": \"apple\", \"color\": \"red\"}, etc."
   ]
  },
  {
   "cell_type": "code",
   "execution_count": 8,
   "id": "eb3be9cb-37a9-4db8-848c-34507834d119",
   "metadata": {
    "tags": []
   },
   "outputs": [
    {
     "name": "stdout",
     "output_type": "stream",
     "text": [
      "{'fruit': 'Apple', 'color': 'Red', 'is_edible': True} is a type of <class 'dict'>\n"
     ]
    }
   ],
   "source": [
    "# Dictionary Datatype\n",
    "myDict1 = {\"fruit\": \"Apple\", \"color\": \"Red\", \"is_edible\": True}\n",
    "print(myDict1, \"is a type of\", type(myDict1))"
   ]
  }
 ],
 "metadata": {
  "kernelspec": {
   "display_name": "Python 3 (ipykernel)",
   "language": "python",
   "name": "python3"
  },
  "language_info": {
   "codemirror_mode": {
    "name": "ipython",
    "version": 3
   },
   "file_extension": ".py",
   "mimetype": "text/x-python",
   "name": "python",
   "nbconvert_exporter": "python",
   "pygments_lexer": "ipython3",
   "version": "3.9.16"
  }
 },
 "nbformat": 4,
 "nbformat_minor": 5
}
