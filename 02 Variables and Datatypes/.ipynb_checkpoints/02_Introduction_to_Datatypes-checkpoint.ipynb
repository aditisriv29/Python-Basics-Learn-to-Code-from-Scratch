{
 "cells": [
  {
   "cell_type": "markdown",
   "id": "a40c4554-51d2-4e48-a72b-767f2e1e003e",
   "metadata": {},
   "source": [
    "## Introduction to Datatypes\n",
    "In Python, data types are used to categorize and represent different types of data that can be used in a program. They are used to classify different types of data that can be stored and manipulated in a program. The most common data types in Python include integers, floats, strings, booleans, and lists.\n",
    "\n",
    "The most common built-in data types in Python are:\n",
    "* **Integer:** Represents whole numbers, such as 1, 2, 3, -4, -5, etc.\n",
    "\n",
    "* **Float:** Represents decimal numbers, such as 3.14, 2.5, -1.0, etc.\n",
    "\n",
    "* **String:** Represents a sequence of characters, such as \"hello\", \"world\", \"123\", etc.\n",
    "\n",
    "* **Boolean:** Represents either True or False.\n",
    "\n",
    "* **List:** Represents an ordered collection of values, which can be of any data type. For example, [1, 2, 3], [\"apple\", \"banana\", \"orange\"], etc.\n",
    "\n",
    "* **Tuple:** Similar to a list, but immutable, meaning it cannot be modified once created. For example, (1, 2, 3), (\"apple\", \"banana\", \"orange\"), etc.\n",
    "\n",
    "* **Set:** Represents an unordered collection of unique values. For example, {1, 2, 3}, {\"apple\", \"banana\", \"orange\"}, etc.\n",
    "\n",
    "* **Dictionary:** Represents a collection of key-value pairs, where each key is associated with a value. For example, {\"name\": \"John\", \"age\": 30}, {\"fruit\": \"apple\", \"color\": \"red\"}, etc"
   ]
  },
  {
   "cell_type": "markdown",
   "id": "12eff451-236f-4bea-ad6f-ecc6ddf3ee23",
   "metadata": {},
   "source": [
    "### Examples"
   ]
  },
  {
   "cell_type": "code",
   "execution_count": 1,
   "id": "820faab0-73ac-4b42-8db9-65c51a0c300a",
   "metadata": {
    "tags": []
   },
   "outputs": [
    {
     "name": "stdout",
     "output_type": "stream",
     "text": [
      "8 is a type of <class 'int'>\n"
     ]
    }
   ],
   "source": [
    "# Integer Datatype\n",
    "myInt = 8\n",
    "print(myInt, \"is a type of\", type(myInt))"
   ]
  },
  {
   "cell_type": "code",
   "execution_count": 3,
   "id": "72c5f84c-c18d-43c8-a862-c5efe760d92c",
   "metadata": {
    "tags": []
   },
   "outputs": [
    {
     "name": "stdout",
     "output_type": "stream",
     "text": [
      "8.5 is a type of <class 'float'>\n"
     ]
    }
   ],
   "source": [
    "# Float Datatype\n",
    "myFloat = 8.5\n",
    "print(myFloat, \"is a type of\", type(myFloat))"
   ]
  },
  {
   "cell_type": "code",
   "execution_count": 5,
   "id": "bd46b15c-751b-4604-8618-986c9179e30e",
   "metadata": {
    "tags": []
   },
   "outputs": [
    {
     "name": "stdout",
     "output_type": "stream",
     "text": [
      "GeoNext is a type of <class 'str'>\n",
      "8.5 is a type of <class 'str'>\n"
     ]
    }
   ],
   "source": [
    "# String Datatype\n",
    "myString1 = \"GeoNext\"\n",
    "myString2 = \"8.5\"\n",
    "print(myString1, \"is a type of\", type(myString1))\n",
    "print(myString2, \"is a type of\", type(myString2))"
   ]
  },
  {
   "cell_type": "code",
   "execution_count": 6,
   "id": "4bfd7fcc-0329-4512-b708-b33f9dd5a7f4",
   "metadata": {
    "tags": []
   },
   "outputs": [
    {
     "name": "stdout",
     "output_type": "stream",
     "text": [
      "True is a type of <class 'bool'>\n",
      "False is a type of <class 'bool'>\n"
     ]
    }
   ],
   "source": [
    "# Boolean Datatype\n",
    "myBool1 = True\n",
    "myBool2 = False\n",
    "print(myBool1, \"is a type of\", type(myBool1))\n",
    "print(myBool2, \"is a type of\", type(myBool2))"
   ]
  }
 ],
 "metadata": {
  "kernelspec": {
   "display_name": "Python 3 (ipykernel)",
   "language": "python",
   "name": "python3"
  },
  "language_info": {
   "codemirror_mode": {
    "name": "ipython",
    "version": 3
   },
   "file_extension": ".py",
   "mimetype": "text/x-python",
   "name": "python",
   "nbconvert_exporter": "python",
   "pygments_lexer": "ipython3",
   "version": "3.9.16"
  }
 },
 "nbformat": 4,
 "nbformat_minor": 5
}
