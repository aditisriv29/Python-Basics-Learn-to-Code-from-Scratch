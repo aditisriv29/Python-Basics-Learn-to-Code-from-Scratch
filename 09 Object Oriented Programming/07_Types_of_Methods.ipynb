{
 "cells": [
  {
   "cell_type": "markdown",
   "id": "61955b52-57eb-495f-8bbe-85b585e862b2",
   "metadata": {},
   "source": [
    "## Types of Methods\n",
    "Inside a Python class, you can define various types of methods, each serving a specific purpose. Here are some commonly used types of methods in Python classes:"
   ]
  },
  {
   "cell_type": "markdown",
   "id": "eda30541-6bfe-4357-bbb9-60c8c7691770",
   "metadata": {},
   "source": [
    "### Instance Method\n",
    "Instance methods are the most common type of methods in Python classes. These are so-called instance methods because they can access the unique data of their instance. If you have two objects each created from a car class, then they each may have different properties. They may have different colors, engine sizes, seats, and so on.\n",
    "\n",
    "Instance methods must have self as a parameter, but you don't need to pass this in every time. Self is another Python special term. Inside any instance method, you can use self to access any data or methods that may reside in your class. You won't be able to access them without going through self.\n",
    "\n",
    "Finally, as instance methods are the most common, there's no decorator needed. Any method you create will automatically be created as an instance method unless you tell Python otherwise.\n",
    "\n",
    "**Usage:**\n",
    "* Performing calculations or operations on instance attributes.\n",
    "* Modifying the state of an individual instance.\n",
    "* Implementing instance-specific functionality."
   ]
  },
  {
   "cell_type": "code",
   "execution_count": 1,
   "id": "a9eac279-075d-4212-a7fb-ed833997abb3",
   "metadata": {
    "tags": []
   },
   "outputs": [],
   "source": [
    "# Creating a Circle class with instance methods \n",
    "class Circle:\n",
    "    _pi = 3.14159 # protected data member\n",
    "    \n",
    "    # constructor\n",
    "    def __init__(self, radius):\n",
    "        self.radius = radius\n",
    "        \n",
    "    # instance method  \n",
    "    def calculate_area(self):\n",
    "        area = self._pi * (self.radius)**2\n",
    "        return area\n",
    "    \n",
    "    # instance method\n",
    "    def calculate_perimeter(self):\n",
    "        perimeter = 2 * self._pi * self.radius\n",
    "        return perimeter"
   ]
  },
  {
   "cell_type": "code",
   "execution_count": 2,
   "id": "5577549c-40e7-4c08-b3a5-715e18953ae9",
   "metadata": {
    "tags": []
   },
   "outputs": [
    {
     "name": "stdout",
     "output_type": "stream",
     "text": [
      "The area of the circle: 78.53975\n",
      "The perimeter of the circle: 31.4159\n"
     ]
    }
   ],
   "source": [
    "# Creating an object from Circle class\n",
    "circle1 = Circle(5)\n",
    "# Calling the instance methods using the object\n",
    "print(\"The area of the circle:\", circle1.calculate_area())\n",
    "print(\"The perimeter of the circle:\", circle1.calculate_perimeter())"
   ]
  },
  {
   "cell_type": "markdown",
   "id": "988ab6b0-d96a-4cbb-ac44-e59d2782391d",
   "metadata": {},
   "source": [
    "### Class Methods\n",
    "Class methods are bound to the class itself rather than the instance. They have access to the class-level attributes and can be called using the class name or an instance. Class methods are defined using the **@classmethod** decorator, and the first parameter is conventionally named cls to represent the class.\n",
    "\n",
    "**Usage:**\n",
    "* Modifying or accessing class-level variables.\n",
    "* Performing operations that are relevant to the class as a whole.\n",
    "* Providing alternative ways to create instances of a class."
   ]
  },
  {
   "cell_type": "code",
   "execution_count": 3,
   "id": "2226d0ca-cbcb-46b4-a57d-f95804429c68",
   "metadata": {
    "tags": []
   },
   "outputs": [],
   "source": [
    "# Creating a rectangle class\n",
    "class Rectangle:\n",
    "    width = 0 # class-level variable\n",
    "    height = 0 # class-level variable\n",
    "    \n",
    "    def __init__(self, width, height):\n",
    "        self.width = width\n",
    "        self.height = height\n",
    "        \n",
    "    def calculate_area(self):\n",
    "        area = self.width * self.height\n",
    "        return area\n",
    "    \n",
    "    @classmethod\n",
    "    def change_size(cls, new_width, new_height):\n",
    "        cls.width = new_width\n",
    "        cls.height = new_height"
   ]
  },
  {
   "cell_type": "code",
   "execution_count": 4,
   "id": "3ffce423-c27c-4b6b-9594-20b613ccc9c0",
   "metadata": {
    "tags": []
   },
   "outputs": [
    {
     "name": "stdout",
     "output_type": "stream",
     "text": [
      "The area of the rectangle: 50\n"
     ]
    }
   ],
   "source": [
    "# Creating an instance from the rectangle class\n",
    "rectangle1 = Rectangle(10, 5)\n",
    "# Calling the instance method\n",
    "print(\"The area of the rectangle:\", rectangle1.calculate_area())"
   ]
  },
  {
   "cell_type": "code",
   "execution_count": 5,
   "id": "505260cb-fcdb-49e7-a073-c57b14b85381",
   "metadata": {
    "tags": []
   },
   "outputs": [
    {
     "name": "stdout",
     "output_type": "stream",
     "text": [
      "0\n",
      "0\n"
     ]
    }
   ],
   "source": [
    "# Checking the class-level variable\n",
    "print(Rectangle.width)\n",
    "print(Rectangle.height)"
   ]
  },
  {
   "cell_type": "code",
   "execution_count": 6,
   "id": "ad63638f-2482-46a8-a5c0-527ffea7d476",
   "metadata": {
    "tags": []
   },
   "outputs": [
    {
     "name": "stdout",
     "output_type": "stream",
     "text": [
      "6\n",
      "4\n"
     ]
    }
   ],
   "source": [
    "# Modifying the class-level variable using class method\n",
    "Rectangle.change_size(6, 4)\n",
    "# Checking the new class-level variable\n",
    "print(Rectangle.width)\n",
    "print(Rectangle.height)"
   ]
  },
  {
   "cell_type": "markdown",
   "id": "33d0a487-5ee0-4ae1-985b-2b9aabe7b102",
   "metadata": {},
   "source": [
    "### Static Methods\n",
    "Static methods, much like class methods, are methods that are bound to a class rather than its object.\n",
    "They do not require a class instance creation. So, they are not dependent on the state of the object.\n",
    "\n",
    "The difference between a static method and a class method is:\n",
    "* The static method knows nothing about the class and just deals with the parameters.\n",
    "* The class method works with the class since its parameter is always the class itself.\n",
    "\n",
    "**Usage:**\n",
    "* Implementing utility functions that are logically related to the class.\n",
    "* Performing calculations or operations that don't require access to instance or class attributes.\n",
    "* Grouping related functions together within a class for organizational purposes."
   ]
  },
  {
   "cell_type": "code",
   "execution_count": 7,
   "id": "4615b0a5-608c-4feb-b64a-003f49e8dd91",
   "metadata": {
    "tags": []
   },
   "outputs": [],
   "source": [
    "# Creating a MathUtils class\n",
    "class MathUtils:\n",
    "    \n",
    "    @staticmethod\n",
    "    def add(a, b, *args):\n",
    "        sum_of_numbers = a + b\n",
    "        for i in args:\n",
    "            sum_of_numbers += i\n",
    "        return sum_of_numbers\n",
    "    \n",
    "    @staticmethod\n",
    "    def multiply(a, b, *args):\n",
    "        product_of_numbers = a * b\n",
    "        for i in args:\n",
    "            product_of_numbers *= i\n",
    "        return product_of_numbers"
   ]
  },
  {
   "cell_type": "code",
   "execution_count": 8,
   "id": "269fd842-637c-422f-8603-8b810e8ecd6b",
   "metadata": {
    "tags": []
   },
   "outputs": [
    {
     "data": {
      "text/plain": [
       "5"
      ]
     },
     "execution_count": 8,
     "metadata": {},
     "output_type": "execute_result"
    }
   ],
   "source": [
    "# Using the static methods\n",
    "MathUtils.add(2, 3)"
   ]
  },
  {
   "cell_type": "code",
   "execution_count": 9,
   "id": "b8cae66a-81d0-45cf-bbfe-c1231a637341",
   "metadata": {
    "tags": []
   },
   "outputs": [
    {
     "data": {
      "text/plain": [
       "14"
      ]
     },
     "execution_count": 9,
     "metadata": {},
     "output_type": "execute_result"
    }
   ],
   "source": [
    "MathUtils.add(2, 3, 4, 5)"
   ]
  },
  {
   "cell_type": "code",
   "execution_count": 10,
   "id": "042ac416-9312-405a-b5d5-eacbad43e797",
   "metadata": {
    "tags": []
   },
   "outputs": [
    {
     "data": {
      "text/plain": [
       "6"
      ]
     },
     "execution_count": 10,
     "metadata": {},
     "output_type": "execute_result"
    }
   ],
   "source": [
    "MathUtils.multiply(2, 3)"
   ]
  },
  {
   "cell_type": "code",
   "execution_count": 11,
   "id": "ef73de77-8603-465d-b173-ca4c8c54f3f9",
   "metadata": {
    "tags": []
   },
   "outputs": [
    {
     "data": {
      "text/plain": [
       "120"
      ]
     },
     "execution_count": 11,
     "metadata": {},
     "output_type": "execute_result"
    }
   ],
   "source": [
    "MathUtils.multiply(2, 3, 4, 5)"
   ]
  }
 ],
 "metadata": {
  "kernelspec": {
   "display_name": "Python 3 (ipykernel)",
   "language": "python",
   "name": "python3"
  },
  "language_info": {
   "codemirror_mode": {
    "name": "ipython",
    "version": 3
   },
   "file_extension": ".py",
   "mimetype": "text/x-python",
   "name": "python",
   "nbconvert_exporter": "python",
   "pygments_lexer": "ipython3",
   "version": "3.10.9"
  }
 },
 "nbformat": 4,
 "nbformat_minor": 5
}
