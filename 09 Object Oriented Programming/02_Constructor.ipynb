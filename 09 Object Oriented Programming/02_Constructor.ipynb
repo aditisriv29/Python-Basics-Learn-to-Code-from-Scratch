{
 "cells": [
  {
   "cell_type": "markdown",
   "id": "a48f480e-d7fc-40d9-9844-153e4d77dc15",
   "metadata": {
    "tags": []
   },
   "source": [
    "## Constructor\n",
    "Constructors are special methods in Python classes that are used to initialize objects. The constructor method is automatically called when an object is created from a class. In Python, the constructor method is defined using the __init__() method.\n",
    "\n",
    "**Syntax of a constructor:**\n",
    "```python\n",
    "def __init__(self):\n",
    "    # body of the constructor\n",
    "```"
   ]
  },
  {
   "cell_type": "markdown",
   "id": "cbcc873c-a7d4-440d-b029-084a7ba98b8e",
   "metadata": {},
   "source": [
    "### Types of constructors\n",
    "* **Default Constructor:**\n",
    "A default constructor is provided by Python if no constructor is explicitly defined in a class. It takes no parameters and doesn't perform any initialization. Its definition has only one argument which is a reference to the instance being constructed known as self. <br>\n",
    "Example: def __init__(self):\n",
    "\n",
    "* **Parameterized Constructor:**\n",
    "A parameterized constructor is defined with one or more parameters to initialize the object's attributes during creation. It allows you to pass values at the time of object creation to set initial attribute values.<br>\n",
    "Example: def __init__(self, parameter1, parameter2, ...):"
   ]
  },
  {
   "cell_type": "markdown",
   "id": "e1a4fa3a-6b36-4270-a57f-fe36e9aef8d8",
   "metadata": {},
   "source": [
    "### The self Parameter\n",
    "The self parameter is a convention used in method definitions within a class. It represents the instance of the object on which the method is being called. It acts as a reference to the current object and allows access to its attributes and methods.\n",
    "\n",
    "* The self parameter is a reference to the current instance of the class and is used to access variables that belong to the class.\n",
    "* It does not have to be named 'self', you can call it whatever you like, but it has to be the first parameter of any function in the class.\n",
    "* You can give .__init__() any number of parameters, but the first parameter will always be a variable called self."
   ]
  },
  {
   "cell_type": "markdown",
   "id": "83a20f23-33ac-40a8-aef6-a5538a482ef7",
   "metadata": {},
   "source": [
    "### Defining a Class with Constructor"
   ]
  },
  {
   "cell_type": "code",
   "execution_count": 1,
   "id": "24c56ebe-3b7a-4f3a-8089-a1ea97f92270",
   "metadata": {
    "tags": []
   },
   "outputs": [],
   "source": [
    "# Creating a car class with parameterized constructor\n",
    "class Car:\n",
    "    def __init__(self, name, topspeed, color):\n",
    "        self.name = name\n",
    "        self.topspeed = topspeed\n",
    "        self.color = color"
   ]
  },
  {
   "cell_type": "code",
   "execution_count": 2,
   "id": "ec78e34e-8435-4b1d-a560-4690f2037805",
   "metadata": {
    "tags": []
   },
   "outputs": [],
   "source": [
    "# Creating an instance (object) from that car class\n",
    "car1 = Car(\"Ferrari\", 400, \"Red\")"
   ]
  },
  {
   "cell_type": "code",
   "execution_count": 3,
   "id": "05cf15d7-c9fe-4f28-be98-def70db39666",
   "metadata": {
    "tags": []
   },
   "outputs": [
    {
     "name": "stdout",
     "output_type": "stream",
     "text": [
      "The name of the car is Ferrari\n",
      "The topspeed of the car is 400 Km/h\n",
      "The color of the car is Red\n"
     ]
    }
   ],
   "source": [
    "# Checking the attribute of the car object\n",
    "print(\"The name of the car is\", car1.name)\n",
    "print(\"The topspeed of the car is\", car1.topspeed, \"Km/h\")\n",
    "print(\"The color of the car is\", car1.color)"
   ]
  },
  {
   "cell_type": "code",
   "execution_count": 4,
   "id": "26c800c4-f5e8-4bac-a501-fe7c4f55019b",
   "metadata": {
    "tags": []
   },
   "outputs": [],
   "source": [
    "# Add a function to the car class that will print the car attributes\n",
    "class Car:\n",
    "    def __init__(self, name, topspeed, color):\n",
    "        self.name = name\n",
    "        self.topspeed = topspeed\n",
    "        self.color = color\n",
    "    def car_info(self):\n",
    "        print(\"The name of the car is\", self.name)\n",
    "        print(\"The topspeed of the car is\", self.topspeed, \"Km/h\")\n",
    "        print(\"The color of the car is\", self.color)"
   ]
  },
  {
   "cell_type": "code",
   "execution_count": 5,
   "id": "36f62940-7963-4015-93e7-cf1c89a9ef01",
   "metadata": {
    "tags": []
   },
   "outputs": [
    {
     "name": "stdout",
     "output_type": "stream",
     "text": [
      "The name of the car is Maruti 800\n",
      "The topspeed of the car is 120 Km/h\n",
      "The color of the car is White\n"
     ]
    }
   ],
   "source": [
    "# Creating an object of the car class\n",
    "car2 = Car(\"Maruti 800\", 120, \"White\")\n",
    "# Calling the car_info function to the object\n",
    "car2.car_info()"
   ]
  },
  {
   "cell_type": "markdown",
   "id": "55dfe1dc-07be-4971-8edf-2753f71b3852",
   "metadata": {},
   "source": [
    "### Example:\n",
    "An example of a class for an application form in Python:"
   ]
  },
  {
   "cell_type": "code",
   "execution_count": 6,
   "id": "8e69c6de-daf1-459d-a50d-c6f3aa6034f8",
   "metadata": {
    "tags": []
   },
   "outputs": [],
   "source": [
    "class  ApplicationForm:\n",
    "    def __init__(self, name, age, dob, phone):\n",
    "        self.name = name\n",
    "        self.age = age\n",
    "        self.dob = dob\n",
    "        self.phone = phone\n",
    "        \n",
    "    def set_email(self, email):\n",
    "        self.email = email\n",
    "        \n",
    "    def set_address(self, address):\n",
    "        self.address = address\n",
    "        \n",
    "    def print_form(self):\n",
    "        print(\"Application Form:\")\n",
    "        print(f\"Name: {self.name}\")\n",
    "        print(f\"Age: {self.age}\")\n",
    "        print(f\"DOB: {self.dob}\")\n",
    "        print(f\"Phone: {self.phone}\")\n",
    "        print(f\"Email: {self.email}\")\n",
    "        print(f\"Address: {self.address}\")"
   ]
  },
  {
   "cell_type": "code",
   "execution_count": 7,
   "id": "a62bae09-0b32-49bd-85c1-1e217547452e",
   "metadata": {
    "tags": []
   },
   "outputs": [],
   "source": [
    "form1 = ApplicationForm(\"Kunal Roy\", 20, \"29-08-2002\", 6245684125)\n",
    "form1.set_email(\"roy_kunal2000@gmail.com\")\n",
    "form1.set_address(\"Newtown, Kolkata, West Bengal, India\")"
   ]
  },
  {
   "cell_type": "code",
   "execution_count": 8,
   "id": "94a8195e-04fd-4318-bc1f-7ced3fa7374e",
   "metadata": {
    "tags": []
   },
   "outputs": [
    {
     "name": "stdout",
     "output_type": "stream",
     "text": [
      "Application Form:\n",
      "Name: Kunal Roy\n",
      "Age: 20\n",
      "DOB: 29-08-2002\n",
      "Phone: 6245684125\n",
      "Email: roy_kunal2000@gmail.com\n",
      "Address: Newtown, Kolkata, West Bengal, India\n"
     ]
    }
   ],
   "source": [
    "form1.print_form()"
   ]
  }
 ],
 "metadata": {
  "kernelspec": {
   "display_name": "Python 3 (ipykernel)",
   "language": "python",
   "name": "python3"
  },
  "language_info": {
   "codemirror_mode": {
    "name": "ipython",
    "version": 3
   },
   "file_extension": ".py",
   "mimetype": "text/x-python",
   "name": "python",
   "nbconvert_exporter": "python",
   "pygments_lexer": "ipython3",
   "version": "3.10.9"
  }
 },
 "nbformat": 4,
 "nbformat_minor": 5
}
