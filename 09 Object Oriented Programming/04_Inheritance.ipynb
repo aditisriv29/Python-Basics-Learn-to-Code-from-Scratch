{
 "cells": [
  {
   "cell_type": "markdown",
   "id": "3d477959-4282-48ad-af84-f8895f3128e3",
   "metadata": {},
   "source": [
    "## Inheritance\n",
    "Inheritance is a fundamental concept in object-oriented programming (OOP). It allows a class to inherit attributes and methods from another class, known as the parent or base class. Inheritance enables code reuse and promotes the concept of hierarchy and specialization.\n",
    "\n",
    "The class which inherits the properties of the other is known as subclass (derived class or child class) and the class whose properties are inherited is known as superclass (base class, parent class).\n",
    "\n",
    "**Example:**<br>\n",
    "Let us take a real-life example to understand inheritance. Let's assume that Human is a class that has properties such as height, weight, age, etc and functionalities (or methods) such as eating(), sleeping), dreaming(), working (), etc. Now we want to create Male and Female classes. Both males and females are humans and they share some common properties (like height, weight, age, etc) and behaviours (or functionalities like eating(), sleeping(), etc), so they can inherit these properties and functionalities from the Human class. Both males and females have some characteristics specific to them (like men have short hair and females have long hair). Such properties can be added to the Male and Female classes separately. This approach makes us write less code as both the classes inherit several properties and functions from the superclass, thus we didn't have to re-write them. Also, this makes it easier to read the code.\n",
    "\n",
    "**Python Inheritance Syntax:**<br>\n",
    "```python\n",
    "class SuperClass:\n",
    "    # Body of base class\n",
    "\n",
    "class SubClass(SuperClass):\n",
    "    # Body of the derived class\n",
    "```"
   ]
  },
  {
   "cell_type": "markdown",
   "id": "2aa13a94-ef8b-4e93-ac34-e64e92fc7cc8",
   "metadata": {
    "tags": []
   },
   "source": [
    "<center><img src=\"https://miro.medium.com/v2/resize:fit:812/0*PCrObyBu1ektfPWd.png\" style=\"max-width: 650px; height: auto\"></center>"
   ]
  },
  {
   "cell_type": "markdown",
   "id": "cc7015e3-1c50-4486-a095-8b3f28b41c55",
   "metadata": {},
   "source": [
    "### Example:\n",
    "Here's an example of inheritance in Python using a superclass 'Vehicle' and subclasses 'Car' and 'Motorcycle':"
   ]
  },
  {
   "cell_type": "code",
   "execution_count": 1,
   "id": "b75d6d7e-8a1e-4eab-b72d-beb539989888",
   "metadata": {
    "tags": []
   },
   "outputs": [],
   "source": [
    "# Creating a superclass 'Vehicle'\n",
    "class Vehicle:\n",
    "    def __init__(self, brand, model, color):\n",
    "        self.brand = brand\n",
    "        self.model = model\n",
    "        self.color = color\n",
    "        \n",
    "    def drive(self):\n",
    "        print(\"Driving the vehicle.\")\n",
    "        \n",
    "    def stop(self):\n",
    "        print(\"Stopping the vehicle.\")"
   ]
  },
  {
   "cell_type": "markdown",
   "id": "833723ae-d529-4dc8-91ae-e520a4045f6e",
   "metadata": {},
   "source": [
    "**Constructor in Subclass:**<br>\n",
    "The constructor in subclass must call the constructor of the superclass by accessing the __init__() method of the superclass in the following format:\n",
    "```python\n",
    "<SuperClassName>.__init__(self, <Parameter1>, <Parameter2>, ...)\n",
    "```\n",
    "**Note:** The parameters being passed in this call must be same as the parameters being passed in the superclass __init__() function, otherwise it will throw an error. "
   ]
  },
  {
   "cell_type": "code",
   "execution_count": 2,
   "id": "22a17e5a-922f-4956-9771-8111442301a2",
   "metadata": {
    "tags": []
   },
   "outputs": [],
   "source": [
    "# Creating a subclass 'Car'\n",
    "class Car(Vehicle):\n",
    "    def __init__(self, brand, model, color, topSpeed):\n",
    "    \tsuper().__init__(brand, model, color)\n",
    "    \tself.topSpeed = topSpeed\n",
    "    \n",
    "    def drive(self):\n",
    "        print(\"Driving the car.\")\n",
    "        \n",
    "    def open_trunk(self):\n",
    "        print(\"Opening the trunk.\")"
   ]
  },
  {
   "cell_type": "code",
   "execution_count": 3,
   "id": "981dc644-da6e-4fc7-b99d-65555fa010a6",
   "metadata": {
    "tags": []
   },
   "outputs": [],
   "source": [
    "# Creating another subclass 'Motocycle'\n",
    "class Motorcycle(Vehicle):\n",
    "    def __init__(self, brand, model, color, topSpeed):\n",
    "        super().__init__(brand, model, color)\n",
    "        self.topSpeed = topSpeed\n",
    "    \n",
    "    def drive(self):\n",
    "        print(\"Driving the motorcycle\")\n",
    "    \n",
    "    def indicator(self):\n",
    "        print(\"Turning on the indicator.\")"
   ]
  },
  {
   "cell_type": "code",
   "execution_count": 4,
   "id": "2c52fd9f-37c7-45ce-8e9c-a53b9d2f16f1",
   "metadata": {
    "tags": []
   },
   "outputs": [],
   "source": [
    "# Creating instances of subclasses\n",
    "car1 = Car(\"Maruti\", \"Maruti 800\", \"White\", 150)\n",
    "motorcycle1 = Motorcycle(\"Kawasaki\", \"Kawasaki Ninja H2\", \"Black\", 293)"
   ]
  },
  {
   "cell_type": "code",
   "execution_count": 5,
   "id": "38ee5473-be33-4c1a-9fc4-e3384645546d",
   "metadata": {
    "tags": []
   },
   "outputs": [
    {
     "name": "stdout",
     "output_type": "stream",
     "text": [
      "Driving the car.\n",
      "Driving the motorcycle\n"
     ]
    }
   ],
   "source": [
    "# Calling overridden methods\n",
    "car1.drive()\n",
    "motorcycle1.drive()"
   ]
  },
  {
   "cell_type": "code",
   "execution_count": 6,
   "id": "a16b273b-61c8-4b7e-b5d2-addd921fd43a",
   "metadata": {
    "tags": []
   },
   "outputs": [
    {
     "name": "stdout",
     "output_type": "stream",
     "text": [
      "Opening the trunk.\n",
      "Turning on the indicator.\n"
     ]
    }
   ],
   "source": [
    "# Calling subclass-specific methods\n",
    "car1.open_trunk()\n",
    "motorcycle1.indicator()"
   ]
  },
  {
   "cell_type": "code",
   "execution_count": 7,
   "id": "2984cece-c85e-46a8-93b6-26bf76cd6d47",
   "metadata": {
    "tags": []
   },
   "outputs": [
    {
     "name": "stdout",
     "output_type": "stream",
     "text": [
      "Stopping the vehicle.\n",
      "Stopping the vehicle.\n"
     ]
    }
   ],
   "source": [
    "# Calling superclass methods\n",
    "car1.stop()\n",
    "motorcycle1.stop()"
   ]
  },
  {
   "cell_type": "markdown",
   "id": "9d2f717d-18f6-4e1b-bbe7-b1c4a6357353",
   "metadata": {},
   "source": [
    "### Example:\n",
    "Here's an example of inheritance in Python using a superclass 'Polygon' and subclasses 'Triangle':"
   ]
  },
  {
   "cell_type": "code",
   "execution_count": 8,
   "id": "18a3e37d-d3ca-44b1-9da0-d7e29699c0c6",
   "metadata": {
    "tags": []
   },
   "outputs": [],
   "source": [
    "# Creating a superclass 'Polygon'\n",
    "class Polygon:\n",
    "    \n",
    "    # Constructor\n",
    "    def __init__(self, no_of_sides):\n",
    "        self.no_of_sides = no_of_sides\n",
    "        self.sideLengths = [0 for i in range(no_of_sides)]\n",
    "        \n",
    "    # Take user input for side lengths\n",
    "    def inputSideLengths(self):\n",
    "        self.sideLengths = [int(input(\"Enter Side Length: \")) for i in range(self.no_of_sides)]\n",
    "        \n",
    "    # Print the side lengths of the polygon\n",
    "    def displaySideLengths(self):\n",
    "        for i in range(len(self.sideLengths)):\n",
    "            print(f\"Side {i+1}: {self.sideLengths[i]}\")"
   ]
  },
  {
   "cell_type": "markdown",
   "id": "9ee58439-e27d-419c-bd82-b98dc586d7d9",
   "metadata": {},
   "source": [
    "<center><img src=\"https://d138zd1ktt9iqe.cloudfront.net/media/seo_landing_files/area-of-triangle-with-3-sides-01-1627893596.png\" style=\"max-width: 550px; height: auto\"></center>"
   ]
  },
  {
   "cell_type": "code",
   "execution_count": 9,
   "id": "c7331a2c-bcb0-4179-ac59-f7501afda9ec",
   "metadata": {
    "tags": []
   },
   "outputs": [],
   "source": [
    "# Creating a subclass 'Triangle'\n",
    "class Triangle(Polygon):\n",
    "    \n",
    "    def __init__(self):\n",
    "        # Calling constructor of superclas\n",
    "        Polygon.__init__(self, 3)\n",
    "        \n",
    "    def calculateArea(self):\n",
    "        a, b, c = self.sideLengths\n",
    "        # Calculate the semi-perimeter\n",
    "        s = (a + b + c) / 2\n",
    "        area = (s * (s-a) * (s-b) * (s-c)) ** 0.5\n",
    "        print(\"The area of the triangle is %0.2f\" %area)"
   ]
  },
  {
   "cell_type": "code",
   "execution_count": 10,
   "id": "5f1981dc-09c0-4fc2-87d9-0920c1e51fa3",
   "metadata": {
    "tags": []
   },
   "outputs": [
    {
     "name": "stdin",
     "output_type": "stream",
     "text": [
      "Enter Side Length:  10\n",
      "Enter Side Length:  12\n",
      "Enter Side Length:  15\n"
     ]
    }
   ],
   "source": [
    "# Instantiating a Triangle object\n",
    "triangle1 = Triangle()\n",
    "\n",
    "# Input the side legths of the triangle\n",
    "triangle1.inputSideLengths()"
   ]
  },
  {
   "cell_type": "code",
   "execution_count": 11,
   "id": "2d6e017f-b825-4f66-8e7d-dccb58f2d57a",
   "metadata": {
    "tags": []
   },
   "outputs": [
    {
     "name": "stdout",
     "output_type": "stream",
     "text": [
      "Side 1: 10\n",
      "Side 2: 12\n",
      "Side 3: 15\n"
     ]
    }
   ],
   "source": [
    "# Display the side lengths\n",
    "triangle1.displaySideLengths()"
   ]
  },
  {
   "cell_type": "code",
   "execution_count": 12,
   "id": "1e139974-e9a1-469d-a2b7-f962ffde100a",
   "metadata": {
    "tags": []
   },
   "outputs": [
    {
     "name": "stdout",
     "output_type": "stream",
     "text": [
      "The area of the triangle is 59.81\n"
     ]
    }
   ],
   "source": [
    "# Calculate the area of the triangle\n",
    "triangle1.calculateArea()"
   ]
  }
 ],
 "metadata": {
  "kernelspec": {
   "display_name": "Python 3 (ipykernel)",
   "language": "python",
   "name": "python3"
  },
  "language_info": {
   "codemirror_mode": {
    "name": "ipython",
    "version": 3
   },
   "file_extension": ".py",
   "mimetype": "text/x-python",
   "name": "python",
   "nbconvert_exporter": "python",
   "pygments_lexer": "ipython3",
   "version": "3.10.9"
  }
 },
 "nbformat": 4,
 "nbformat_minor": 5
}
