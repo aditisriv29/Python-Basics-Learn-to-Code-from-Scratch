{
 "cells": [
  {
   "cell_type": "markdown",
   "id": "f223776e-dd2f-4685-8ee8-3c0096b52ce2",
   "metadata": {},
   "source": [
    "## Access Modifiers with Inheritance\n",
    "Inheritance in object-oriented programming allows a subclass (derived class) to inherit the attributes and methods of a superclass (base class). When it comes to access modifiers, the behavior is slightly different depending on the specific programming language. Let's discuss how access modifiers work with inheritance in Python:"
   ]
  },
  {
   "cell_type": "markdown",
   "id": "3c9a55aa-0335-48ef-b756-c611505239a4",
   "metadata": {},
   "source": [
    "1. **Public Members:** Public members of the superclass are accessible by the subclass. They retain their public visibility in the subclass.\n",
    "\n",
    "2. **Protected Members:** Protected members of the superclass can be accessed by the subclass, similar to public members. However, it is still a convention and not enforced by the language. Even though the protected members are intended to be protected, it can still be accessed and invoked by the Subclass. However, it is important to respect the convention and consider it as a hint to other developers.\n",
    "\n",
    "3. **Private Members:** Private members of the superclass are not directly accessible by the subclass. However, it is possible to access them indirectly by defining public or protected methods in the superclass that provide access to the private members."
   ]
  },
  {
   "cell_type": "code",
   "execution_count": 1,
   "id": "e1adfb57-05cc-4c36-a15b-e941cb5db8ce",
   "metadata": {
    "tags": []
   },
   "outputs": [],
   "source": [
    "# Creating a super/parent class\n",
    "class Vehicle:\n",
    "    def __init__(self, brand, name, color, product_no):\n",
    "        self.brand = brand # public member\n",
    "        self.name = name # public member\n",
    "        self.color = color # public member\n",
    "        self.__product_no = product_no # private member\n",
    "        \n",
    "    def _set_owner(self, owner, phone): # protected member\n",
    "        self._owner = owner\n",
    "        self._phone = phone\n",
    "        \n",
    "    def _print_owner_details(self): # protected member\n",
    "        print(f\"Owner Name: {self._owner}\")\n",
    "        print(f\"Phone No: {self._phone}\")\n",
    "        \n",
    "    def print_vehicle_details(self): # public member\n",
    "        print(f\"Vehicle Brand: {self.brand}\")\n",
    "        print(f\"Vehicle Name: {self.name}\")\n",
    "        print(f\"Color: {self.color}\")\n",
    "        \n",
    "    def __show_product_no(self): # private method\n",
    "        print(f\"Vehicle Product No: {self.__product_no}\")"
   ]
  },
  {
   "cell_type": "code",
   "execution_count": 2,
   "id": "f3c9efa0-d7eb-479c-8383-4f538da92735",
   "metadata": {
    "tags": []
   },
   "outputs": [],
   "source": [
    "# Creating a sub/child class\n",
    "class Car(Vehicle):\n",
    "    def __init__(self, brand, name, color):\n",
    "        super().__init__(brand, name, color, None)"
   ]
  },
  {
   "cell_type": "code",
   "execution_count": 3,
   "id": "aa68e7ba-8526-4d56-82eb-aaf05c5e5500",
   "metadata": {
    "tags": []
   },
   "outputs": [],
   "source": [
    "# Creating instances from the child class\n",
    "car1 = Car(\"Maruti\", \"Maruti 800\", \"White\")"
   ]
  },
  {
   "cell_type": "code",
   "execution_count": 4,
   "id": "5c83d063-d1b8-4eab-9efd-11b94407dafd",
   "metadata": {
    "tags": []
   },
   "outputs": [
    {
     "name": "stdout",
     "output_type": "stream",
     "text": [
      "Vehicle Brand: Maruti\n",
      "Vehicle Name: Maruti 800\n",
      "Color: White\n"
     ]
    }
   ],
   "source": [
    "# Calling the public members\n",
    "car1.print_vehicle_details()"
   ]
  },
  {
   "cell_type": "code",
   "execution_count": 5,
   "id": "8b0b73b9-fe42-4e5b-9b11-d1ce50be7ca7",
   "metadata": {
    "tags": []
   },
   "outputs": [
    {
     "name": "stdout",
     "output_type": "stream",
     "text": [
      "Owner Name: Subrata Dey\n",
      "Phone No: 6245614786\n"
     ]
    }
   ],
   "source": [
    "# Calling the protected members\n",
    "car1._set_owner(\"Subrata Dey\", 6245614786)\n",
    "car1._print_owner_details()"
   ]
  },
  {
   "cell_type": "code",
   "execution_count": 6,
   "id": "0d725d48-510b-475f-93e3-17e2fff52fe7",
   "metadata": {
    "tags": []
   },
   "outputs": [],
   "source": [
    "# Calling the private members\n",
    "# It will throw an error\n",
    "# car1.__product_no \n",
    "# car1._Car__product_no\n",
    "# car1.__show_product_no()"
   ]
  },
  {
   "cell_type": "code",
   "execution_count": 7,
   "id": "d75a7f2b-27ca-4952-b149-3be6ae674295",
   "metadata": {
    "tags": []
   },
   "outputs": [],
   "source": [
    "# Creating an instance of the super/parent class\n",
    "vehicle1 = Vehicle(\"Ferrari\", \"Ferrari XZ\", \"Black\", 1001)"
   ]
  },
  {
   "cell_type": "code",
   "execution_count": 8,
   "id": "b3f839d3-3a5c-47d5-94ee-2d18c06b0041",
   "metadata": {
    "tags": []
   },
   "outputs": [
    {
     "name": "stdout",
     "output_type": "stream",
     "text": [
      "Vehicle Product No: 1001\n"
     ]
    }
   ],
   "source": [
    "# Calling the private members\n",
    "vehicle1._Vehicle__show_product_no()"
   ]
  }
 ],
 "metadata": {
  "kernelspec": {
   "display_name": "Python 3 (ipykernel)",
   "language": "python",
   "name": "python3"
  },
  "language_info": {
   "codemirror_mode": {
    "name": "ipython",
    "version": 3
   },
   "file_extension": ".py",
   "mimetype": "text/x-python",
   "name": "python",
   "nbconvert_exporter": "python",
   "pygments_lexer": "ipython3",
   "version": "3.10.9"
  }
 },
 "nbformat": 4,
 "nbformat_minor": 5
}
