{
 "cells": [
  {
   "cell_type": "markdown",
   "id": "37a3f91e-573b-45fa-8c5e-910aba8cab57",
   "metadata": {},
   "source": [
    "## Types of Attributes\n",
    "In Python, attributes are variables that belong to an object or class. They store data that defines the characteristics or properties of the object. There are two types of attributes commonly used in Python:"
   ]
  },
  {
   "cell_type": "markdown",
   "id": "7e927e90-e636-44ab-8628-46f5c56a3567",
   "metadata": {},
   "source": [
    "### Instance Attributes:\n",
    "Attributes created in .__init__() are called instance attributes. An instance attribute's value is specific to a particular instance of the class. All car objects have a name and a topspeed, but the values for the name and topspeed will vary depending on the car instance. Different objects of the Car class have different names and top speeds.<br>\n",
    "\n",
    "**Characteristics:**\n",
    "* Instance attributes are specific to each instance of a class.\n",
    "* They are defined and assigned within the constructor (__init__() method) using the self keyword.\n",
    "* Each object of the class can have different values for these attributes.\n",
    "* Example: self.name, self.topseed, etc.\n"
   ]
  },
  {
   "cell_type": "code",
   "execution_count": 6,
   "id": "a1ac2f1a-ed32-431f-9692-3b4f56265b18",
   "metadata": {
    "tags": []
   },
   "outputs": [],
   "source": [
    "# Example of Instance Attribute with Car class\n",
    "class Car:\n",
    "    # Attributed defined within the constructor are instance attributes\n",
    "    def __init__(self, name, topspeed):\n",
    "        self.name = name\n",
    "        self.topspeed = topspeed\n",
    "        \n",
    "    def print_details(self):\n",
    "        print(f\"Car Name: {self.name}\")\n",
    "        print(f\"Top Speed: {self.topspeed} Km/h\")"
   ]
  },
  {
   "cell_type": "code",
   "execution_count": 7,
   "id": "09d8f85f-891b-4254-a095-5eaa4cf64330",
   "metadata": {
    "tags": []
   },
   "outputs": [],
   "source": [
    "# Creating instances from Car class\n",
    "car1 = Car(\"Maruti 800\", 120)\n",
    "car2 = Car(\"Ferrari\", 400)"
   ]
  },
  {
   "cell_type": "code",
   "execution_count": 8,
   "id": "c13050d8-a014-4039-ac22-e5ed4c23e7e2",
   "metadata": {
    "tags": []
   },
   "outputs": [
    {
     "name": "stdout",
     "output_type": "stream",
     "text": [
      "Car Name: Maruti 800\n",
      "Top Speed: 120 Km/h\n"
     ]
    }
   ],
   "source": [
    "# Printing the details of the car objects\n",
    "car1.print_details()"
   ]
  },
  {
   "cell_type": "code",
   "execution_count": 9,
   "id": "9d3355ca-ac62-4fd1-8806-d274decc4ea6",
   "metadata": {
    "tags": []
   },
   "outputs": [
    {
     "name": "stdout",
     "output_type": "stream",
     "text": [
      "Car Name: Ferrari\n",
      "Top Speed: 400 Km/h\n"
     ]
    }
   ],
   "source": [
    "car2.print_details()"
   ]
  },
  {
   "cell_type": "markdown",
   "id": "88f47642-e7f4-423b-935a-eeedafd22514",
   "metadata": {},
   "source": [
    "### Class Attribute\n",
    "Class attributes are attributes that have the same value for all class instances. You can define a class attribute by assigning a value to a variable name outside of .__init__().<br>\n",
    "\n",
    "**Characteristics:**\n",
    "* Class attributes are shared among all instances of a class.\n",
    "* They are defined outside any method within the class scope.\n",
    "* Class attributes are the same for every object of the class.\n",
    "* They are accessed using the class name or instance object.\n",
    "* Example: className.attribute, self.attribute, etc."
   ]
  },
  {
   "cell_type": "code",
   "execution_count": 16,
   "id": "35b9ce51-b5c7-4377-8820-7c7ba7053400",
   "metadata": {
    "tags": []
   },
   "outputs": [],
   "source": [
    "# Example of Class Attribute with Car class\n",
    "class Car:\n",
    "    # Creating a class attribute\n",
    "    no_of_wheels = 4\n",
    "    \n",
    "    def __init__(self, name, topspeed):\n",
    "        self.name = name\n",
    "        self.topspeed = topspeed\n",
    "        \n",
    "    def print_details(self):\n",
    "        print(f\"Car Name: {self.name}\")\n",
    "        print(f\"Top Speed: {self.topspeed} Km/h\")\n",
    "        print(f\"No of Wheels: {self.no_of_wheels}\")"
   ]
  },
  {
   "cell_type": "code",
   "execution_count": 17,
   "id": "5a9c7ff9-ee15-4277-9bf7-2bb57b16e429",
   "metadata": {
    "tags": []
   },
   "outputs": [],
   "source": [
    "# Creating instances from Car class\n",
    "car1 = Car(\"Creta\", 300)\n",
    "car2 = Car(\"Toyato\", 240)"
   ]
  },
  {
   "cell_type": "code",
   "execution_count": 18,
   "id": "f76747ff-488d-486d-81a7-3519902098e3",
   "metadata": {
    "tags": []
   },
   "outputs": [
    {
     "name": "stdout",
     "output_type": "stream",
     "text": [
      "Car Name: Creta\n",
      "Top Speed: 300 Km/h\n",
      "No of Wheels: 4\n"
     ]
    }
   ],
   "source": [
    "# Printing the car details\n",
    "car1.print_details()"
   ]
  },
  {
   "cell_type": "code",
   "execution_count": 19,
   "id": "2e7dc615-1bd9-4801-8219-b3712a46600d",
   "metadata": {
    "tags": []
   },
   "outputs": [
    {
     "name": "stdout",
     "output_type": "stream",
     "text": [
      "Car Name: Toyato\n",
      "Top Speed: 240 Km/h\n",
      "No of Wheels: 4\n"
     ]
    }
   ],
   "source": [
    "car2.print_details()"
   ]
  },
  {
   "cell_type": "code",
   "execution_count": 23,
   "id": "cc155b30-c3b0-4e92-bf44-e4c9af010c52",
   "metadata": {
    "tags": []
   },
   "outputs": [
    {
     "name": "stdout",
     "output_type": "stream",
     "text": [
      "No of Wheels: 4\n",
      "No of Wheels of car1: 4\n",
      "No of Wheels of car2: 4\n"
     ]
    }
   ],
   "source": [
    "# Accessing the class attributes of the Car Class\n",
    "print(\"No of Wheels:\", Car.no_of_wheels)\n",
    "print(\"No of Wheels of car1:\", car1.no_of_wheels)\n",
    "print(\"No of Wheels of car2:\", car2.no_of_wheels)"
   ]
  },
  {
   "cell_type": "markdown",
   "id": "1bf4b782-fb75-4644-854f-2a06f2c3c3e3",
   "metadata": {},
   "source": [
    "### Example:\n",
    "Creating a Student class with Class and Instance Attributes"
   ]
  },
  {
   "cell_type": "code",
   "execution_count": 27,
   "id": "d9b79a66-9b1f-4119-8a9e-6db0f8b0e68f",
   "metadata": {
    "tags": []
   },
   "outputs": [],
   "source": [
    "class Student:\n",
    "    school = \"MBD DAV Public School\"\n",
    "    def __init__(self, name, rollno):\n",
    "        self.name = name\n",
    "        self.rollno = rollno\n",
    "        \n",
    "    def printDetails(self):\n",
    "        print(\"Stuent Name:\", self.name)\n",
    "        print(\"Roll No:\", self.rollno)\n",
    "        print(\"School:\", self.school)"
   ]
  },
  {
   "cell_type": "code",
   "execution_count": 28,
   "id": "8d585d36-5d64-4856-97b3-c89edf25e643",
   "metadata": {
    "tags": []
   },
   "outputs": [],
   "source": [
    "# Creating instances from Student class\n",
    "student1 = Student(\"Ayan Ghosh\", 1)\n",
    "student2 = Student(\"Sayan Pal\", 2)"
   ]
  },
  {
   "cell_type": "code",
   "execution_count": 29,
   "id": "8ff487f9-6904-4fea-b45f-3fe783f8e660",
   "metadata": {
    "tags": []
   },
   "outputs": [
    {
     "name": "stdout",
     "output_type": "stream",
     "text": [
      "Stuent Name: Ayan Ghosh\n",
      "Roll No: 1\n",
      "School: MBD DAV Public School\n"
     ]
    }
   ],
   "source": [
    "# Print the details of the student object\n",
    "student1.printDetails()"
   ]
  },
  {
   "cell_type": "code",
   "execution_count": 30,
   "id": "3b7876b3-a42e-4227-8d61-c0de17299b9b",
   "metadata": {
    "tags": []
   },
   "outputs": [
    {
     "name": "stdout",
     "output_type": "stream",
     "text": [
      "Stuent Name: Sayan Pal\n",
      "Roll No: 2\n",
      "School: MBD DAV Public School\n"
     ]
    }
   ],
   "source": [
    "student2.printDetails()"
   ]
  }
 ],
 "metadata": {
  "kernelspec": {
   "display_name": "Python 3 (ipykernel)",
   "language": "python",
   "name": "python3"
  },
  "language_info": {
   "codemirror_mode": {
    "name": "ipython",
    "version": 3
   },
   "file_extension": ".py",
   "mimetype": "text/x-python",
   "name": "python",
   "nbconvert_exporter": "python",
   "pygments_lexer": "ipython3",
   "version": "3.10.9"
  }
 },
 "nbformat": 4,
 "nbformat_minor": 5
}
