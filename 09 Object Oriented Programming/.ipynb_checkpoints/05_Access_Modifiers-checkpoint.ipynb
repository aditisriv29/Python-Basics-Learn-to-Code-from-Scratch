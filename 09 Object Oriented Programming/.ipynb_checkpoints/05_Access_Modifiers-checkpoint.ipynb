{
 "cells": [
  {
   "cell_type": "markdown",
   "id": "2eacaa0c-2999-4b40-bce0-ef2c4d03aeda",
   "metadata": {},
   "source": [
    "## Access Modifiers\n",
    "Access Modifiers are the specifications that can be defined to fix boundaries for classes when accessing member functions (methods) or member variables are considered. Various object-oriented languages like C++, Java, Python control access modifications which are used to restrict access to the variables and methods of the class. Most programming languages majorly have the following three forms of access modifiers, which are **Public**, **Private**, and **Protected** in a class."
   ]
  },
  {
   "cell_type": "markdown",
   "id": "f97583c2-ccd0-429a-9b5d-0ea9c1db8baa",
   "metadata": {},
   "source": [
    "<center><img src=\"https://miro.medium.com/v2/resize:fit:1162/1*AsKRlD4xL50sqSDAOYvhMA.jpeg\" style=\"max-width: 550px; height: auto\"></center>"
   ]
  },
  {
   "cell_type": "markdown",
   "id": "67285460-1a1c-470c-94ff-25ee77704cff",
   "metadata": {},
   "source": [
    "### Public Modifier\n",
    "The members of a class that are declared public are easily accessible from any part of the program. By default, all members (attributes and methods) in a Python class are considered public and can be accessed from anywhere. Consider the given example:"
   ]
  },
  {
   "cell_type": "code",
   "execution_count": 1,
   "id": "eb24e4d7-7b14-4238-a6b9-a33080a6fee4",
   "metadata": {
    "tags": []
   },
   "outputs": [],
   "source": [
    "# Creating a student class with public member\n",
    "class Pub_Student:\n",
    "    name = None # public member by default\n",
    "    age = None # public member\n",
    "    \n",
    "    # constructor\n",
    "    def __init__(self, name, age):\n",
    "        self.name = name\n",
    "        self.age = age\n",
    "        \n",
    "    def public_method(self):\n",
    "        print(\"This is a public method.\")"
   ]
  },
  {
   "cell_type": "code",
   "execution_count": 2,
   "id": "03b29cbd-f550-47e6-b159-abde41a41f22",
   "metadata": {
    "tags": []
   },
   "outputs": [],
   "source": [
    "# Creating objets/instances from Student class\n",
    "pub_obj = Pub_Student(\"Sohon Roy\", 16)"
   ]
  },
  {
   "cell_type": "code",
   "execution_count": 3,
   "id": "ad210eac-79b2-44d5-9a93-fba867f0c5ac",
   "metadata": {
    "tags": []
   },
   "outputs": [
    {
     "name": "stdout",
     "output_type": "stream",
     "text": [
      "Sohon Roy\n",
      "16\n",
      "This is a public method.\n"
     ]
    }
   ],
   "source": [
    "# Calling the public members of the class\n",
    "print(pub_obj.name)\n",
    "print(pub_obj.age)\n",
    "pub_obj.public_method()"
   ]
  },
  {
   "cell_type": "markdown",
   "id": "4f6c07f2-0a3e-417d-9630-56bf7225ff40",
   "metadata": {},
   "source": [
    "### Protected Modifier\n",
    "The members (attributes and methods) of a class that are declared protected are only accessible to a class derived from it. Data members of a class are declared **protected** by adding a single underscore '_' symbol before the data member of that class. However, this naming convention does not enforce actual access restrictions. It serves more as a hint to other developers that a member should be treated as protected. Here's an example:"
   ]
  },
  {
   "cell_type": "code",
   "execution_count": 4,
   "id": "8ba0b0bc-9684-4557-9be3-419e7f8a4e7e",
   "metadata": {
    "tags": []
   },
   "outputs": [],
   "source": [
    "# Creating a student class with protected member\n",
    "class Pro_Student:\n",
    "    _name = None # protected data member\n",
    "    age = None # public data member\n",
    "    \n",
    "    # constructor\n",
    "    def __init__(self, name, age):\n",
    "        self._name = name\n",
    "        self.age = age\n",
    "        \n",
    "    def _protected_method(self):\n",
    "        print(\"This is a protected method.\")"
   ]
  },
  {
   "cell_type": "code",
   "execution_count": 5,
   "id": "cb6e666f-e0a7-43cc-bee2-2cbd61f1cb78",
   "metadata": {
    "tags": []
   },
   "outputs": [],
   "source": [
    "# Creating objets/instances from Student class\n",
    "pro_obj = Pro_Student(\"Ayan Ghosh\", 16)"
   ]
  },
  {
   "cell_type": "code",
   "execution_count": 6,
   "id": "e237234e-a19b-479d-9321-871d78c8d8bc",
   "metadata": {
    "tags": []
   },
   "outputs": [
    {
     "name": "stdout",
     "output_type": "stream",
     "text": [
      "Ayan Ghosh\n",
      "This is a protected method.\n"
     ]
    }
   ],
   "source": [
    "# Calling the protected members of the class\n",
    "print(pro_obj._name)\n",
    "pro_obj._protected_method()"
   ]
  },
  {
   "cell_type": "code",
   "execution_count": 7,
   "id": "a732c9f5-ea3a-466d-8e4b-65c82ba64504",
   "metadata": {
    "tags": []
   },
   "outputs": [
    {
     "name": "stdout",
     "output_type": "stream",
     "text": [
      "16\n"
     ]
    }
   ],
   "source": [
    "# Calling the public members of the class\n",
    "print(pro_obj.age)"
   ]
  },
  {
   "cell_type": "markdown",
   "id": "5734c1b2-865c-4184-a2a2-e32295a94c30",
   "metadata": {
    "tags": []
   },
   "source": [
    "### Private Modifier\n",
    "The member of a class that are declared **private** are accessible within the class only. A private access modifier is the most secure access modifier. Data members of a class are declared private by adding a double underscore '__' symbol before the data member of that class. Here's an example: "
   ]
  },
  {
   "cell_type": "code",
   "execution_count": 8,
   "id": "b4606abc-52b7-44d8-8788-58481085a453",
   "metadata": {
    "tags": []
   },
   "outputs": [],
   "source": [
    "# Creating a student class with private member\n",
    "class Pri_Student:\n",
    "    name = None # public data member\n",
    "    __age = None # private data member\n",
    "    \n",
    "    # constructor\n",
    "    def __init__(self, name, age):\n",
    "        self.name = name\n",
    "        self.__age = age\n",
    "        \n",
    "    def __private_method(self):\n",
    "        print(\"This is a private method.\")"
   ]
  },
  {
   "cell_type": "code",
   "execution_count": 9,
   "id": "f8238f7d-b0fd-4914-9f01-ae108db8f05a",
   "metadata": {
    "tags": []
   },
   "outputs": [],
   "source": [
    "# Creating objets/instances from Student class\n",
    "pri_obj = Pri_Student(\"Bikash Dey\", 21)"
   ]
  },
  {
   "cell_type": "code",
   "execution_count": 10,
   "id": "98e60196-7a03-40c0-80bc-5d85aae6fb7b",
   "metadata": {
    "tags": []
   },
   "outputs": [
    {
     "name": "stdout",
     "output_type": "stream",
     "text": [
      "Bikash Dey\n"
     ]
    }
   ],
   "source": [
    "# Calling the public members of the class\n",
    "print(pri_obj.name)"
   ]
  },
  {
   "cell_type": "code",
   "execution_count": 11,
   "id": "8c86cfd2-c646-4749-ad4b-aea37b41fb3c",
   "metadata": {
    "tags": []
   },
   "outputs": [],
   "source": [
    "# Calling the private members of the class\n",
    "#print(pri_obj.__age)"
   ]
  },
  {
   "cell_type": "markdown",
   "id": "019f3d21-d168-4b58-a151-429bcf007308",
   "metadata": {},
   "source": [
    "We will get an **AttributeError** when we try to access the **'__age'** attribute. This is because the **__age** is a private attribute and hence it cannot be accessed from outside the class."
   ]
  },
  {
   "cell_type": "markdown",
   "id": "9bd09d9b-12f3-4fde-b703-24413ee4da0a",
   "metadata": {},
   "source": [
    "**Name Mangling:**<br>\n",
    "Private members in Python are name-mangled, which means their names are modified to make them harder to access. The name-mangling scheme is as follows: <br>a double underscore __ at the beginning of an attribute or method name is replaced with _ClassName, where ClassName is the name of the class."
   ]
  },
  {
   "cell_type": "code",
   "execution_count": 12,
   "id": "74837de3-e53e-491b-ae47-2f4f8c5e10a7",
   "metadata": {
    "tags": []
   },
   "outputs": [
    {
     "name": "stdout",
     "output_type": "stream",
     "text": [
      "21\n",
      "This is a private method.\n"
     ]
    }
   ],
   "source": [
    "# Accessing the private members of the class\n",
    "print(pri_obj._Pri_Student__age)\n",
    "pri_obj._Pri_Student__private_method()"
   ]
  }
 ],
 "metadata": {
  "kernelspec": {
   "display_name": "Python 3 (ipykernel)",
   "language": "python",
   "name": "python3"
  },
  "language_info": {
   "codemirror_mode": {
    "name": "ipython",
    "version": 3
   },
   "file_extension": ".py",
   "mimetype": "text/x-python",
   "name": "python",
   "nbconvert_exporter": "python",
   "pygments_lexer": "ipython3",
   "version": "3.10.9"
  }
 },
 "nbformat": 4,
 "nbformat_minor": 5
}
