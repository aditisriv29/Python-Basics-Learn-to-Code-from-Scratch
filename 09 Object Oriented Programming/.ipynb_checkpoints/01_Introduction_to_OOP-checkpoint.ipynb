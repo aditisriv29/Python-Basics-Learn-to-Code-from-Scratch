{
 "cells": [
  {
   "cell_type": "markdown",
   "id": "04b39a3b-ead5-4103-b122-731e718b3aad",
   "metadata": {},
   "source": [
    "## Introduction to Object Oriented Programming (OOP) \n",
    "Object-Oriented Programming (OOP) is a powerful programming paradigm that allows developers to organize and structure their code in a more intuitive and modular way. It focuses on the creation of objects, which are instances of classes, and the interaction between these objects. Python, being a versatile and dynamic language, fully supports OOP principles and provides robust tools and features to implement them."
   ]
  },
  {
   "cell_type": "markdown",
   "id": "62472844-e3fe-4db9-a175-75918d2dd4b8",
   "metadata": {},
   "source": [
    "<center><img src=\"https://intellipaat.com/mediaFiles/2019/03/python10.png\" style=\"max-width:550px; height: auto\"></center> "
   ]
  },
  {
   "cell_type": "markdown",
   "id": "eb175227-7e73-42fa-8c1b-7a55b025a568",
   "metadata": {},
   "source": [
    "**Why do we use object-oriented programming?**\n",
    "1. Modularity and code reusability.\n",
    "2. Abstraction and encapsulation.\n",
    "3. Organizing and maintaining code.\n",
    "4. Inheritance for code reuse.\n",
    "5. Flexibility through polymorphism.\n",
    "6. Collaboration in team development.\n",
    "7. Scalability and extensibility."
   ]
  },
  {
   "cell_type": "markdown",
   "id": "7311184d-f8ce-4a69-a1dd-324ee0c6064c",
   "metadata": {},
   "source": [
    "### What is an Object?\n",
    "The object is an entity that has a state and behavior associated with it. It may be any real-world object like the mouse, keyboard, chair, table, pen, etc.\n",
    "\n",
    "Integers, strings, floating-point numbers, even arrays, and dictionaries, are all objects. More specifically, any single integer or any single string is an object. The number 12 is an object, the string\"  Hello, world\" is an object, a list is an object that can hold other objects, and so on. You've been using objects all along and may not even realize it."
   ]
  },
  {
   "cell_type": "markdown",
   "id": "1c4b376a-4c36-404e-a30c-2d2297f1eabd",
   "metadata": {
    "tags": []
   },
   "source": [
    "### What is a Class?\n",
    "A class is a blueprint (a plan basically) that isused to define (bind together) a set of variables and methods (Characteristics) that are common to all objects of a particular kind. \n",
    "\n",
    "Example: If Car is a class, then Maruti 800 is an object of the Car class. All cars share similar features like wheels, 1 steeringwheel, windows, breaks, etc. Maruti 800 (the Car object) has all these features."
   ]
  },
  {
   "cell_type": "markdown",
   "id": "64fc440a-b329-42b6-831a-b1762fcc92b7",
   "metadata": {},
   "source": [
    "### Classes vs Objects (Or Instances)"
   ]
  },
  {
   "cell_type": "markdown",
   "id": "8fa9d0d9-4f2a-4867-b55a-deee3ec25905",
   "metadata": {},
   "source": [
    "* Classes are used to create user-defined data structures. Classes define functions called methods , which identify the behaviors and actions that an object created from the class can perform with its data. \n",
    "\n",
    "* In this module, you’ll create a Car class that stores some information about the characteristics and behaviors that an individual Car can have. \n",
    "\n",
    "* A class is a blueprint for how something should be defined. It doesn’t contain any data. The Car class specifies that a name and a top-speed are necessary for defining a Car , but it doesn’t contain the name or top-speed of any specific Car.\n",
    "\n",
    "* While the class is the blueprint, an instance is an object that is built from a class and contains real data. An instance of the Car class is not a blueprint anymore. It’s an actual car with a name , like Creta, and with a top speed  of 200 Km/Hr.\n",
    "\n",
    "* Put another way, a class is like a form or a questionnaire. An instance is like a form that has been filled out with information. Just like many people can fill out the same form with their unique information, many instances can be created from a single class."
   ]
  },
  {
   "cell_type": "markdown",
   "id": "5d83831c-9cbb-4f9f-b02e-41b321cbb28f",
   "metadata": {},
   "source": [
    "### Defining a Class in Python"
   ]
  },
  {
   "cell_type": "code",
   "execution_count": 1,
   "id": "91347b3b-babd-4dd0-a08c-14d234f1c17e",
   "metadata": {
    "tags": []
   },
   "outputs": [],
   "source": [
    "# Creating a car class\n",
    "class Car:\n",
    "    pass"
   ]
  },
  {
   "cell_type": "code",
   "execution_count": 2,
   "id": "bf8f2b81-76ff-4005-938b-4ad25e49a67f",
   "metadata": {
    "tags": []
   },
   "outputs": [],
   "source": [
    "# Creating an instance (object) from that car class\n",
    "car1 = Car\n",
    "# Giving some attribute to the car object\n",
    "car1.name = \"Maruti 800\"\n",
    "car1.topspeed = 120"
   ]
  },
  {
   "cell_type": "code",
   "execution_count": 3,
   "id": "1eb26f00-67b5-4bb2-a81a-11ea43ddaf54",
   "metadata": {
    "tags": []
   },
   "outputs": [
    {
     "name": "stdout",
     "output_type": "stream",
     "text": [
      "The name of the car is Maruti 800\n",
      "The topspeed of the car is 120 Km/h\n"
     ]
    }
   ],
   "source": [
    "# Checking the attribute of the car object\n",
    "print(\"The name of the car is\", car1.name)\n",
    "print(\"The topspeed of the car is\", car1.topspeed, \"Km/h\")"
   ]
  },
  {
   "cell_type": "code",
   "execution_count": 4,
   "id": "1e026e6a-c62d-47bd-a1fc-ebefea67e5c4",
   "metadata": {
    "tags": []
   },
   "outputs": [],
   "source": [
    "# Creating another car object\n",
    "car2 = Car\n",
    "# Giving the attribute to the new car object\n",
    "car2.name = \"Creta\"\n",
    "car2.topspeed = 400\n",
    "car2.color = \"Yellow\""
   ]
  },
  {
   "cell_type": "code",
   "execution_count": 5,
   "id": "128d39c0-1aca-49dd-b0c7-3630746433ce",
   "metadata": {
    "tags": []
   },
   "outputs": [
    {
     "name": "stdout",
     "output_type": "stream",
     "text": [
      "The name of the new car is Creta\n",
      "The topseed of the new car is 400 Km/h\n",
      "The color of the new car is Yellow\n"
     ]
    }
   ],
   "source": [
    "# Checking the attribute of the new car object\n",
    "print(\"The name of the new car is\", car2.name)\n",
    "print(\"The topseed of the new car is\", car2.topspeed, \"Km/h\")\n",
    "print(\"The color of the new car is\", car2.color)"
   ]
  }
 ],
 "metadata": {
  "kernelspec": {
   "display_name": "Python 3 (ipykernel)",
   "language": "python",
   "name": "python3"
  },
  "language_info": {
   "codemirror_mode": {
    "name": "ipython",
    "version": 3
   },
   "file_extension": ".py",
   "mimetype": "text/x-python",
   "name": "python",
   "nbconvert_exporter": "python",
   "pygments_lexer": "ipython3",
   "version": "3.10.9"
  }
 },
 "nbformat": 4,
 "nbformat_minor": 5
}
