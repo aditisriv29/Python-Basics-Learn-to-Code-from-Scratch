{
 "cells": [
  {
   "cell_type": "markdown",
   "id": "bfb529f1-12cf-436a-b8ec-e404acabf8ce",
   "metadata": {},
   "source": [
    "## Polymorphism\n",
    "The literal meaning of polymorphism is the condition of occurrence in different forms. Polymorphism is a very important concept in programming. It refers to the use of a single type entity (method, operator, or object) to represent different types in different scenarios. Let's take a few examples:"
   ]
  },
  {
   "cell_type": "markdown",
   "id": "7b91f912-9ccc-4ec3-903c-fc5f27e01e75",
   "metadata": {},
   "source": [
    "#### Example 1: Polymorphism in addition(+) operator\n",
    "We know that the + operator is used extensively in Python programs. But, it does not have a single usage. For integer data types, the + operator is used to perform an arithmetic addition operation."
   ]
  },
  {
   "cell_type": "code",
   "execution_count": 1,
   "id": "55e7e475-8bef-4e96-9f10-466b5a746dd8",
   "metadata": {
    "tags": []
   },
   "outputs": [
    {
     "name": "stdout",
     "output_type": "stream",
     "text": [
      "15\n"
     ]
    }
   ],
   "source": [
    "a = 5\n",
    "b = 10\n",
    "print(a+b)"
   ]
  },
  {
   "cell_type": "markdown",
   "id": "91208b45-2f69-4488-b88c-174933d17aea",
   "metadata": {},
   "source": [
    "Hence, the above program outputs 15. <br>\n",
    "Similarly, for string data types, the + operator is used to perform concatenation."
   ]
  },
  {
   "cell_type": "code",
   "execution_count": 2,
   "id": "4ceeb7cf-7efa-4013-a915-d5ca75c8f6b0",
   "metadata": {
    "tags": []
   },
   "outputs": [
    {
     "name": "stdout",
     "output_type": "stream",
     "text": [
      "GeoNext\n"
     ]
    }
   ],
   "source": [
    "str1 = \"Geo\"\n",
    "str2 = \"Next\"\n",
    "print(str1 + str2)"
   ]
  },
  {
   "cell_type": "markdown",
   "id": "33455cdf-e5e0-4e92-8d28-ab1d3d4ce800",
   "metadata": {},
   "source": [
    "As a result, the above program outputs \"GeoNext\". <br>\n",
    "Here, we can see that a single operator + has been used to carry out different operations for distinct data tvpes. This is one of the most simple occurrences of polymorphism in Python."
   ]
  },
  {
   "cell_type": "markdown",
   "id": "b11a0dae-ccf7-4e3a-ac5a-6e744e5d5b04",
   "metadata": {},
   "source": [
    "#### Example 2: Functional Polymorphism in Python\n",
    "There are some functions in Python which are compatible to run with multiple data types.\n",
    "One such function is the len() function. It can run with many data types in Python. Let's look at some example use cases of the function:"
   ]
  },
  {
   "cell_type": "code",
   "execution_count": 3,
   "id": "7bb85ec2-f0ae-4957-affa-22831665b327",
   "metadata": {
    "tags": []
   },
   "outputs": [
    {
     "name": "stdout",
     "output_type": "stream",
     "text": [
      "7\n",
      "5\n",
      "2\n"
     ]
    }
   ],
   "source": [
    "print(len(\"GeoNext\"))\n",
    "print(len([1, 2, 4, 2, 7]))\n",
    "print(len({\"a\": 1, \"b\": 2}))"
   ]
  },
  {
   "cell_type": "markdown",
   "id": "7d5483fa-7b4e-4230-9a7d-59450f2be90d",
   "metadata": {},
   "source": [
    "Here, we can see that many data types such as string, list, tuple, set, and dictionary can work with the len() function. However, we can see that it returns specific information(the length) about the specific data types."
   ]
  },
  {
   "cell_type": "markdown",
   "id": "c1b048fc-fc9c-4884-83d3-5ec8751d685b",
   "metadata": {},
   "source": [
    "### Class Polymorphism in Python\n",
    "Polymorphism is a very important concept in Object-Oriented Programming. We can use the concept of polymorphism while creating class methods as Python allows different classes to have methods with the same name.\n",
    "\n",
    "We can then later generalize calling these methods by disregarding the object we are working with.\n",
    "Let's look at an example:"
   ]
  },
  {
   "cell_type": "code",
   "execution_count": 4,
   "id": "c2c4c0dd-a169-4558-92de-a56f0cc09dc1",
   "metadata": {
    "tags": []
   },
   "outputs": [],
   "source": [
    "# Creating a Male class\n",
    "class Male:\n",
    "    def __init__(self, name, age):\n",
    "        self.name = name\n",
    "        self.age = age\n",
    "        \n",
    "    def info(self):\n",
    "        print(\"Hi, I am a Male.\")\n",
    "        print(f\"My name is {self.name}.\")\n",
    "        print(f\"I am {self.age} years old.\")\n",
    "        \n",
    "# Creating a Female class\n",
    "class Female:\n",
    "    def __init__(self, name, age):\n",
    "        self.name = name\n",
    "        self.age = age\n",
    "        \n",
    "    def info(self):\n",
    "        print(\"Hi, I am a Female.\")\n",
    "        print(f\"My name is {self.name}.\")\n",
    "        print(f\"I am {self.age} years old.\")"
   ]
  },
  {
   "cell_type": "code",
   "execution_count": 5,
   "id": "60042e73-4781-4e28-875f-3dda951bb366",
   "metadata": {
    "tags": []
   },
   "outputs": [],
   "source": [
    "# Creating instances\n",
    "male1 = Male(\"Bijay Bose\", 48)\n",
    "female1 = Female(\"Puja Bose\", 45)"
   ]
  },
  {
   "cell_type": "code",
   "execution_count": 6,
   "id": "a7af8c01-e4dc-4e07-a0ef-d5067e660622",
   "metadata": {
    "tags": []
   },
   "outputs": [
    {
     "name": "stdout",
     "output_type": "stream",
     "text": [
      "Hi, I am a Male.\n",
      "My name is Bijay Bose.\n",
      "I am 48 years old.\n",
      "\n",
      "\n",
      "Hi, I am a Female.\n",
      "My name is Puja Bose.\n",
      "I am 45 years old.\n",
      "\n",
      "\n"
     ]
    }
   ],
   "source": [
    "# Running a loop over the set of objects\n",
    "# Calling the info() function common to both\n",
    "for human in (male1, female1):\n",
    "    human.info()\n",
    "    print(\"\\n\")"
   ]
  },
  {
   "cell_type": "markdown",
   "id": "8daf7a1d-c852-47f7-b6c4-6a17aeda3520",
   "metadata": {},
   "source": [
    "Here, we have created two classes Male and Female. They share a similar structure and have the same method info(). However, notice that we have not created a common superclass or linked the classes together in any way. Even then, we can pack these two different objects into a tuple and iterate through them using a common human variable. It is possible due to polymorphism. We can call both the info() methods by just using human.info () call, where human is first male1 (Instance of Male) and then female1 (Instance of Female)."
   ]
  },
  {
   "cell_type": "markdown",
   "id": "331e09d4-8214-4af3-83ad-a7e96adc82dd",
   "metadata": {},
   "source": [
    "### Polymorphism and Inheritance\n",
    "Like in other programming languages, the child classes in Python also inherit methods and attributes from the parent class. We can redefine certain methods and attributes specifically to fit the child class, which is known as **Method Overriding**.\n",
    "\n",
    "Polymorphism allows us to access these overridden methods and attributes that have the same name as the parent class. Let's look at an example:"
   ]
  },
  {
   "cell_type": "code",
   "execution_count": 7,
   "id": "b94f7e60-a5d1-4497-9f33-74e5cc50ff5d",
   "metadata": {
    "tags": []
   },
   "outputs": [],
   "source": [
    "# Creating a Human Class (Parent / Super class)\n",
    "class Human:\n",
    "    def __init__(self, name):\n",
    "        self.name = name\n",
    "        \n",
    "    def info(self):\n",
    "        print(f\"Hi, I am {self.name}.\")\n",
    "        \n",
    "# Creating a Male Class (Child / Sub class)\n",
    "class Male(Human):\n",
    "    def __init__(self, name, age):\n",
    "        super().__init__(name)\n",
    "        self.age = age\n",
    "    \n",
    "    def info(self):\n",
    "        print(f\"Hi, I am  {self.name}.\")\n",
    "        print(f\"I am {self.age} years old.\")\n",
    "        print(\"I am a Male.\")\n",
    "        \n",
    "# Creating a Female Class (Child / Sub class)\n",
    "class Female(Human):\n",
    "    def __init__(self, name, age):\n",
    "        super().__init__(name)\n",
    "        self.age = age\n",
    "        \n",
    "    def info(self):\n",
    "        print(f\"Hi, I am  {self.name}.\")\n",
    "        print(f\"I am {self.age} years old.\")\n",
    "        print(\"I am a Female.\")\n",
    "        "
   ]
  },
  {
   "cell_type": "code",
   "execution_count": 8,
   "id": "62a2b2a9-2678-442a-a7c7-d01aeaf57c52",
   "metadata": {
    "tags": []
   },
   "outputs": [],
   "source": [
    "# Creating instances\n",
    "human1 = Human(\"Aakash Dutta\")\n",
    "male1 = Male(\"Dipesh Sigha\", 28)\n",
    "female1 = Female(\"Sayani Sengupta\", 25)"
   ]
  },
  {
   "cell_type": "code",
   "execution_count": 9,
   "id": "18aa4c59-99c2-421f-b247-2727e11c82c4",
   "metadata": {
    "tags": []
   },
   "outputs": [
    {
     "name": "stdout",
     "output_type": "stream",
     "text": [
      "Hi, I am Aakash Dutta.\n",
      "\n",
      "\n",
      "Hi, I am  Dipesh Sigha.\n",
      "I am 28 years old.\n",
      "I am a Male.\n",
      "\n",
      "\n",
      "Hi, I am  Sayani Sengupta.\n",
      "I am 25 years old.\n",
      "I am a Female.\n",
      "\n",
      "\n"
     ]
    }
   ],
   "source": [
    "# Running a loop over the set of objects\n",
    "# Calling the info() function common to all the classes\n",
    "for human in (human1, male1, female1):\n",
    "    human.info()\n",
    "    print(\"\\n\")"
   ]
  },
  {
   "cell_type": "markdown",
   "id": "c8c761e7-8e4a-41a1-adf9-b4d250e50365",
   "metadata": {},
   "source": [
    "Due to polymorphism, the Python interpreter automatically recognizes that the info() method for object male1 (Male class) is overridden. So, it uses the one defined in the subclass Male. Same with the object female1 (Female Class).\n",
    "\n",
    "**Note:** Method Overloading, a way to create multiple methods with the same name but different arguments, is not possible in Python."
   ]
  }
 ],
 "metadata": {
  "kernelspec": {
   "display_name": "Python 3 (ipykernel)",
   "language": "python",
   "name": "python3"
  },
  "language_info": {
   "codemirror_mode": {
    "name": "ipython",
    "version": 3
   },
   "file_extension": ".py",
   "mimetype": "text/x-python",
   "name": "python",
   "nbconvert_exporter": "python",
   "pygments_lexer": "ipython3",
   "version": "3.10.9"
  }
 },
 "nbformat": 4,
 "nbformat_minor": 5
}
