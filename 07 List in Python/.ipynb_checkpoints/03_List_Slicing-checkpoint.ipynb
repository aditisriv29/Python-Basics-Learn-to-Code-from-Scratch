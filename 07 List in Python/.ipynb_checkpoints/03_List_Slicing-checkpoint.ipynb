{
 "cells": [
  {
   "cell_type": "markdown",
   "id": "6c7efd90-0b3a-4423-9650-21743e396dcb",
   "metadata": {},
   "source": [
    "## List Slicing\n",
    "List slicing is a powerful feature in Python that allows you to extract a portion of a list or create a new list containing a subset of elements from an existing list. Slicing provides a concise and flexible way to work with lists and access specific elements based on their indices."
   ]
  },
  {
   "cell_type": "markdown",
   "id": "0d225348-27a7-4251-b5fb-c4af75ed1f15",
   "metadata": {},
   "source": [
    "### Basic List Slicing\n",
    "List slicing is performed using the colon (:) operator, which allows you to specify the start and end indices of the slice. The start index is inclusive, while the end index is exclusive, meaning that the element at the end index is not included in the slice."
   ]
  },
  {
   "cell_type": "code",
   "execution_count": 1,
   "id": "e9344815-3618-4829-b492-f25b81c6ea82",
   "metadata": {},
   "outputs": [
    {
     "data": {
      "text/plain": [
       "[1, 2, 3, 4]"
      ]
     },
     "execution_count": 1,
     "metadata": {},
     "output_type": "execute_result"
    }
   ],
   "source": [
    "my_nums = [1, 2, 3, 4, 5, 6]\n",
    "sliced_nums = my_nums[0:4]\n",
    "sliced_nums"
   ]
  },
  {
   "cell_type": "markdown",
   "id": "71f64b8f-f54e-42e9-9660-9e65a49c02a2",
   "metadata": {},
   "source": [
    "### Slicing with Step\n",
    "You can also specify a step size while slicing a list. The step size determines the interval between elements in the resulting slice."
   ]
  },
  {
   "cell_type": "code",
   "execution_count": 2,
   "id": "38647d60-129b-4f76-b215-98c4d266a67a",
   "metadata": {},
   "outputs": [
    {
     "data": {
      "text/plain": [
       "[1, 2, 3, 4, 5, 6]"
      ]
     },
     "execution_count": 2,
     "metadata": {},
     "output_type": "execute_result"
    }
   ],
   "source": [
    "my_nums"
   ]
  },
  {
   "cell_type": "code",
   "execution_count": 5,
   "id": "8e55b239-c4d1-4ba3-bf7c-37f8149d2b3b",
   "metadata": {},
   "outputs": [
    {
     "data": {
      "text/plain": [
       "[1, 3, 5]"
      ]
     },
     "execution_count": 5,
     "metadata": {},
     "output_type": "execute_result"
    }
   ],
   "source": [
    "sliced_nums_with_step = my_nums[0:5:2]\n",
    "sliced_nums_with_step"
   ]
  },
  {
   "cell_type": "markdown",
   "id": "a13f3be6-6438-406f-b720-563572f2c9e3",
   "metadata": {},
   "source": [
    "### Negative Indexing\n",
    "Python allows negative indexing, which means you can access elements from the end of the list by using negative indices. The last element has an index of -1, the second-last element has an index of -2, and so on."
   ]
  },
  {
   "cell_type": "code",
   "execution_count": 8,
   "id": "bdbbac26-626c-45c3-8bd0-8b87c9442400",
   "metadata": {},
   "outputs": [
    {
     "data": {
      "text/plain": [
       "6"
      ]
     },
     "execution_count": 8,
     "metadata": {},
     "output_type": "execute_result"
    }
   ],
   "source": [
    "last_num = my_nums[-1]\n",
    "last_num"
   ]
  },
  {
   "cell_type": "code",
   "execution_count": 11,
   "id": "e2b87fb0-0cbe-4142-ac75-e372d559f8ad",
   "metadata": {},
   "outputs": [
    {
     "data": {
      "text/plain": [
       "[3, 4]"
      ]
     },
     "execution_count": 11,
     "metadata": {},
     "output_type": "execute_result"
    }
   ],
   "source": [
    "sliced_num_neg_index = my_nums[-4: -2]\n",
    "sliced_num_neg_index"
   ]
  },
  {
   "cell_type": "markdown",
   "id": "643d3fe0-df1f-451e-8d28-6dc3fa016d64",
   "metadata": {},
   "source": [
    "### Slicing and Assignment\n",
    "List slicing can also be used to modify a slice of a list by assigning new values to the slice."
   ]
  },
  {
   "cell_type": "code",
   "execution_count": 12,
   "id": "3c134e90-a53d-45c9-a946-afed54151440",
   "metadata": {},
   "outputs": [
    {
     "data": {
      "text/plain": [
       "[1, 2, 3, 4, 5, 6]"
      ]
     },
     "execution_count": 12,
     "metadata": {},
     "output_type": "execute_result"
    }
   ],
   "source": [
    "my_nums"
   ]
  },
  {
   "cell_type": "code",
   "execution_count": 13,
   "id": "78b21ab1-f228-4c88-9a3d-8d939807443c",
   "metadata": {},
   "outputs": [
    {
     "data": {
      "text/plain": [
       "[7, 8, 9, 4, 5, 6]"
      ]
     },
     "execution_count": 13,
     "metadata": {},
     "output_type": "execute_result"
    }
   ],
   "source": [
    "my_nums[0:3] = [7, 8, 9]\n",
    "my_nums"
   ]
  }
 ],
 "metadata": {
  "kernelspec": {
   "display_name": "Python 3 (ipykernel)",
   "language": "python",
   "name": "python3"
  },
  "language_info": {
   "codemirror_mode": {
    "name": "ipython",
    "version": 3
   },
   "file_extension": ".py",
   "mimetype": "text/x-python",
   "name": "python",
   "nbconvert_exporter": "python",
   "pygments_lexer": "ipython3",
   "version": "3.10.10"
  }
 },
 "nbformat": 4,
 "nbformat_minor": 5
}
