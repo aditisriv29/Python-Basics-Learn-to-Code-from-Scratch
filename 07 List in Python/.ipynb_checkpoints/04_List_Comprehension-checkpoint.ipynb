{
 "cells": [
  {
   "cell_type": "markdown",
   "id": "21eadec4-5dfc-4edc-86d8-2a45a29edd34",
   "metadata": {},
   "source": [
    "## List Comprehension"
   ]
  },
  {
   "cell_type": "markdown",
   "id": "c6b35464-4812-4db4-811b-b0706057aeb9",
   "metadata": {},
   "source": [
    "List comprehension is a concise and elegant way of creating new lists based on existing lists. A list comprehension consists of an expression followed by **for** statement inside square brackets.\n",
    "\n",
    "**Syntax**<br>\n",
    "newList = [\"expression\" for \"item\" in iterable]"
   ]
  },
  {
   "cell_type": "markdown",
   "id": "4a198fa2-1871-483c-acec-5acac95ca1c5",
   "metadata": {},
   "source": [
    "### Example"
   ]
  },
  {
   "cell_type": "code",
   "execution_count": 4,
   "id": "88149998-eaf0-440b-910c-b1dc7b379c54",
   "metadata": {
    "tags": []
   },
   "outputs": [
    {
     "name": "stdout",
     "output_type": "stream",
     "text": [
      "[1, 2, 4, 8, 16, 32, 64, 128, 256, 512]\n"
     ]
    }
   ],
   "source": [
    "pow2 = [2 ** x for x in range(10)]\n",
    "print(pow2)"
   ]
  },
  {
   "cell_type": "code",
   "execution_count": 5,
   "id": "69e572d3-2a6a-491e-b671-c51c0a84f4dd",
   "metadata": {
    "tags": []
   },
   "outputs": [
    {
     "name": "stdout",
     "output_type": "stream",
     "text": [
      "[1, 2, 4, 8, 16, 32, 64, 128, 256, 512]\n"
     ]
    }
   ],
   "source": [
    "# The above code can be written in this way as well\n",
    "pow2 = []\n",
    "for i in range(10):\n",
    "    pow2.append(2 ** i)\n",
    "print(pow2)"
   ]
  },
  {
   "cell_type": "code",
   "execution_count": 6,
   "id": "c852b606-3027-4bd3-974f-57267e94178a",
   "metadata": {
    "tags": []
   },
   "outputs": [
    {
     "name": "stdout",
     "output_type": "stream",
     "text": [
      "[1, 3, 5, 7, 9]\n"
     ]
    }
   ],
   "source": [
    "# We can use other expression to modify and create a new list\n",
    "newList = [x for x in range(10) if x % 2 == 1]\n",
    "print(newList)"
   ]
  }
 ],
 "metadata": {
  "kernelspec": {
   "display_name": "Python 3 (ipykernel)",
   "language": "python",
   "name": "python3"
  },
  "language_info": {
   "codemirror_mode": {
    "name": "ipython",
    "version": 3
   },
   "file_extension": ".py",
   "mimetype": "text/x-python",
   "name": "python",
   "nbconvert_exporter": "python",
   "pygments_lexer": "ipython3",
   "version": "3.9.16"
  }
 },
 "nbformat": 4,
 "nbformat_minor": 5
}
