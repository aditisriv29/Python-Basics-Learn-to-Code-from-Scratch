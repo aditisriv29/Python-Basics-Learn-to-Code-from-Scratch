{
 "cells": [
  {
   "cell_type": "markdown",
   "id": "29a4ab30-710d-41a0-bbc3-7d734bbba80b",
   "metadata": {},
   "source": [
    "## Two-Dimensional(2-D) List"
   ]
  },
  {
   "cell_type": "markdown",
   "id": "08891c60-934f-4a6b-b9b7-87741da1907a",
   "metadata": {},
   "source": [
    "A two-dimensional list is a list of lists where each list within the main list represents a row of data. Two-dimensional lists are commonly used in data analysis and scientific computing to represent matrices and tables."
   ]
  },
  {
   "cell_type": "markdown",
   "id": "8a1978d1-2b70-4641-9b85-77a83763dc2e",
   "metadata": {},
   "source": [
    "### Creating a Two-Dimensional List\n",
    "Consider an example of recording test scores of 4 students, in 4 subjects. Such data can be represented as a two-dimensional list"
   ]
  },
  {
   "cell_type": "code",
   "execution_count": 1,
   "id": "94166b07-5e94-4a10-a4cb-534a79dae263",
   "metadata": {
    "tags": []
   },
   "outputs": [],
   "source": [
    "student1 = [9, 8, 6, 5]\n",
    "student2 = [8, 10, 4, 7]\n",
    "student3 = [7, 3, 8, 9]\n",
    "student4 = [10, 8, 7, 9]"
   ]
  },
  {
   "cell_type": "code",
   "execution_count": 2,
   "id": "a6f6cff4-e7e9-4352-bb81-01e04b7ac953",
   "metadata": {
    "tags": []
   },
   "outputs": [
    {
     "name": "stdout",
     "output_type": "stream",
     "text": [
      "[[9, 8, 6, 5], [8, 10, 4, 7], [7, 3, 8, 9], [10, 8, 7, 9]]\n"
     ]
    }
   ],
   "source": [
    "marks_of_students = [student1, student2, student3, student4]\n",
    "print(marks_of_students)"
   ]
  },
  {
   "cell_type": "markdown",
   "id": "d1337c1b-e719-49a7-ba10-cf8b2f8db418",
   "metadata": {},
   "source": [
    "### Accessing Values in a Two-Dimensional List\n",
    "To access an element in a two-dimensional list, we use the row and column indices of the element. The row index specifies the inner list, and the column index specifies the position within the inner list."
   ]
  },
  {
   "cell_type": "code",
   "execution_count": 3,
   "id": "abd9c86a-e79e-4b85-8014-87133b3f2bce",
   "metadata": {
    "tags": []
   },
   "outputs": [
    {
     "name": "stdout",
     "output_type": "stream",
     "text": [
      "[9, 8, 6, 5]\n",
      "6\n"
     ]
    }
   ],
   "source": [
    "# List at index 0 in marks_of_students\n",
    "print(marks_of_students[0])\n",
    "\n",
    "# Element at index 2 in list at index 0\n",
    "print(marks_of_students[0][2])"
   ]
  },
  {
   "cell_type": "markdown",
   "id": "62711f25-1c93-45cd-914d-5d629d59d7c1",
   "metadata": {},
   "source": [
    "### Input of Two-Dimensional List\n",
    "We can also input data into a two-dimensional list from user input using loops and the input function. We will discuss two common ways of taking user input:\n",
    "* Line Separated Input: Different rows in different lines.\n",
    "* Space Separated Input: Taking input in a single line."
   ]
  },
  {
   "cell_type": "markdown",
   "id": "7c607c93-ea04-4c64-a1c1-807737a0e2f1",
   "metadata": {},
   "source": [
    "#### Line Separated Input"
   ]
  },
  {
   "cell_type": "code",
   "execution_count": 4,
   "id": "16a09006-dd1e-466d-8a93-a981a6886827",
   "metadata": {
    "tags": []
   },
   "outputs": [
    {
     "name": "stdin",
     "output_type": "stream",
     "text": [
      " 4\n",
      " 8 6 7\n",
      " 4 6 9\n",
      " 1 9 3\n",
      " 2 4 6\n"
     ]
    },
    {
     "name": "stdout",
     "output_type": "stream",
     "text": [
      "[[8, 6, 7], [4, 6, 9], [1, 9, 3], [2, 4, 6]]\n"
     ]
    }
   ],
   "source": [
    "# Number of rows\n",
    "n = int(input())\n",
    "inputList = [[int(col) for col in input().split()] for row in range(n)]\n",
    "print(inputList)"
   ]
  },
  {
   "cell_type": "markdown",
   "id": "8e5f4de8-303a-4f88-a21c-db3f01d1fc79",
   "metadata": {},
   "source": [
    "#### Space Separated Input"
   ]
  },
  {
   "cell_type": "code",
   "execution_count": 5,
   "id": "f11e4d4f-cb43-49f4-8ea3-634e8264971b",
   "metadata": {
    "tags": []
   },
   "outputs": [
    {
     "name": "stdin",
     "output_type": "stream",
     "text": [
      " 4\n",
      " 4\n",
      " 1 2 3 4 5 6 7 8 9 10 11 12 13 14 15 16\n"
     ]
    },
    {
     "name": "stdout",
     "output_type": "stream",
     "text": [
      "[[1, 2, 3, 4], [5, 6, 7, 8], [9, 10, 11, 12], [13, 14, 15, 16]]\n"
     ]
    }
   ],
   "source": [
    "# Number of rows\n",
    "row = int(input())\n",
    "\n",
    "# Number of columns\n",
    "col = int(input())\n",
    "\n",
    "# Converting input string to list\n",
    "inputList = input().split(\" \") \n",
    "\n",
    "finalList = [[int(inputList[i*col+j])for j in range(col)]for i in range(row)]\n",
    "\n",
    "print(finalList)"
   ]
  },
  {
   "cell_type": "markdown",
   "id": "a6449c87-3d52-4bc5-ab00-4e98268dfb8b",
   "metadata": {},
   "source": [
    "### Printing in Multiple Lines Like a Matrix\n",
    "We can use a nested for loops to print a 2-D List. The outer loop iterates over the rows and the inner loop will itearte over columns."
   ]
  },
  {
   "cell_type": "code",
   "execution_count": 6,
   "id": "aefb831b-726f-4f64-8db5-0631c2ddc093",
   "metadata": {
    "tags": []
   },
   "outputs": [
    {
     "name": "stdout",
     "output_type": "stream",
     "text": [
      "1 2 3 4 \n",
      "5 6 7 8 \n",
      "9 10 11 12 \n",
      "13 14 15 16 \n"
     ]
    }
   ],
   "source": [
    "myList = [[1, 2, 3, 4], [5, 6, 7, 8], [9, 10, 11, 12], [13, 14, 15, 16]]\n",
    "\n",
    "# Iterate in row of 2-D List\n",
    "for row in myList:\n",
    "    for col in row:\n",
    "        print(col, end=\" \")\n",
    "    print()"
   ]
  },
  {
   "cell_type": "markdown",
   "id": "071597a2-4468-458b-81fd-ea87baebdd7a",
   "metadata": {},
   "source": [
    "### Concept of Jagged Lists\n",
    "In Python, a jagged list is a list of lists where the sublists may have different lengths. Jagged lists are useful when we need to store data that is not necessarily uniform or when we want to conserve memory by not allocating space for unused elements. Jagged lists are commonly used in data science, natural language processing, and machine learning."
   ]
  },
  {
   "cell_type": "code",
   "execution_count": 7,
   "id": "ac208a9d-0db2-449b-a11c-7299e2239b91",
   "metadata": {
    "tags": []
   },
   "outputs": [],
   "source": [
    "jgList1 = [[1, 2, 3], 4, 5, [6, 7], [8, 9, 10]]\n",
    "jgList2 = [[10, 11, 12], [18, 19], [20, 22, 23, 24], [10, 12]]"
   ]
  },
  {
   "cell_type": "code",
   "execution_count": 8,
   "id": "d375e38e-f357-41ec-adaa-84a2318fd4c2",
   "metadata": {
    "tags": []
   },
   "outputs": [
    {
     "name": "stdout",
     "output_type": "stream",
     "text": [
      "[6, 7]\n",
      "[20, 22, 23, 24]\n"
     ]
    }
   ],
   "source": [
    "print(jgList1[3])\n",
    "print(jgList2[2])"
   ]
  },
  {
   "cell_type": "code",
   "execution_count": 9,
   "id": "b335433d-a7f4-4d3d-af24-494e1d27fcba",
   "metadata": {
    "tags": []
   },
   "outputs": [
    {
     "name": "stdout",
     "output_type": "stream",
     "text": [
      "1\n"
     ]
    }
   ],
   "source": [
    "a = [1, 2, 3, 4]\n",
    "print(a.index(2))"
   ]
  }
 ],
 "metadata": {
  "kernelspec": {
   "display_name": "Python 3 (ipykernel)",
   "language": "python",
   "name": "python3"
  },
  "language_info": {
   "codemirror_mode": {
    "name": "ipython",
    "version": 3
   },
   "file_extension": ".py",
   "mimetype": "text/x-python",
   "name": "python",
   "nbconvert_exporter": "python",
   "pygments_lexer": "ipython3",
   "version": "3.10.10"
  }
 },
 "nbformat": 4,
 "nbformat_minor": 5
}
