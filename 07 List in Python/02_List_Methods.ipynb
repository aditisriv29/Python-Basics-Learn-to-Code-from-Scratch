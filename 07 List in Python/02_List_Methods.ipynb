{
 "cells": [
  {
   "cell_type": "markdown",
   "id": "45fe4224-e940-44f0-93f0-3157c4230964",
   "metadata": {
    "tags": []
   },
   "source": [
    "## List Methods\n",
    "In Python, a list is a versatile and commonly used data structure that allows you to store a collection of items. Lists can contain elements of different types, such as integers, strings, or even other lists. Python provides several built-in methods that allow you to perform various operations on lists efficiently."
   ]
  },
  {
   "cell_type": "code",
   "execution_count": 1,
   "id": "aea51bd6-fd79-42fe-af47-2bc23a22b54d",
   "metadata": {},
   "outputs": [],
   "source": [
    "myLst1 = [1, 2, 3, 4]\n",
    "myLst2 = [5, 6, 7, 8]"
   ]
  },
  {
   "cell_type": "markdown",
   "id": "31d7c9a7-62e1-4cd1-ad58-52bf4e4f2293",
   "metadata": {},
   "source": [
    "### Accessing and Modifying List Elements"
   ]
  },
  {
   "cell_type": "markdown",
   "id": "28abd640-c068-49f9-949a-7c2fd3986a11",
   "metadata": {},
   "source": [
    "### append()\n",
    "The append() method allows you to add an element to the end of a list."
   ]
  },
  {
   "cell_type": "code",
   "execution_count": 2,
   "id": "565946d4-42d0-4c88-a02c-8919f0dcb3ee",
   "metadata": {},
   "outputs": [
    {
     "data": {
      "text/plain": [
       "[5, 6, 7, 8, 9]"
      ]
     },
     "execution_count": 2,
     "metadata": {},
     "output_type": "execute_result"
    }
   ],
   "source": [
    "myLst2.append(9)\n",
    "myLst2"
   ]
  },
  {
   "cell_type": "markdown",
   "id": "c0f7c8f6-8644-46ff-bae1-06ca58e010ef",
   "metadata": {},
   "source": [
    "### insert()\n",
    "The insert() method allows you to insert an element at a specific position in the list."
   ]
  },
  {
   "cell_type": "code",
   "execution_count": 3,
   "id": "3898abc2-8596-4bbe-b75b-e12839ad314d",
   "metadata": {},
   "outputs": [
    {
     "data": {
      "text/plain": [
       "[0, 1, 2, 3, 4]"
      ]
     },
     "execution_count": 3,
     "metadata": {},
     "output_type": "execute_result"
    }
   ],
   "source": [
    "myLst1.insert(0, 0)\n",
    "myLst1"
   ]
  },
  {
   "cell_type": "markdown",
   "id": "aadc05cc-c8be-40a4-8d10-5a6905991bfc",
   "metadata": {},
   "source": [
    "### extend()\n",
    "The extend() method is used to append elements from another list to the end of the current list."
   ]
  },
  {
   "cell_type": "code",
   "execution_count": 4,
   "id": "259bbc0d-636e-4c7c-8c05-33300c904343",
   "metadata": {},
   "outputs": [
    {
     "name": "stdout",
     "output_type": "stream",
     "text": [
      "['Mango', 'Orange', 'Watermelon', 'Grapes']\n",
      "['Watermelon', 'Grapes']\n"
     ]
    }
   ],
   "source": [
    "f1 = [\"Mango\", \"Orange\"]\n",
    "f2 = [\"Watermelon\", \"Grapes\"]\n",
    "f1.extend(f2)\n",
    "print(f1)\n",
    "print(f2)"
   ]
  },
  {
   "cell_type": "markdown",
   "id": "abcc5374-5181-46ba-961c-4cb0e271e506",
   "metadata": {},
   "source": [
    "### remove()\n",
    "The remove() method removes the first occurrence of a specified element from the list."
   ]
  },
  {
   "cell_type": "code",
   "execution_count": 5,
   "id": "a663865f-7e99-45b7-91f4-beb05c7780cf",
   "metadata": {},
   "outputs": [
    {
     "data": {
      "text/plain": [
       "['Mango', 'Orange', 'Watermelon', 'Grapes']"
      ]
     },
     "execution_count": 5,
     "metadata": {},
     "output_type": "execute_result"
    }
   ],
   "source": [
    "f1"
   ]
  },
  {
   "cell_type": "code",
   "execution_count": 6,
   "id": "2388da88-d184-4e3c-afec-a2616cedffbb",
   "metadata": {},
   "outputs": [
    {
     "data": {
      "text/plain": [
       "['Mango', 'Orange', 'Watermelon']"
      ]
     },
     "execution_count": 6,
     "metadata": {},
     "output_type": "execute_result"
    }
   ],
   "source": [
    "f1.remove(\"Grapes\")\n",
    "f1"
   ]
  },
  {
   "cell_type": "markdown",
   "id": "8aea7e15-8fe2-4372-847d-e271ddce36b2",
   "metadata": {},
   "source": [
    "### pop()\n",
    "The pop() method removes and returns an element at a specific index in the list. If no index is provided, it removes the last element."
   ]
  },
  {
   "cell_type": "code",
   "execution_count": 7,
   "id": "653dd91e-8cb5-4c9e-aede-36aac4c60d9f",
   "metadata": {},
   "outputs": [
    {
     "data": {
      "text/plain": [
       "['Mango', 'Orange', 'Watermelon']"
      ]
     },
     "execution_count": 7,
     "metadata": {},
     "output_type": "execute_result"
    }
   ],
   "source": [
    "f1"
   ]
  },
  {
   "cell_type": "code",
   "execution_count": 8,
   "id": "8e12e7c5-01f1-4e1a-b242-3ea7f435d3c7",
   "metadata": {},
   "outputs": [
    {
     "data": {
      "text/plain": [
       "['Mango', 'Watermelon']"
      ]
     },
     "execution_count": 8,
     "metadata": {},
     "output_type": "execute_result"
    }
   ],
   "source": [
    "f1.pop(1)\n",
    "f1"
   ]
  },
  {
   "cell_type": "markdown",
   "id": "5f44ada3-f701-4b55-b1fe-45a9575cf690",
   "metadata": {},
   "source": [
    "### index()\n",
    "The index() method returns the index of the first occurrence of a specified element in the list."
   ]
  },
  {
   "cell_type": "code",
   "execution_count": 11,
   "id": "17039260-29fc-40e5-bb5f-ed13fd9de68f",
   "metadata": {},
   "outputs": [],
   "source": [
    "lst1 = [1, 2, 5, 7, 1, 5]"
   ]
  },
  {
   "cell_type": "code",
   "execution_count": 15,
   "id": "43104d51-f6f8-485f-aef5-484b6f93a4e1",
   "metadata": {},
   "outputs": [
    {
     "data": {
      "text/plain": [
       "2"
      ]
     },
     "execution_count": 15,
     "metadata": {},
     "output_type": "execute_result"
    }
   ],
   "source": [
    "lst1.index(5)"
   ]
  },
  {
   "cell_type": "markdown",
   "id": "98c94e6b-f208-425f-bb3a-5a4de5291a4b",
   "metadata": {},
   "source": [
    "### count()\n",
    "The count() method returns the number of occurrences of a specified element in the list."
   ]
  },
  {
   "cell_type": "code",
   "execution_count": 16,
   "id": "6b9fdc91-cbee-4259-93b8-14059a560a35",
   "metadata": {},
   "outputs": [
    {
     "data": {
      "text/plain": [
       "[1, 2, 5, 7, 1, 5]"
      ]
     },
     "execution_count": 16,
     "metadata": {},
     "output_type": "execute_result"
    }
   ],
   "source": [
    "lst1"
   ]
  },
  {
   "cell_type": "code",
   "execution_count": 19,
   "id": "a69e4d00-86d0-42ec-9033-141a1c778039",
   "metadata": {},
   "outputs": [
    {
     "data": {
      "text/plain": [
       "2"
      ]
     },
     "execution_count": 19,
     "metadata": {},
     "output_type": "execute_result"
    }
   ],
   "source": [
    "lst1.count(5)"
   ]
  },
  {
   "cell_type": "markdown",
   "id": "d2058020-5942-4f98-8b29-4991e66e4d3e",
   "metadata": {},
   "source": [
    "## Sorting and Reversing Lists"
   ]
  },
  {
   "cell_type": "markdown",
   "id": "50b1e793-6beb-4d6a-b368-2654fcc82c98",
   "metadata": {},
   "source": [
    "### sort()\n",
    "The sort() method sorts the list in ascending order. It modifies the original list and does not return a new sorted list."
   ]
  },
  {
   "cell_type": "code",
   "execution_count": 20,
   "id": "6e0af5a4-75a1-4f01-b11e-e74fc7534afe",
   "metadata": {},
   "outputs": [
    {
     "data": {
      "text/plain": [
       "[1, 2, 5, 7, 1, 5]"
      ]
     },
     "execution_count": 20,
     "metadata": {},
     "output_type": "execute_result"
    }
   ],
   "source": [
    "lst1"
   ]
  },
  {
   "cell_type": "code",
   "execution_count": 27,
   "id": "a9ebd47e-3bf2-4170-b950-75144ef06a40",
   "metadata": {},
   "outputs": [
    {
     "data": {
      "text/plain": [
       "[1, 1, 2, 5, 5, 7]"
      ]
     },
     "execution_count": 27,
     "metadata": {},
     "output_type": "execute_result"
    }
   ],
   "source": [
    "lst1.sort()\n",
    "lst1"
   ]
  },
  {
   "cell_type": "code",
   "execution_count": 24,
   "id": "92ef1d6b-66a6-49be-af17-4205c2b1777e",
   "metadata": {},
   "outputs": [
    {
     "data": {
      "text/plain": [
       "['a', 'b', 'c']"
      ]
     },
     "execution_count": 24,
     "metadata": {},
     "output_type": "execute_result"
    }
   ],
   "source": [
    "lst2 = [\"a\", \"c\", \"b\"]\n",
    "lst2.sort()\n",
    "lst2"
   ]
  },
  {
   "cell_type": "markdown",
   "id": "81c04a2d-3a67-455c-8461-2f136c70b342",
   "metadata": {},
   "source": [
    "### reverse()\n",
    "The reverse() method reverses the order of elements in the list. It modifies the original list and does not return a new reversed list."
   ]
  },
  {
   "cell_type": "code",
   "execution_count": 28,
   "id": "7c44eba0-1af8-43eb-9358-17aa01da1c40",
   "metadata": {},
   "outputs": [
    {
     "name": "stdout",
     "output_type": "stream",
     "text": [
      "[1, 1, 2, 5, 5, 7]\n",
      "[7, 5, 5, 2, 1, 1]\n"
     ]
    }
   ],
   "source": [
    "print(lst1)\n",
    "lst1.reverse()\n",
    "print(lst1)"
   ]
  },
  {
   "cell_type": "markdown",
   "id": "a4b53a7f-a1b9-42a2-93ac-1e98663380a0",
   "metadata": {},
   "source": [
    "## Other List Operations"
   ]
  },
  {
   "cell_type": "markdown",
   "id": "699cb4be-f5e7-4ff3-bff3-e5ea811bc1f2",
   "metadata": {},
   "source": [
    "### len()\n",
    "The len() function returns the number of elements in a list."
   ]
  },
  {
   "cell_type": "code",
   "execution_count": 29,
   "id": "01d3dd23-c1d8-49d0-ab43-1e47a34a04b2",
   "metadata": {},
   "outputs": [
    {
     "data": {
      "text/plain": [
       "6"
      ]
     },
     "execution_count": 29,
     "metadata": {},
     "output_type": "execute_result"
    }
   ],
   "source": [
    "len(lst1)"
   ]
  },
  {
   "cell_type": "markdown",
   "id": "c0d4043f-1efb-4bb9-b61e-0ffa90d4af6c",
   "metadata": {},
   "source": [
    "### clear()\n",
    "The clear() method removes all elements from a list, making it empty."
   ]
  },
  {
   "cell_type": "code",
   "execution_count": 31,
   "id": "343cb284-8be7-4a7e-8910-821d7ccfebb3",
   "metadata": {},
   "outputs": [
    {
     "name": "stdout",
     "output_type": "stream",
     "text": [
      "['a', 'b', 1]\n",
      "[]\n"
     ]
    }
   ],
   "source": [
    "c = [\"a\", \"b\", 1]\n",
    "print(c)\n",
    "c.clear()\n",
    "print(c)"
   ]
  },
  {
   "cell_type": "markdown",
   "id": "e6e137da-7ce0-4f75-add5-eaeeba947d02",
   "metadata": {},
   "source": [
    "### copy()\n",
    "The copy() method creates a shallow copy of a list. Any modifications made to the original list will not affect the copied list, and vice versa."
   ]
  },
  {
   "cell_type": "code",
   "execution_count": 32,
   "id": "52f0879c-79d8-4257-8623-444d2c37fd83",
   "metadata": {},
   "outputs": [
    {
     "data": {
      "text/plain": [
       "1987462473088"
      ]
     },
     "execution_count": 32,
     "metadata": {},
     "output_type": "execute_result"
    }
   ],
   "source": [
    "l1 = [1, 2, 3]\n",
    "id(l1)"
   ]
  },
  {
   "cell_type": "code",
   "execution_count": 36,
   "id": "8e764d89-d657-4079-b0a7-63a94d285058",
   "metadata": {},
   "outputs": [
    {
     "name": "stdout",
     "output_type": "stream",
     "text": [
      "[1, 2, 3]\n",
      "1987463010496\n"
     ]
    }
   ],
   "source": [
    "l2 = l1.copy()\n",
    "print(l2)\n",
    "print(id(l2))"
   ]
  }
 ],
 "metadata": {
  "kernelspec": {
   "display_name": "Python 3 (ipykernel)",
   "language": "python",
   "name": "python3"
  },
  "language_info": {
   "codemirror_mode": {
    "name": "ipython",
    "version": 3
   },
   "file_extension": ".py",
   "mimetype": "text/x-python",
   "name": "python",
   "nbconvert_exporter": "python",
   "pygments_lexer": "ipython3",
   "version": "3.10.10"
  }
 },
 "nbformat": 4,
 "nbformat_minor": 5
}
