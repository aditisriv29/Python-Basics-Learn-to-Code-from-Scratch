{
 "cells": [
  {
   "cell_type": "markdown",
   "id": "310cf65c-8f2d-4b86-bce9-55707ac0127b",
   "metadata": {},
   "source": [
    "## Python input() Function"
   ]
  },
  {
   "cell_type": "markdown",
   "id": "e845ebbe-fca6-4fdc-bef6-58c249cfcd29",
   "metadata": {},
   "source": [
    "The input() function in Python is used to accept user input from the keyboard. It prompts the user to enter a value, reads the input from the user, and returns it as a string.\n",
    "\n",
    "The basic syntax of input() is: <br>\n",
    "**input(prompt)**\n",
    "\n",
    "* prompt: A string that is displayed to the user as a prompt for input. It is an optional argument, and if it is not provided, the function will display an empty prompt."
   ]
  },
  {
   "cell_type": "code",
   "execution_count": 1,
   "id": "a2a00f6b-9429-4c2a-86aa-ebaf7873aa5d",
   "metadata": {
    "tags": []
   },
   "outputs": [
    {
     "name": "stdin",
     "output_type": "stream",
     "text": [
      "Enter your name:  Krishnagopal Halder\n"
     ]
    },
    {
     "name": "stdout",
     "output_type": "stream",
     "text": [
      "Krishnagopal Halder\n"
     ]
    }
   ],
   "source": [
    "name = input(\"Enter your name: \")\n",
    "print(name)"
   ]
  },
  {
   "cell_type": "code",
   "execution_count": 2,
   "id": "06690f10-7e26-4b89-8ebb-d543d3ec2c1a",
   "metadata": {
    "tags": []
   },
   "outputs": [
    {
     "name": "stdout",
     "output_type": "stream",
     "text": [
      "<class 'str'>\n"
     ]
    }
   ],
   "source": [
    "print(type(name))"
   ]
  },
  {
   "cell_type": "markdown",
   "id": "e22540d3-753f-4529-a731-d5411f97bd34",
   "metadata": {},
   "source": [
    "When we use the input() function in Python to get user input, the input is always returned as a string. If we want to perform any numerical operations on the input, we will need to convert it to an integer using the int() function."
   ]
  },
  {
   "cell_type": "code",
   "execution_count": 4,
   "id": "6f05ea16-4ff3-4f52-b567-08e4dbcb0dcb",
   "metadata": {
    "tags": []
   },
   "outputs": [
    {
     "name": "stdin",
     "output_type": "stream",
     "text": [
      "Enter a number:  15\n"
     ]
    },
    {
     "name": "stdout",
     "output_type": "stream",
     "text": [
      "15 <class 'str'>\n"
     ]
    }
   ],
   "source": [
    "num = input(\"Enter a number: \")\n",
    "print(num, type(num))"
   ]
  },
  {
   "cell_type": "code",
   "execution_count": 5,
   "id": "e92e4256-7fc3-446e-822a-db063191113e",
   "metadata": {
    "tags": []
   },
   "outputs": [
    {
     "name": "stdin",
     "output_type": "stream",
     "text": [
      "Enter a numbert:  15\n"
     ]
    },
    {
     "name": "stdout",
     "output_type": "stream",
     "text": [
      "15 <class 'int'>\n"
     ]
    }
   ],
   "source": [
    "num = int(input(\"Enter a numbert: \"))\n",
    "print(num, type(num))"
   ]
  },
  {
   "cell_type": "markdown",
   "id": "1e8c4120-941f-4e2b-9a21-738123d4ae0a",
   "metadata": {},
   "source": [
    "### Taking a space-separated input in one line"
   ]
  },
  {
   "cell_type": "code",
   "execution_count": 10,
   "id": "5bef5a60-e5ce-4948-b710-1e3b08fd3b41",
   "metadata": {
    "tags": []
   },
   "outputs": [
    {
     "name": "stdin",
     "output_type": "stream",
     "text": [
      "Enter the longitude and latitude:  78.96 20.59\n"
     ]
    },
    {
     "name": "stdout",
     "output_type": "stream",
     "text": [
      "78.96\n",
      "20.59\n"
     ]
    }
   ],
   "source": [
    "x, y = input(\"Enter the longitude and latitude: \").split()\n",
    "print(x)\n",
    "print(y)"
   ]
  },
  {
   "cell_type": "markdown",
   "id": "a90c3ed5-6d6f-47cb-9904-36c3bf39bfc4",
   "metadata": {},
   "source": [
    "### Exercise: Add two numbers "
   ]
  },
  {
   "cell_type": "code",
   "execution_count": 11,
   "id": "853e9931-f32d-43b4-892f-0078457acefe",
   "metadata": {
    "tags": []
   },
   "outputs": [
    {
     "name": "stdin",
     "output_type": "stream",
     "text": [
      "Enter the first number:  15\n",
      "Enter the second number:  10\n"
     ]
    },
    {
     "name": "stdout",
     "output_type": "stream",
     "text": [
      "The sum of two numbers is 25\n"
     ]
    }
   ],
   "source": [
    "num1 = int(input(\"Enter the first number: \"))\n",
    "num2 = int(input(\"Enter the second number: \"))\n",
    "s = num1 + num2\n",
    "print(\"The sum of two numbers is\", s)"
   ]
  }
 ],
 "metadata": {
  "kernelspec": {
   "display_name": "Python 3 (ipykernel)",
   "language": "python",
   "name": "python3"
  },
  "language_info": {
   "codemirror_mode": {
    "name": "ipython",
    "version": 3
   },
   "file_extension": ".py",
   "mimetype": "text/x-python",
   "name": "python",
   "nbconvert_exporter": "python",
   "pygments_lexer": "ipython3",
   "version": "3.11.2"
  }
 },
 "nbformat": 4,
 "nbformat_minor": 5
}
