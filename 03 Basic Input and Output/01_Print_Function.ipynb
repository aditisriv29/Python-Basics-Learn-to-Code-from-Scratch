{
 "cells": [
  {
   "cell_type": "markdown",
   "id": "59228d48-c915-497a-847d-acf1601f3381",
   "metadata": {},
   "source": [
    "## Python print() Function"
   ]
  },
  {
   "cell_type": "markdown",
   "id": "bbf1636b-0dfc-4481-a871-55cc8f873b2d",
   "metadata": {},
   "source": [
    "The print() function in Python is used to output text or other data to the console. It takes one or more arguments, which can be of any data type, and prints them to the console.\n",
    "\n",
    "The basic syntax of print() is:<br>\n",
    "**print(object(s), sep=separator, end=end, file=file, flush=flush)**\n",
    "\n",
    "* object(s): One or more objects to print. This can be a string, a variable, or any otherobject.\n",
    "* sep: Separator between the objects to be printed. By default, it is a space character.\n",
    "* end: The character to be printed at the end of the statement. By default, it is a newline character.\n",
    "* file: Output stream to which the text will be printed. By default, it is the console.\n",
    "* flush: A Boolean value that specifies whether to flush the output buffer. By default, it is False."
   ]
  },
  {
   "cell_type": "code",
   "execution_count": 1,
   "id": "bee72125-bc56-42cf-bf42-aec71bcb1182",
   "metadata": {
    "tags": []
   },
   "outputs": [
    {
     "name": "stdout",
     "output_type": "stream",
     "text": [
      "Hello World\n"
     ]
    }
   ],
   "source": [
    "print(\"Hello World\")"
   ]
  },
  {
   "cell_type": "code",
   "execution_count": 2,
   "id": "ba3bf44e-5fc8-4c11-aa0e-fc8eda0a97b7",
   "metadata": {
    "tags": []
   },
   "outputs": [
    {
     "name": "stdout",
     "output_type": "stream",
     "text": [
      "Hello, GIS lovers!\n"
     ]
    }
   ],
   "source": [
    "print(\"Hello, GIS lovers!\")"
   ]
  },
  {
   "cell_type": "code",
   "execution_count": 3,
   "id": "439c7f4f-a27a-412e-8722-b286490ef0a6",
   "metadata": {
    "tags": []
   },
   "outputs": [
    {
     "name": "stdout",
     "output_type": "stream",
     "text": [
      "GeoNext is best for GIS content\n"
     ]
    }
   ],
   "source": [
    "print(\"GeoNext is best for GIS content\")"
   ]
  },
  {
   "cell_type": "markdown",
   "id": "2ec71a0c-31f7-4454-8e3f-e1113faeefad",
   "metadata": {},
   "source": [
    "### Printing more than one object"
   ]
  },
  {
   "cell_type": "code",
   "execution_count": 4,
   "id": "e7d2b923-860c-4afd-99a2-1e38c017f965",
   "metadata": {
    "tags": []
   },
   "outputs": [
    {
     "name": "stdout",
     "output_type": "stream",
     "text": [
      "Hello How are you?\n"
     ]
    }
   ],
   "source": [
    "print(\"Hello\", \"How are you?\")"
   ]
  },
  {
   "cell_type": "code",
   "execution_count": 5,
   "id": "b7afda26-35ce-444f-9b47-d096c16c5823",
   "metadata": {
    "tags": []
   },
   "outputs": [
    {
     "name": "stdout",
     "output_type": "stream",
     "text": [
      "5 10\n"
     ]
    }
   ],
   "source": [
    "a = 5\n",
    "b = 10\n",
    "print(a, b)"
   ]
  },
  {
   "cell_type": "markdown",
   "id": "c26f0daa-30a2-4585-8789-fdb7e6ed44d2",
   "metadata": {
    "tags": []
   },
   "source": [
    "### Python end parameter in print()"
   ]
  },
  {
   "cell_type": "code",
   "execution_count": 8,
   "id": "bfbb75b0-a02a-425b-8ef6-60ce3d9eeada",
   "metadata": {
    "tags": []
   },
   "outputs": [
    {
     "name": "stdout",
     "output_type": "stream",
     "text": [
      "Welcome to GeoNext\n"
     ]
    }
   ],
   "source": [
    "print(\"Welcome to\", end=\" \")\n",
    "print(\"GeoNext\")"
   ]
  },
  {
   "cell_type": "code",
   "execution_count": 9,
   "id": "b62587fe-1c0d-4206-822e-0eea3689b0bd",
   "metadata": {
    "tags": []
   },
   "outputs": [
    {
     "name": "stdout",
     "output_type": "stream",
     "text": [
      "Follow @GeoNext\n"
     ]
    }
   ],
   "source": [
    "print(\"Follow \", end=\"@\")\n",
    "print(\"GeoNext\")"
   ]
  },
  {
   "cell_type": "markdown",
   "id": "3d822b42-56ac-4d23-a22d-3ced39bd189c",
   "metadata": {
    "tags": []
   },
   "source": [
    "### Python sep parameter in print()"
   ]
  },
  {
   "cell_type": "code",
   "execution_count": 12,
   "id": "dd04ba37-389e-4a3b-8060-b64017fb95ff",
   "metadata": {
    "tags": []
   },
   "outputs": [
    {
     "name": "stdout",
     "output_type": "stream",
     "text": [
      "09-03-2023\n"
     ]
    }
   ],
   "source": [
    "print(\"09\", \"03\", \"2023\", sep=\"-\")"
   ]
  },
  {
   "cell_type": "code",
   "execution_count": 14,
   "id": "3c47de24-9958-4d96-a9b5-7d17be6c5b23",
   "metadata": {
    "tags": []
   },
   "outputs": [
    {
     "name": "stdout",
     "output_type": "stream",
     "text": [
      "krish@GeoNext\n"
     ]
    }
   ],
   "source": [
    "print(\"krish\", \"GeoNext\", sep=\"@\")"
   ]
  },
  {
   "cell_type": "markdown",
   "id": "c2e00b2f-762e-4499-8241-73c22aa66d09",
   "metadata": {
    "tags": []
   },
   "source": [
    "### String Concatenation"
   ]
  },
  {
   "cell_type": "code",
   "execution_count": 18,
   "id": "034ac18d-0c31-456a-b26e-2771ed2c9195",
   "metadata": {
    "tags": []
   },
   "outputs": [
    {
     "name": "stdout",
     "output_type": "stream",
     "text": [
      "abc\n"
     ]
    }
   ],
   "source": [
    "print(\"a\"+\"bc\")"
   ]
  },
  {
   "cell_type": "code",
   "execution_count": 17,
   "id": "fe5fd244-6d94-45ff-a518-263ea10efe83",
   "metadata": {
    "tags": []
   },
   "outputs": [
    {
     "name": "stdout",
     "output_type": "stream",
     "text": [
      "GeoNext\n"
     ]
    }
   ],
   "source": [
    "print(\"Geo\" + \"Next\")"
   ]
  }
 ],
 "metadata": {
  "kernelspec": {
   "display_name": "Python 3 (ipykernel)",
   "language": "python",
   "name": "python3"
  },
  "language_info": {
   "codemirror_mode": {
    "name": "ipython",
    "version": 3
   },
   "file_extension": ".py",
   "mimetype": "text/x-python",
   "name": "python",
   "nbconvert_exporter": "python",
   "pygments_lexer": "ipython3",
   "version": "3.9.16"
  }
 },
 "nbformat": 4,
 "nbformat_minor": 5
}
