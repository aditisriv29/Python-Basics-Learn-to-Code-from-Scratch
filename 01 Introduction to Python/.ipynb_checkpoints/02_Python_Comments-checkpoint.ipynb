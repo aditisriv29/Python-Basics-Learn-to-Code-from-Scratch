{
 "cells": [
  {
   "cell_type": "markdown",
   "id": "2aa3c844-5286-46eb-9c4b-251509df9024",
   "metadata": {},
   "source": [
    "## Python Comments\n",
    "Comments are used in programming to explain code, make notes, and provide context for other developers who may be reading the code. In Python, comments start with the \"#\" symbol and continue until the end of the line. Comments are ignored by the Python interpreter, so they do not affect the execution of the code.\n",
    "\n",
    "**Significance:**\n",
    "* Comments can be used to explain Python code.\n",
    "* Comments can be used to make the code more readable.\n",
    "* Comments can be used to prevent execution when testing code."
   ]
  },
  {
   "cell_type": "markdown",
   "id": "9a314c63-92e7-44b4-8fd5-e9a3b4e977c7",
   "metadata": {},
   "source": [
    "### Creating a Comment\n",
    "Comments start with the \"#\" symbol and Python interpreter will ignore them."
   ]
  },
  {
   "cell_type": "code",
   "execution_count": 1,
   "id": "e554f60c-b0be-42a4-8409-2238cc53b42e",
   "metadata": {
    "tags": []
   },
   "outputs": [
    {
     "name": "stdout",
     "output_type": "stream",
     "text": [
      "Hello World\n"
     ]
    }
   ],
   "source": [
    "# This is an example of how to write comment in Python.\n",
    "print(\"Hello World\")"
   ]
  },
  {
   "cell_type": "markdown",
   "id": "ffd641b5-69e6-4917-956c-6845395282ee",
   "metadata": {},
   "source": [
    "### Multi-Line Comments\n",
    "In Python, you can create multiline comments by enclosing them in triple quotes (''' ''') or triple double quotes (\"\"\" \"\"\"). This allows you to write comments that span multiple lines, without needing to add \"#\" to each line"
   ]
  },
  {
   "cell_type": "code",
   "execution_count": 2,
   "id": "9008b14c-0c19-42de-a31f-e61c859c92c8",
   "metadata": {
    "tags": []
   },
   "outputs": [
    {
     "name": "stdout",
     "output_type": "stream",
     "text": [
      "Hello World\n"
     ]
    }
   ],
   "source": [
    "\"\"\"\n",
    "This is an\n",
    "example of\n",
    "Multi-Line Comments.\n",
    "\"\"\"\n",
    "print(\"Hello World\")"
   ]
  },
  {
   "cell_type": "code",
   "execution_count": 3,
   "id": "e563fbf9-bb63-42f6-b8bb-408d9a9277d8",
   "metadata": {
    "tags": []
   },
   "outputs": [
    {
     "name": "stdout",
     "output_type": "stream",
     "text": [
      "Hello World\n"
     ]
    }
   ],
   "source": [
    "'''\n",
    "This is an\n",
    "example of\n",
    "Multi-Line Comments too.\n",
    "'''\n",
    "print(\"Hello World\")"
   ]
  }
 ],
 "metadata": {
  "kernelspec": {
   "display_name": "Python 3 (ipykernel)",
   "language": "python",
   "name": "python3"
  },
  "language_info": {
   "codemirror_mode": {
    "name": "ipython",
    "version": 3
   },
   "file_extension": ".py",
   "mimetype": "text/x-python",
   "name": "python",
   "nbconvert_exporter": "python",
   "pygments_lexer": "ipython3",
   "version": "3.9.16"
  }
 },
 "nbformat": 4,
 "nbformat_minor": 5
}
