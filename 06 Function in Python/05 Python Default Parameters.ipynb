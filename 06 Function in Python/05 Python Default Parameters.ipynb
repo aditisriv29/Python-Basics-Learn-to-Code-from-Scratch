{
 "cells": [
  {
   "cell_type": "markdown",
   "id": "ece3abd7-f000-4f57-9260-d17d99213727",
   "metadata": {},
   "source": [
    "## Python Default Parameters"
   ]
  },
  {
   "cell_type": "markdown",
   "id": "5dd720dc-a115-427b-8cf2-bcd22469c365",
   "metadata": {},
   "source": [
    "In Python, function parameters can have default values. We can provide a default value to a parameter by using the assignment(=) operator."
   ]
  },
  {
   "cell_type": "code",
   "execution_count": 1,
   "id": "d586ae73-7353-4de5-b027-be8ba1c49a03",
   "metadata": {
    "tags": []
   },
   "outputs": [],
   "source": [
    "def programmer(name, age, coreLang=\"Python\"):\n",
    "    print(\"The name of the programmer is\", name)\n",
    "    print(\"The age of the programmer is\", age)\n",
    "    print(\"The core programming language is\", coreLang)"
   ]
  },
  {
   "cell_type": "code",
   "execution_count": 4,
   "id": "e9773e39-f2e6-4d97-a190-915ef860ac79",
   "metadata": {
    "tags": []
   },
   "outputs": [
    {
     "name": "stdout",
     "output_type": "stream",
     "text": [
      "The name of the programmer is Krishnagopal Halder\n",
      "The age of the programmer is 22\n",
      "The core programming language is Python\n"
     ]
    }
   ],
   "source": [
    "# Calling function with the default value of coreLang parameter\n",
    "programmer(\"Krishnagopal Halder\", 22)"
   ]
  },
  {
   "cell_type": "code",
   "execution_count": 5,
   "id": "71289d37-2fa3-4459-85dc-7016a27c85df",
   "metadata": {
    "tags": []
   },
   "outputs": [
    {
     "name": "stdout",
     "output_type": "stream",
     "text": [
      "The name of the programmer is Arav Mahanti\n",
      "The age of the programmer is 25\n",
      "The core programming language is C++\n"
     ]
    }
   ],
   "source": [
    "# Calling function with the changed value of coreLang parameter\n",
    "programmer(\"Arav Mahanti\", 25, \"C++\")"
   ]
  }
 ],
 "metadata": {
  "kernelspec": {
   "display_name": "Python 3 (ipykernel)",
   "language": "python",
   "name": "python3"
  },
  "language_info": {
   "codemirror_mode": {
    "name": "ipython",
    "version": 3
   },
   "file_extension": ".py",
   "mimetype": "text/x-python",
   "name": "python",
   "nbconvert_exporter": "python",
   "pygments_lexer": "ipython3",
   "version": "3.9.16"
  }
 },
 "nbformat": 4,
 "nbformat_minor": 5
}
