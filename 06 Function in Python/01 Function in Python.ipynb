{
 "cells": [
  {
   "cell_type": "markdown",
   "id": "337e06b2-25e3-4559-9281-2292234f24c9",
   "metadata": {},
   "source": [
    "## Function in Python"
   ]
  },
  {
   "cell_type": "markdown",
   "id": "7e3cdf6b-a8e7-4e14-9cdd-e6aa19be786f",
   "metadata": {},
   "source": [
    "In Python, a function is a block of reusable code that performs a specific task. Functions are used to break down large programs into smaller, more manageable pieces, and to improve code readability and reusability. A function is like a black box that can take certain input(s) as its parameters and can output a value after performing a few operations on the parameters. Functions are defined using the \"def\" keyword, followed by the function name and parameter list, and the code block that defines what the function does.\n",
    "\n",
    "**Significance of functions in python:**\n",
    "* Reusability: Functions can be reused in different parts of the program or in different programs altogether, which saves time and effort.\n",
    "\n",
    "* Readability: Functions help to make code more readable by encapsulating complex logic into a single block of code with a descriptive name.\n",
    "\n",
    "* Modularity: Functions allow us to break down a large program into smaller, more manageable parts. This makes it easier to understand and maintain the codebase.\n",
    "\n",
    "* Debugging: Functions can be used to isolate and debug specific parts of a program, which can be helpful when troubleshooting issues.\n",
    "\n",
    "**Basic syntax of a function:**\n",
    "```python\n",
    "def <function-name>(<parameters>):\n",
    "    \"\"\"Function's docstring\"\"\"\n",
    "    <Expressions/Statements/Instructions>\n",
    "```"
   ]
  },
  {
   "cell_type": "code",
   "execution_count": 1,
   "id": "45f1b1f2-afb8-4c2f-aa02-b3312eb427f3",
   "metadata": {
    "tags": []
   },
   "outputs": [],
   "source": [
    "## Define a function to add two numbers\n",
    "def add(x, y):\n",
    "    \"\"\"This function returns the sum of two numbers\"\"\"\n",
    "    return x + y"
   ]
  },
  {
   "cell_type": "code",
   "execution_count": 2,
   "id": "c921b4ef-4dca-4567-a12f-feddc213d090",
   "metadata": {
    "tags": []
   },
   "outputs": [
    {
     "data": {
      "text/plain": [
       "5"
      ]
     },
     "execution_count": 2,
     "metadata": {},
     "output_type": "execute_result"
    }
   ],
   "source": [
    "add(2, 3)"
   ]
  },
  {
   "cell_type": "code",
   "execution_count": 3,
   "id": "84de9830-1f9b-4dfe-b818-55848efce82d",
   "metadata": {
    "tags": []
   },
   "outputs": [
    {
     "data": {
      "text/plain": [
       "19"
      ]
     },
     "execution_count": 3,
     "metadata": {},
     "output_type": "execute_result"
    }
   ],
   "source": [
    "add(x=9, y=10) "
   ]
  },
  {
   "cell_type": "markdown",
   "id": "24dc0338-f8c9-4a43-9be3-5f5f59ff57de",
   "metadata": {},
   "source": [
    "### Arguments and Parameters"
   ]
  },
  {
   "cell_type": "markdown",
   "id": "94319002-1bec-4e76-a931-85b398291ce4",
   "metadata": {},
   "source": [
    "In Python, both parameters and arguments are used in functions to pass values between the function and the calling code. However, they have different meanings and are used in different contexts.\n",
    "\n",
    "* Parameter: A parameter is a variable in the function definition that represents a value that must be passed to the function. It's like a placeholder that tells the function what kind of value to expect when it's called.\n",
    "```python\n",
    "def add(x, y):\n",
    "    return x + y\n",
    "```\n",
    "\n",
    "* Argument: An argument, on the other hand, is a value that is passed to a function when it's called. It's the actual value that is used in the function when it's executed.\n",
    "```python\n",
    "s = add(2, 3)\n",
    "```"
   ]
  }
 ],
 "metadata": {
  "kernelspec": {
   "display_name": "Python 3 (ipykernel)",
   "language": "python",
   "name": "python3"
  },
  "language_info": {
   "codemirror_mode": {
    "name": "ipython",
    "version": 3
   },
   "file_extension": ".py",
   "mimetype": "text/x-python",
   "name": "python",
   "nbconvert_exporter": "python",
   "pygments_lexer": "ipython3",
   "version": "3.9.16"
  }
 },
 "nbformat": 4,
 "nbformat_minor": 5
}
