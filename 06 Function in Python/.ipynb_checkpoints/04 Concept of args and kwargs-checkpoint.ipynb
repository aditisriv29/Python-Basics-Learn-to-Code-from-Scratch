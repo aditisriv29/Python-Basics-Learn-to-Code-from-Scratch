{
 "cells": [
  {
   "cell_type": "markdown",
   "id": "b9a2b9ad-2e5b-46b0-bad7-bc0d78d05d7e",
   "metadata": {},
   "source": [
    "## Concept of *args and **kwargs"
   ]
  },
  {
   "cell_type": "markdown",
   "id": "b671e944-f2bb-4141-a09f-410f83793299",
   "metadata": {},
   "source": [
    "In Python, it's possible to define functions that accept a variable number of arguments. This can be useful when we don't know in advance how many arguments a function will need to handle, or when we want to make our code more flexible. Python uses these special symbols for passing arguments:\n",
    "\n",
    "* *args (For Non-Keyword Arguments)\n",
    "* **kwargs (For Keyword Arguments)"
   ]
  },
  {
   "cell_type": "markdown",
   "id": "ad5d0706-85ce-4eb9-90ee-2dd03f41302e",
   "metadata": {},
   "source": [
    "### *args (For Non-Keyword Arguments)"
   ]
  },
  {
   "cell_type": "markdown",
   "id": "b4f2f2b3-c66f-41a9-8f8d-cce5d4669159",
   "metadata": {},
   "source": [
    "In Python, *args is a special syntax used to pass a variable number of positional arguments to a function. The *args notation allows us to pass any number of arguments to a function, and those arguments will be collected into a tuple.\n",
    "\n",
    "For example, if we want to make an addition function that supports taking any number of arguments and able to add them all together. In this case we can use *args.\n",
    "\n",
    "One important thing to note is that *args must come at the end of a function's parameter list, after any named arguments. This is because *args collects all positional arguments that are not matched to named parameters, so any named parameters that come after *args will be ignored"
   ]
  },
  {
   "cell_type": "code",
   "execution_count": 1,
   "id": "e7ed9a8d-7c98-4cc5-826d-27a3e79050a3",
   "metadata": {
    "tags": []
   },
   "outputs": [],
   "source": [
    "def sum(*args):\n",
    "    s = 0\n",
    "    for i in args:\n",
    "        s += i\n",
    "    print(s)"
   ]
  },
  {
   "cell_type": "code",
   "execution_count": 2,
   "id": "b84d279d-5c51-4885-a0d3-c6ad2b209e6c",
   "metadata": {
    "tags": []
   },
   "outputs": [
    {
     "name": "stdout",
     "output_type": "stream",
     "text": [
      "15\n"
     ]
    }
   ],
   "source": [
    "sum(1, 2, 3, 4, 5)"
   ]
  },
  {
   "cell_type": "markdown",
   "id": "9d851610-86d3-40ab-8be6-e486699829e1",
   "metadata": {},
   "source": [
    "### **kwargs (For Keyword Arguments)"
   ]
  },
  {
   "cell_type": "markdown",
   "id": "1c8a2150-01f5-48ef-a844-e5975797b361",
   "metadata": {},
   "source": [
    "In Python, **kwargs is a special syntax used to pass a variable number of keyword arguments to a function. The **kwargs notation allows us to pass any number of keyword arguments to a function, and those arguments will be collected into a dictionary.\n",
    "\n",
    "A keyword argument is where we provide a name to the variable as we pass it into the function.\n",
    "\n",
    "One important thing to note is that **kwargs must come after *args in a function's parameter list, if both are used. This is because *args collects all positional arguments that are not matched to named parameters, while **kwargs collects all keyword arguments that are not matched to named parameters."
   ]
  },
  {
   "cell_type": "code",
   "execution_count": 3,
   "id": "cbe35c5b-8d5b-48ca-9fb2-67d3a7c2ac35",
   "metadata": {
    "tags": []
   },
   "outputs": [],
   "source": [
    "def myFunction(**kwargs):\n",
    "    for key, value in kwargs.items():\n",
    "        print(key, \":\", value)"
   ]
  },
  {
   "cell_type": "code",
   "execution_count": 4,
   "id": "493b7377-650e-4eda-9ffd-ef75b96245db",
   "metadata": {
    "tags": []
   },
   "outputs": [
    {
     "name": "stdout",
     "output_type": "stream",
     "text": [
      "name : Krishnagopal Halder\n",
      "age : 22\n"
     ]
    }
   ],
   "source": [
    "myFunction(name=\"Krishnagopal Halder\", age=22)"
   ]
  },
  {
   "cell_type": "markdown",
   "id": "8158ea12-fc2b-4687-b4f0-57eb86941806",
   "metadata": {},
   "source": [
    "### Example with *args and **kwargs"
   ]
  },
  {
   "cell_type": "code",
   "execution_count": 5,
   "id": "2303d1f2-7a93-4687-809e-db26d80d94f5",
   "metadata": {
    "tags": []
   },
   "outputs": [],
   "source": [
    "def personalInfo(name, age, *args, **kwargs):\n",
    "    print(\"The name of the peron is\", name)\n",
    "    print(\"The age of the person is\", age)\n",
    "    print(\"Other informations:\")\n",
    "    for key, value in kwargs.items():\n",
    "        print(key, \":\", value)\n",
    "    print(\"Unknown informations:\")\n",
    "    for i in args:\n",
    "        print(i)    "
   ]
  },
  {
   "cell_type": "code",
   "execution_count": 6,
   "id": "792ef8be-ac49-415f-a455-eda94a2f2802",
   "metadata": {
    "tags": []
   },
   "outputs": [
    {
     "name": "stdout",
     "output_type": "stream",
     "text": [
      "The name of the peron is Krishnagopal Halder\n",
      "The age of the person is 22\n",
      "Other informations:\n",
      "state : WB\n",
      "country : India\n",
      "Unknown informations:\n",
      "First arg\n",
      "Second arg\n"
     ]
    }
   ],
   "source": [
    "personalInfo(\"Krishnagopal Halder\", 22, \"First arg\", \"Second arg\", state=\"WB\", country=\"India\")"
   ]
  }
 ],
 "metadata": {
  "kernelspec": {
   "display_name": "Python 3 (ipykernel)",
   "language": "python",
   "name": "python3"
  },
  "language_info": {
   "codemirror_mode": {
    "name": "ipython",
    "version": 3
   },
   "file_extension": ".py",
   "mimetype": "text/x-python",
   "name": "python",
   "nbconvert_exporter": "python",
   "pygments_lexer": "ipython3",
   "version": "3.9.16"
  }
 },
 "nbformat": 4,
 "nbformat_minor": 5
}
