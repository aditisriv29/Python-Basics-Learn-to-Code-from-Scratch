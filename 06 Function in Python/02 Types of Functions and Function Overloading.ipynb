{
 "cells": [
  {
   "cell_type": "markdown",
   "id": "e96409de-9871-44c9-bd19-883c2bb30e1a",
   "metadata": {},
   "source": [
    "## Types of Functions"
   ]
  },
  {
   "cell_type": "markdown",
   "id": "60468b8f-8ab5-41d1-841e-4074502b3a4c",
   "metadata": {},
   "source": [
    "In Python, there are several types of functions that serve different purposes. Here are some of the most commonly used types:\n",
    "* Built-in Functions: These are functions that are pre-defined in Python and can be used directly in our code without the need for any additional definitions. Examples include print(), len(), and input().\n",
    "\n",
    "* User-Defined Functions: These are functions that are defined by the user for a specific purpose. They can be called from anywhere in the code and can take one or more arguments. User-defined functions can be very simple or very complex, depending on the task they are designed to perform.\n",
    "\n",
    "* Anonymous Functions (Lambda Functions): These are small, one-line functions that can be defined without a name using the \"lambda\" keyword. They are commonly used when you need to pass a function as an argument to another function."
   ]
  },
  {
   "cell_type": "markdown",
   "id": "8f29faeb-80e8-4282-a54f-0ab1b456a0d8",
   "metadata": {},
   "source": [
    "### Built-in Functions"
   ]
  },
  {
   "cell_type": "code",
   "execution_count": 1,
   "id": "dcc69b13-a1f8-47a1-85b2-a828ff9c7469",
   "metadata": {
    "tags": []
   },
   "outputs": [
    {
     "name": "stdout",
     "output_type": "stream",
     "text": [
      "GeoNext\n",
      "7\n"
     ]
    }
   ],
   "source": [
    "name = \"GeoNext\"\n",
    "# Built-in functions\n",
    "print(name)\n",
    "print(len(name))"
   ]
  },
  {
   "cell_type": "markdown",
   "id": "565c2c86-d7b7-4dfb-a912-70bb2333786a",
   "metadata": {},
   "source": [
    "### User-Defined Functions"
   ]
  },
  {
   "cell_type": "code",
   "execution_count": 2,
   "id": "a2933606-86e6-4a9b-ad89-909e83b79fcf",
   "metadata": {
    "tags": []
   },
   "outputs": [
    {
     "data": {
      "text/plain": [
       "6"
      ]
     },
     "execution_count": 2,
     "metadata": {},
     "output_type": "execute_result"
    }
   ],
   "source": [
    "def multiply(a, b):\n",
    "    \"\"\"This function returns the multiplication of two numbers\"\"\"\n",
    "    return a * b\n",
    "\n",
    "multiply(2, 3)"
   ]
  },
  {
   "cell_type": "markdown",
   "id": "5b7f16ab-edfe-489d-911a-a5e5dd230add",
   "metadata": {},
   "source": [
    "### Lambda Function"
   ]
  },
  {
   "cell_type": "code",
   "execution_count": 6,
   "id": "d61ac654-69f6-408f-8fc0-6a6e05070789",
   "metadata": {
    "tags": []
   },
   "outputs": [
    {
     "data": {
      "text/plain": [
       "4"
      ]
     },
     "execution_count": 6,
     "metadata": {},
     "output_type": "execute_result"
    }
   ],
   "source": [
    "square = lambda x: x**2\n",
    "square(2)"
   ]
  },
  {
   "cell_type": "code",
   "execution_count": 8,
   "id": "29ecc1b2-bc0f-4984-98f4-a92ce6c30b9f",
   "metadata": {
    "tags": []
   },
   "outputs": [
    {
     "data": {
      "text/plain": [
       "3.0"
      ]
     },
     "execution_count": 8,
     "metadata": {},
     "output_type": "execute_result"
    }
   ],
   "source": [
    "divide = lambda x, y: x / y\n",
    "divide(6, 2)"
   ]
  },
  {
   "cell_type": "markdown",
   "id": "08d99e67-cccd-4164-a056-6a9aa9b9871d",
   "metadata": {},
   "source": [
    "## Function Overloading"
   ]
  },
  {
   "cell_type": "markdown",
   "id": "38d45751-0ec7-47c1-b6f2-64f765f80621",
   "metadata": {},
   "source": [
    "Function overloading is a programming concept that allows a function to have multiple implementations with the same name but different parameters. In some programming languages such as C++ and Java, function overloading is supported natively. However, in Python, function overloading is not supported in the same way, but there are ways to achieve similar functionality.\n",
    "\n",
    "In python, we can define multiple functions with the same name but only the last function will be considered. all the rest gets hidden."
   ]
  },
  {
   "cell_type": "code",
   "execution_count": 9,
   "id": "e0a21b22-74e0-43ac-a0d5-21b3bffd5c9f",
   "metadata": {
    "tags": []
   },
   "outputs": [],
   "source": [
    "def add(x, y):\n",
    "    return x + y\n",
    "\n",
    "def add(x, y, z):\n",
    "    return x + y + z"
   ]
  },
  {
   "cell_type": "code",
   "execution_count": 11,
   "id": "a0f11bb4-855c-4149-a278-b32f8ff2190e",
   "metadata": {
    "tags": []
   },
   "outputs": [
    {
     "data": {
      "text/plain": [
       "6"
      ]
     },
     "execution_count": 11,
     "metadata": {},
     "output_type": "execute_result"
    }
   ],
   "source": [
    "# add(1, 2) # Throws an error\n",
    "add(1, 2, 3)"
   ]
  },
  {
   "cell_type": "markdown",
   "id": "63a3f873-21db-4267-b1a0-380f7f65b43f",
   "metadata": {},
   "source": [
    "In the above code, there are two add() methods, where only last methed of them can be used. Calling any of other methods will produce an error. Like here calling add(1, 2) will throw an error.\n",
    "\n",
    "This issue can be overcomed by the following method:"
   ]
  },
  {
   "cell_type": "code",
   "execution_count": 13,
   "id": "0cd7f7e8-fc35-419d-a4a2-41ad842e7b31",
   "metadata": {
    "tags": []
   },
   "outputs": [],
   "source": [
    "# !pip install multipledispatch"
   ]
  },
  {
   "cell_type": "code",
   "execution_count": 14,
   "id": "ebeef19f-c90c-4057-a68c-8e9e25724de1",
   "metadata": {
    "tags": []
   },
   "outputs": [],
   "source": [
    "from multipledispatch import dispatch"
   ]
  },
  {
   "cell_type": "code",
   "execution_count": 15,
   "id": "6622bae2-104c-4e7d-b0bb-fdd779a140a6",
   "metadata": {
    "tags": []
   },
   "outputs": [],
   "source": [
    "@dispatch(int, int)\n",
    "def add(x, y):\n",
    "    return x + y\n",
    "\n",
    "@dispatch(int, int, int)\n",
    "def add(x, y, z):\n",
    "    return x + y + z"
   ]
  },
  {
   "cell_type": "code",
   "execution_count": 16,
   "id": "3bcc4a71-634b-4609-bf98-716380e7f609",
   "metadata": {
    "tags": []
   },
   "outputs": [
    {
     "data": {
      "text/plain": [
       "3"
      ]
     },
     "execution_count": 16,
     "metadata": {},
     "output_type": "execute_result"
    }
   ],
   "source": [
    "add(1, 2)"
   ]
  },
  {
   "cell_type": "code",
   "execution_count": 17,
   "id": "57a31ee7-415b-4fc0-8677-9051e54e7706",
   "metadata": {
    "tags": []
   },
   "outputs": [
    {
     "data": {
      "text/plain": [
       "6"
      ]
     },
     "execution_count": 17,
     "metadata": {},
     "output_type": "execute_result"
    }
   ],
   "source": [
    "add(1, 2, 3)"
   ]
  }
 ],
 "metadata": {
  "kernelspec": {
   "display_name": "Python 3 (ipykernel)",
   "language": "python",
   "name": "python3"
  },
  "language_info": {
   "codemirror_mode": {
    "name": "ipython",
    "version": 3
   },
   "file_extension": ".py",
   "mimetype": "text/x-python",
   "name": "python",
   "nbconvert_exporter": "python",
   "pygments_lexer": "ipython3",
   "version": "3.9.16"
  }
 },
 "nbformat": 4,
 "nbformat_minor": 5
}
