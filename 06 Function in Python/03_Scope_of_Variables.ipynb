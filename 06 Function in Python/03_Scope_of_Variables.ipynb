{
 "cells": [
  {
   "cell_type": "markdown",
   "id": "99af2680-ba91-4838-a0f2-762b5dc33ec1",
   "metadata": {},
   "source": [
    "## Scope of Variables"
   ]
  },
  {
   "cell_type": "markdown",
   "id": "f8f96777-d8dd-405d-985d-fe940004b8d9",
   "metadata": {},
   "source": [
    "In a Python program, all variables may not be accessible at all location in that program. A variable's scope refers to the part(s) of the program in which the variable is accessible. A variable will only be visible to and accessible by the code blocks in its scope.\n",
    "\n",
    "There are broadly two kinds of scope in Python:\n",
    "* Global Scope: A variable declared outside of any function has global scope. This means that the variable is accessible throughout the entire program. A variable declared outside a function is known as a global variable.\n",
    "\n",
    "* Local Scope: A variable declared inside a function is said to have local scope. This means that the variable is accessible only within the function in which it was declared. A variable declared inside a function is known as local variable."
   ]
  },
  {
   "cell_type": "markdown",
   "id": "5a35e72e-8ec4-4b61-91e9-99d540b66792",
   "metadata": {},
   "source": [
    "### Creating a Global Variable"
   ]
  },
  {
   "cell_type": "code",
   "execution_count": 1,
   "id": "70a278fa-4aba-44be-bf5a-0c2885be118f",
   "metadata": {
    "tags": []
   },
   "outputs": [
    {
     "name": "stdout",
     "output_type": "stream",
     "text": [
      "x is a Global Variable\n"
     ]
    }
   ],
   "source": [
    "x = \"Global Variable\"\n",
    "def checkScope():\n",
    "    print(\"x is a\", x)\n",
    "checkScope()"
   ]
  },
  {
   "cell_type": "code",
   "execution_count": 2,
   "id": "841d7717-6e5b-41ed-a427-4658840fea43",
   "metadata": {
    "tags": []
   },
   "outputs": [
    {
     "name": "stdout",
     "output_type": "stream",
     "text": [
      "Global Variable\n"
     ]
    }
   ],
   "source": [
    "print(x)"
   ]
  },
  {
   "cell_type": "markdown",
   "id": "1f56d8e1-8932-4faf-80ac-b71811f5b8b9",
   "metadata": {},
   "source": [
    "### Creating a Local Variable"
   ]
  },
  {
   "cell_type": "code",
   "execution_count": 3,
   "id": "19d1de31-f9b6-4662-bbe1-0b7b37b85ab0",
   "metadata": {
    "tags": []
   },
   "outputs": [
    {
     "name": "stdout",
     "output_type": "stream",
     "text": [
      "y is a Local Variable\n"
     ]
    }
   ],
   "source": [
    "def checkLocal():\n",
    "    y = \"Local Variable\"\n",
    "    print(\"y is a\",  y)\n",
    "checkLocal()"
   ]
  },
  {
   "cell_type": "code",
   "execution_count": 4,
   "id": "67efdff1-d7d6-4149-b888-33718a00cf15",
   "metadata": {
    "tags": []
   },
   "outputs": [],
   "source": [
    "# If we call a local variable outside of its scope, we will get an error.\n",
    "# print(y) "
   ]
  }
 ],
 "metadata": {
  "kernelspec": {
   "display_name": "Python 3 (ipykernel)",
   "language": "python",
   "name": "python3"
  },
  "language_info": {
   "codemirror_mode": {
    "name": "ipython",
    "version": 3
   },
   "file_extension": ".py",
   "mimetype": "text/x-python",
   "name": "python",
   "nbconvert_exporter": "python",
   "pygments_lexer": "ipython3",
   "version": "3.9.16"
  }
 },
 "nbformat": 4,
 "nbformat_minor": 5
}
