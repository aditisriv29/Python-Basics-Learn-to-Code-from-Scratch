{
 "cells": [
  {
   "cell_type": "markdown",
   "id": "52edc69d-187e-4a5c-86fd-ad99640812d3",
   "metadata": {},
   "source": [
    "# Concept of *args and **kwargs"
   ]
  },
  {
   "cell_type": "code",
   "execution_count": 9,
   "id": "b4239e7c-fc4c-46af-b91d-7b44e561d5af",
   "metadata": {},
   "outputs": [],
   "source": [
    "def add(x, y):\n",
    "    return x + y "
   ]
  },
  {
   "cell_type": "code",
   "execution_count": 10,
   "id": "4900c053-74d4-49da-8a43-9c35f3ef1fce",
   "metadata": {},
   "outputs": [
    {
     "data": {
      "text/plain": [
       "25"
      ]
     },
     "execution_count": 10,
     "metadata": {},
     "output_type": "execute_result"
    }
   ],
   "source": [
    "add(15, 10)"
   ]
  },
  {
   "cell_type": "markdown",
   "id": "80407fc7-dff5-472c-921b-76311ec28fe2",
   "metadata": {},
   "source": [
    "## *args (For Non-Keyword Arguments)"
   ]
  },
  {
   "cell_type": "code",
   "execution_count": 18,
   "id": "bedd7f74-7277-4813-8fb2-ba04bf991b2d",
   "metadata": {},
   "outputs": [],
   "source": [
    "def sum_of_numbers(*args):\n",
    "    sum_of_num = 0\n",
    "    for num in args:\n",
    "        sum_of_num += num\n",
    "    return sum_of_num"
   ]
  },
  {
   "cell_type": "code",
   "execution_count": 19,
   "id": "b7742f50-07ae-47f5-b3b0-1de0766f75e2",
   "metadata": {},
   "outputs": [
    {
     "data": {
      "text/plain": [
       "909"
      ]
     },
     "execution_count": 19,
     "metadata": {},
     "output_type": "execute_result"
    }
   ],
   "source": [
    "sum_of_numbers(15, 51, 455, 17, 68, 156, 147)"
   ]
  },
  {
   "cell_type": "markdown",
   "id": "4adb41cc-372a-4e91-bf3e-7b1712f8c871",
   "metadata": {},
   "source": [
    "## **kwargs (For Keyword Arguments)"
   ]
  },
  {
   "cell_type": "code",
   "execution_count": 22,
   "id": "c7f561a6-64af-477c-b578-49a1fc583bc2",
   "metadata": {},
   "outputs": [],
   "source": [
    "def myFunction(**kwargs):\n",
    "    for key, value in kwargs.items():\n",
    "        print(key, \":\", value)"
   ]
  },
  {
   "cell_type": "code",
   "execution_count": 24,
   "id": "abb7efbb-ab44-449e-8b0f-e11912754369",
   "metadata": {},
   "outputs": [
    {
     "name": "stdout",
     "output_type": "stream",
     "text": [
      "name : Krishnagopal Halder\n",
      "city : Bankura\n",
      "season : Summer\n"
     ]
    }
   ],
   "source": [
    "myFunction(name=\"Krishnagopal Halder\", city=\"Bankura\", season=\"Summer\")"
   ]
  },
  {
   "cell_type": "code",
   "execution_count": 38,
   "id": "85177554-c352-4404-844b-6ed40735b8cf",
   "metadata": {},
   "outputs": [],
   "source": [
    "def sum_of_3num(x, y, z, *args):\n",
    "    sum_of_num = x + y + z\n",
    "    for num in args:\n",
    "        sum_of_num += num\n",
    "    return sum_of_num"
   ]
  },
  {
   "cell_type": "code",
   "execution_count": 39,
   "id": "7872b3e7-2d6a-4668-ad18-a4c6440cfc40",
   "metadata": {},
   "outputs": [
    {
     "data": {
      "text/plain": [
       "206"
      ]
     },
     "execution_count": 39,
     "metadata": {},
     "output_type": "execute_result"
    }
   ],
   "source": [
    "sum_of_3num(5, 6, 10, 15, 17, 65, 78, 10)"
   ]
  },
  {
   "cell_type": "code",
   "execution_count": 49,
   "id": "8f977345-0652-4fd3-8a6f-8ea509810030",
   "metadata": {},
   "outputs": [],
   "source": [
    "def personalInfo(name, age, *args, **kwargs):\n",
    "    print(\"The name of the person is\", name)\n",
    "    print(\"The age of the person is\", age)\n",
    "    if len(kwargs) > 0:\n",
    "    \tprint(\"Other information\")\n",
    "    for key, value in kwargs.items():\n",
    "        print(key, \":\", value)\n",
    "    if len(args) > 0:\n",
    "    \tprint(\"Unknown information\")\n",
    "    for i in args:\n",
    "        print(i)"
   ]
  },
  {
   "cell_type": "code",
   "execution_count": 50,
   "id": "84a8ca1c-7044-470e-97c2-5b4d4ce032ed",
   "metadata": {},
   "outputs": [
    {
     "name": "stdout",
     "output_type": "stream",
     "text": [
      "The name of the person is Sujoy Ghosh\n",
      "The age of the person is 40\n"
     ]
    }
   ],
   "source": [
    "personalInfo(\"Sujoy Ghosh\", 40)"
   ]
  },
  {
   "cell_type": "code",
   "execution_count": 51,
   "id": "59199f3e-1bde-4b63-a03a-3722c7725b7f",
   "metadata": {},
   "outputs": [
    {
     "name": "stdout",
     "output_type": "stream",
     "text": [
      "The name of the person is Ajay Sen\n",
      "The age of the person is 28\n",
      "Other information\n",
      "state : WB\n",
      "country : India\n",
      "Unknown information\n",
      "First arg\n",
      "Second arg\n"
     ]
    }
   ],
   "source": [
    "personalInfo(\"Ajay Sen\", 28, \"First arg\", \"Second arg\", state=\"WB\", country=\"India\")"
   ]
  },
  {
   "cell_type": "code",
   "execution_count": 52,
   "id": "d6abe3f1-51b5-4f11-b1e7-8cf2a9dc1150",
   "metadata": {},
   "outputs": [
    {
     "name": "stdout",
     "output_type": "stream",
     "text": [
      "The name of the person is Bijay Roy\n",
      "The age of the person is 48\n",
      "Other information\n",
      "mail : abc@gmail.com\n",
      "mob : 6314566428\n",
      "state : WB\n",
      "country : India\n"
     ]
    }
   ],
   "source": [
    "personalInfo(\"Bijay Roy\", 48, mail=\"abc@gmail.com\", mob=6314566428, state=\"WB\", country=\"India\")"
   ]
  }
 ],
 "metadata": {
  "kernelspec": {
   "display_name": "Python 3 (ipykernel)",
   "language": "python",
   "name": "python3"
  },
  "language_info": {
   "codemirror_mode": {
    "name": "ipython",
    "version": 3
   },
   "file_extension": ".py",
   "mimetype": "text/x-python",
   "name": "python",
   "nbconvert_exporter": "python",
   "pygments_lexer": "ipython3",
   "version": "3.10.10"
  }
 },
 "nbformat": 4,
 "nbformat_minor": 5
}
