{
 "cells": [
  {
   "cell_type": "markdown",
   "id": "88722736-8769-48f7-bef5-19bb495543e0",
   "metadata": {},
   "source": [
    "# String Methods"
   ]
  },
  {
   "cell_type": "markdown",
   "id": "23c9437a-2529-4817-b4f9-11af2e379676",
   "metadata": {},
   "source": [
    "## Repeating/Replicating Strings"
   ]
  },
  {
   "cell_type": "code",
   "execution_count": 1,
   "id": "b138806b-be23-428b-997e-3e37db969771",
   "metadata": {},
   "outputs": [
    {
     "name": "stdout",
     "output_type": "stream",
     "text": [
      "GeoNextGeoNextGeoNext\n"
     ]
    }
   ],
   "source": [
    "name = \"GeoNext\"\n",
    "repeat_name = name*3\n",
    "print(repeat_name)"
   ]
  },
  {
   "cell_type": "code",
   "execution_count": 3,
   "id": "dc458c62-a885-44de-a4eb-4da8c1d91a74",
   "metadata": {},
   "outputs": [
    {
     "data": {
      "text/plain": [
       "'txeNoeG'"
      ]
     },
     "execution_count": 3,
     "metadata": {},
     "output_type": "execute_result"
    }
   ],
   "source": [
    "name[::-1]"
   ]
  },
  {
   "cell_type": "markdown",
   "id": "aad561be-ff06-4aa9-80b6-5ffa04b81556",
   "metadata": {},
   "source": [
    "## slice() Constructor"
   ]
  },
  {
   "cell_type": "code",
   "execution_count": 6,
   "id": "6abc7696-ec12-4663-98fb-bdf0de2dd662",
   "metadata": {},
   "outputs": [
    {
     "name": "stdout",
     "output_type": "stream",
     "text": [
      "Geo\n",
      "Next\n"
     ]
    }
   ],
   "source": [
    "s1 = slice(0, 3)\n",
    "s2 = slice(3, 7)\n",
    "print(name[s1])\n",
    "print(name[s2])"
   ]
  },
  {
   "cell_type": "markdown",
   "id": "9fea75b1-0400-4a2e-b09a-be0c033690b4",
   "metadata": {},
   "source": [
    "## String Comparison"
   ]
  },
  {
   "cell_type": "code",
   "execution_count": 7,
   "id": "b88e6310-8cba-4fbc-8cb2-e4b1fb785f47",
   "metadata": {},
   "outputs": [],
   "source": [
    "name1 = \"Geo\"\n",
    "name2 = \"Geo\"\n",
    "name3 = \"Next\""
   ]
  },
  {
   "cell_type": "code",
   "execution_count": 8,
   "id": "d772b0b9-5a01-4374-a630-0ee4139b3f04",
   "metadata": {},
   "outputs": [
    {
     "name": "stdout",
     "output_type": "stream",
     "text": [
      "True\n"
     ]
    }
   ],
   "source": [
    "print(name1 == name2)"
   ]
  },
  {
   "cell_type": "code",
   "execution_count": 9,
   "id": "b7e2bf94-c7f9-4ed6-9cef-f97352f71103",
   "metadata": {},
   "outputs": [
    {
     "name": "stdout",
     "output_type": "stream",
     "text": [
      "False\n"
     ]
    }
   ],
   "source": [
    "print(name1 == name3)"
   ]
  },
  {
   "cell_type": "code",
   "execution_count": 10,
   "id": "3a0d628b-70d5-429e-bbd9-1156ff4b33c9",
   "metadata": {},
   "outputs": [
    {
     "data": {
      "text/plain": [
       "3"
      ]
     },
     "execution_count": 10,
     "metadata": {},
     "output_type": "execute_result"
    }
   ],
   "source": [
    "len(name1)"
   ]
  },
  {
   "cell_type": "code",
   "execution_count": 11,
   "id": "cfdaebed-63e7-4bc8-9ee9-29ca283f2d4c",
   "metadata": {},
   "outputs": [
    {
     "data": {
      "text/plain": [
       "4"
      ]
     },
     "execution_count": 11,
     "metadata": {},
     "output_type": "execute_result"
    }
   ],
   "source": [
    "len(name3)"
   ]
  },
  {
   "cell_type": "code",
   "execution_count": 13,
   "id": "ac704936-ea3e-45c7-bd31-dfc03e7eaffd",
   "metadata": {},
   "outputs": [
    {
     "name": "stdout",
     "output_type": "stream",
     "text": [
      "True\n"
     ]
    }
   ],
   "source": [
    "print(name1 < name3)"
   ]
  },
  {
   "cell_type": "code",
   "execution_count": 14,
   "id": "b70a0c30-dda2-49c2-8031-ccf0726d0c77",
   "metadata": {},
   "outputs": [
    {
     "name": "stdout",
     "output_type": "stream",
     "text": [
      "False\n"
     ]
    }
   ],
   "source": [
    "print(name1 >= name3)"
   ]
  },
  {
   "cell_type": "code",
   "execution_count": 15,
   "id": "8a39ce17-0aec-43bb-bf0d-cffd05dd71b6",
   "metadata": {},
   "outputs": [
    {
     "name": "stdout",
     "output_type": "stream",
     "text": [
      "True\n"
     ]
    }
   ],
   "source": [
    "print(name1 <= name3)"
   ]
  },
  {
   "cell_type": "code",
   "execution_count": 23,
   "id": "0d4984a8-bdfe-499d-a2fb-c38922c27d5a",
   "metadata": {},
   "outputs": [
    {
     "name": "stdout",
     "output_type": "stream",
     "text": [
      "False\n"
     ]
    }
   ],
   "source": [
    "print(name1 != name2)"
   ]
  }
 ],
 "metadata": {
  "kernelspec": {
   "display_name": "Python 3 (ipykernel)",
   "language": "python",
   "name": "python3"
  },
  "language_info": {
   "codemirror_mode": {
    "name": "ipython",
    "version": 3
   },
   "file_extension": ".py",
   "mimetype": "text/x-python",
   "name": "python",
   "nbconvert_exporter": "python",
   "pygments_lexer": "ipython3",
   "version": "3.10.10"
  }
 },
 "nbformat": 4,
 "nbformat_minor": 5
}
