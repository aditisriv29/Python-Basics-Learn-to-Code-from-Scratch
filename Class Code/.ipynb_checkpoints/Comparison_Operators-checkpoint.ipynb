{
 "cells": [
  {
   "cell_type": "markdown",
   "id": "7d0647ba-16e4-4176-ad2d-a13907b3289c",
   "metadata": {},
   "source": [
    "# Comparison Operators"
   ]
  },
  {
   "cell_type": "code",
   "execution_count": 23,
   "id": "848942b5-dcac-4ba1-b4d5-68d9d29f553f",
   "metadata": {},
   "outputs": [],
   "source": [
    "a = 10 # a < b\n",
    "b = 15"
   ]
  },
  {
   "cell_type": "markdown",
   "id": "ddb2c7de-cfe4-4f74-9ccf-3a473516e7f5",
   "metadata": {},
   "source": [
    "## Equal to (==)"
   ]
  },
  {
   "cell_type": "code",
   "execution_count": 18,
   "id": "430ed0c1-4ce0-4ce4-aa80-33a01d389336",
   "metadata": {},
   "outputs": [
    {
     "data": {
      "text/plain": [
       "False"
      ]
     },
     "execution_count": 18,
     "metadata": {},
     "output_type": "execute_result"
    }
   ],
   "source": [
    "a == b"
   ]
  },
  {
   "cell_type": "markdown",
   "id": "c21af14e-1e60-4e63-a17c-d4b0210ec07d",
   "metadata": {},
   "source": [
    "## Not equal to (!=)"
   ]
  },
  {
   "cell_type": "code",
   "execution_count": 19,
   "id": "ba36c676-34eb-43c8-b72d-bb632fa1c8d9",
   "metadata": {},
   "outputs": [
    {
     "data": {
      "text/plain": [
       "True"
      ]
     },
     "execution_count": 19,
     "metadata": {},
     "output_type": "execute_result"
    }
   ],
   "source": [
    "a != b"
   ]
  },
  {
   "cell_type": "markdown",
   "id": "e8986c61-b8a4-42f5-857f-afde5db0c71c",
   "metadata": {},
   "source": [
    "## Greater than (>)"
   ]
  },
  {
   "cell_type": "code",
   "execution_count": 24,
   "id": "69b4e474-0fce-4760-bb9a-6fa8884a44f0",
   "metadata": {},
   "outputs": [
    {
     "data": {
      "text/plain": [
       "False"
      ]
     },
     "execution_count": 24,
     "metadata": {},
     "output_type": "execute_result"
    }
   ],
   "source": [
    "a > b"
   ]
  },
  {
   "cell_type": "markdown",
   "id": "96ca3e14-c273-4fa4-ae34-d45d5645c125",
   "metadata": {},
   "source": [
    "## Less than (<)"
   ]
  },
  {
   "cell_type": "code",
   "execution_count": 25,
   "id": "bef91a6c-0f50-43d8-9861-849f9a20d1b0",
   "metadata": {},
   "outputs": [
    {
     "data": {
      "text/plain": [
       "True"
      ]
     },
     "execution_count": 25,
     "metadata": {},
     "output_type": "execute_result"
    }
   ],
   "source": [
    "a < b"
   ]
  },
  {
   "cell_type": "markdown",
   "id": "f3203abf-9fbe-4165-be18-ec831515d87b",
   "metadata": {},
   "source": [
    "## Greater than or equal to (>=)"
   ]
  },
  {
   "cell_type": "code",
   "execution_count": 27,
   "id": "7b6c6cc8-e2cd-40bf-bca4-d08f3c1496ad",
   "metadata": {},
   "outputs": [
    {
     "data": {
      "text/plain": [
       "False"
      ]
     },
     "execution_count": 27,
     "metadata": {},
     "output_type": "execute_result"
    }
   ],
   "source": [
    "a >= b"
   ]
  },
  {
   "cell_type": "markdown",
   "id": "99c8c82d-47f5-4de4-b9bd-ca7fececb120",
   "metadata": {},
   "source": [
    "## Less than or equal to (>=)"
   ]
  },
  {
   "cell_type": "code",
   "execution_count": 28,
   "id": "e7d32228-11ea-4a10-bf4c-7a52d7f09a62",
   "metadata": {},
   "outputs": [
    {
     "data": {
      "text/plain": [
       "True"
      ]
     },
     "execution_count": 28,
     "metadata": {},
     "output_type": "execute_result"
    }
   ],
   "source": [
    "a <= b"
   ]
  }
 ],
 "metadata": {
  "kernelspec": {
   "display_name": "Python 3 (ipykernel)",
   "language": "python",
   "name": "python3"
  },
  "language_info": {
   "codemirror_mode": {
    "name": "ipython",
    "version": 3
   },
   "file_extension": ".py",
   "mimetype": "text/x-python",
   "name": "python",
   "nbconvert_exporter": "python",
   "pygments_lexer": "ipython3",
   "version": "3.10.10"
  }
 },
 "nbformat": 4,
 "nbformat_minor": 5
}
