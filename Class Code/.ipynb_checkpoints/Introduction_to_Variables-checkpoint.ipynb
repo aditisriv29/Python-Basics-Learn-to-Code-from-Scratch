{
 "cells": [
  {
   "cell_type": "markdown",
   "id": "016c968e-12dd-4360-8b72-252f1aecab1b",
   "metadata": {},
   "source": [
    "# Introduction to Variables"
   ]
  },
  {
   "cell_type": "code",
   "execution_count": 1,
   "id": "7519814e-c97f-44eb-8906-df6501059afe",
   "metadata": {},
   "outputs": [
    {
     "data": {
      "text/plain": [
       "'Krishnagopal Halder'"
      ]
     },
     "execution_count": 1,
     "metadata": {},
     "output_type": "execute_result"
    }
   ],
   "source": [
    "name = \"Krishnagopal Halder\"\n",
    "name"
   ]
  },
  {
   "cell_type": "code",
   "execution_count": 2,
   "id": "de7bb50c-ca41-437d-b4f0-3e65f25c1d93",
   "metadata": {},
   "outputs": [
    {
     "data": {
      "text/plain": [
       "1269995731776"
      ]
     },
     "execution_count": 2,
     "metadata": {},
     "output_type": "execute_result"
    }
   ],
   "source": [
    "id(name)"
   ]
  },
  {
   "cell_type": "code",
   "execution_count": 3,
   "id": "2ce0a7b3-4752-47fb-bbd1-4352f7e5725f",
   "metadata": {},
   "outputs": [
    {
     "data": {
      "text/plain": [
       "22"
      ]
     },
     "execution_count": 3,
     "metadata": {},
     "output_type": "execute_result"
    }
   ],
   "source": [
    "age = 22\n",
    "age"
   ]
  },
  {
   "cell_type": "code",
   "execution_count": 4,
   "id": "54dc9403-e7e0-44a4-a0f4-2982eaf79053",
   "metadata": {},
   "outputs": [
    {
     "data": {
      "text/plain": [
       "1269918270352"
      ]
     },
     "execution_count": 4,
     "metadata": {},
     "output_type": "execute_result"
    }
   ],
   "source": [
    "id(age)"
   ]
  },
  {
   "cell_type": "code",
   "execution_count": 5,
   "id": "54677c2a-a998-4b50-9789-eec83d0965b4",
   "metadata": {},
   "outputs": [
    {
     "data": {
      "text/plain": [
       "'Hello, Good evening.'"
      ]
     },
     "execution_count": 5,
     "metadata": {},
     "output_type": "execute_result"
    }
   ],
   "source": [
    "message = \"Hello, Good evening.\"\n",
    "message"
   ]
  },
  {
   "cell_type": "code",
   "execution_count": 6,
   "id": "3553d934-3b40-4ee4-8d8a-b566bbcdaf02",
   "metadata": {},
   "outputs": [
    {
     "data": {
      "text/plain": [
       "1269995301152"
      ]
     },
     "execution_count": 6,
     "metadata": {},
     "output_type": "execute_result"
    }
   ],
   "source": [
    "id(message)"
   ]
  },
  {
   "cell_type": "code",
   "execution_count": 7,
   "id": "eca293bd-d2b9-41e0-bccd-2e2c9f7ac54e",
   "metadata": {
    "tags": []
   },
   "outputs": [
    {
     "data": {
      "text/plain": [
       "'GeoNext'"
      ]
     },
     "execution_count": 7,
     "metadata": {},
     "output_type": "execute_result"
    }
   ],
   "source": [
    "name = \"GeoNext\"\n",
    "name"
   ]
  },
  {
   "cell_type": "code",
   "execution_count": 8,
   "id": "798425d9-d756-4ad3-be1d-d85f0bf46fed",
   "metadata": {},
   "outputs": [
    {
     "data": {
      "text/plain": [
       "1269996249776"
      ]
     },
     "execution_count": 8,
     "metadata": {},
     "output_type": "execute_result"
    }
   ],
   "source": [
    "id(name)"
   ]
  },
  {
   "cell_type": "code",
   "execution_count": 9,
   "id": "7091804e-3a96-40fb-8440-dc3ebbf064fe",
   "metadata": {},
   "outputs": [
    {
     "data": {
      "text/plain": [
       "'GeoNext'"
      ]
     },
     "execution_count": 9,
     "metadata": {},
     "output_type": "execute_result"
    }
   ],
   "source": [
    "name"
   ]
  },
  {
   "cell_type": "code",
   "execution_count": 11,
   "id": "45b42f35-1ebf-401b-a605-9cd484f481d6",
   "metadata": {},
   "outputs": [
    {
     "name": "stdout",
     "output_type": "stream",
     "text": [
      "GeoNext\n",
      "22\n",
      "Hello, Good evening.\n"
     ]
    }
   ],
   "source": [
    "print(name)\n",
    "print(age)\n",
    "print(message)"
   ]
  },
  {
   "cell_type": "code",
   "execution_count": 20,
   "id": "c8ca8c1b-7a21-4555-a664-c1763e26737e",
   "metadata": {},
   "outputs": [
    {
     "data": {
      "text/plain": [
       "16"
      ]
     },
     "execution_count": 20,
     "metadata": {},
     "output_type": "execute_result"
    }
   ],
   "source": [
    "student_age = 16\n",
    "student_age"
   ]
  },
  {
   "cell_type": "code",
   "execution_count": 22,
   "id": "ee5e969b-1681-4968-bb54-b650fbdfb32a",
   "metadata": {},
   "outputs": [],
   "source": [
    "avg_marks = 85"
   ]
  }
 ],
 "metadata": {
  "kernelspec": {
   "display_name": "Python 3 (ipykernel)",
   "language": "python",
   "name": "python3"
  },
  "language_info": {
   "codemirror_mode": {
    "name": "ipython",
    "version": 3
   },
   "file_extension": ".py",
   "mimetype": "text/x-python",
   "name": "python",
   "nbconvert_exporter": "python",
   "pygments_lexer": "ipython3",
   "version": "3.10.10"
  }
 },
 "nbformat": 4,
 "nbformat_minor": 5
}
