{
 "cells": [
  {
   "cell_type": "markdown",
   "id": "54560a7e-8433-4d32-9d19-597da417e829",
   "metadata": {},
   "source": [
    "# String Concatenation"
   ]
  },
  {
   "cell_type": "markdown",
   "id": "df27e610-d576-4e08-aa97-139d16d7287d",
   "metadata": {},
   "source": [
    "## Using + Operator"
   ]
  },
  {
   "cell_type": "code",
   "execution_count": 2,
   "id": "24cdeed5-18b3-45ed-adb3-10c44b4fab38",
   "metadata": {},
   "outputs": [],
   "source": [
    "name1 = \"Geo\"\n",
    "name2 = \"Next\""
   ]
  },
  {
   "cell_type": "code",
   "execution_count": 4,
   "id": "984f3b41-1f62-4cd7-8bf2-a4d6f3cdb121",
   "metadata": {},
   "outputs": [
    {
     "data": {
      "text/plain": [
       "'GeoNext'"
      ]
     },
     "execution_count": 4,
     "metadata": {},
     "output_type": "execute_result"
    }
   ],
   "source": [
    "full_name = name1 + name2\n",
    "full_name"
   ]
  },
  {
   "cell_type": "code",
   "execution_count": 5,
   "id": "e2c5aeb4-25a6-4fd6-99c8-b1362aefbce1",
   "metadata": {},
   "outputs": [],
   "source": [
    "first_name = \"Krishnagopal\"\n",
    "last_name = \"Halder\""
   ]
  },
  {
   "cell_type": "code",
   "execution_count": 7,
   "id": "905a792e-3e09-48ab-81df-55b7fdae82c1",
   "metadata": {},
   "outputs": [
    {
     "data": {
      "text/plain": [
       "'Krishnagopal Halder'"
      ]
     },
     "execution_count": 7,
     "metadata": {},
     "output_type": "execute_result"
    }
   ],
   "source": [
    "full_name = first_name + \" \" + last_name\n",
    "full_name"
   ]
  },
  {
   "cell_type": "markdown",
   "id": "68d87a48-f22b-4cb8-9f9a-08dfcc08ef33",
   "metadata": {
    "tags": []
   },
   "source": [
    "## Using join() Method"
   ]
  },
  {
   "cell_type": "code",
   "execution_count": 11,
   "id": "b682c47c-e4cc-4733-a4d5-3352265aab12",
   "metadata": {},
   "outputs": [
    {
     "name": "stdout",
     "output_type": "stream",
     "text": [
      "Here I am concatinating multiple strings with join method.\n",
      "<class 'list'>\n",
      "<class 'str'>\n"
     ]
    }
   ],
   "source": [
    "words = [\"Here\", \"I\", \"am\", \"concatinating\", \"multiple\", \"strings\", \"with\", \"join\", \"method.\"]\n",
    "message = \" \".join(words)\n",
    "print(message)\n",
    "print(type(words))\n",
    "print(type(message))"
   ]
  },
  {
   "cell_type": "markdown",
   "id": "e842ebad-c809-484c-a4fc-628b40a8dafa",
   "metadata": {},
   "source": [
    "## Using % Operator"
   ]
  },
  {
   "cell_type": "code",
   "execution_count": 12,
   "id": "df12d694-f819-46b6-80b5-777db7c280c9",
   "metadata": {},
   "outputs": [
    {
     "name": "stdout",
     "output_type": "stream",
     "text": [
      "GeoNext\n"
     ]
    }
   ],
   "source": [
    "name1 = \"Geo\"\n",
    "name2 = \"Next\"\n",
    "print(\"%s%s\"%(name1, name2))"
   ]
  },
  {
   "cell_type": "markdown",
   "id": "ce1ec9dd-9eb3-4d12-a4c4-d64bd6e55173",
   "metadata": {},
   "source": [
    "## Using format() function"
   ]
  },
  {
   "cell_type": "code",
   "execution_count": 13,
   "id": "1750c603-70f9-498b-bc6a-694f18dcd118",
   "metadata": {},
   "outputs": [
    {
     "name": "stdout",
     "output_type": "stream",
     "text": [
      "Hello Krishnagopal, Thank you for joining today's Python class.\n"
     ]
    }
   ],
   "source": [
    "name = \"Krishnagopal\"\n",
    "course_name = \"Python\"\n",
    "message = \"Hello {}, Thank you for joining today's {} class.\".format(name, course_name)\n",
    "print(message)"
   ]
  },
  {
   "cell_type": "code",
   "execution_count": 16,
   "id": "4b2b0b6d-6be9-4dc7-b645-9c274277fbd9",
   "metadata": {},
   "outputs": [
    {
     "name": "stdin",
     "output_type": "stream",
     "text": [
      "What is your name? Avik Sen\n",
      "In which course you want to enroll? Python\n"
     ]
    },
    {
     "name": "stdout",
     "output_type": "stream",
     "text": [
      "Hello Avik Sen, Thank you for showing interest in Python online course.\n"
     ]
    }
   ],
   "source": [
    "# Lets use format function with user inputs.\n",
    "name = input(\"What is your name?\")\n",
    "course_name = input(\"In which course you want to enroll?\")\n",
    "message = \"Hello {}, Thank you for showing interest in {} online course.\".format(name, course_name)\n",
    "print(message)"
   ]
  },
  {
   "cell_type": "markdown",
   "id": "e33f797e-1531-4d16-8937-e1e2af87f371",
   "metadata": {},
   "source": [
    "## f Strings"
   ]
  },
  {
   "cell_type": "code",
   "execution_count": 19,
   "id": "6fe85ab9-d0ae-4486-977d-c16762f64652",
   "metadata": {},
   "outputs": [
    {
     "name": "stdout",
     "output_type": "stream",
     "text": [
      "Hello Avik Sen, Thank you for showing interest in Python online course.\n"
     ]
    }
   ],
   "source": [
    "message = f\"Hello {name}, Thank you for showing interest in {course_name} online course.\"\n",
    "print(message)"
   ]
  }
 ],
 "metadata": {
  "kernelspec": {
   "display_name": "Python 3 (ipykernel)",
   "language": "python",
   "name": "python3"
  },
  "language_info": {
   "codemirror_mode": {
    "name": "ipython",
    "version": 3
   },
   "file_extension": ".py",
   "mimetype": "text/x-python",
   "name": "python",
   "nbconvert_exporter": "python",
   "pygments_lexer": "ipython3",
   "version": "3.10.10"
  }
 },
 "nbformat": 4,
 "nbformat_minor": 5
}
