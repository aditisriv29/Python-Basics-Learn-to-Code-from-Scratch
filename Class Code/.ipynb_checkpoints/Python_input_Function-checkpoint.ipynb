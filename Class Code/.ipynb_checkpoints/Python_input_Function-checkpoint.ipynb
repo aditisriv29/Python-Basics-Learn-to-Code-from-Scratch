{
 "cells": [
  {
   "cell_type": "markdown",
   "id": "b6847fa8-0013-4466-aa86-97ea1fef1c12",
   "metadata": {},
   "source": [
    "# Python input() Function"
   ]
  },
  {
   "cell_type": "code",
   "execution_count": 1,
   "id": "80f785b5-5271-4c1a-9a67-d0672e59704f",
   "metadata": {},
   "outputs": [
    {
     "name": "stdin",
     "output_type": "stream",
     "text": [
      "Write your name:  Krishnagopal Halder\n"
     ]
    }
   ],
   "source": [
    "name = input(\"Write your name: \")"
   ]
  },
  {
   "cell_type": "code",
   "execution_count": 2,
   "id": "64f27ba1-28b6-4d05-8427-b61225a035c2",
   "metadata": {},
   "outputs": [
    {
     "name": "stdout",
     "output_type": "stream",
     "text": [
      "Krishnagopal Halder\n"
     ]
    }
   ],
   "source": [
    "print(name)"
   ]
  },
  {
   "cell_type": "code",
   "execution_count": 3,
   "id": "b2255f1e-4bd9-4274-8513-8a2e8e6cc8bd",
   "metadata": {},
   "outputs": [
    {
     "name": "stdin",
     "output_type": "stream",
     "text": [
      "What is your weight:  48\n"
     ]
    }
   ],
   "source": [
    "weight = int(input(\"What is your weight: \"))"
   ]
  },
  {
   "cell_type": "code",
   "execution_count": 4,
   "id": "aff6b59d-4c6d-483d-9a4e-9f5437365237",
   "metadata": {},
   "outputs": [
    {
     "name": "stdout",
     "output_type": "stream",
     "text": [
      "48\n"
     ]
    }
   ],
   "source": [
    "print(weight)"
   ]
  },
  {
   "cell_type": "code",
   "execution_count": 5,
   "id": "d257c793-2540-4fa9-925f-34699b0e390e",
   "metadata": {},
   "outputs": [
    {
     "data": {
      "text/plain": [
       "int"
      ]
     },
     "execution_count": 5,
     "metadata": {},
     "output_type": "execute_result"
    }
   ],
   "source": [
    "type(weight)"
   ]
  },
  {
   "cell_type": "markdown",
   "id": "40a5dca3-9f5a-4dbc-aced-00706056a2f5",
   "metadata": {},
   "source": [
    "## Taking a space-separated input in one line"
   ]
  },
  {
   "cell_type": "code",
   "execution_count": 33,
   "id": "8b50766d-263d-49f9-8bb4-66745e5c211f",
   "metadata": {},
   "outputs": [
    {
     "name": "stdin",
     "output_type": "stream",
     "text": [
      "Enter the longitude and latitude:  88.3639 22.5726\n"
     ]
    }
   ],
   "source": [
    "x, y = input(\"Enter the longitude and latitude: \").split()"
   ]
  },
  {
   "cell_type": "code",
   "execution_count": 34,
   "id": "23fd72eb-98af-4883-95fc-54bf2bbc8270",
   "metadata": {},
   "outputs": [],
   "source": [
    "x = float(x)\n",
    "y = float(y)"
   ]
  },
  {
   "cell_type": "code",
   "execution_count": 35,
   "id": "43dc1db2-90a8-4cd3-b42b-49b90bd2e546",
   "metadata": {},
   "outputs": [
    {
     "name": "stdout",
     "output_type": "stream",
     "text": [
      "The Longitude is 88.3639\n",
      "The Latitude is 22.5726\n"
     ]
    }
   ],
   "source": [
    "print(\"The Longitude is\", x)\n",
    "print(\"The Latitude is\", y)"
   ]
  },
  {
   "cell_type": "code",
   "execution_count": 36,
   "id": "dc4ef6d7-4d68-4c89-931a-5b77e3cd7cdb",
   "metadata": {},
   "outputs": [
    {
     "data": {
      "text/plain": [
       "float"
      ]
     },
     "execution_count": 36,
     "metadata": {},
     "output_type": "execute_result"
    }
   ],
   "source": [
    "type(x)"
   ]
  },
  {
   "cell_type": "code",
   "execution_count": 37,
   "id": "937e724b-bd8d-4389-b3af-fd1e7da60366",
   "metadata": {},
   "outputs": [
    {
     "data": {
      "text/plain": [
       "float"
      ]
     },
     "execution_count": 37,
     "metadata": {},
     "output_type": "execute_result"
    }
   ],
   "source": [
    "type(y)"
   ]
  },
  {
   "cell_type": "markdown",
   "id": "98daa3e7-55f3-4f8e-91f8-9805726606fd",
   "metadata": {},
   "source": [
    "# Exercise: Add two numbers"
   ]
  },
  {
   "cell_type": "code",
   "execution_count": 48,
   "id": "a2842753-da57-49bb-89eb-5032ec3e2bcb",
   "metadata": {},
   "outputs": [
    {
     "name": "stdin",
     "output_type": "stream",
     "text": [
      "Enter the first number:  10\n",
      "Enter the second number:  15\n"
     ]
    }
   ],
   "source": [
    "num1 = int(input(\"Enter the first number: \"))\n",
    "num2 = int(input(\"Enter the second number: \"))"
   ]
  },
  {
   "cell_type": "code",
   "execution_count": 49,
   "id": "16e56b0d-6b24-4f43-ba7a-d314eef9538d",
   "metadata": {},
   "outputs": [
    {
     "name": "stdout",
     "output_type": "stream",
     "text": [
      "The sum of two numbers is 25\n"
     ]
    }
   ],
   "source": [
    "user_sum = num1 + num2\n",
    "print(\"The sum of two numbers is\", user_sum)"
   ]
  }
 ],
 "metadata": {
  "kernelspec": {
   "display_name": "Python 3 (ipykernel)",
   "language": "python",
   "name": "python3"
  },
  "language_info": {
   "codemirror_mode": {
    "name": "ipython",
    "version": 3
   },
   "file_extension": ".py",
   "mimetype": "text/x-python",
   "name": "python",
   "nbconvert_exporter": "python",
   "pygments_lexer": "ipython3",
   "version": "3.10.10"
  }
 },
 "nbformat": 4,
 "nbformat_minor": 5
}
