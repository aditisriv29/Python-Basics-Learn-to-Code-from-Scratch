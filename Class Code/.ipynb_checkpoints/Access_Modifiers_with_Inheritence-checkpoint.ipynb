{
 "cells": [
  {
   "cell_type": "markdown",
   "id": "244eff54-e29a-48bf-904d-a9ae341f70f8",
   "metadata": {},
   "source": [
    "## Access Modifiers with Inheritance"
   ]
  },
  {
   "cell_type": "code",
   "execution_count": 1,
   "id": "873ec959-6afb-48db-9fb8-1de67ac6b32a",
   "metadata": {
    "tags": []
   },
   "outputs": [],
   "source": [
    "# Creating a super/parent class\n",
    "class Vehicle:\n",
    "    def __init__(self, brand, name, color, product_no):\n",
    "        self.brand = brand # public member\n",
    "        self.name = name # public member\n",
    "        self.color = color # public member\n",
    "        self.__product_no = product_no # private member\n",
    "        \n",
    "    def _set_owner(self, owner, phone): # protected member\n",
    "        self._owner = owner\n",
    "        self._phone = phone\n",
    "        \n",
    "    def _print_owner_details(self): # protected member\n",
    "        print(f\"Owner Name: {self._owner}\")\n",
    "        print(f\"Phone No: {self._phone}\")\n",
    "        \n",
    "    def print_vehicle_details(self): #public member\n",
    "        print(f\"Vehicle Brand: {self.brand}\")\n",
    "        print(f\"Vehicle Name: {self.name}\")\n",
    "        print(f\"Vehicle Color: {self.color}\")\n",
    "        \n",
    "    def __show_product_no(self): # private member\n",
    "        print(f\"Vehicle Product No: {self.__product_no}\")"
   ]
  },
  {
   "cell_type": "code",
   "execution_count": 2,
   "id": "244319e6-737f-4cf9-9be9-126cf458af0b",
   "metadata": {
    "tags": []
   },
   "outputs": [],
   "source": [
    "#  Create an instance from the Vehicle class\n",
    "vehicle1 = Vehicle(\"Maruti\", \"Maruti 800\", \"White\", 1001)"
   ]
  },
  {
   "cell_type": "code",
   "execution_count": 3,
   "id": "a83edd9a-0aa9-4818-a240-37074bec3349",
   "metadata": {
    "tags": []
   },
   "outputs": [
    {
     "name": "stdout",
     "output_type": "stream",
     "text": [
      "Vehicle Brand: Maruti\n",
      "Vehicle Name: Maruti 800\n",
      "Vehicle Color: White\n"
     ]
    }
   ],
   "source": [
    "vehicle1.print_vehicle_details()"
   ]
  },
  {
   "cell_type": "code",
   "execution_count": 4,
   "id": "7f930beb-91b1-4478-99db-11b3e0bf46f0",
   "metadata": {
    "tags": []
   },
   "outputs": [],
   "source": [
    "vehicle1._set_owner(\"Ajay Ghosh\", 6254864958)"
   ]
  },
  {
   "cell_type": "code",
   "execution_count": 5,
   "id": "4b71382e-d04f-47dd-b358-22bf8004f24f",
   "metadata": {
    "tags": []
   },
   "outputs": [
    {
     "name": "stdout",
     "output_type": "stream",
     "text": [
      "Owner Name: Ajay Ghosh\n",
      "Phone No: 6254864958\n"
     ]
    }
   ],
   "source": [
    "vehicle1._print_owner_details()"
   ]
  },
  {
   "cell_type": "code",
   "execution_count": 6,
   "id": "38405c0d-1c0e-460d-98af-f809389e78a1",
   "metadata": {
    "tags": []
   },
   "outputs": [
    {
     "data": {
      "text/plain": [
       "1001"
      ]
     },
     "execution_count": 6,
     "metadata": {},
     "output_type": "execute_result"
    }
   ],
   "source": [
    "vehicle1._Vehicle__product_no"
   ]
  },
  {
   "cell_type": "code",
   "execution_count": 8,
   "id": "9901a42c-9aac-4865-b7c6-06f8af23f154",
   "metadata": {
    "tags": []
   },
   "outputs": [
    {
     "name": "stdout",
     "output_type": "stream",
     "text": [
      "Vehicle Product No: 1001\n"
     ]
    }
   ],
   "source": [
    "vehicle1._Vehicle__show_product_no() # Name Mangling"
   ]
  },
  {
   "cell_type": "code",
   "execution_count": 9,
   "id": "29738f78-f2b0-44d4-9e7a-3e94bde1c415",
   "metadata": {
    "tags": []
   },
   "outputs": [],
   "source": [
    "# Creating a sub/child class\n",
    "class Car(Vehicle):\n",
    "    def __init__(self, brand, name, color):\n",
    "        super().__init__(brand, name, color, None)      "
   ]
  },
  {
   "cell_type": "code",
   "execution_count": 10,
   "id": "ca9ed67b-c980-4b88-9966-136e9852b1f0",
   "metadata": {
    "tags": []
   },
   "outputs": [],
   "source": [
    "# Create an instance from Car class\n",
    "car1 = Car(\"Ferrari\", \"Ferrai XZ\", \"Black\")"
   ]
  },
  {
   "cell_type": "code",
   "execution_count": 11,
   "id": "d02e4bd4-7527-4d5e-96e2-a4945e337609",
   "metadata": {
    "tags": []
   },
   "outputs": [
    {
     "name": "stdout",
     "output_type": "stream",
     "text": [
      "Vehicle Brand: Ferrari\n",
      "Vehicle Name: Ferrai XZ\n",
      "Vehicle Color: Black\n"
     ]
    }
   ],
   "source": [
    "car1.print_vehicle_details()"
   ]
  },
  {
   "cell_type": "code",
   "execution_count": 12,
   "id": "7e7824bd-f930-4c5e-a4c9-a70e81c37138",
   "metadata": {
    "tags": []
   },
   "outputs": [],
   "source": [
    "car1._set_owner(\"Dip Ghosh\", 7182648975)"
   ]
  },
  {
   "cell_type": "code",
   "execution_count": 13,
   "id": "ebd61450-ada8-4d15-8d87-d5c7894b6b02",
   "metadata": {
    "tags": []
   },
   "outputs": [
    {
     "name": "stdout",
     "output_type": "stream",
     "text": [
      "Owner Name: Dip Ghosh\n",
      "Phone No: 7182648975\n"
     ]
    }
   ],
   "source": [
    "car1._print_owner_details()"
   ]
  },
  {
   "cell_type": "code",
   "execution_count": 16,
   "id": "9ae4f001-23af-4bb3-8777-0024f071a2eb",
   "metadata": {
    "tags": []
   },
   "outputs": [],
   "source": [
    "# car1._Car__product_no \n",
    "# This will throw an error. Private members cannot be accessed from outside the class."
   ]
  }
 ],
 "metadata": {
  "kernelspec": {
   "display_name": "Python 3 (ipykernel)",
   "language": "python",
   "name": "python3"
  },
  "language_info": {
   "codemirror_mode": {
    "name": "ipython",
    "version": 3
   },
   "file_extension": ".py",
   "mimetype": "text/x-python",
   "name": "python",
   "nbconvert_exporter": "python",
   "pygments_lexer": "ipython3",
   "version": "3.10.9"
  }
 },
 "nbformat": 4,
 "nbformat_minor": 5
}
