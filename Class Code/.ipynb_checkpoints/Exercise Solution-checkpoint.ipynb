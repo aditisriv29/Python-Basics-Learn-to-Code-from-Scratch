{
 "cells": [
  {
   "cell_type": "markdown",
   "id": "8b72f51c-284e-4fe2-ab25-6211b64531ff",
   "metadata": {},
   "source": [
    "## Exercise Solution"
   ]
  },
  {
   "cell_type": "markdown",
   "id": "fa64593c-4462-4c2c-b2c9-5af4f69d80f9",
   "metadata": {},
   "source": [
    "## Temperature Converter"
   ]
  },
  {
   "cell_type": "code",
   "execution_count": 3,
   "id": "121baad0-7fd0-4391-a9a0-aa2de704fca8",
   "metadata": {},
   "outputs": [
    {
     "name": "stdin",
     "output_type": "stream",
     "text": [
      "Enter the temperature in C:  35\n",
      "Enter the Scale (F, K) F\n"
     ]
    }
   ],
   "source": [
    "temp = int(input(\"Enter the temperature in C: \"))\n",
    "scale = input(\"Enter the Scale (F, K)\")"
   ]
  },
  {
   "cell_type": "code",
   "execution_count": 4,
   "id": "673ff578-a16b-4e43-ba89-d8dfb03286cb",
   "metadata": {},
   "outputs": [
    {
     "name": "stdout",
     "output_type": "stream",
     "text": [
      "The temperatur in Fahrenheit is 95.0\n"
     ]
    }
   ],
   "source": [
    "if scale == \"F\":\n",
    "    result = temp * (9/5) + 32\n",
    "    print(\"The temperatur in Fahrenheit is\", result)\n",
    "if  scale == \"K\":\n",
    "    result = temp + 273.15\n",
    "    print(\"The temperatur in Kelvin is\", result)"
   ]
  },
  {
   "cell_type": "markdown",
   "id": "765ff9ec-69e9-4945-98a3-96a69967992f",
   "metadata": {},
   "source": [
    "## Sum of N natural numbers"
   ]
  },
  {
   "cell_type": "code",
   "execution_count": 13,
   "id": "b40046de-b6c4-4da6-8801-fd387e3e7835",
   "metadata": {},
   "outputs": [
    {
     "name": "stdin",
     "output_type": "stream",
     "text": [
      "Enter the number upto where you want the sum of all natural numbers:  1072\n"
     ]
    }
   ],
   "source": [
    "num = int(input(\"Enter the number upto where you want the sum of all natural numbers: \"))"
   ]
  },
  {
   "cell_type": "code",
   "execution_count": 14,
   "id": "20f9b13e-c258-4cbb-960d-7cfcde291c58",
   "metadata": {
    "tags": []
   },
   "outputs": [
    {
     "name": "stdout",
     "output_type": "stream",
     "text": [
      "The sum of all natural numbers upto 1072 is\n",
      "575128\n"
     ]
    }
   ],
   "source": [
    "mySum = 0\n",
    "for i in range(1, num+1):\n",
    "    mySum += i\n",
    "    \n",
    "print(\"The sum of all natural numbers upto\", num, \"is\")\n",
    "print(mySum)"
   ]
  },
  {
   "cell_type": "markdown",
   "id": "7b498bd5-4db6-45f1-a2c8-e257566e54ad",
   "metadata": {},
   "source": [
    "## Number Comparison"
   ]
  },
  {
   "cell_type": "code",
   "execution_count": 20,
   "id": "80ff630e-89c8-4b45-8c71-788ebb1f52ff",
   "metadata": {},
   "outputs": [
    {
     "name": "stdin",
     "output_type": "stream",
     "text": [
      "Enter the first number:  125\n",
      "Enter the second number:  120\n"
     ]
    }
   ],
   "source": [
    "num1 = int(input(\"Enter the first number: \"))\n",
    "num2 = int(input(\"Enter the second number: \"))"
   ]
  },
  {
   "cell_type": "code",
   "execution_count": 21,
   "id": "a5b2f052-bb18-4acf-87a2-7935256baaa6",
   "metadata": {},
   "outputs": [
    {
     "name": "stdout",
     "output_type": "stream",
     "text": [
      "First number is greater than the Second number.\n"
     ]
    }
   ],
   "source": [
    "if num1 == num2:\n",
    "    print(\"Both numbers are same.\")\n",
    "elif num1 > num2:\n",
    "    print(\"First number is greater than the Second number.\")\n",
    "else:\n",
    "    print(\"Second number is greater than the First number.\")"
   ]
  }
 ],
 "metadata": {
  "kernelspec": {
   "display_name": "Python 3 (ipykernel)",
   "language": "python",
   "name": "python3"
  },
  "language_info": {
   "codemirror_mode": {
    "name": "ipython",
    "version": 3
   },
   "file_extension": ".py",
   "mimetype": "text/x-python",
   "name": "python",
   "nbconvert_exporter": "python",
   "pygments_lexer": "ipython3",
   "version": "3.10.10"
  }
 },
 "nbformat": 4,
 "nbformat_minor": 5
}
