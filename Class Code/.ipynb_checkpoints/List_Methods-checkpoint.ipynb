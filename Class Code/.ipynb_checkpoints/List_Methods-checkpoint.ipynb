{
 "cells": [
  {
   "cell_type": "markdown",
   "id": "e2f36d5a-03b0-4e16-9a85-22d712205ab1",
   "metadata": {},
   "source": [
    "# List Methods"
   ]
  },
  {
   "cell_type": "code",
   "execution_count": 1,
   "id": "4df9563f-5339-47b7-bb78-2e5a6648d1f8",
   "metadata": {},
   "outputs": [],
   "source": [
    "myList = [1, 2, 3, 4, 5]"
   ]
  },
  {
   "cell_type": "markdown",
   "id": "634a59eb-b937-4122-9f56-88a8a4174680",
   "metadata": {},
   "source": [
    "### Accessing and Modifying List Elements"
   ]
  },
  {
   "cell_type": "markdown",
   "id": "1e2d9d0a-70ad-4bea-9709-a7fc16fd87ef",
   "metadata": {},
   "source": [
    "### append()"
   ]
  },
  {
   "cell_type": "code",
   "execution_count": 2,
   "id": "6020d496-c196-47c7-a75d-25fe06660c86",
   "metadata": {},
   "outputs": [
    {
     "data": {
      "text/plain": [
       "[1, 2, 3, 4, 5, 6]"
      ]
     },
     "execution_count": 2,
     "metadata": {},
     "output_type": "execute_result"
    }
   ],
   "source": [
    "myList.append(6)\n",
    "myList"
   ]
  },
  {
   "cell_type": "markdown",
   "id": "0ad1ac73-96f6-4c84-bd35-650bf00c7a2c",
   "metadata": {},
   "source": [
    "### insert()"
   ]
  },
  {
   "cell_type": "code",
   "execution_count": 3,
   "id": "e719fb9d-3fcf-4dab-a659-ea759cd44eb6",
   "metadata": {},
   "outputs": [
    {
     "data": {
      "text/plain": [
       "[0.5, 1, 2, 3, 4, 5, 6]"
      ]
     },
     "execution_count": 3,
     "metadata": {},
     "output_type": "execute_result"
    }
   ],
   "source": [
    "myList.insert(0, 0.5)\n",
    "myList"
   ]
  },
  {
   "cell_type": "code",
   "execution_count": 4,
   "id": "a027395c-b59f-4fcc-a36d-16307bfe18c7",
   "metadata": {},
   "outputs": [
    {
     "data": {
      "text/plain": [
       "[0.5, 1, 2, 3, 3.5, 4, 5, 6]"
      ]
     },
     "execution_count": 4,
     "metadata": {},
     "output_type": "execute_result"
    }
   ],
   "source": [
    "myList.insert(4, 3.5)\n",
    "myList"
   ]
  },
  {
   "cell_type": "markdown",
   "id": "97098a6f-c55f-4873-8f65-d36466f97545",
   "metadata": {},
   "source": [
    "### extend()"
   ]
  },
  {
   "cell_type": "code",
   "execution_count": 5,
   "id": "a476bda0-2bae-4169-9f60-0782b6a53b89",
   "metadata": {},
   "outputs": [
    {
     "data": {
      "text/plain": [
       "[1, 2, 3, 4, 5, 6]"
      ]
     },
     "execution_count": 5,
     "metadata": {},
     "output_type": "execute_result"
    }
   ],
   "source": [
    "lst1 = [1, 2, 3]\n",
    "lst2 = [4, 5, 6]\n",
    "lst1.extend(lst2)\n",
    "lst1"
   ]
  },
  {
   "cell_type": "code",
   "execution_count": 6,
   "id": "8c0dc77d-05da-44da-bd0d-248158cbaaca",
   "metadata": {},
   "outputs": [
    {
     "data": {
      "text/plain": [
       "[4, 5, 6]"
      ]
     },
     "execution_count": 6,
     "metadata": {},
     "output_type": "execute_result"
    }
   ],
   "source": [
    "lst2"
   ]
  },
  {
   "cell_type": "markdown",
   "id": "290b0318-b3d6-4405-adae-6101612301b3",
   "metadata": {},
   "source": [
    "### remove()"
   ]
  },
  {
   "cell_type": "code",
   "execution_count": 7,
   "id": "5b461395-cbc4-41b0-b59a-f9c1d003d347",
   "metadata": {},
   "outputs": [],
   "source": [
    "fruitList = [\"Mango\", \"Orange\", \"Watermelon\", \"Grapes\"]"
   ]
  },
  {
   "cell_type": "code",
   "execution_count": 8,
   "id": "42498f78-2d64-4802-8e1f-ad98af36a4d8",
   "metadata": {},
   "outputs": [
    {
     "data": {
      "text/plain": [
       "['Mango', 'Watermelon', 'Grapes']"
      ]
     },
     "execution_count": 8,
     "metadata": {},
     "output_type": "execute_result"
    }
   ],
   "source": [
    "fruitList.remove(\"Orange\")\n",
    "fruitList"
   ]
  },
  {
   "cell_type": "markdown",
   "id": "367e3bb8-79be-4321-a464-3c5d45fb172b",
   "metadata": {},
   "source": [
    "### pop()"
   ]
  },
  {
   "cell_type": "code",
   "execution_count": 9,
   "id": "659916c4-759f-4126-bf15-3c7af415bf6b",
   "metadata": {},
   "outputs": [],
   "source": [
    "fruitList = [\"Mango\", \"Orange\", \"Watermelon\", \"Grapes\"]"
   ]
  },
  {
   "cell_type": "code",
   "execution_count": 10,
   "id": "1bb0269b-87c5-4e6a-9acf-ab5cc53e38cf",
   "metadata": {},
   "outputs": [
    {
     "data": {
      "text/plain": [
       "['Mango', 'Orange', 'Watermelon']"
      ]
     },
     "execution_count": 10,
     "metadata": {},
     "output_type": "execute_result"
    }
   ],
   "source": [
    "fruitList.pop()\n",
    "fruitList"
   ]
  },
  {
   "cell_type": "code",
   "execution_count": 11,
   "id": "4fd2794d-7b47-45e7-97e2-d687e909a964",
   "metadata": {},
   "outputs": [
    {
     "data": {
      "text/plain": [
       "['Mango', 'Watermelon']"
      ]
     },
     "execution_count": 11,
     "metadata": {},
     "output_type": "execute_result"
    }
   ],
   "source": [
    "fruitList.pop(1)\n",
    "fruitList"
   ]
  },
  {
   "cell_type": "markdown",
   "id": "4b38248f-2196-454e-b0eb-68995bfbf74a",
   "metadata": {},
   "source": [
    "### index()"
   ]
  },
  {
   "cell_type": "code",
   "execution_count": 12,
   "id": "630f9e6f-46f4-4a91-8601-541517400f2a",
   "metadata": {},
   "outputs": [],
   "source": [
    "my_nums = [1, 2, 1, 7, 5, 5, 3, 2]"
   ]
  },
  {
   "cell_type": "code",
   "execution_count": 13,
   "id": "78e08dc5-2443-4027-97cd-9439f445bde5",
   "metadata": {},
   "outputs": [
    {
     "data": {
      "text/plain": [
       "3"
      ]
     },
     "execution_count": 13,
     "metadata": {},
     "output_type": "execute_result"
    }
   ],
   "source": [
    "my_nums.index(7)"
   ]
  },
  {
   "cell_type": "code",
   "execution_count": 14,
   "id": "1256a0f5-d9d3-4803-ba08-08c49c17ca0c",
   "metadata": {},
   "outputs": [
    {
     "data": {
      "text/plain": [
       "4"
      ]
     },
     "execution_count": 14,
     "metadata": {},
     "output_type": "execute_result"
    }
   ],
   "source": [
    "my_nums.index(5)"
   ]
  },
  {
   "cell_type": "code",
   "execution_count": 15,
   "id": "fae58143-b9be-4e27-972d-bfa03f54c603",
   "metadata": {},
   "outputs": [
    {
     "data": {
      "text/plain": [
       "1"
      ]
     },
     "execution_count": 15,
     "metadata": {},
     "output_type": "execute_result"
    }
   ],
   "source": [
    "my_nums.index(2)"
   ]
  },
  {
   "cell_type": "markdown",
   "id": "35280810-f422-4572-8986-3f42ee81fc74",
   "metadata": {},
   "source": [
    "### count()"
   ]
  },
  {
   "cell_type": "code",
   "execution_count": 16,
   "id": "b38bca64-e008-4d13-99bf-19771918b5a3",
   "metadata": {},
   "outputs": [
    {
     "data": {
      "text/plain": [
       "2"
      ]
     },
     "execution_count": 16,
     "metadata": {},
     "output_type": "execute_result"
    }
   ],
   "source": [
    "my_nums.count(5)"
   ]
  },
  {
   "cell_type": "code",
   "execution_count": 17,
   "id": "cd2eaa53-2cec-4962-8960-d2e2e36e60e8",
   "metadata": {},
   "outputs": [
    {
     "data": {
      "text/plain": [
       "1"
      ]
     },
     "execution_count": 17,
     "metadata": {},
     "output_type": "execute_result"
    }
   ],
   "source": [
    "my_nums.count(7)"
   ]
  },
  {
   "cell_type": "code",
   "execution_count": 18,
   "id": "43003066-406d-4d57-b22c-066a7431ec49",
   "metadata": {},
   "outputs": [
    {
     "data": {
      "text/plain": [
       "2"
      ]
     },
     "execution_count": 18,
     "metadata": {},
     "output_type": "execute_result"
    }
   ],
   "source": [
    "my_nums.count(2)"
   ]
  },
  {
   "cell_type": "markdown",
   "id": "13fd7dab-d3e9-4afa-8ba6-6231acbe371d",
   "metadata": {},
   "source": [
    "### Sorting and Reversing Lists"
   ]
  },
  {
   "cell_type": "markdown",
   "id": "84831405-e2f0-45be-8011-4ebf08761354",
   "metadata": {},
   "source": [
    "### sort()"
   ]
  },
  {
   "cell_type": "code",
   "execution_count": 19,
   "id": "99bfa074-bff2-47fe-bcd7-b7127d3c2446",
   "metadata": {},
   "outputs": [],
   "source": [
    "my_list = [1, 5, 6, 4, 2, 1, 0, 9, 8]"
   ]
  },
  {
   "cell_type": "code",
   "execution_count": 20,
   "id": "86fcdbf8-3016-4852-a48a-00d260f35972",
   "metadata": {},
   "outputs": [],
   "source": [
    "my_list.sort(reverse=True)"
   ]
  },
  {
   "cell_type": "code",
   "execution_count": 21,
   "id": "267eae70-9eb3-4e47-86e6-314a43b4fefd",
   "metadata": {},
   "outputs": [
    {
     "data": {
      "text/plain": [
       "[9, 8, 6, 5, 4, 2, 1, 1, 0]"
      ]
     },
     "execution_count": 21,
     "metadata": {},
     "output_type": "execute_result"
    }
   ],
   "source": [
    "my_list"
   ]
  },
  {
   "cell_type": "markdown",
   "id": "1c6120e0-2036-47a4-b879-a2b22bc3f46d",
   "metadata": {},
   "source": [
    "### reverse()"
   ]
  },
  {
   "cell_type": "code",
   "execution_count": 22,
   "id": "c8724b16-2ad9-45a4-96a0-536e1a54fc9f",
   "metadata": {},
   "outputs": [
    {
     "data": {
      "text/plain": [
       "[9, 8, 6, 5, 4, 2, 1, 1, 0]"
      ]
     },
     "execution_count": 22,
     "metadata": {},
     "output_type": "execute_result"
    }
   ],
   "source": [
    "my_list"
   ]
  },
  {
   "cell_type": "code",
   "execution_count": 23,
   "id": "e8ccf65e-d8eb-4620-b338-df461c36946d",
   "metadata": {},
   "outputs": [
    {
     "data": {
      "text/plain": [
       "[0, 1, 1, 2, 4, 5, 6, 8, 9]"
      ]
     },
     "execution_count": 23,
     "metadata": {},
     "output_type": "execute_result"
    }
   ],
   "source": [
    "my_list.reverse()\n",
    "my_list"
   ]
  },
  {
   "cell_type": "markdown",
   "id": "4e8fdc76-c6d3-473f-8c95-b436b77f2a36",
   "metadata": {},
   "source": [
    "### Other List Operations"
   ]
  },
  {
   "cell_type": "markdown",
   "id": "59d0c2ea-46e7-416c-aa44-9e71e88b0d93",
   "metadata": {},
   "source": [
    "### len()"
   ]
  },
  {
   "cell_type": "code",
   "execution_count": 25,
   "id": "17915f0b-df76-4214-a907-b3c5ae3d2672",
   "metadata": {},
   "outputs": [
    {
     "data": {
      "text/plain": [
       "9"
      ]
     },
     "execution_count": 25,
     "metadata": {},
     "output_type": "execute_result"
    }
   ],
   "source": [
    "len(my_list) "
   ]
  },
  {
   "cell_type": "markdown",
   "id": "73528a4e-71b4-45d8-b83d-f4df77c27b4d",
   "metadata": {},
   "source": [
    "### clear()"
   ]
  },
  {
   "cell_type": "code",
   "execution_count": 26,
   "id": "add1fd77-e199-4812-b027-bda1bd4e6cdf",
   "metadata": {},
   "outputs": [
    {
     "data": {
      "text/plain": [
       "[0, 1, 1, 2, 4, 5, 6, 8, 9]"
      ]
     },
     "execution_count": 26,
     "metadata": {},
     "output_type": "execute_result"
    }
   ],
   "source": [
    "my_list"
   ]
  },
  {
   "cell_type": "code",
   "execution_count": 27,
   "id": "83caba9a-a979-42db-807e-0e72aad6d7ed",
   "metadata": {},
   "outputs": [
    {
     "data": {
      "text/plain": [
       "[]"
      ]
     },
     "execution_count": 27,
     "metadata": {},
     "output_type": "execute_result"
    }
   ],
   "source": [
    "my_list.clear()\n",
    "my_list"
   ]
  },
  {
   "cell_type": "markdown",
   "id": "2b448c13-f9e3-44e0-9f65-c35d52e204b9",
   "metadata": {},
   "source": [
    "### copy()"
   ]
  },
  {
   "cell_type": "code",
   "execution_count": 29,
   "id": "3edd5503-dd2b-4d1a-be39-d8983ed7488b",
   "metadata": {},
   "outputs": [
    {
     "data": {
      "text/plain": [
       "[1, 2, 3]"
      ]
     },
     "execution_count": 29,
     "metadata": {},
     "output_type": "execute_result"
    }
   ],
   "source": [
    "my_list1 = [1, 2, 3]\n",
    "copied_list = my_list1.copy()\n",
    "copied_list"
   ]
  }
 ],
 "metadata": {
  "kernelspec": {
   "display_name": "Python 3 (ipykernel)",
   "language": "python",
   "name": "python3"
  },
  "language_info": {
   "codemirror_mode": {
    "name": "ipython",
    "version": 3
   },
   "file_extension": ".py",
   "mimetype": "text/x-python",
   "name": "python",
   "nbconvert_exporter": "python",
   "pygments_lexer": "ipython3",
   "version": "3.10.10"
  }
 },
 "nbformat": 4,
 "nbformat_minor": 5
}
