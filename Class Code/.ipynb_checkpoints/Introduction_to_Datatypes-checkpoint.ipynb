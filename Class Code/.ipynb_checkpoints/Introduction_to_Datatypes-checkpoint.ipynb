{
 "cells": [
  {
   "cell_type": "markdown",
   "id": "84124a08-0b2b-4c91-9347-ae28e7ee0366",
   "metadata": {},
   "source": [
    "# Introduction to Datatypes"
   ]
  },
  {
   "cell_type": "markdown",
   "id": "56341c4d-6f2e-4592-bb50-3d798870e12d",
   "metadata": {},
   "source": [
    "## Integer Datatype"
   ]
  },
  {
   "cell_type": "code",
   "execution_count": 1,
   "id": "9f84adb2-56b4-42ab-84d9-7e0a2444cf99",
   "metadata": {},
   "outputs": [
    {
     "data": {
      "text/plain": [
       "10"
      ]
     },
     "execution_count": 1,
     "metadata": {},
     "output_type": "execute_result"
    }
   ],
   "source": [
    "myInt = 10\n",
    "myInt"
   ]
  },
  {
   "cell_type": "code",
   "execution_count": 2,
   "id": "8e9d72f2-9ec0-4eef-9493-fa7ae04728ab",
   "metadata": {},
   "outputs": [
    {
     "data": {
      "text/plain": [
       "int"
      ]
     },
     "execution_count": 2,
     "metadata": {},
     "output_type": "execute_result"
    }
   ],
   "source": [
    "# To check the datatype of any variable we can use python built-in type() function\n",
    "type(myInt)"
   ]
  },
  {
   "cell_type": "code",
   "execution_count": 3,
   "id": "c0d6caa1-0e14-42ce-bdd4-094711661b0a",
   "metadata": {},
   "outputs": [
    {
     "data": {
      "text/plain": [
       "-10"
      ]
     },
     "execution_count": 3,
     "metadata": {},
     "output_type": "execute_result"
    }
   ],
   "source": [
    "myInt2 = -10\n",
    "myInt2"
   ]
  },
  {
   "cell_type": "code",
   "execution_count": 4,
   "id": "a65df3f5-d842-45b2-8e5a-651218b70e1f",
   "metadata": {},
   "outputs": [
    {
     "data": {
      "text/plain": [
       "int"
      ]
     },
     "execution_count": 4,
     "metadata": {},
     "output_type": "execute_result"
    }
   ],
   "source": [
    "type(myInt2)"
   ]
  },
  {
   "cell_type": "markdown",
   "id": "7ad59fc9-f66f-4450-bb68-65759093cd25",
   "metadata": {},
   "source": [
    "## Float Datatype"
   ]
  },
  {
   "cell_type": "code",
   "execution_count": 5,
   "id": "96363821-f083-4684-b992-3d50502eaa3c",
   "metadata": {},
   "outputs": [
    {
     "data": {
      "text/plain": [
       "3.5"
      ]
     },
     "execution_count": 5,
     "metadata": {},
     "output_type": "execute_result"
    }
   ],
   "source": [
    "myFloat1 = 3.5\n",
    "myFloat1"
   ]
  },
  {
   "cell_type": "code",
   "execution_count": 6,
   "id": "96c5e58e-ffc9-4719-9c2f-952e34c5b1c2",
   "metadata": {},
   "outputs": [
    {
     "data": {
      "text/plain": [
       "float"
      ]
     },
     "execution_count": 6,
     "metadata": {},
     "output_type": "execute_result"
    }
   ],
   "source": [
    "type(myFloat1)"
   ]
  },
  {
   "cell_type": "code",
   "execution_count": 7,
   "id": "e53336c0-b986-4189-8e8a-68d401dd4285",
   "metadata": {},
   "outputs": [
    {
     "data": {
      "text/plain": [
       "-3.5"
      ]
     },
     "execution_count": 7,
     "metadata": {},
     "output_type": "execute_result"
    }
   ],
   "source": [
    "myFloat2 = -3.5\n",
    "myFloat2"
   ]
  },
  {
   "cell_type": "code",
   "execution_count": 8,
   "id": "38464c72-267b-4be5-8f3a-8a0a0077e1e3",
   "metadata": {},
   "outputs": [
    {
     "data": {
      "text/plain": [
       "float"
      ]
     },
     "execution_count": 8,
     "metadata": {},
     "output_type": "execute_result"
    }
   ],
   "source": [
    "type(myFloat2)"
   ]
  },
  {
   "cell_type": "markdown",
   "id": "4ccb7db6-6ac6-4aac-b164-e0cd32402228",
   "metadata": {},
   "source": [
    "## String Datatype"
   ]
  },
  {
   "cell_type": "code",
   "execution_count": 9,
   "id": "5dce0bc8-92e8-485b-bbf3-e5aa6d5fd126",
   "metadata": {},
   "outputs": [
    {
     "data": {
      "text/plain": [
       "str"
      ]
     },
     "execution_count": 9,
     "metadata": {},
     "output_type": "execute_result"
    }
   ],
   "source": [
    "myStr1 = \"Hello World!\"\n",
    "myStr1\n",
    "type(myStr1)"
   ]
  },
  {
   "cell_type": "code",
   "execution_count": 10,
   "id": "b289b6be-0eb6-440e-8572-8db4db03153c",
   "metadata": {},
   "outputs": [
    {
     "data": {
      "text/plain": [
       "str"
      ]
     },
     "execution_count": 10,
     "metadata": {},
     "output_type": "execute_result"
    }
   ],
   "source": [
    "myStr2 = \"123\"\n",
    "type(myStr2)"
   ]
  },
  {
   "cell_type": "markdown",
   "id": "015bb7d4-0e9c-4f6d-b411-294175da54a8",
   "metadata": {},
   "source": [
    "## Boolean Datatype"
   ]
  },
  {
   "cell_type": "code",
   "execution_count": 11,
   "id": "48e546a3-da71-4855-9833-b6d3b5d2e0aa",
   "metadata": {},
   "outputs": [
    {
     "data": {
      "text/plain": [
       "bool"
      ]
     },
     "execution_count": 11,
     "metadata": {},
     "output_type": "execute_result"
    }
   ],
   "source": [
    "myBool1 = True\n",
    "type(myBool1)"
   ]
  },
  {
   "cell_type": "code",
   "execution_count": 12,
   "id": "2cc61187-20a4-4b49-8459-7214b62bac5c",
   "metadata": {},
   "outputs": [
    {
     "data": {
      "text/plain": [
       "bool"
      ]
     },
     "execution_count": 12,
     "metadata": {},
     "output_type": "execute_result"
    }
   ],
   "source": [
    "myBool2 = False\n",
    "type(myBool2)"
   ]
  },
  {
   "cell_type": "code",
   "execution_count": 13,
   "id": "7a489f1b-b05a-44d4-88a3-725caf9842c8",
   "metadata": {},
   "outputs": [],
   "source": [
    "is_passed = True "
   ]
  },
  {
   "cell_type": "markdown",
   "id": "6569e88d-e790-4272-bb20-b219246cb378",
   "metadata": {},
   "source": [
    "## List Datatype"
   ]
  },
  {
   "cell_type": "code",
   "execution_count": 14,
   "id": "e4bf358b-f9a1-46f2-a6b3-8c7a732137af",
   "metadata": {},
   "outputs": [
    {
     "data": {
      "text/plain": [
       "list"
      ]
     },
     "execution_count": 14,
     "metadata": {},
     "output_type": "execute_result"
    }
   ],
   "source": [
    "myList1 = [1, 2, 3, 4, 5]\n",
    "type(myList1)"
   ]
  },
  {
   "cell_type": "code",
   "execution_count": 15,
   "id": "9bf9660c-2fbc-47e9-afb4-1855f083fe16",
   "metadata": {},
   "outputs": [
    {
     "data": {
      "text/plain": [
       "['apple', 'orange', 'jam', 'cold-drinks', 'sweets']"
      ]
     },
     "execution_count": 15,
     "metadata": {},
     "output_type": "execute_result"
    }
   ],
   "source": [
    "shopping_list = [\"apple\", \"orange\", \"jam\", \"cold-drinks\", \"sweets\"]\n",
    "shopping_list"
   ]
  },
  {
   "cell_type": "code",
   "execution_count": 16,
   "id": "638f5b00-04ce-4dde-a467-c4e8458a53ae",
   "metadata": {},
   "outputs": [
    {
     "data": {
      "text/plain": [
       "list"
      ]
     },
     "execution_count": 16,
     "metadata": {},
     "output_type": "execute_result"
    }
   ],
   "source": [
    "type(shopping_list)"
   ]
  },
  {
   "cell_type": "code",
   "execution_count": 17,
   "id": "e54970cc-99e3-4dec-ab13-b7c02a2e7873",
   "metadata": {},
   "outputs": [
    {
     "data": {
      "text/plain": [
       "list"
      ]
     },
     "execution_count": 17,
     "metadata": {},
     "output_type": "execute_result"
    }
   ],
   "source": [
    "# In a list datatype, you can store different datattypes\n",
    "myList2 = [1, 2.5, \"apple\", False]\n",
    "type(myList2)"
   ]
  },
  {
   "cell_type": "code",
   "execution_count": 18,
   "id": "9059cbb7-9845-4ddc-8ee1-7499ec120dab",
   "metadata": {},
   "outputs": [
    {
     "data": {
      "text/plain": [
       "list"
      ]
     },
     "execution_count": 18,
     "metadata": {},
     "output_type": "execute_result"
    }
   ],
   "source": [
    "myList3 = [1]\n",
    "type(myList3)"
   ]
  },
  {
   "cell_type": "markdown",
   "id": "c86060d7-ea48-4f57-ba83-2725a9ec39df",
   "metadata": {},
   "source": [
    "## Tuple Datatype"
   ]
  },
  {
   "cell_type": "code",
   "execution_count": 19,
   "id": "dc11dfab-8b9b-4248-9489-e694589f49a9",
   "metadata": {},
   "outputs": [
    {
     "data": {
      "text/plain": [
       "tuple"
      ]
     },
     "execution_count": 19,
     "metadata": {},
     "output_type": "execute_result"
    }
   ],
   "source": [
    "myTuple1 = (1, 2, 3, 4, 5)\n",
    "type(myTuple1)"
   ]
  },
  {
   "cell_type": "code",
   "execution_count": 20,
   "id": "a3bec4d2-41a7-4ddb-b826-cfae2dbadfa6",
   "metadata": {},
   "outputs": [
    {
     "data": {
      "text/plain": [
       "('orange', 'mango', 'milk', 'brush', 'ice-cream')"
      ]
     },
     "execution_count": 20,
     "metadata": {},
     "output_type": "execute_result"
    }
   ],
   "source": [
    "shopping_list2 = (\"orange\", \"mango\", \"milk\", \"brush\", \"ice-cream\")\n",
    "shopping_list2"
   ]
  },
  {
   "cell_type": "code",
   "execution_count": 21,
   "id": "256d5449-f933-494b-995f-5cd7e188a124",
   "metadata": {},
   "outputs": [
    {
     "data": {
      "text/plain": [
       "tuple"
      ]
     },
     "execution_count": 21,
     "metadata": {},
     "output_type": "execute_result"
    }
   ],
   "source": [
    "myTuple2 = (1, 2.5, \"orange\", True)\n",
    "myTuple2\n",
    "type(myTuple2)"
   ]
  },
  {
   "cell_type": "code",
   "execution_count": 22,
   "id": "b69d21ee-4f82-442c-afd9-228d321ab14e",
   "metadata": {},
   "outputs": [
    {
     "data": {
      "text/plain": [
       "[5, 2, 3, 4, 5]"
      ]
     },
     "execution_count": 22,
     "metadata": {},
     "output_type": "execute_result"
    }
   ],
   "source": [
    "# Lists are mutable, means the value of a list item can be changed\n",
    "myList1[0] = 5\n",
    "myList1"
   ]
  },
  {
   "cell_type": "code",
   "execution_count": 23,
   "id": "87137a2a-c0fc-4bc7-b00c-64f657fc8168",
   "metadata": {},
   "outputs": [],
   "source": [
    "# Tuples are immutable, means the value of any tuple can not be changed.\n",
    "# myTuple1[0] = 5\n",
    "# myTuple1"
   ]
  },
  {
   "cell_type": "code",
   "execution_count": 24,
   "id": "d1da4230-9f15-4477-946f-68104cf25239",
   "metadata": {},
   "outputs": [],
   "source": [
    "coords_kolkata = (22.5726, 88.3639)"
   ]
  },
  {
   "cell_type": "code",
   "execution_count": 25,
   "id": "c439a758-92d3-4701-bd55-a6cbd9f9414a",
   "metadata": {},
   "outputs": [],
   "source": [
    "pop_kolkata  = [14900000]"
   ]
  },
  {
   "cell_type": "markdown",
   "id": "81a40a8f-faaa-4278-bc0b-3eb620b32e5f",
   "metadata": {},
   "source": [
    "## Set Datatype"
   ]
  },
  {
   "cell_type": "code",
   "execution_count": 26,
   "id": "bb974886-408a-48c9-8bbc-7bc0ceaf759b",
   "metadata": {},
   "outputs": [
    {
     "data": {
      "text/plain": [
       "{1, 2, 3}"
      ]
     },
     "execution_count": 26,
     "metadata": {},
     "output_type": "execute_result"
    }
   ],
   "source": [
    "mySet1 = {1, 2, 3, 3, 2, 1}\n",
    "mySet1"
   ]
  },
  {
   "cell_type": "code",
   "execution_count": 27,
   "id": "fba1f59c-2bf5-4b01-aa1d-a571e60a128f",
   "metadata": {},
   "outputs": [
    {
     "data": {
      "text/plain": [
       "{'Bikash', 'Sourin', 'Suman'}"
      ]
     },
     "execution_count": 27,
     "metadata": {},
     "output_type": "execute_result"
    }
   ],
   "source": [
    "mySet2 = {\"Suman\", \"Sourin\", \"Bikash\", \"Suman\"}\n",
    "mySet2"
   ]
  },
  {
   "cell_type": "markdown",
   "id": "79b14bac-fbfc-4212-8144-485109f4150e",
   "metadata": {},
   "source": [
    "## Dictionary Datatype"
   ]
  },
  {
   "cell_type": "code",
   "execution_count": 28,
   "id": "4722e522-f02d-40cf-8657-f2f54538742b",
   "metadata": {},
   "outputs": [],
   "source": [
    "myDict1 = {\"fruit\": \"mango\", \"color\": \"yellow\", \"is_edible\": True}"
   ]
  },
  {
   "cell_type": "code",
   "execution_count": 29,
   "id": "6d5c546f-a12d-4d85-aef7-22f9e1bd2820",
   "metadata": {},
   "outputs": [
    {
     "data": {
      "text/plain": [
       "dict"
      ]
     },
     "execution_count": 29,
     "metadata": {},
     "output_type": "execute_result"
    }
   ],
   "source": [
    "type(myDict1)"
   ]
  },
  {
   "cell_type": "code",
   "execution_count": 30,
   "id": "8fa0060f-4efc-4802-86e1-1c795095e9d9",
   "metadata": {},
   "outputs": [],
   "source": [
    "cityData = {\n",
    "    \"name\": \"Midnapore\",\n",
    "    \"coords\": (22.4257, 87.3199),\n",
    "    \"area\": 18.65,\n",
    "    \"pin\": 721101,\n",
    "    \"places\": [\"Rabindranagar\", \"Mohanpur\"]\n",
    "}"
   ]
  },
  {
   "cell_type": "code",
   "execution_count": 31,
   "id": "60b973af-fc84-4cc4-988e-df0dc0c5933a",
   "metadata": {},
   "outputs": [
    {
     "data": {
      "text/plain": [
       "float"
      ]
     },
     "execution_count": 31,
     "metadata": {},
     "output_type": "execute_result"
    }
   ],
   "source": [
    "type(cityData[\"area\"])"
   ]
  },
  {
   "cell_type": "code",
   "execution_count": 32,
   "id": "b5160065-2769-4d57-81ce-114867fee389",
   "metadata": {},
   "outputs": [],
   "source": [
    "# Creating a complex dictionary\n",
    "citiesData = {\n",
    "    \"name\": \"Mumbai\", \n",
    "    \"coords\": (19.0760, 72.8777), \n",
    "    \"pop\": 21297000,\n",
    "    \"area\":  603.4\n",
    "}"
   ]
  },
  {
   "cell_type": "code",
   "execution_count": 33,
   "id": "cb639396-2c94-4281-84a8-0ec27b588e30",
   "metadata": {},
   "outputs": [
    {
     "name": "stdout",
     "output_type": "stream",
     "text": [
      "Population Density of Mumbai City: 35295\n"
     ]
    }
   ],
   "source": [
    "popDen = round(citiesData[\"pop\"] / citiesData[\"area\"])\n",
    "print(\"Population Density of Mumbai City:\", popDen)"
   ]
  },
  {
   "cell_type": "code",
   "execution_count": 35,
   "id": "e2777f71-0946-4ff9-b0bc-ce595bb78af4",
   "metadata": {},
   "outputs": [],
   "source": [
    "cityData2 = {\n",
    "    \"Kolkata\": {\"coords\": (22.5726, 88.3639), \"pop\": 14900000},\n",
    "    \"Mumbai\": {\"coords\": (19.0010, 72.8397), \"pop\": 21297000}\n",
    "}"
   ]
  },
  {
   "cell_type": "code",
   "execution_count": 42,
   "id": "d303291b-ce4c-455b-824e-add33d226073",
   "metadata": {},
   "outputs": [
    {
     "data": {
      "text/plain": [
       "14900000"
      ]
     },
     "execution_count": 42,
     "metadata": {},
     "output_type": "execute_result"
    }
   ],
   "source": [
    "cityData2[\"Kolkata\"][\"pop\"]"
   ]
  },
  {
   "cell_type": "code",
   "execution_count": 43,
   "id": "a7961212-e43d-4700-a0d7-3b911fc0728e",
   "metadata": {},
   "outputs": [
    {
     "data": {
      "text/plain": [
       "21297000"
      ]
     },
     "execution_count": 43,
     "metadata": {},
     "output_type": "execute_result"
    }
   ],
   "source": [
    "cityData2[\"Mumbai\"][\"pop\"]"
   ]
  }
 ],
 "metadata": {
  "kernelspec": {
   "display_name": "Python 3 (ipykernel)",
   "language": "python",
   "name": "python3"
  },
  "language_info": {
   "codemirror_mode": {
    "name": "ipython",
    "version": 3
   },
   "file_extension": ".py",
   "mimetype": "text/x-python",
   "name": "python",
   "nbconvert_exporter": "python",
   "pygments_lexer": "ipython3",
   "version": "3.10.10"
  }
 },
 "nbformat": 4,
 "nbformat_minor": 5
}
