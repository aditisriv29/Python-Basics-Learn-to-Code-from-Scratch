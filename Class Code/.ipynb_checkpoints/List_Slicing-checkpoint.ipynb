{
 "cells": [
  {
   "cell_type": "markdown",
   "id": "61748592-975d-4cf1-8a03-76fa0ecb6bde",
   "metadata": {},
   "source": [
    "## List Slicing"
   ]
  },
  {
   "cell_type": "code",
   "execution_count": 2,
   "id": "d7c8e2db-4388-43c5-89b4-13046fb9341d",
   "metadata": {},
   "outputs": [],
   "source": [
    "my_list = [1, 2, 3, 4, 5, 6] \n",
    "# I want a list of first three elements"
   ]
  },
  {
   "cell_type": "code",
   "execution_count": 4,
   "id": "87a6550f-f520-4a68-8bf2-b646e6e26f48",
   "metadata": {},
   "outputs": [
    {
     "data": {
      "text/plain": [
       "[1, 2, 3]"
      ]
     },
     "execution_count": 4,
     "metadata": {},
     "output_type": "execute_result"
    }
   ],
   "source": [
    "subset_list = my_list[0:3] #3-1\n",
    "subset_list"
   ]
  },
  {
   "cell_type": "code",
   "execution_count": 5,
   "id": "7c7c33d7-8f53-443b-be45-eba35f5556c1",
   "metadata": {},
   "outputs": [
    {
     "data": {
      "text/plain": [
       "[3, 4, 5]"
      ]
     },
     "execution_count": 5,
     "metadata": {},
     "output_type": "execute_result"
    }
   ],
   "source": [
    "subset_list2 = my_list[2:5]\n",
    "subset_list2"
   ]
  },
  {
   "cell_type": "markdown",
   "id": "56a1df15-845e-4abe-8822-ef9781d2ffd9",
   "metadata": {},
   "source": [
    "### Basic List Slicing"
   ]
  },
  {
   "cell_type": "code",
   "execution_count": 6,
   "id": "c38d99fb-738e-44c4-bd94-21f9ce919553",
   "metadata": {},
   "outputs": [
    {
     "data": {
      "text/plain": [
       "[1, 2, 3, 4]"
      ]
     },
     "execution_count": 6,
     "metadata": {},
     "output_type": "execute_result"
    }
   ],
   "source": [
    "my_nums = [1, 2, 3, 4, 5, 6]\n",
    "sliced_list = my_nums[0:4]\n",
    "sliced_list"
   ]
  },
  {
   "cell_type": "markdown",
   "id": "1e067fac-4261-49f7-b51f-4d0e666d4bc6",
   "metadata": {},
   "source": [
    "### Slicing with Step"
   ]
  },
  {
   "cell_type": "code",
   "execution_count": 12,
   "id": "461e7eeb-666d-474b-b578-ac0b878ba44f",
   "metadata": {},
   "outputs": [
    {
     "data": {
      "text/plain": [
       "[1, 3, 5]"
      ]
     },
     "execution_count": 12,
     "metadata": {},
     "output_type": "execute_result"
    }
   ],
   "source": [
    "sliced_with_step = my_nums[0:5:2]\n",
    "sliced_with_step"
   ]
  },
  {
   "cell_type": "markdown",
   "id": "8a2a5fcf-4ab8-41f1-83c7-0f00a4978673",
   "metadata": {},
   "source": [
    "### Negative Indexing"
   ]
  },
  {
   "cell_type": "code",
   "execution_count": 13,
   "id": "1c018c0e-bbbd-4ba8-a31d-d74711216cd0",
   "metadata": {},
   "outputs": [],
   "source": [
    "my_nums = [1, 2, 3, 4, 5, 6]"
   ]
  },
  {
   "cell_type": "code",
   "execution_count": 21,
   "id": "da4759a9-6cdf-4ac6-a0b2-c3a92f7a15be",
   "metadata": {},
   "outputs": [
    {
     "data": {
      "text/plain": [
       "4"
      ]
     },
     "execution_count": 21,
     "metadata": {},
     "output_type": "execute_result"
    }
   ],
   "source": [
    "my_nums[-3]"
   ]
  }
 ],
 "metadata": {
  "kernelspec": {
   "display_name": "Python 3 (ipykernel)",
   "language": "python",
   "name": "python3"
  },
  "language_info": {
   "codemirror_mode": {
    "name": "ipython",
    "version": 3
   },
   "file_extension": ".py",
   "mimetype": "text/x-python",
   "name": "python",
   "nbconvert_exporter": "python",
   "pygments_lexer": "ipython3",
   "version": "3.10.10"
  }
 },
 "nbformat": 4,
 "nbformat_minor": 5
}
