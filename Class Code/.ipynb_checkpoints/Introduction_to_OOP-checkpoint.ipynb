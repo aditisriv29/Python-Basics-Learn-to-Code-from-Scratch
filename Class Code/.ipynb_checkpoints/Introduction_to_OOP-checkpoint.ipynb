{
 "cells": [
  {
   "cell_type": "markdown",
   "id": "ea914f62-3002-4208-bdbf-6e932e87794e",
   "metadata": {},
   "source": [
    "## Object Oriented Programming (OOP)"
   ]
  },
  {
   "cell_type": "code",
   "execution_count": 2,
   "id": "b5bdebfd-c964-4e03-963f-61a00cf8d0a8",
   "metadata": {
    "tags": []
   },
   "outputs": [],
   "source": [
    "# Creating a car class\n",
    "class Car:\n",
    "    pass"
   ]
  },
  {
   "cell_type": "code",
   "execution_count": 3,
   "id": "cc1f238c-8f03-4c47-9bf9-ea4b659955c4",
   "metadata": {
    "tags": []
   },
   "outputs": [],
   "source": [
    "# Creating an instance (Object) from car class\n",
    "car1 = Car"
   ]
  },
  {
   "cell_type": "code",
   "execution_count": 4,
   "id": "5d4089a4-e3c8-4c62-8d48-f713e1e2db64",
   "metadata": {
    "tags": []
   },
   "outputs": [],
   "source": [
    "# Giving some attribute to the car object\n",
    "car1.name = \"Maruti 800\"\n",
    "car1.topspeed = 120"
   ]
  },
  {
   "cell_type": "code",
   "execution_count": 7,
   "id": "ce4da43b-1bb9-4e13-bf60-5c66f03d9bf2",
   "metadata": {
    "tags": []
   },
   "outputs": [
    {
     "name": "stdout",
     "output_type": "stream",
     "text": [
      "The name of the car Maruti 800\n",
      "The topspeed of the car is 120 Km/h\n"
     ]
    }
   ],
   "source": [
    "# Print the characteristics of the car object\n",
    "print(\"The name of the car\", car1.name)\n",
    "print(\"The topspeed of the car is\", car1.topspeed, \"Km/h\")"
   ]
  },
  {
   "cell_type": "code",
   "execution_count": 8,
   "id": "00501344-1ad9-481d-9130-260d185c7ea7",
   "metadata": {
    "tags": []
   },
   "outputs": [],
   "source": [
    "# Creating another car object\n",
    "car2 = Car"
   ]
  },
  {
   "cell_type": "code",
   "execution_count": 9,
   "id": "178ba75c-609b-4d91-a04d-dd6f7418ce7d",
   "metadata": {
    "tags": []
   },
   "outputs": [],
   "source": [
    "# Giving some attribute to the new car object\n",
    "car2.name = \"Ferrari\"\n",
    "car2.topspeed = 400\n",
    "car2.color = \"Red\""
   ]
  },
  {
   "cell_type": "code",
   "execution_count": 10,
   "id": "a286d901-9424-4faf-9933-07898ca4160b",
   "metadata": {
    "tags": []
   },
   "outputs": [
    {
     "name": "stdout",
     "output_type": "stream",
     "text": [
      "The name of the car is Ferrari\n",
      "The topspeed of the car is 400 Km/h\n",
      "The color of the car is Red\n"
     ]
    }
   ],
   "source": [
    "print(\"The name of the car is\", car2.name)\n",
    "print(\"The topspeed of the car is\", car2.topspeed, \"Km/h\")\n",
    "print(\"The color of the car is\", car2.color)"
   ]
  }
 ],
 "metadata": {
  "kernelspec": {
   "display_name": "Python 3 (ipykernel)",
   "language": "python",
   "name": "python3"
  },
  "language_info": {
   "codemirror_mode": {
    "name": "ipython",
    "version": 3
   },
   "file_extension": ".py",
   "mimetype": "text/x-python",
   "name": "python",
   "nbconvert_exporter": "python",
   "pygments_lexer": "ipython3",
   "version": "3.10.9"
  }
 },
 "nbformat": 4,
 "nbformat_minor": 5
}
