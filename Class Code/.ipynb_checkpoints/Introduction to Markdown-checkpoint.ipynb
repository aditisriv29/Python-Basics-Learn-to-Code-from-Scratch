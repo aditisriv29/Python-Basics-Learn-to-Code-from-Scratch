{
 "cells": [
  {
   "cell_type": "markdown",
   "id": "a398cc2a-88e0-41ea-8d18-b515be66264b",
   "metadata": {},
   "source": [
    "![](https://encrypted-tbn0.gstatic.com/images?q=tbn:ANd9GcTZlQkQCxokESnFzxACDX7pKGt7wuLNuKdFNw&usqp=CAU)"
   ]
  },
  {
   "cell_type": "markdown",
   "id": "e525be5b-1586-4697-a97b-8fc1a110fbf5",
   "metadata": {},
   "source": [
    "# Heading 1\n",
    "## Heading 2\n",
    "### Heading 3\n",
    "#### Heading 4\n",
    "##### Heading 5"
   ]
  },
  {
   "cell_type": "markdown",
   "id": "a6f2440b-acb2-4d82-a3b2-954984e35891",
   "metadata": {},
   "source": [
    "# Introduction to Markdown"
   ]
  },
  {
   "cell_type": "markdown",
   "id": "2951930f-1e71-456f-bc6a-20c537c56cc8",
   "metadata": {},
   "source": [
    "Python is a widely used general-purpose, high level programming language. It was created by Guido van Rossum in 1991 and further developed by the Python Software Foundation. It was designed with an emphasis on code readability, and its syntax allows programmers to express their concepts in fewer lines of code.\n",
    "\n",
    "**Python** is a programming language that lets you work quickly and integrate systems more efficiently.\n",
    "\n",
    "There are two major Python versions: Python 2 and Python 3. Both are quite different."
   ]
  },
  {
   "cell_type": "markdown",
   "id": "b1e27784-1d69-4f0c-be06-327e9073d53e",
   "metadata": {},
   "source": [
    "This is an ordered list:\n",
    "1. Numpy\n",
    "2. Pandas\n",
    "3. Geopandas"
   ]
  },
  {
   "cell_type": "markdown",
   "id": "7e094a30-72d6-40e0-9e9e-11113ea9fd59",
   "metadata": {},
   "source": [
    "This is an unordered list:\n",
    "* Numpy\n",
    "* Pandas\n",
    "* Geopandas"
   ]
  },
  {
   "cell_type": "markdown",
   "id": "8968de31-dd65-4641-bfa4-051e3752aac0",
   "metadata": {},
   "source": [
    "This is an unordered list:\n",
    "- Numpy\n",
    "- Pandas\n",
    "- Geopandas"
   ]
  },
  {
   "cell_type": "markdown",
   "id": "7eea439c-63d0-4617-8085-0159a68cfa48",
   "metadata": {},
   "source": [
    "To bold a specific word, enclosed the word with **\n",
    "**Python**"
   ]
  },
  {
   "cell_type": "code",
   "execution_count": 3,
   "id": "a39a445f-bbe9-498d-a6b1-2c990c6094c8",
   "metadata": {
    "tags": []
   },
   "outputs": [
    {
     "name": "stdout",
     "output_type": "stream",
     "text": [
      "Hello World!\n"
     ]
    }
   ],
   "source": [
    "print(\"Hello World!\")"
   ]
  }
 ],
 "metadata": {
  "kernelspec": {
   "display_name": "Python 3 (ipykernel)",
   "language": "python",
   "name": "python3"
  },
  "language_info": {
   "codemirror_mode": {
    "name": "ipython",
    "version": 3
   },
   "file_extension": ".py",
   "mimetype": "text/x-python",
   "name": "python",
   "nbconvert_exporter": "python",
   "pygments_lexer": "ipython3",
   "version": "3.10.9"
  }
 },
 "nbformat": 4,
 "nbformat_minor": 5
}
