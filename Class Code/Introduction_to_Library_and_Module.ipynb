{
 "cells": [
  {
   "cell_type": "markdown",
   "id": "3f59ffa2-779b-4cc9-893b-6de49b7d0192",
   "metadata": {},
   "source": [
    "# Introduction to Library and Modules"
   ]
  },
  {
   "cell_type": "code",
   "execution_count": 6,
   "id": "c6b2edb1-c07c-4375-af51-c6114cb8be79",
   "metadata": {
    "tags": []
   },
   "outputs": [],
   "source": [
    "# !pip install matplotlib"
   ]
  },
  {
   "cell_type": "markdown",
   "id": "35d0eb8c-0e6f-4b65-9daf-22d82be176b1",
   "metadata": {},
   "source": [
    "## Import Any Python Library"
   ]
  },
  {
   "cell_type": "code",
   "execution_count": 9,
   "id": "6b7cbe91-4cc3-4a29-83de-21b885962b02",
   "metadata": {
    "tags": []
   },
   "outputs": [],
   "source": [
    "import numpy as np\n",
    "import pandas as pd"
   ]
  },
  {
   "cell_type": "markdown",
   "id": "81a7e6b3-e262-4488-9069-36d316d9d910",
   "metadata": {},
   "source": [
    "## NumPy"
   ]
  },
  {
   "cell_type": "markdown",
   "id": "b46cedd5-09da-451e-9b78-d97f28ef1926",
   "metadata": {},
   "source": [
    "### Creation of One-Dimensional Arrays"
   ]
  },
  {
   "cell_type": "code",
   "execution_count": 11,
   "id": "b30f1cb6-b656-4142-8669-231e2584cf4b",
   "metadata": {
    "tags": []
   },
   "outputs": [
    {
     "data": {
      "text/plain": [
       "list"
      ]
     },
     "execution_count": 11,
     "metadata": {},
     "output_type": "execute_result"
    }
   ],
   "source": [
    "myList = [1, 2, 3, 4]\n",
    "type(myList)"
   ]
  },
  {
   "cell_type": "code",
   "execution_count": 27,
   "id": "800973d4-40e6-45a4-92b9-b1798bc0541a",
   "metadata": {
    "tags": []
   },
   "outputs": [
    {
     "data": {
      "text/plain": [
       "numpy.ndarray"
      ]
     },
     "execution_count": 27,
     "metadata": {},
     "output_type": "execute_result"
    }
   ],
   "source": [
    "myArray = np.array([1, 2, 3, 4], dtype=\"int8\")\n",
    "type(myArray)"
   ]
  },
  {
   "cell_type": "code",
   "execution_count": 28,
   "id": "59bb942d-28fe-4c15-873c-6509d878c629",
   "metadata": {
    "tags": []
   },
   "outputs": [
    {
     "data": {
      "text/plain": [
       "1"
      ]
     },
     "execution_count": 28,
     "metadata": {},
     "output_type": "execute_result"
    }
   ],
   "source": [
    "myArray.ndim"
   ]
  },
  {
   "cell_type": "code",
   "execution_count": 29,
   "id": "ebd125d8-fbdc-4ca0-a1a7-03371b039ec6",
   "metadata": {
    "tags": []
   },
   "outputs": [
    {
     "data": {
      "text/plain": [
       "dtype('int8')"
      ]
     },
     "execution_count": 29,
     "metadata": {},
     "output_type": "execute_result"
    }
   ],
   "source": [
    "myArray.dtype"
   ]
  },
  {
   "cell_type": "code",
   "execution_count": 31,
   "id": "65afa2fd-b404-4b26-8bc7-dfd899012e68",
   "metadata": {
    "tags": []
   },
   "outputs": [
    {
     "data": {
      "text/plain": [
       "3"
      ]
     },
     "execution_count": 31,
     "metadata": {},
     "output_type": "execute_result"
    }
   ],
   "source": [
    "# Accesing elements of an one-dimensional array\n",
    "myArray[2]"
   ]
  },
  {
   "cell_type": "markdown",
   "id": "7ae7c80f-f12d-4a57-808a-fa4476454907",
   "metadata": {},
   "source": [
    " ### Creation of Two-Dimensional Arrays"
   ]
  },
  {
   "cell_type": "code",
   "execution_count": 33,
   "id": "235018b0-3d0d-4dde-ac40-be2ba4661b28",
   "metadata": {
    "tags": []
   },
   "outputs": [],
   "source": [
    "myList = [[1, 2, 3], [4, 5, 6], [7, 8, 9]]"
   ]
  },
  {
   "cell_type": "code",
   "execution_count": 37,
   "id": "621874de-b26c-4af6-a5c9-c8d7fdcd1f08",
   "metadata": {
    "tags": []
   },
   "outputs": [],
   "source": [
    "myArray2D = np.array([[1, 2, 3], [4, 5, 6], [7, 8, 9]], dtype=\"int8\")"
   ]
  },
  {
   "cell_type": "code",
   "execution_count": 38,
   "id": "75d58b74-3fdb-41c7-af37-a18178c1416b",
   "metadata": {
    "tags": []
   },
   "outputs": [
    {
     "data": {
      "text/plain": [
       "array([[1, 2, 3],\n",
       "       [4, 5, 6],\n",
       "       [7, 8, 9]], dtype=int8)"
      ]
     },
     "execution_count": 38,
     "metadata": {},
     "output_type": "execute_result"
    }
   ],
   "source": [
    "myArray2D"
   ]
  },
  {
   "cell_type": "code",
   "execution_count": 39,
   "id": "a26c97d0-13a0-4ddb-ac66-b26a6b942faf",
   "metadata": {
    "tags": []
   },
   "outputs": [
    {
     "data": {
      "text/plain": [
       "dtype('int8')"
      ]
     },
     "execution_count": 39,
     "metadata": {},
     "output_type": "execute_result"
    }
   ],
   "source": [
    "myArray2D.dtype"
   ]
  },
  {
   "cell_type": "code",
   "execution_count": 40,
   "id": "d61be452-7a13-4658-b391-4eb0d21e0137",
   "metadata": {
    "tags": []
   },
   "outputs": [
    {
     "data": {
      "text/plain": [
       "2"
      ]
     },
     "execution_count": 40,
     "metadata": {},
     "output_type": "execute_result"
    }
   ],
   "source": [
    "myArray2D.ndim"
   ]
  },
  {
   "cell_type": "code",
   "execution_count": 41,
   "id": "f830c6b3-c165-4218-920d-06c734fb4124",
   "metadata": {
    "tags": []
   },
   "outputs": [
    {
     "data": {
      "text/plain": [
       "(3, 3)"
      ]
     },
     "execution_count": 41,
     "metadata": {},
     "output_type": "execute_result"
    }
   ],
   "source": [
    "myArray2D.shape"
   ]
  },
  {
   "cell_type": "code",
   "execution_count": 44,
   "id": "ae479bc6-11af-4098-ae2b-66505e7321eb",
   "metadata": {
    "tags": []
   },
   "outputs": [
    {
     "data": {
      "text/plain": [
       "5"
      ]
     },
     "execution_count": 44,
     "metadata": {},
     "output_type": "execute_result"
    }
   ],
   "source": [
    "myArray2D[1, 1]"
   ]
  },
  {
   "cell_type": "code",
   "execution_count": 45,
   "id": "4011697d-f208-4128-827d-44fdbeff3f0d",
   "metadata": {
    "tags": []
   },
   "outputs": [
    {
     "data": {
      "text/plain": [
       "9"
      ]
     },
     "execution_count": 45,
     "metadata": {},
     "output_type": "execute_result"
    }
   ],
   "source": [
    "myArray2D[2, 2]"
   ]
  },
  {
   "cell_type": "markdown",
   "id": "ae5f47e6-ac57-4e52-8183-0c578431ea9f",
   "metadata": {},
   "source": [
    "## Pandas"
   ]
  },
  {
   "cell_type": "code",
   "execution_count": 47,
   "id": "99c89199-03e5-4622-87f8-0e1e10a5d308",
   "metadata": {
    "tags": []
   },
   "outputs": [],
   "source": [
    "# Read CSV File using pandas\n",
    "file_path = r\"D:\\Coding\\Git Repository\\Data-Science-Bootcamp-with-Python\\Datasets\\DailyDelhiClimateTest.csv\""
   ]
  },
  {
   "cell_type": "code",
   "execution_count": 50,
   "id": "44d61a49-4e1a-4848-8b97-dd6fbfd9c74b",
   "metadata": {
    "tags": []
   },
   "outputs": [
    {
     "data": {
      "text/plain": [
       "pandas.core.frame.DataFrame"
      ]
     },
     "execution_count": 50,
     "metadata": {},
     "output_type": "execute_result"
    }
   ],
   "source": [
    "df = pd.read_csv(file_path)\n",
    "type(df)"
   ]
  },
  {
   "cell_type": "code",
   "execution_count": 51,
   "id": "1c21d61f-2faa-424b-b65c-76f358cfb5d1",
   "metadata": {
    "tags": []
   },
   "outputs": [
    {
     "data": {
      "text/html": [
       "<div>\n",
       "<style scoped>\n",
       "    .dataframe tbody tr th:only-of-type {\n",
       "        vertical-align: middle;\n",
       "    }\n",
       "\n",
       "    .dataframe tbody tr th {\n",
       "        vertical-align: top;\n",
       "    }\n",
       "\n",
       "    .dataframe thead th {\n",
       "        text-align: right;\n",
       "    }\n",
       "</style>\n",
       "<table border=\"1\" class=\"dataframe\">\n",
       "  <thead>\n",
       "    <tr style=\"text-align: right;\">\n",
       "      <th></th>\n",
       "      <th>date</th>\n",
       "      <th>meantemp</th>\n",
       "      <th>humidity</th>\n",
       "      <th>wind_speed</th>\n",
       "      <th>meanpressure</th>\n",
       "    </tr>\n",
       "  </thead>\n",
       "  <tbody>\n",
       "    <tr>\n",
       "      <th>0</th>\n",
       "      <td>2017-01-01</td>\n",
       "      <td>15.913043</td>\n",
       "      <td>85.869565</td>\n",
       "      <td>2.743478</td>\n",
       "      <td>59.000000</td>\n",
       "    </tr>\n",
       "    <tr>\n",
       "      <th>1</th>\n",
       "      <td>2017-01-02</td>\n",
       "      <td>18.500000</td>\n",
       "      <td>77.222222</td>\n",
       "      <td>2.894444</td>\n",
       "      <td>1018.277778</td>\n",
       "    </tr>\n",
       "    <tr>\n",
       "      <th>2</th>\n",
       "      <td>2017-01-03</td>\n",
       "      <td>17.111111</td>\n",
       "      <td>81.888889</td>\n",
       "      <td>4.016667</td>\n",
       "      <td>1018.333333</td>\n",
       "    </tr>\n",
       "    <tr>\n",
       "      <th>3</th>\n",
       "      <td>2017-01-04</td>\n",
       "      <td>18.700000</td>\n",
       "      <td>70.050000</td>\n",
       "      <td>4.545000</td>\n",
       "      <td>1015.700000</td>\n",
       "    </tr>\n",
       "    <tr>\n",
       "      <th>4</th>\n",
       "      <td>2017-01-05</td>\n",
       "      <td>18.388889</td>\n",
       "      <td>74.944444</td>\n",
       "      <td>3.300000</td>\n",
       "      <td>1014.333333</td>\n",
       "    </tr>\n",
       "  </tbody>\n",
       "</table>\n",
       "</div>"
      ],
      "text/plain": [
       "         date   meantemp   humidity  wind_speed  meanpressure\n",
       "0  2017-01-01  15.913043  85.869565    2.743478     59.000000\n",
       "1  2017-01-02  18.500000  77.222222    2.894444   1018.277778\n",
       "2  2017-01-03  17.111111  81.888889    4.016667   1018.333333\n",
       "3  2017-01-04  18.700000  70.050000    4.545000   1015.700000\n",
       "4  2017-01-05  18.388889  74.944444    3.300000   1014.333333"
      ]
     },
     "execution_count": 51,
     "metadata": {},
     "output_type": "execute_result"
    }
   ],
   "source": [
    "df.head()"
   ]
  },
  {
   "cell_type": "code",
   "execution_count": 52,
   "id": "cb0dfa23-ec83-4687-92b0-9434ef0db201",
   "metadata": {
    "tags": []
   },
   "outputs": [
    {
     "data": {
      "text/html": [
       "<div>\n",
       "<style scoped>\n",
       "    .dataframe tbody tr th:only-of-type {\n",
       "        vertical-align: middle;\n",
       "    }\n",
       "\n",
       "    .dataframe tbody tr th {\n",
       "        vertical-align: top;\n",
       "    }\n",
       "\n",
       "    .dataframe thead th {\n",
       "        text-align: right;\n",
       "    }\n",
       "</style>\n",
       "<table border=\"1\" class=\"dataframe\">\n",
       "  <thead>\n",
       "    <tr style=\"text-align: right;\">\n",
       "      <th></th>\n",
       "      <th>date</th>\n",
       "      <th>meantemp</th>\n",
       "      <th>humidity</th>\n",
       "      <th>wind_speed</th>\n",
       "      <th>meanpressure</th>\n",
       "    </tr>\n",
       "  </thead>\n",
       "  <tbody>\n",
       "    <tr>\n",
       "      <th>109</th>\n",
       "      <td>2017-04-20</td>\n",
       "      <td>34.500</td>\n",
       "      <td>27.500000</td>\n",
       "      <td>5.562500</td>\n",
       "      <td>998.625000</td>\n",
       "    </tr>\n",
       "    <tr>\n",
       "      <th>110</th>\n",
       "      <td>2017-04-21</td>\n",
       "      <td>34.250</td>\n",
       "      <td>39.375000</td>\n",
       "      <td>6.962500</td>\n",
       "      <td>999.875000</td>\n",
       "    </tr>\n",
       "    <tr>\n",
       "      <th>111</th>\n",
       "      <td>2017-04-22</td>\n",
       "      <td>32.900</td>\n",
       "      <td>40.900000</td>\n",
       "      <td>8.890000</td>\n",
       "      <td>1001.600000</td>\n",
       "    </tr>\n",
       "    <tr>\n",
       "      <th>112</th>\n",
       "      <td>2017-04-23</td>\n",
       "      <td>32.875</td>\n",
       "      <td>27.500000</td>\n",
       "      <td>9.962500</td>\n",
       "      <td>1002.125000</td>\n",
       "    </tr>\n",
       "    <tr>\n",
       "      <th>113</th>\n",
       "      <td>2017-04-24</td>\n",
       "      <td>32.000</td>\n",
       "      <td>27.142857</td>\n",
       "      <td>12.157143</td>\n",
       "      <td>1004.142857</td>\n",
       "    </tr>\n",
       "  </tbody>\n",
       "</table>\n",
       "</div>"
      ],
      "text/plain": [
       "           date  meantemp   humidity  wind_speed  meanpressure\n",
       "109  2017-04-20    34.500  27.500000    5.562500    998.625000\n",
       "110  2017-04-21    34.250  39.375000    6.962500    999.875000\n",
       "111  2017-04-22    32.900  40.900000    8.890000   1001.600000\n",
       "112  2017-04-23    32.875  27.500000    9.962500   1002.125000\n",
       "113  2017-04-24    32.000  27.142857   12.157143   1004.142857"
      ]
     },
     "execution_count": 52,
     "metadata": {},
     "output_type": "execute_result"
    }
   ],
   "source": [
    "df.tail()"
   ]
  },
  {
   "cell_type": "code",
   "execution_count": 53,
   "id": "39a716f9-280f-403f-a218-efb2c2b7b69d",
   "metadata": {
    "tags": []
   },
   "outputs": [
    {
     "data": {
      "text/html": [
       "<div>\n",
       "<style scoped>\n",
       "    .dataframe tbody tr th:only-of-type {\n",
       "        vertical-align: middle;\n",
       "    }\n",
       "\n",
       "    .dataframe tbody tr th {\n",
       "        vertical-align: top;\n",
       "    }\n",
       "\n",
       "    .dataframe thead th {\n",
       "        text-align: right;\n",
       "    }\n",
       "</style>\n",
       "<table border=\"1\" class=\"dataframe\">\n",
       "  <thead>\n",
       "    <tr style=\"text-align: right;\">\n",
       "      <th></th>\n",
       "      <th>date</th>\n",
       "      <th>meantemp</th>\n",
       "      <th>humidity</th>\n",
       "      <th>wind_speed</th>\n",
       "      <th>meanpressure</th>\n",
       "    </tr>\n",
       "  </thead>\n",
       "  <tbody>\n",
       "    <tr>\n",
       "      <th>0</th>\n",
       "      <td>2017-01-01</td>\n",
       "      <td>15.913043</td>\n",
       "      <td>85.869565</td>\n",
       "      <td>2.743478</td>\n",
       "      <td>59.000000</td>\n",
       "    </tr>\n",
       "    <tr>\n",
       "      <th>1</th>\n",
       "      <td>2017-01-02</td>\n",
       "      <td>18.500000</td>\n",
       "      <td>77.222222</td>\n",
       "      <td>2.894444</td>\n",
       "      <td>1018.277778</td>\n",
       "    </tr>\n",
       "    <tr>\n",
       "      <th>2</th>\n",
       "      <td>2017-01-03</td>\n",
       "      <td>17.111111</td>\n",
       "      <td>81.888889</td>\n",
       "      <td>4.016667</td>\n",
       "      <td>1018.333333</td>\n",
       "    </tr>\n",
       "    <tr>\n",
       "      <th>3</th>\n",
       "      <td>2017-01-04</td>\n",
       "      <td>18.700000</td>\n",
       "      <td>70.050000</td>\n",
       "      <td>4.545000</td>\n",
       "      <td>1015.700000</td>\n",
       "    </tr>\n",
       "    <tr>\n",
       "      <th>4</th>\n",
       "      <td>2017-01-05</td>\n",
       "      <td>18.388889</td>\n",
       "      <td>74.944444</td>\n",
       "      <td>3.300000</td>\n",
       "      <td>1014.333333</td>\n",
       "    </tr>\n",
       "    <tr>\n",
       "      <th>5</th>\n",
       "      <td>2017-01-06</td>\n",
       "      <td>19.318182</td>\n",
       "      <td>79.318182</td>\n",
       "      <td>8.681818</td>\n",
       "      <td>1011.772727</td>\n",
       "    </tr>\n",
       "    <tr>\n",
       "      <th>6</th>\n",
       "      <td>2017-01-07</td>\n",
       "      <td>14.708333</td>\n",
       "      <td>95.833333</td>\n",
       "      <td>10.041667</td>\n",
       "      <td>1011.375000</td>\n",
       "    </tr>\n",
       "    <tr>\n",
       "      <th>7</th>\n",
       "      <td>2017-01-08</td>\n",
       "      <td>15.684211</td>\n",
       "      <td>83.526316</td>\n",
       "      <td>1.950000</td>\n",
       "      <td>1015.550000</td>\n",
       "    </tr>\n",
       "    <tr>\n",
       "      <th>8</th>\n",
       "      <td>2017-01-09</td>\n",
       "      <td>14.571429</td>\n",
       "      <td>80.809524</td>\n",
       "      <td>6.542857</td>\n",
       "      <td>1015.952381</td>\n",
       "    </tr>\n",
       "    <tr>\n",
       "      <th>9</th>\n",
       "      <td>2017-01-10</td>\n",
       "      <td>12.111111</td>\n",
       "      <td>71.944444</td>\n",
       "      <td>9.361111</td>\n",
       "      <td>1016.888889</td>\n",
       "    </tr>\n",
       "  </tbody>\n",
       "</table>\n",
       "</div>"
      ],
      "text/plain": [
       "         date   meantemp   humidity  wind_speed  meanpressure\n",
       "0  2017-01-01  15.913043  85.869565    2.743478     59.000000\n",
       "1  2017-01-02  18.500000  77.222222    2.894444   1018.277778\n",
       "2  2017-01-03  17.111111  81.888889    4.016667   1018.333333\n",
       "3  2017-01-04  18.700000  70.050000    4.545000   1015.700000\n",
       "4  2017-01-05  18.388889  74.944444    3.300000   1014.333333\n",
       "5  2017-01-06  19.318182  79.318182    8.681818   1011.772727\n",
       "6  2017-01-07  14.708333  95.833333   10.041667   1011.375000\n",
       "7  2017-01-08  15.684211  83.526316    1.950000   1015.550000\n",
       "8  2017-01-09  14.571429  80.809524    6.542857   1015.952381\n",
       "9  2017-01-10  12.111111  71.944444    9.361111   1016.888889"
      ]
     },
     "execution_count": 53,
     "metadata": {},
     "output_type": "execute_result"
    }
   ],
   "source": [
    "df.head(10)"
   ]
  },
  {
   "cell_type": "code",
   "execution_count": 54,
   "id": "20710415-66e1-4026-bb06-7634f3e41325",
   "metadata": {
    "tags": []
   },
   "outputs": [
    {
     "data": {
      "text/plain": [
       "(114, 5)"
      ]
     },
     "execution_count": 54,
     "metadata": {},
     "output_type": "execute_result"
    }
   ],
   "source": [
    "df.shape"
   ]
  },
  {
   "cell_type": "code",
   "execution_count": 55,
   "id": "0808b61b-3d18-4ffe-9d3d-0fc734719f77",
   "metadata": {
    "tags": []
   },
   "outputs": [
    {
     "data": {
      "text/plain": [
       "2"
      ]
     },
     "execution_count": 55,
     "metadata": {},
     "output_type": "execute_result"
    }
   ],
   "source": [
    "df.ndim"
   ]
  },
  {
   "cell_type": "code",
   "execution_count": 58,
   "id": "8ea9c43a-c55f-4a21-b784-092309267a1d",
   "metadata": {
    "tags": []
   },
   "outputs": [
    {
     "data": {
      "text/plain": [
       "date             object\n",
       "meantemp        float64\n",
       "humidity        float64\n",
       "wind_speed      float64\n",
       "meanpressure    float64\n",
       "dtype: object"
      ]
     },
     "execution_count": 58,
     "metadata": {},
     "output_type": "execute_result"
    }
   ],
   "source": [
    "df.dtypes"
   ]
  },
  {
   "cell_type": "code",
   "execution_count": 71,
   "id": "8d005fb4-4367-431b-8027-2271bc134def",
   "metadata": {
    "tags": []
   },
   "outputs": [],
   "source": [
    "new_df = df[[\"date\", \"meantemp\", \"humidity\"]][df[\"meantemp\"] > 30]"
   ]
  },
  {
   "cell_type": "code",
   "execution_count": 73,
   "id": "1ee78878-ec69-4f4b-aabb-a70d85d2628b",
   "metadata": {
    "tags": []
   },
   "outputs": [
    {
     "data": {
      "text/plain": [
       "(17, 3)"
      ]
     },
     "execution_count": 73,
     "metadata": {},
     "output_type": "execute_result"
    }
   ],
   "source": [
    "new_df.shape"
   ]
  },
  {
   "cell_type": "code",
   "execution_count": 74,
   "id": "ef3e58cb-5000-42e8-bb6f-7b7c8eb73bbb",
   "metadata": {
    "tags": []
   },
   "outputs": [
    {
     "data": {
      "text/html": [
       "<div>\n",
       "<style scoped>\n",
       "    .dataframe tbody tr th:only-of-type {\n",
       "        vertical-align: middle;\n",
       "    }\n",
       "\n",
       "    .dataframe tbody tr th {\n",
       "        vertical-align: top;\n",
       "    }\n",
       "\n",
       "    .dataframe thead th {\n",
       "        text-align: right;\n",
       "    }\n",
       "</style>\n",
       "<table border=\"1\" class=\"dataframe\">\n",
       "  <thead>\n",
       "    <tr style=\"text-align: right;\">\n",
       "      <th></th>\n",
       "      <th>date</th>\n",
       "      <th>meantemp</th>\n",
       "      <th>humidity</th>\n",
       "    </tr>\n",
       "  </thead>\n",
       "  <tbody>\n",
       "    <tr>\n",
       "      <th>87</th>\n",
       "      <td>2017-03-29</td>\n",
       "      <td>31.000000</td>\n",
       "      <td>34.500000</td>\n",
       "    </tr>\n",
       "    <tr>\n",
       "      <th>89</th>\n",
       "      <td>2017-03-31</td>\n",
       "      <td>30.625000</td>\n",
       "      <td>37.625000</td>\n",
       "    </tr>\n",
       "    <tr>\n",
       "      <th>90</th>\n",
       "      <td>2017-04-01</td>\n",
       "      <td>31.375000</td>\n",
       "      <td>35.125000</td>\n",
       "    </tr>\n",
       "    <tr>\n",
       "      <th>92</th>\n",
       "      <td>2017-04-03</td>\n",
       "      <td>30.500000</td>\n",
       "      <td>29.750000</td>\n",
       "    </tr>\n",
       "    <tr>\n",
       "      <th>93</th>\n",
       "      <td>2017-04-04</td>\n",
       "      <td>30.933333</td>\n",
       "      <td>31.866667</td>\n",
       "    </tr>\n",
       "  </tbody>\n",
       "</table>\n",
       "</div>"
      ],
      "text/plain": [
       "          date   meantemp   humidity\n",
       "87  2017-03-29  31.000000  34.500000\n",
       "89  2017-03-31  30.625000  37.625000\n",
       "90  2017-04-01  31.375000  35.125000\n",
       "92  2017-04-03  30.500000  29.750000\n",
       "93  2017-04-04  30.933333  31.866667"
      ]
     },
     "execution_count": 74,
     "metadata": {},
     "output_type": "execute_result"
    }
   ],
   "source": [
    "new_df.head()"
   ]
  },
  {
   "cell_type": "code",
   "execution_count": 77,
   "id": "dbf3813d-4898-44e9-80bb-915fbf7557ea",
   "metadata": {
    "tags": []
   },
   "outputs": [],
   "source": [
    "meantemp = new_df[\"meantemp\"]"
   ]
  },
  {
   "cell_type": "code",
   "execution_count": 79,
   "id": "2ed5cd9a-4f65-458c-a2c0-76acbd8a698a",
   "metadata": {
    "tags": []
   },
   "outputs": [
    {
     "data": {
      "text/plain": [
       "pandas.core.series.Series"
      ]
     },
     "execution_count": 79,
     "metadata": {},
     "output_type": "execute_result"
    }
   ],
   "source": [
    "type(meantemp)"
   ]
  },
  {
   "cell_type": "code",
   "execution_count": 80,
   "id": "6294d71c-8000-4755-9650-23fd81d7b0ad",
   "metadata": {
    "tags": []
   },
   "outputs": [],
   "source": [
    "humidity = new_df[\"humidity\"]"
   ]
  },
  {
   "cell_type": "code",
   "execution_count": 81,
   "id": "50554bbf-4589-46d2-bcc4-928274ccc63d",
   "metadata": {
    "tags": []
   },
   "outputs": [
    {
     "data": {
      "text/plain": [
       "pandas.core.series.Series"
      ]
     },
     "execution_count": 81,
     "metadata": {},
     "output_type": "execute_result"
    }
   ],
   "source": [
    "type(humidity)"
   ]
  },
  {
   "cell_type": "markdown",
   "id": "449b02e4-a3d3-4510-bfbb-7485336646d1",
   "metadata": {},
   "source": [
    "## Plotting the Data"
   ]
  },
  {
   "cell_type": "code",
   "execution_count": 84,
   "id": "7ee18bf0-188e-4b12-96a9-f7183059364a",
   "metadata": {
    "tags": []
   },
   "outputs": [],
   "source": [
    "import matplotlib.pyplot as plt"
   ]
  },
  {
   "cell_type": "code",
   "execution_count": 90,
   "id": "35ec7058-acbc-43ba-98ad-137d7094caa5",
   "metadata": {
    "tags": []
   },
   "outputs": [
    {
     "data": {
      "image/png": "[encoded data removed]",
      "text/plain": [
       "<Figure size 640x480 with 1 Axes>"
      ]
     },
     "metadata": {},
     "output_type": "display_data"
    }
   ],
   "source": [
    "plt.scatter(x=meantemp, y=humidity, c=\"red\")\n",
    "plt.xlabel(\"Mean Temperature (in C)\")\n",
    "plt.ylabel(\"Humidity\")\n",
    "plt.title(\"Scatterplot between Mean Temp and Humidity\")\n",
    "plt.grid()"
   ]
  }
 ],
 "metadata": {
  "kernelspec": {
   "display_name": "Python 3 (ipykernel)",
   "language": "python",
   "name": "python3"
  },
  "language_info": {
   "codemirror_mode": {
    "name": "ipython",
    "version": 3
   },
   "file_extension": ".py",
   "mimetype": "text/x-python",
   "name": "python",
   "nbconvert_exporter": "python",
   "pygments_lexer": "ipython3",
   "version": "3.10.9"
  }
 },
 "nbformat": 4,
 "nbformat_minor": 5
}
