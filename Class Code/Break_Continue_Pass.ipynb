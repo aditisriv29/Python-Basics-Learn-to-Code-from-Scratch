{
 "cells": [
  {
   "cell_type": "markdown",
   "id": "0efde734-57a2-40c2-8a98-f601f6b511b0",
   "metadata": {},
   "source": [
    "# Break, Continue and Pass Statement"
   ]
  },
  {
   "cell_type": "code",
   "execution_count": 1,
   "id": "5b510209-38a4-4b09-95f6-df8a2b0b8e5b",
   "metadata": {},
   "outputs": [],
   "source": [
    "cities = [\"Mumbai\", \"Chennai\", \"Delhi\", \"Kolkata\"]"
   ]
  },
  {
   "cell_type": "markdown",
   "id": "80694484-1584-4c8f-a4b1-5a9e410d5480",
   "metadata": {},
   "source": [
    "## Break Statement"
   ]
  },
  {
   "cell_type": "code",
   "execution_count": 2,
   "id": "94f1426b-fe87-4b88-ba87-2fc03a193156",
   "metadata": {},
   "outputs": [
    {
     "name": "stdout",
     "output_type": "stream",
     "text": [
      "Program Started\n",
      "Mumbai\n",
      "Chennai\n",
      "Program ended.\n"
     ]
    }
   ],
   "source": [
    "print(\"Program Started\")\n",
    "\n",
    "for city in cities:\n",
    "    if city == \"Delhi\":\n",
    "        break\n",
    "    else:\n",
    "        print(city)\n",
    "        \n",
    "print(\"Program ended.\")"
   ]
  },
  {
   "cell_type": "code",
   "execution_count": 3,
   "id": "63577af2-e5f0-42dc-ae78-21a748575242",
   "metadata": {},
   "outputs": [],
   "source": [
    "# First iteration, city = \"Mumbai\"\n",
    "# Second iteration, city = \"Chennai\"\n",
    "# Third iteration, city = \"Delhi\""
   ]
  },
  {
   "cell_type": "code",
   "execution_count": 4,
   "id": "ae67259d-fa2b-4d76-921f-016ce7e3bcf1",
   "metadata": {},
   "outputs": [
    {
     "name": "stdout",
     "output_type": "stream",
     "text": [
      "Program Started\n",
      "0\n",
      "1\n",
      "2\n",
      "Executing break statement in the next statement.\n"
     ]
    }
   ],
   "source": [
    "i = 0\n",
    "print(\"Program Started\")\n",
    "\n",
    "while i < 5:\n",
    "    if i == 3:\n",
    "        print(\"Executing break statement in the next statement.\")\n",
    "        break\n",
    "    else:\n",
    "        print(i)\n",
    "        i += 1"
   ]
  },
  {
   "cell_type": "markdown",
   "id": "0ab4a559-978b-4f41-83d2-46e6de5c497a",
   "metadata": {},
   "source": [
    "## Continue Statement"
   ]
  },
  {
   "cell_type": "code",
   "execution_count": 5,
   "id": "20e84661-eb59-46d5-b228-3796430de03a",
   "metadata": {},
   "outputs": [],
   "source": [
    "cities = [\"Mumbai\", \"Chennai\", \"Delhi\", \"Kolkata\"]"
   ]
  },
  {
   "cell_type": "code",
   "execution_count": 6,
   "id": "fd97f9c0-7b1d-491f-b957-e2a642247bd6",
   "metadata": {},
   "outputs": [
    {
     "name": "stdout",
     "output_type": "stream",
     "text": [
      "Mumbai\n",
      "Chennai\n",
      "Kolkata\n"
     ]
    }
   ],
   "source": [
    "for city in cities: # Level 1\n",
    "    if city == \"Delhi\": # Level2 \n",
    "    \tcontinue  # Level 3\n",
    "    else:  # Level 2\n",
    "    \tprint(city) # Level 3"
   ]
  },
  {
   "cell_type": "code",
   "execution_count": 8,
   "id": "078b05bf-fb11-49c2-89b3-835ec58fd970",
   "metadata": {},
   "outputs": [
    {
     "name": "stdout",
     "output_type": "stream",
     "text": [
      "0\n",
      "1\n",
      "2\n",
      "4\n"
     ]
    }
   ],
   "source": [
    "i = 0\n",
    "while i < 5:\n",
    "    if i == 3:\n",
    "        i += 1\n",
    "        continue\n",
    "    else:\n",
    "        print(i)\n",
    "        i += 1"
   ]
  },
  {
   "cell_type": "markdown",
   "id": "4022f9df-5733-4acc-a9ca-2459d362bf0f",
   "metadata": {},
   "source": [
    "## Pass Statement"
   ]
  },
  {
   "cell_type": "code",
   "execution_count": 9,
   "id": "b1804dc9-0e7b-4d87-986d-859f2f8fc78d",
   "metadata": {},
   "outputs": [],
   "source": [
    "cities = [\"Mumbai\", \"Chennai\", \"Delhi\", \"Kolkata\"]"
   ]
  },
  {
   "cell_type": "code",
   "execution_count": 14,
   "id": "ec1957a9-adbc-4778-8a9b-e7ee31cd501c",
   "metadata": {},
   "outputs": [],
   "source": [
    "for city in cities:\n",
    "    pass"
   ]
  },
  {
   "cell_type": "code",
   "execution_count": 16,
   "id": "c4976e80-4563-48d1-9e65-1d443d55a98b",
   "metadata": {},
   "outputs": [
    {
     "name": "stdout",
     "output_type": "stream",
     "text": [
      "0\n",
      "1\n",
      "2\n",
      "4\n"
     ]
    }
   ],
   "source": [
    "i = 0\n",
    "while i < 5:\n",
    "    if i == 3:\n",
    "        i += 1\n",
    "        pass\n",
    "    else:\n",
    "        print(i)\n",
    "        i += 1"
   ]
  },
  {
   "cell_type": "code",
   "execution_count": null,
   "id": "3a6249ce-3f3f-4f8a-bb67-3c51c95e1d9b",
   "metadata": {},
   "outputs": [],
   "source": []
  }
 ],
 "metadata": {
  "kernelspec": {
   "display_name": "Python 3 (ipykernel)",
   "language": "python",
   "name": "python3"
  },
  "language_info": {
   "codemirror_mode": {
    "name": "ipython",
    "version": 3
   },
   "file_extension": ".py",
   "mimetype": "text/x-python",
   "name": "python",
   "nbconvert_exporter": "python",
   "pygments_lexer": "ipython3",
   "version": "3.10.10"
  }
 },
 "nbformat": 4,
 "nbformat_minor": 5
}
