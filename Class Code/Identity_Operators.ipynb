{
 "cells": [
  {
   "cell_type": "markdown",
   "id": "3a070770-2b3c-49e8-8f7c-cbb333cbd9ff",
   "metadata": {},
   "source": [
    "# Identity Operators"
   ]
  },
  {
   "cell_type": "code",
   "execution_count": 1,
   "id": "d71140e4-e8b1-4a52-a98d-641afc041234",
   "metadata": {},
   "outputs": [],
   "source": [
    "x = 10\n",
    "y = 10"
   ]
  },
  {
   "cell_type": "markdown",
   "id": "38ebf91a-5daf-4c8d-8a0a-b1717d4b208e",
   "metadata": {},
   "source": [
    "## is"
   ]
  },
  {
   "cell_type": "code",
   "execution_count": 2,
   "id": "28f7596e-121e-4137-bac9-a0b184d5b6da",
   "metadata": {},
   "outputs": [
    {
     "name": "stdout",
     "output_type": "stream",
     "text": [
      "2018663727632\n",
      "2018663727632\n"
     ]
    }
   ],
   "source": [
    "print(id(x))\n",
    "print(id(y))"
   ]
  },
  {
   "cell_type": "code",
   "execution_count": 3,
   "id": "0921e7ec-2723-40c4-b7f6-c490b37b3fdc",
   "metadata": {},
   "outputs": [
    {
     "name": "stdout",
     "output_type": "stream",
     "text": [
      "True\n"
     ]
    }
   ],
   "source": [
    "print(x is y)"
   ]
  },
  {
   "cell_type": "code",
   "execution_count": 10,
   "id": "31887005-c432-45b3-960e-25fcec8de7f0",
   "metadata": {},
   "outputs": [],
   "source": [
    "name1 = \"KrishnagopalHalder\"\n",
    "name2 = \"KrishnagopalHalder\""
   ]
  },
  {
   "cell_type": "code",
   "execution_count": 11,
   "id": "535f777a-4820-4b6b-8110-5371ba3c0f7d",
   "metadata": {},
   "outputs": [
    {
     "name": "stdout",
     "output_type": "stream",
     "text": [
      "2018741512000\n",
      "2018741512000\n"
     ]
    }
   ],
   "source": [
    "print(id(name1))\n",
    "print(id(name2))"
   ]
  },
  {
   "cell_type": "code",
   "execution_count": 12,
   "id": "fab424b7-506e-4ab0-92d4-ae0b606bb37a",
   "metadata": {},
   "outputs": [
    {
     "name": "stdout",
     "output_type": "stream",
     "text": [
      "True\n"
     ]
    }
   ],
   "source": [
    "print(name1 is name2)"
   ]
  },
  {
   "cell_type": "markdown",
   "id": "df9382de-7b55-45b5-a90e-219b4bcef012",
   "metadata": {},
   "source": [
    "## is not"
   ]
  },
  {
   "cell_type": "code",
   "execution_count": 13,
   "id": "1a885114-4ed4-46f2-9312-3f89558cc5b2",
   "metadata": {},
   "outputs": [],
   "source": [
    "a = 10\n",
    "b = 15"
   ]
  },
  {
   "cell_type": "code",
   "execution_count": 14,
   "id": "c853e933-e58d-483b-b733-feaddc5a5abe",
   "metadata": {},
   "outputs": [
    {
     "name": "stdout",
     "output_type": "stream",
     "text": [
      "2018663727632\n",
      "2018663727792\n"
     ]
    }
   ],
   "source": [
    "print(id(a))\n",
    "print(id(b))"
   ]
  },
  {
   "cell_type": "code",
   "execution_count": 16,
   "id": "2d17b970-997c-4fc8-9704-1453acab7874",
   "metadata": {},
   "outputs": [
    {
     "name": "stdout",
     "output_type": "stream",
     "text": [
      "True\n"
     ]
    }
   ],
   "source": [
    "print(a is not b)"
   ]
  },
  {
   "cell_type": "code",
   "execution_count": 17,
   "id": "d696cf91-5829-4b7e-a54b-d6945352aa33",
   "metadata": {},
   "outputs": [
    {
     "name": "stdout",
     "output_type": "stream",
     "text": [
      "False\n"
     ]
    }
   ],
   "source": [
    "print(name1 is not name2)"
   ]
  },
  {
   "cell_type": "markdown",
   "id": "2c609a53-1c37-4878-8f27-06b3abb965db",
   "metadata": {},
   "source": [
    "## Example"
   ]
  },
  {
   "cell_type": "code",
   "execution_count": 21,
   "id": "168c6d60-efa2-4e6b-b99c-3f5d3bfaa4d7",
   "metadata": {},
   "outputs": [],
   "source": [
    "lst1 = [1, 2, 3]\n",
    "lst2 = [1, 2, 3]"
   ]
  },
  {
   "cell_type": "code",
   "execution_count": 22,
   "id": "327189c9-9ca1-4711-b4f8-1248f6cd12e3",
   "metadata": {},
   "outputs": [
    {
     "name": "stdout",
     "output_type": "stream",
     "text": [
      "2018741852032 2018741855872\n"
     ]
    }
   ],
   "source": [
    "print(id(lst1), id(lst2))"
   ]
  },
  {
   "cell_type": "code",
   "execution_count": 23,
   "id": "49ca23df-1f12-43e8-a1ac-1469b466a6c0",
   "metadata": {},
   "outputs": [
    {
     "name": "stdout",
     "output_type": "stream",
     "text": [
      "False\n"
     ]
    }
   ],
   "source": [
    "print(lst1 is lst2)"
   ]
  },
  {
   "cell_type": "code",
   "execution_count": 24,
   "id": "2d7c948d-5fc4-4439-a6b6-0082de0d64a6",
   "metadata": {},
   "outputs": [
    {
     "name": "stdout",
     "output_type": "stream",
     "text": [
      "True\n"
     ]
    }
   ],
   "source": [
    "print(lst1 is not lst2)"
   ]
  }
 ],
 "metadata": {
  "kernelspec": {
   "display_name": "Python 3 (ipykernel)",
   "language": "python",
   "name": "python3"
  },
  "language_info": {
   "codemirror_mode": {
    "name": "ipython",
    "version": 3
   },
   "file_extension": ".py",
   "mimetype": "text/x-python",
   "name": "python",
   "nbconvert_exporter": "python",
   "pygments_lexer": "ipython3",
   "version": "3.10.10"
  }
 },
 "nbformat": 4,
 "nbformat_minor": 5
}
