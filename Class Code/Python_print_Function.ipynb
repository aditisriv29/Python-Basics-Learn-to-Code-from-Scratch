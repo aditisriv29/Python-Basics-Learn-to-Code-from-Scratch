{
 "cells": [
  {
   "cell_type": "markdown",
   "id": "80c32239-750b-4a21-a29d-c4e576b4d93b",
   "metadata": {},
   "source": [
    "# Python print() Function"
   ]
  },
  {
   "cell_type": "code",
   "execution_count": 1,
   "id": "f8faa7ec-8790-440b-83a5-af846e596a12",
   "metadata": {},
   "outputs": [
    {
     "name": "stdout",
     "output_type": "stream",
     "text": [
      "Hello World!\n"
     ]
    }
   ],
   "source": [
    "print(\"Hello World!\")"
   ]
  },
  {
   "cell_type": "code",
   "execution_count": 2,
   "id": "dcc46b35-f408-4b83-a0e1-2c983660987a",
   "metadata": {},
   "outputs": [
    {
     "name": "stdout",
     "output_type": "stream",
     "text": [
      "100\n"
     ]
    }
   ],
   "source": [
    "print(100)"
   ]
  },
  {
   "cell_type": "code",
   "execution_count": 3,
   "id": "461b3391-128e-4c8b-816c-44a6c8f3e091",
   "metadata": {},
   "outputs": [
    {
     "name": "stdout",
     "output_type": "stream",
     "text": [
      "Kolkata 14900000 255\n"
     ]
    }
   ],
   "source": [
    "# Printing more than one object\n",
    "print(\"Kolkata\",14900000,255)"
   ]
  },
  {
   "cell_type": "code",
   "execution_count": 4,
   "id": "3e22d042-0e2e-4ede-869f-5ec8fcd823d2",
   "metadata": {},
   "outputs": [],
   "source": [
    "a = 15\n",
    "b = 20"
   ]
  },
  {
   "cell_type": "code",
   "execution_count": 5,
   "id": "3b372bd4-2586-4abc-8b46-8b3cf12f8ffe",
   "metadata": {},
   "outputs": [
    {
     "name": "stdout",
     "output_type": "stream",
     "text": [
      "15 20\n",
      "35\n"
     ]
    }
   ],
   "source": [
    "print(a, b)\n",
    "print(a + b)"
   ]
  },
  {
   "cell_type": "code",
   "execution_count": 6,
   "id": "caa0bbc4-04a5-4cfa-a9a4-98b983aaeaae",
   "metadata": {},
   "outputs": [
    {
     "name": "stdout",
     "output_type": "stream",
     "text": [
      "Sum of a and b is: 35\n"
     ]
    }
   ],
   "source": [
    "print(\"Sum of a and b is:\", a+b)"
   ]
  },
  {
   "cell_type": "markdown",
   "id": "148627da-03c9-4263-8545-48ff215bb79f",
   "metadata": {},
   "source": [
    "## end Parameter"
   ]
  },
  {
   "cell_type": "code",
   "execution_count": 7,
   "id": "73e68762-feab-4cc0-8233-b09b324709f5",
   "metadata": {},
   "outputs": [
    {
     "name": "stdout",
     "output_type": "stream",
     "text": [
      "15 20\n"
     ]
    }
   ],
   "source": [
    "print(a, end=\" \")\n",
    "print(b)"
   ]
  },
  {
   "cell_type": "markdown",
   "id": "366916ba-780c-4f0c-b10f-6f66666ec601",
   "metadata": {},
   "source": [
    "## sep Parameter "
   ]
  },
  {
   "cell_type": "code",
   "execution_count": 8,
   "id": "516eae5c-9c41-4e17-92d8-e2dc01d91040",
   "metadata": {},
   "outputs": [
    {
     "name": "stdout",
     "output_type": "stream",
     "text": [
      "15-20\n"
     ]
    }
   ],
   "source": [
    "print(a, b, sep=\"-\")"
   ]
  },
  {
   "cell_type": "code",
   "execution_count": 9,
   "id": "aa82282f-a8bd-4074-9cc7-b57ed577dd7f",
   "metadata": {},
   "outputs": [
    {
     "name": "stdout",
     "output_type": "stream",
     "text": [
      "30/4/2023\n"
     ]
    }
   ],
   "source": [
    "day = 30\n",
    "month = 4\n",
    "year = 2023\n",
    "print(day, month, year, sep=\"/\")"
   ]
  },
  {
   "cell_type": "code",
   "execution_count": 10,
   "id": "db714c5f-8ce0-486d-b18d-243e01113db0",
   "metadata": {},
   "outputs": [],
   "source": [
    "companyName = \"Apple\"\n",
    "text = \"Follow\""
   ]
  },
  {
   "cell_type": "code",
   "execution_count": 11,
   "id": "4b72abab-2c9d-4490-b532-843595caa643",
   "metadata": {},
   "outputs": [],
   "source": [
    "# Follow@Apple"
   ]
  },
  {
   "cell_type": "code",
   "execution_count": 12,
   "id": "fca9d3be-1baa-4e75-b70a-1a07e8fac03e",
   "metadata": {},
   "outputs": [
    {
     "name": "stdout",
     "output_type": "stream",
     "text": [
      "Follow@Apple\n"
     ]
    }
   ],
   "source": [
    "print(text, companyName, sep=\"@\")"
   ]
  },
  {
   "cell_type": "code",
   "execution_count": 13,
   "id": "c0bfbbc0-cfe6-4ef9-8070-9efdd15bdd63",
   "metadata": {},
   "outputs": [],
   "source": [
    " # Follow@Apple 30/4/2023"
   ]
  },
  {
   "cell_type": "code",
   "execution_count": 14,
   "id": "54cd56b7-54eb-480a-919f-24a03a2f8065",
   "metadata": {},
   "outputs": [
    {
     "name": "stdout",
     "output_type": "stream",
     "text": [
      "Follow@Apple 30/4/2023\n"
     ]
    }
   ],
   "source": [
    "print(\"Follow@Apple 30/4/2023\")"
   ]
  },
  {
   "cell_type": "code",
   "execution_count": 16,
   "id": "3344795d-eaf8-470f-9f49-be5eaa61cd32",
   "metadata": {},
   "outputs": [
    {
     "name": "stdout",
     "output_type": "stream",
     "text": [
      "Follow@Apple@30@4@2023\n"
     ]
    }
   ],
   "source": [
    "print(text, companyName, day, month, year, sep=\"@\")"
   ]
  },
  {
   "cell_type": "markdown",
   "id": "0e839db7-ff5d-4e31-ad22-895a55e811ac",
   "metadata": {
    "tags": []
   },
   "source": [
    "## String Concatenation"
   ]
  },
  {
   "cell_type": "code",
   "execution_count": 30,
   "id": "a709202f-1425-4fa5-b3c6-b6eda660a286",
   "metadata": {},
   "outputs": [],
   "source": [
    "first_name = \"Krishnagopal\"\n",
    "last_name = \"Halder\"\n",
    "full_name = first_name + \" \" + last_name"
   ]
  },
  {
   "cell_type": "code",
   "execution_count": 31,
   "id": "548afabb-74ed-4cc7-85d9-e6844a7b5526",
   "metadata": {},
   "outputs": [
    {
     "name": "stdout",
     "output_type": "stream",
     "text": [
      "Krishnagopal Halder\n"
     ]
    }
   ],
   "source": [
    "print(full_name)"
   ]
  }
 ],
 "metadata": {
  "kernelspec": {
   "display_name": "Python 3 (ipykernel)",
   "language": "python",
   "name": "python3"
  },
  "language_info": {
   "codemirror_mode": {
    "name": "ipython",
    "version": 3
   },
   "file_extension": ".py",
   "mimetype": "text/x-python",
   "name": "python",
   "nbconvert_exporter": "python",
   "pygments_lexer": "ipython3",
   "version": "3.10.10"
  }
 },
 "nbformat": 4,
 "nbformat_minor": 5
}
