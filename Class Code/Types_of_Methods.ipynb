{
 "cells": [
  {
   "cell_type": "markdown",
   "id": "aa7e19ef-a6dd-457d-b1bc-4e5f29c51ccd",
   "metadata": {},
   "source": [
    "## Types of Methods"
   ]
  },
  {
   "cell_type": "markdown",
   "id": "7eabdb55-d4ee-4d9c-a1d5-abb55be22aef",
   "metadata": {},
   "source": [
    "### Instance Method"
   ]
  },
  {
   "cell_type": "code",
   "execution_count": 5,
   "id": "eda8746f-e761-4c40-b3c7-88de1c14044a",
   "metadata": {
    "tags": []
   },
   "outputs": [],
   "source": [
    "class Circle:\n",
    "    _pi = 3.14159 # protected data member\n",
    "    \n",
    "    # constructor\n",
    "    def __init__(self, radius):\n",
    "        self.radius = radius\n",
    "        \n",
    "    # instance method\n",
    "    def calculate_area(self):\n",
    "        area = self._pi * (self.radius)**2\n",
    "        return area\n",
    "    \n",
    "    # instance method\n",
    "    def calulate_perimeter(self):\n",
    "        perimeter = 2 * self._pi * (self.radius)\n",
    "        return perimeter"
   ]
  },
  {
   "cell_type": "code",
   "execution_count": 6,
   "id": "3785678d-c009-4daa-a322-50db388ae20b",
   "metadata": {
    "tags": []
   },
   "outputs": [],
   "source": [
    "# Creating an object / instance from circle class\n",
    "circle1 = Circle(5)"
   ]
  },
  {
   "cell_type": "code",
   "execution_count": 11,
   "id": "1a2a96e4-04a3-47f7-a9cb-5ce2feabbb21",
   "metadata": {
    "tags": []
   },
   "outputs": [
    {
     "data": {
      "text/plain": [
       "5"
      ]
     },
     "execution_count": 11,
     "metadata": {},
     "output_type": "execute_result"
    }
   ],
   "source": [
    "circle1.radius"
   ]
  },
  {
   "cell_type": "code",
   "execution_count": 9,
   "id": "df137cf5-6060-483f-9c7c-a0d09e1a8f9f",
   "metadata": {
    "tags": []
   },
   "outputs": [
    {
     "name": "stdout",
     "output_type": "stream",
     "text": [
      "The area of the circle: 78.53975\n"
     ]
    }
   ],
   "source": [
    "print(\"The area of the circle:\", circle1.calculate_area())"
   ]
  },
  {
   "cell_type": "code",
   "execution_count": 10,
   "id": "66d0dfef-04ee-4ed4-97cc-e92bc39a83ca",
   "metadata": {
    "tags": []
   },
   "outputs": [
    {
     "name": "stdout",
     "output_type": "stream",
     "text": [
      "The perimeter of the circle: 31.4159\n"
     ]
    }
   ],
   "source": [
    "print(\"The perimeter of the circle:\", circle1.calulate_perimeter())"
   ]
  },
  {
   "cell_type": "markdown",
   "id": "cea99c51-766c-4751-89d9-43291e8166b7",
   "metadata": {},
   "source": [
    "### Class Methods"
   ]
  },
  {
   "cell_type": "code",
   "execution_count": 12,
   "id": "9bf2ca93-3a99-4336-9af2-fd3936873af6",
   "metadata": {
    "tags": []
   },
   "outputs": [],
   "source": [
    "class Rectangle:\n",
    "    width = 0 # class-level variable\n",
    "    height = 0 # class-level variable\n",
    "    \n",
    "    #constructor\n",
    "    def __init__(self, width, height):\n",
    "        self.width = width\n",
    "        self.height = height\n",
    "    \n",
    "    # instance method\n",
    "    def calculate_area(self):\n",
    "        area = self.width * self.height\n",
    "        return area\n",
    "        \n",
    "    # class method\n",
    "    @classmethod\n",
    "    def change_size(cls, new_width, new_height):\n",
    "        cls.width = new_width\n",
    "        cls.height = new_height   "
   ]
  },
  {
   "cell_type": "code",
   "execution_count": 13,
   "id": "a5d964f0-fdde-41ae-86a6-0d94faaac809",
   "metadata": {
    "tags": []
   },
   "outputs": [],
   "source": [
    "# Creating an instance from the rectangle class\n",
    "rectangle1 = Rectangle(10, 5)"
   ]
  },
  {
   "cell_type": "code",
   "execution_count": 15,
   "id": "10c25a4e-5bf9-4e01-aa8b-006bb7364c6d",
   "metadata": {
    "tags": []
   },
   "outputs": [
    {
     "name": "stdout",
     "output_type": "stream",
     "text": [
      "The area of the rectangle is: 50\n"
     ]
    }
   ],
   "source": [
    "# Calling the instance method\n",
    "print(\"The area of the rectangle is:\", rectangle1.calculate_area())"
   ]
  },
  {
   "cell_type": "code",
   "execution_count": 16,
   "id": "2229507c-aa17-46d1-b4c1-4f0c6b0aab8c",
   "metadata": {
    "tags": []
   },
   "outputs": [
    {
     "name": "stdout",
     "output_type": "stream",
     "text": [
      "0\n",
      "0\n"
     ]
    }
   ],
   "source": [
    "print(Rectangle.width)\n",
    "print(Rectangle.height)"
   ]
  },
  {
   "cell_type": "code",
   "execution_count": 18,
   "id": "c47f852f-c440-4ed5-a75a-6ba847c54f2b",
   "metadata": {
    "tags": []
   },
   "outputs": [
    {
     "name": "stdout",
     "output_type": "stream",
     "text": [
      "10\n",
      "5\n"
     ]
    }
   ],
   "source": [
    "print(rectangle1.width)\n",
    "print(rectangle1.height)"
   ]
  },
  {
   "cell_type": "code",
   "execution_count": 19,
   "id": "f0118e58-b6eb-456f-9218-07d2044be977",
   "metadata": {
    "tags": []
   },
   "outputs": [],
   "source": [
    "# Modifying the class-level variable using the class method\n",
    "Rectangle.change_size(5, 5)"
   ]
  },
  {
   "cell_type": "code",
   "execution_count": 20,
   "id": "9001bc25-dc77-44d9-b04a-d68b520bb17b",
   "metadata": {
    "tags": []
   },
   "outputs": [
    {
     "name": "stdout",
     "output_type": "stream",
     "text": [
      "5\n",
      "5\n"
     ]
    }
   ],
   "source": [
    "# Checking the new class-level variable\n",
    "print(Rectangle.width)\n",
    "print(Rectangle.height)"
   ]
  },
  {
   "cell_type": "markdown",
   "id": "7fab1a2f-8a8e-4520-a400-f0659b7d1ae0",
   "metadata": {},
   "source": [
    "### Static Methods"
   ]
  },
  {
   "cell_type": "code",
   "execution_count": 29,
   "id": "7ab5f8ee-2329-4433-9b09-b07fa240cf8e",
   "metadata": {
    "tags": []
   },
   "outputs": [],
   "source": [
    "class MathUtils:\n",
    "    \n",
    "    @staticmethod\n",
    "    def add(x, y, *args):\n",
    "        sum_of_num = x + y\n",
    "        for i in args: # args is a tuple ()\n",
    "            sum_of_num += i\n",
    "        return sum_of_num\n",
    "    \n",
    "    @staticmethod\n",
    "    def multiply(x, y, *args):\n",
    "        product_of_num = x * y\n",
    "        for i in args:\n",
    "            product_of_num *= i\n",
    "        return product_of_num"
   ]
  },
  {
   "cell_type": "code",
   "execution_count": 23,
   "id": "4eaf2bd8-e564-4d69-acc8-064b2916228f",
   "metadata": {
    "tags": []
   },
   "outputs": [
    {
     "data": {
      "text/plain": [
       "15"
      ]
     },
     "execution_count": 23,
     "metadata": {},
     "output_type": "execute_result"
    }
   ],
   "source": [
    "MathUtils.add(10, 5)"
   ]
  },
  {
   "cell_type": "code",
   "execution_count": 25,
   "id": "99723428-12ed-43b8-8916-0878f6cb7f98",
   "metadata": {
    "tags": []
   },
   "outputs": [
    {
     "data": {
      "text/plain": [
       "50"
      ]
     },
     "execution_count": 25,
     "metadata": {},
     "output_type": "execute_result"
    }
   ],
   "source": [
    "MathUtils.multiply(10, 5)"
   ]
  },
  {
   "cell_type": "code",
   "execution_count": 30,
   "id": "f78d281b-9bb4-402a-a585-ef24ee13e60f",
   "metadata": {
    "tags": []
   },
   "outputs": [
    {
     "data": {
      "text/plain": [
       "173"
      ]
     },
     "execution_count": 30,
     "metadata": {},
     "output_type": "execute_result"
    }
   ],
   "source": [
    "MathUtils.add(10, 20, 30, 40, 17, 56) # *args = (30, 40, 17, 56)"
   ]
  },
  {
   "cell_type": "code",
   "execution_count": 32,
   "id": "c8b400d8-1d77-4f00-b144-a72afa7a60dd",
   "metadata": {
    "tags": []
   },
   "outputs": [
    {
     "data": {
      "text/plain": [
       "12000"
      ]
     },
     "execution_count": 32,
     "metadata": {},
     "output_type": "execute_result"
    }
   ],
   "source": [
    "MathUtils.multiply(10, 20, 3, 4, 5)"
   ]
  }
 ],
 "metadata": {
  "kernelspec": {
   "display_name": "Python 3 (ipykernel)",
   "language": "python",
   "name": "python3"
  },
  "language_info": {
   "codemirror_mode": {
    "name": "ipython",
    "version": 3
   },
   "file_extension": ".py",
   "mimetype": "text/x-python",
   "name": "python",
   "nbconvert_exporter": "python",
   "pygments_lexer": "ipython3",
   "version": "3.10.9"
  }
 },
 "nbformat": 4,
 "nbformat_minor": 5
}
