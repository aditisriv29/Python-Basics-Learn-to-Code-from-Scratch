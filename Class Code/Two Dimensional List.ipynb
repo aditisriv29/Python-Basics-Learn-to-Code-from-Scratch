{
 "cells": [
  {
   "cell_type": "markdown",
   "id": "847b868b-ccce-40a9-9645-968946ee1421",
   "metadata": {},
   "source": [
    "# Two-Dimensional(2-D) List"
   ]
  },
  {
   "cell_type": "code",
   "execution_count": 1,
   "id": "53a4866e-ed7b-4fa4-bc65-225dcf5faaf4",
   "metadata": {},
   "outputs": [],
   "source": [
    "myList = [1, 2, 3, 4]"
   ]
  },
  {
   "cell_type": "code",
   "execution_count": 2,
   "id": "316fb910-7e23-4de3-ab57-9d2465ad7fb2",
   "metadata": {},
   "outputs": [],
   "source": [
    "student1 = [9, 8, 6, 5]\n",
    "student2 = [8, 10, 4, 7]\n",
    "student3 = [7, 3, 8, 9]\n",
    "student4 = [10, 8, 7, 9]"
   ]
  },
  {
   "cell_type": "code",
   "execution_count": 3,
   "id": "ed1845ea-8c61-4f8c-bfb4-f875999a19e2",
   "metadata": {},
   "outputs": [],
   "source": [
    "marks_of_students = [student1, student2, student3, student4]"
   ]
  },
  {
   "cell_type": "code",
   "execution_count": 4,
   "id": "f0ec22a3-7521-499a-a6bb-ac54792afb86",
   "metadata": {},
   "outputs": [
    {
     "data": {
      "text/plain": [
       "[[9, 8, 6, 5], [8, 10, 4, 7], [7, 3, 8, 9], [10, 8, 7, 9]]"
      ]
     },
     "execution_count": 4,
     "metadata": {},
     "output_type": "execute_result"
    }
   ],
   "source": [
    "marks_of_students"
   ]
  },
  {
   "cell_type": "code",
   "execution_count": 5,
   "id": "49e7678b-4454-4e1a-918d-ed3d52f9105b",
   "metadata": {},
   "outputs": [],
   "source": [
    "import numpy as np"
   ]
  },
  {
   "cell_type": "code",
   "execution_count": 6,
   "id": "59df15a1-db32-40d4-81f9-7cc0f5b5efaa",
   "metadata": {},
   "outputs": [],
   "source": [
    "myArr = np.array([1, 2, 3, 4])"
   ]
  },
  {
   "cell_type": "code",
   "execution_count": 7,
   "id": "ecee9fa0-eb37-4e9a-b10f-b258e2beb535",
   "metadata": {},
   "outputs": [
    {
     "data": {
      "text/plain": [
       "1"
      ]
     },
     "execution_count": 7,
     "metadata": {},
     "output_type": "execute_result"
    }
   ],
   "source": [
    "myArr.ndim"
   ]
  },
  {
   "cell_type": "code",
   "execution_count": 8,
   "id": "e43b59c8-f0d5-460d-91ef-6ef50289ecb7",
   "metadata": {},
   "outputs": [],
   "source": [
    "myArr2D = np.array([[1, 2, 3, 4], [5, 6, 7, 9], [10, 11, 12, 13]])"
   ]
  },
  {
   "cell_type": "code",
   "execution_count": 9,
   "id": "75c38e5b-727b-4021-a138-59d6ce83e824",
   "metadata": {},
   "outputs": [
    {
     "data": {
      "text/plain": [
       "array([[ 1,  2,  3,  4],\n",
       "       [ 5,  6,  7,  9],\n",
       "       [10, 11, 12, 13]])"
      ]
     },
     "execution_count": 9,
     "metadata": {},
     "output_type": "execute_result"
    }
   ],
   "source": [
    "myArr2D"
   ]
  },
  {
   "cell_type": "code",
   "execution_count": 10,
   "id": "c9ee594f-ee9a-4e5e-9d29-e1e8128945e9",
   "metadata": {},
   "outputs": [
    {
     "data": {
      "text/plain": [
       "(3, 4)"
      ]
     },
     "execution_count": 10,
     "metadata": {},
     "output_type": "execute_result"
    }
   ],
   "source": [
    "myArr2D.shape"
   ]
  },
  {
   "cell_type": "code",
   "execution_count": 11,
   "id": "74452965-6914-48e2-8488-5ce30728acdf",
   "metadata": {},
   "outputs": [
    {
     "data": {
      "text/plain": [
       "2"
      ]
     },
     "execution_count": 11,
     "metadata": {},
     "output_type": "execute_result"
    }
   ],
   "source": [
    "myArr2D.ndim"
   ]
  },
  {
   "cell_type": "markdown",
   "id": "cc1f045e-1b95-497a-86ec-a47895c21008",
   "metadata": {},
   "source": [
    "## Accessing Values in a Two-Dimensional List"
   ]
  },
  {
   "cell_type": "code",
   "execution_count": 12,
   "id": "ad41434d-39cf-4376-9f65-eaa51bb82c6d",
   "metadata": {},
   "outputs": [
    {
     "data": {
      "text/plain": [
       "[[9, 8, 6, 5], [8, 10, 4, 7], [7, 3, 8, 9], [10, 8, 7, 9]]"
      ]
     },
     "execution_count": 12,
     "metadata": {},
     "output_type": "execute_result"
    }
   ],
   "source": [
    "marks_of_students"
   ]
  },
  {
   "cell_type": "code",
   "execution_count": 14,
   "id": "a86130bf-8ee0-4683-9589-135ac28c4d07",
   "metadata": {},
   "outputs": [
    {
     "data": {
      "text/plain": [
       "[7, 3, 8, 9]"
      ]
     },
     "execution_count": 14,
     "metadata": {},
     "output_type": "execute_result"
    }
   ],
   "source": [
    "# List at index 0 in marks_of_students\n",
    "marks_of_students[2]"
   ]
  },
  {
   "cell_type": "code",
   "execution_count": 15,
   "id": "ceae7ac7-71d4-46c5-a3dd-9ceaa2519f62",
   "metadata": {},
   "outputs": [
    {
     "data": {
      "text/plain": [
       "10"
      ]
     },
     "execution_count": 15,
     "metadata": {},
     "output_type": "execute_result"
    }
   ],
   "source": [
    "# Element at index 1 in list at index 1\n",
    "marks_of_students[1][1]"
   ]
  },
  {
   "cell_type": "code",
   "execution_count": 16,
   "id": "79b542b2-0d59-489a-9194-8413c6b94e8b",
   "metadata": {},
   "outputs": [
    {
     "data": {
      "text/plain": [
       "8"
      ]
     },
     "execution_count": 16,
     "metadata": {},
     "output_type": "execute_result"
    }
   ],
   "source": [
    "# Element at index 3 in list at index 1\n",
    "marks_of_students[3][1]"
   ]
  },
  {
   "cell_type": "code",
   "execution_count": 17,
   "id": "2615d4d0-a061-4e75-b9f9-44d06fff5470",
   "metadata": {},
   "outputs": [],
   "source": [
    "myList = [1, 2, 3]"
   ]
  },
  {
   "cell_type": "code",
   "execution_count": 21,
   "id": "6a97b057-a5ca-40d1-9ad4-9e8cd07f60d7",
   "metadata": {},
   "outputs": [
    {
     "data": {
      "text/plain": [
       "3"
      ]
     },
     "execution_count": 21,
     "metadata": {},
     "output_type": "execute_result"
    }
   ],
   "source": [
    "myList[2]"
   ]
  },
  {
   "cell_type": "markdown",
   "id": "dcdde484-4900-4076-83da-205c610f9197",
   "metadata": {},
   "source": [
    "## Input of Two-Dimensional List"
   ]
  },
  {
   "cell_type": "markdown",
   "id": "4a87bf7a-6542-42f6-b394-5ef619260b64",
   "metadata": {},
   "source": [
    "### Line Separated Input"
   ]
  },
  {
   "cell_type": "code",
   "execution_count": 24,
   "id": "11a6de3c-64d7-45b2-b0de-119e77377f6f",
   "metadata": {},
   "outputs": [
    {
     "name": "stdout",
     "output_type": "stream",
     "text": [
      "How many number of rows do you want?\n"
     ]
    },
    {
     "name": "stdin",
     "output_type": "stream",
     "text": [
      " 4\n",
      " 1 2 3 5\n",
      " 4 7 2 1\n",
      " 3 1 6 7\n",
      " 9 1 4 8\n"
     ]
    }
   ],
   "source": [
    "# Number of rows\n",
    "print(\"How many number of rows do you want?\")\n",
    "n = int(input())\n",
    "inputList = [[int(col) for col in input().split()] for row in range(n)]"
   ]
  },
  {
   "cell_type": "code",
   "execution_count": 26,
   "id": "e006994c-2b19-415b-80d0-393f8d904ec9",
   "metadata": {},
   "outputs": [
    {
     "data": {
      "text/plain": [
       "[[1, 2, 3, 5], [4, 7, 2, 1], [3, 1, 6, 7], [9, 1, 4, 8]]"
      ]
     },
     "execution_count": 26,
     "metadata": {},
     "output_type": "execute_result"
    }
   ],
   "source": [
    "inputList"
   ]
  },
  {
   "cell_type": "markdown",
   "id": "2c314239-97fa-448a-91d0-76b260e946cc",
   "metadata": {},
   "source": [
    "### Space Separated Input"
   ]
  },
  {
   "cell_type": "code",
   "execution_count": 35,
   "id": "4a721f2c-d422-4ab1-9c83-aa3bf779c6f0",
   "metadata": {},
   "outputs": [
    {
     "name": "stdout",
     "output_type": "stream",
     "text": [
      "How many number of rows do you want: \n"
     ]
    },
    {
     "name": "stdin",
     "output_type": "stream",
     "text": [
      " 3\n"
     ]
    },
    {
     "name": "stdout",
     "output_type": "stream",
     "text": [
      "How many number of columns do you want: \n"
     ]
    },
    {
     "name": "stdin",
     "output_type": "stream",
     "text": [
      " 4\n",
      " 1 2 3 4 5 6 7 8 9 10 11 12\n"
     ]
    },
    {
     "name": "stdout",
     "output_type": "stream",
     "text": [
      "[[1, 2, 3, 4], [5, 6, 7, 8], [9, 10, 11, 12]]\n"
     ]
    }
   ],
   "source": [
    "# Number of rows\n",
    "print(\"How many number of rows do you want: \")\n",
    "row = int(input())\n",
    "\n",
    "# Number of columns\n",
    "print(\"How many number of columns do you want: \")\n",
    "col = int(input())\n",
    "\n",
    "# Converting input string to list\n",
    "inputList = input().split()\n",
    "\n",
    "finalList = [[int(inputList[i*col+j]) for j in range(col)] for i in range(row)]\n",
    "print(finalList)"
   ]
  },
  {
   "cell_type": "markdown",
   "id": "ca0a97dc-b037-4620-85f9-e730cb6da35d",
   "metadata": {},
   "source": [
    "## Printing in Multiple Lines Like a Matrix"
   ]
  },
  {
   "cell_type": "code",
   "execution_count": 36,
   "id": "ac40bfbd-41ff-41d8-af96-d1e034863db0",
   "metadata": {},
   "outputs": [
    {
     "data": {
      "text/plain": [
       "[[1, 2, 3, 4], [5, 6, 7, 8], [9, 10, 11, 12]]"
      ]
     },
     "execution_count": 36,
     "metadata": {},
     "output_type": "execute_result"
    }
   ],
   "source": [
    "finalList"
   ]
  },
  {
   "cell_type": "code",
   "execution_count": 40,
   "id": "bf4b8b25-19b2-445f-915e-cd978cb9cec9",
   "metadata": {},
   "outputs": [
    {
     "name": "stdout",
     "output_type": "stream",
     "text": [
      "1 2 3 4 \n",
      "5 6 7 8 \n",
      "9 10 11 12 \n"
     ]
    }
   ],
   "source": [
    "# Iterate in row of 2-D list\n",
    "for row in finalList:\n",
    "    for col in row:\n",
    "        print(col, end=\" \")\n",
    "    print()"
   ]
  }
 ],
 "metadata": {
  "kernelspec": {
   "display_name": "Python 3 (ipykernel)",
   "language": "python",
   "name": "python3"
  },
  "language_info": {
   "codemirror_mode": {
    "name": "ipython",
    "version": 3
   },
   "file_extension": ".py",
   "mimetype": "text/x-python",
   "name": "python",
   "nbconvert_exporter": "python",
   "pygments_lexer": "ipython3",
   "version": "3.10.10"
  }
 },
 "nbformat": 4,
 "nbformat_minor": 5
}
