{
 "cells": [
  {
   "cell_type": "markdown",
   "id": "2e6e2aff-15ee-49df-b849-e091f1f360c9",
   "metadata": {},
   "source": [
    "# Python Comments"
   ]
  },
  {
   "cell_type": "markdown",
   "id": "ed502007-3aa2-4aa0-83ac-d85cf8097ab5",
   "metadata": {},
   "source": [
    "## Single Line Comments"
   ]
  },
  {
   "cell_type": "code",
   "execution_count": 3,
   "id": "d42aedaf-0096-44f1-9972-bfbc68c2232c",
   "metadata": {},
   "outputs": [
    {
     "name": "stdout",
     "output_type": "stream",
     "text": [
      "Hello world!\n"
     ]
    }
   ],
   "source": [
    "# This is a single line comment\n",
    "print(\"Hello world!\")"
   ]
  },
  {
   "cell_type": "markdown",
   "id": "53e6d63d-196c-4c37-b9cd-fbf0b1c02bee",
   "metadata": {},
   "source": [
    "## Multi Line Comments"
   ]
  },
  {
   "cell_type": "code",
   "execution_count": 7,
   "id": "b9ed39c7-e93f-4274-bfe1-b7a576a6768e",
   "metadata": {},
   "outputs": [
    {
     "data": {
      "text/plain": [
       "'\\nThis is\\na Multi Line\\nComment\\n'"
      ]
     },
     "execution_count": 7,
     "metadata": {},
     "output_type": "execute_result"
    }
   ],
   "source": [
    "\"\"\"\n",
    "This is\n",
    "a Multi Line\n",
    "Comment\n",
    "\"\"\""
   ]
  }
 ],
 "metadata": {
  "kernelspec": {
   "display_name": "Python 3 (ipykernel)",
   "language": "python",
   "name": "python3"
  },
  "language_info": {
   "codemirror_mode": {
    "name": "ipython",
    "version": 3
   },
   "file_extension": ".py",
   "mimetype": "text/x-python",
   "name": "python",
   "nbconvert_exporter": "python",
   "pygments_lexer": "ipython3",
   "version": "3.10.10"
  }
 },
 "nbformat": 4,
 "nbformat_minor": 5
}
