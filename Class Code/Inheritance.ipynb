{
  "nbformat": 4,
  "nbformat_minor": 0,
  "metadata": {
    "colab": {
      "provenance": []
    },
    "kernelspec": {
      "name": "python3",
      "display_name": "Python 3"
    },
    "language_info": {
      "name": "python"
    }
  },
  "cells": [
    {
      "cell_type": "markdown",
      "source": [
        "# Inheritance\n"
      ],
      "metadata": {
        "id": "l3UMWg3uWh3k"
      }
    },
    {
      "cell_type": "code",
      "execution_count": 1,
      "metadata": {
        "id": "yRE8JWpBWciJ"
      },
      "outputs": [],
      "source": [
        "# Defining the parent/super class\n",
        "class Vehicle:\n",
        "  def __init__(self, brand, name, color):\n",
        "    self.brand = brand\n",
        "    self.name = name\n",
        "    self.color = color\n",
        "\n",
        "  def drive(self):\n",
        "    print(\"Driving the vehicle.\")\n",
        "\n",
        "  def stop(self):\n",
        "    print(\"Stopping the vehicle\")"
      ]
    },
    {
      "cell_type": "code",
      "source": [
        "# Defining the child/sub class\n",
        "class Car(Vehicle):\n",
        "  def __init__(self, brand, name, color, topspeed, no_of_windows):\n",
        "    super().__init__(brand, name, color)\n",
        "    self.topspeed = topspeed\n",
        "    self.no_of_windows = no_of_windows\n",
        "\n",
        "  def drive(self):\n",
        "    print(\"Driving the car.\")\n",
        "\n",
        "  def open_trunk(self):\n",
        "    print(\"Opening the trunk.\")"
      ],
      "metadata": {
        "id": "shvM7Y87Xaso"
      },
      "execution_count": 6,
      "outputs": []
    },
    {
      "cell_type": "code",
      "source": [
        "# Defining another child class\n",
        "class Motorcycle(Vehicle):\n",
        "  def __init__(self, brand, name, color, topspeed):\n",
        "    super().__init__(brand, name, color)\n",
        "    self.topspeed = topspeed\n",
        "\n",
        "  def drive(self):\n",
        "    print(\"Driving the motorcycle.\")\n",
        "\n",
        "  def indicator(self):\n",
        "    print(\"Turning on the indicator.\")"
      ],
      "metadata": {
        "id": "yt1km9V5YsFo"
      },
      "execution_count": 3,
      "outputs": []
    },
    {
      "cell_type": "code",
      "source": [
        "# Creating instances from subclass\n",
        "car1 = Car(\"Maruti\", \"Maruti 800\", \"White\", 120, 4)\n",
        "motorcycle1 = Motorcycle(\"Kawasaki\", \"Kawasaki Ninja\", \"Black\", 290)"
      ],
      "metadata": {
        "id": "qtvJ3NScZkTh"
      },
      "execution_count": 7,
      "outputs": []
    },
    {
      "cell_type": "code",
      "source": [
        "# Calling the overriden methods\n",
        "car1.drive()"
      ],
      "metadata": {
        "colab": {
          "base_uri": "https://localhost:8080/"
        },
        "id": "wVIZ6HBcaQM3",
        "outputId": "704fd665-e8f9-412e-f611-d382ea7fdff2"
      },
      "execution_count": 8,
      "outputs": [
        {
          "output_type": "stream",
          "name": "stdout",
          "text": [
            "Driving the car.\n"
          ]
        }
      ]
    },
    {
      "cell_type": "code",
      "source": [
        "motorcycle1.drive()"
      ],
      "metadata": {
        "colab": {
          "base_uri": "https://localhost:8080/"
        },
        "id": "_AOOmlZVa8Wh",
        "outputId": "b7e33d5a-87fb-444b-fcad-ef8ee2eb6778"
      },
      "execution_count": 10,
      "outputs": [
        {
          "output_type": "stream",
          "name": "stdout",
          "text": [
            "Driving the motorcycle.\n"
          ]
        }
      ]
    },
    {
      "cell_type": "code",
      "source": [
        "# Calling the subclass-specific methods\n",
        "car1.open_trunk()"
      ],
      "metadata": {
        "colab": {
          "base_uri": "https://localhost:8080/"
        },
        "id": "MeOFx3-VbGDq",
        "outputId": "1377fa9d-ac36-43f7-b414-a929a9bb8db7"
      },
      "execution_count": 11,
      "outputs": [
        {
          "output_type": "stream",
          "name": "stdout",
          "text": [
            "Opening the trunk.\n"
          ]
        }
      ]
    },
    {
      "cell_type": "code",
      "source": [
        "motorcycle1.indicator()"
      ],
      "metadata": {
        "colab": {
          "base_uri": "https://localhost:8080/"
        },
        "id": "qCW_eL7PbopP",
        "outputId": "2bbcd1dc-5720-4048-967d-2d03901ef3b6"
      },
      "execution_count": 12,
      "outputs": [
        {
          "output_type": "stream",
          "name": "stdout",
          "text": [
            "Turning on the indicator.\n"
          ]
        }
      ]
    },
    {
      "cell_type": "code",
      "source": [
        "# Calling superclass methods\n",
        "car1.stop()"
      ],
      "metadata": {
        "colab": {
          "base_uri": "https://localhost:8080/"
        },
        "id": "6At2c08scjP0",
        "outputId": "a10fa5b0-213a-4042-b2c7-eebe3a4f501b"
      },
      "execution_count": 13,
      "outputs": [
        {
          "output_type": "stream",
          "name": "stdout",
          "text": [
            "Stopping the vehicle\n"
          ]
        }
      ]
    },
    {
      "cell_type": "code",
      "source": [
        "motorcycle1.stop()"
      ],
      "metadata": {
        "colab": {
          "base_uri": "https://localhost:8080/"
        },
        "id": "jMCPrDj7cuye",
        "outputId": "66ebda16-384a-4ee4-ea6c-9fdbd755d6d6"
      },
      "execution_count": 14,
      "outputs": [
        {
          "output_type": "stream",
          "name": "stdout",
          "text": [
            "Stopping the vehicle\n"
          ]
        }
      ]
    }
  ]
}