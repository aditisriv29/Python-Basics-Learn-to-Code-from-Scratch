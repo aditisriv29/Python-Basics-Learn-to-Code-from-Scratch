{
 "cells": [
  {
   "cell_type": "markdown",
   "id": "6e2f1fc7-189f-4642-9788-26f8182f53fb",
   "metadata": {},
   "source": [
    "# Access Modifiers"
   ]
  },
  {
   "cell_type": "markdown",
   "id": "a6fabac1-840f-45ba-b8a8-05f8b61ea63e",
   "metadata": {},
   "source": [
    "## Public Modifier"
   ]
  },
  {
   "cell_type": "code",
   "execution_count": 1,
   "id": "52546018-6d9a-45ce-aed1-62b6c2348d40",
   "metadata": {
    "tags": []
   },
   "outputs": [],
   "source": [
    "# Creating a student class with public member\n",
    "# member = method + variables inside of class\n",
    "class Pub_Student:\n",
    "    name = None # public member by default\n",
    "    age = None # public member\n",
    "    \n",
    "    # constructor\n",
    "    def __init__(self, name, age):\n",
    "        self.name = name\n",
    "        self.age = age\n",
    "        \n",
    "    def public_method(self): # public member\n",
    "        print(\"This is a public method.\")"
   ]
  },
  {
   "cell_type": "code",
   "execution_count": 2,
   "id": "36588ef4-95e3-4010-8531-43fe54d19900",
   "metadata": {
    "tags": []
   },
   "outputs": [],
   "source": [
    "# Creating objects/instances from the Pub_Student class\n",
    "pub_obj = Pub_Student(\"Sovon Roy\", 22)"
   ]
  },
  {
   "cell_type": "code",
   "execution_count": 3,
   "id": "57a5e0c1-1749-4df7-906e-bced4d6a3f9d",
   "metadata": {
    "tags": []
   },
   "outputs": [
    {
     "name": "stdout",
     "output_type": "stream",
     "text": [
      "Sovon Roy\n",
      "22\n",
      "This is a public method.\n"
     ]
    }
   ],
   "source": [
    "# Calling the public members of the class\n",
    "print(pub_obj.name)\n",
    "print(pub_obj.age)\n",
    "pub_obj.public_method()"
   ]
  },
  {
   "cell_type": "markdown",
   "id": "73c796a4-d52f-4136-923b-94eb6f294c19",
   "metadata": {},
   "source": [
    "## Protected Modifier"
   ]
  },
  {
   "cell_type": "code",
   "execution_count": 4,
   "id": "b3e08273-b4d9-4d0c-8cf9-82e425dded27",
   "metadata": {
    "tags": []
   },
   "outputs": [],
   "source": [
    "# Creating a student class with protected member\n",
    "class Pro_Student:\n",
    "    name = None # public member\n",
    "    _age = None # protected member\n",
    "    \n",
    "    # constructor\n",
    "    def __init__(self, name, age):\n",
    "        self.name = name\n",
    "        self._age = age\n",
    "        \n",
    "    def print_details(self): # publc member (method)\n",
    "        print(f\"Student Name: {self.name}\")\n",
    "        print(f\"Student age: {self._age}\")\n",
    "        \n",
    "    def _protected_method(self): # protected member (method)\n",
    "        print(\"This is a protected method.\")"
   ]
  },
  {
   "cell_type": "code",
   "execution_count": 5,
   "id": "964a782f-2e33-4381-b9e8-25bbabb5e8d1",
   "metadata": {
    "tags": []
   },
   "outputs": [],
   "source": [
    "# Creating objects/instances from the Pro_Student class\n",
    "pro_obj = Pro_Student(\"Anil De\", 14)"
   ]
  },
  {
   "cell_type": "code",
   "execution_count": 6,
   "id": "2a02bfd6-1fca-465f-ae85-64d933e1d676",
   "metadata": {
    "tags": []
   },
   "outputs": [
    {
     "name": "stdout",
     "output_type": "stream",
     "text": [
      "14\n",
      "This is a protected method.\n"
     ]
    }
   ],
   "source": [
    "# Calling the protected members of the class\n",
    "print(pro_obj._age)\n",
    "pro_obj._protected_method()"
   ]
  },
  {
   "cell_type": "code",
   "execution_count": 7,
   "id": "f8274add-63bd-4389-843f-6d7a1422ce2f",
   "metadata": {
    "tags": []
   },
   "outputs": [
    {
     "name": "stdout",
     "output_type": "stream",
     "text": [
      "Anil De\n",
      "Student Name: Anil De\n",
      "Student age: 14\n"
     ]
    }
   ],
   "source": [
    "# Calling the public members of the class\n",
    "print(pro_obj.name)\n",
    "pro_obj.print_details()"
   ]
  },
  {
   "cell_type": "markdown",
   "id": "a7accb3e-4ec9-4bfb-a001-64363ee78062",
   "metadata": {},
   "source": [
    "## Private Modifier"
   ]
  },
  {
   "cell_type": "code",
   "execution_count": 8,
   "id": "1551acc2-5355-47f0-90cd-a657426bffb7",
   "metadata": {
    "tags": []
   },
   "outputs": [],
   "source": [
    "# Creating a student class with private member\n",
    "class Pri_Student:\n",
    "    name = None # public member\n",
    "    __age = None # private member\n",
    "    \n",
    "    # constructor\n",
    "    def __init__(self, name, age):\n",
    "        self.name = name\n",
    "        self.__age = age\n",
    "        \n",
    "    def print_details(self): #public member\n",
    "        print(f\"Student Name: {self.name}\")\n",
    "        print(f\"Student Age: {self.__age}\")\n",
    "        \n",
    "    def __private_method(self): # private member\n",
    "        print(\"This is a private method\")"
   ]
  },
  {
   "cell_type": "code",
   "execution_count": 9,
   "id": "1c559a38-3380-43d3-af2f-fa3bb70c6398",
   "metadata": {
    "tags": []
   },
   "outputs": [],
   "source": [
    "# Creating objects/instances from the Pri_Student class\n",
    "pri_obj = Pri_Student(\"Bikram Roy\", 16)"
   ]
  },
  {
   "cell_type": "code",
   "execution_count": 10,
   "id": "d506dd0d-c98e-4501-a5a5-7d083c8d2e64",
   "metadata": {
    "tags": []
   },
   "outputs": [
    {
     "name": "stdout",
     "output_type": "stream",
     "text": [
      "Bikram Roy\n",
      "Student Name: Bikram Roy\n",
      "Student Age: 16\n"
     ]
    }
   ],
   "source": [
    "# Calling the public members of the class\n",
    "print(pri_obj.name)\n",
    "pri_obj.print_details()"
   ]
  },
  {
   "cell_type": "code",
   "execution_count": 11,
   "id": "3f97316b-0a81-4c57-ad6f-1e44994ffd6d",
   "metadata": {
    "tags": []
   },
   "outputs": [],
   "source": [
    "# Calling the private members of the class\n",
    "# pri_obj.__age\n",
    "# pri_obj.__private_method()"
   ]
  },
  {
   "cell_type": "markdown",
   "id": "6e0f6fe6-2cc4-4f01-801b-2506726f7a6b",
   "metadata": {},
   "source": [
    "### Name Mangling"
   ]
  },
  {
   "cell_type": "code",
   "execution_count": 12,
   "id": "8821a5a7-c792-4d25-a95b-f1a6b13d25e0",
   "metadata": {
    "tags": []
   },
   "outputs": [
    {
     "data": {
      "text/plain": [
       "16"
      ]
     },
     "execution_count": 12,
     "metadata": {},
     "output_type": "execute_result"
    }
   ],
   "source": [
    "pri_obj._Pri_Student__age"
   ]
  },
  {
   "cell_type": "code",
   "execution_count": 13,
   "id": "65d6a7e7-2448-4e1f-b6bd-9fe2c1f4e8d2",
   "metadata": {
    "tags": []
   },
   "outputs": [
    {
     "name": "stdout",
     "output_type": "stream",
     "text": [
      "This is a private method\n"
     ]
    }
   ],
   "source": [
    "pri_obj._Pri_Student__private_method()"
   ]
  }
 ],
 "metadata": {
  "kernelspec": {
   "display_name": "Python 3 (ipykernel)",
   "language": "python",
   "name": "python3"
  },
  "language_info": {
   "codemirror_mode": {
    "name": "ipython",
    "version": 3
   },
   "file_extension": ".py",
   "mimetype": "text/x-python",
   "name": "python",
   "nbconvert_exporter": "python",
   "pygments_lexer": "ipython3",
   "version": "3.10.9"
  }
 },
 "nbformat": 4,
 "nbformat_minor": 5
}
