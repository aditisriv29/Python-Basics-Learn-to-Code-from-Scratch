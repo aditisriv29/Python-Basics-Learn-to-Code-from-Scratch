{
 "cells": [
  {
   "cell_type": "markdown",
   "id": "c40cca81-d1d7-47ff-bbdc-0c7170d9b64b",
   "metadata": {},
   "source": [
    "# Arithmetic Operators"
   ]
  },
  {
   "cell_type": "code",
   "execution_count": 32,
   "id": "df6f01d5-240b-410c-aad5-3798c7109747",
   "metadata": {},
   "outputs": [],
   "source": [
    "a = 2\n",
    "b = 3"
   ]
  },
  {
   "cell_type": "markdown",
   "id": "8c49b3a6-1615-4630-a3de-2827c23cc9d9",
   "metadata": {},
   "source": [
    "## Addition (+)"
   ]
  },
  {
   "cell_type": "code",
   "execution_count": 2,
   "id": "97bedfee-11ef-497f-82b3-1ef817605500",
   "metadata": {},
   "outputs": [],
   "source": [
    "# Addition of two numbers\n",
    "add = a + b"
   ]
  },
  {
   "cell_type": "code",
   "execution_count": 3,
   "id": "1f1d264c-c142-4c86-9d3a-d59217521f3d",
   "metadata": {},
   "outputs": [
    {
     "data": {
      "text/plain": [
       "15"
      ]
     },
     "execution_count": 3,
     "metadata": {},
     "output_type": "execute_result"
    }
   ],
   "source": [
    "add"
   ]
  },
  {
   "cell_type": "markdown",
   "id": "ab30e1c5-01b4-4872-ad7e-128f637e7887",
   "metadata": {},
   "source": [
    "## Subtraction (-)"
   ]
  },
  {
   "cell_type": "code",
   "execution_count": 4,
   "id": "4dbf7ac7-949d-4d8b-bf73-b791be649322",
   "metadata": {},
   "outputs": [],
   "source": [
    "# Subtraction of two numbers\n",
    "subtract = a - b"
   ]
  },
  {
   "cell_type": "code",
   "execution_count": 5,
   "id": "9d5d5a8e-7960-4592-a585-f056d574cbb5",
   "metadata": {},
   "outputs": [
    {
     "data": {
      "text/plain": [
       "9"
      ]
     },
     "execution_count": 5,
     "metadata": {},
     "output_type": "execute_result"
    }
   ],
   "source": [
    "subtract"
   ]
  },
  {
   "cell_type": "markdown",
   "id": "eb982a3d-83bd-433a-991b-089e2a081ad2",
   "metadata": {},
   "source": [
    "## Multiplication (*)"
   ]
  },
  {
   "cell_type": "code",
   "execution_count": 6,
   "id": "83c5eef5-a05f-4cd5-befc-0c270dbd3f46",
   "metadata": {},
   "outputs": [],
   "source": [
    "# Multiplication of two numbers\n",
    "multiply = a * b"
   ]
  },
  {
   "cell_type": "code",
   "execution_count": 7,
   "id": "b45cec28-c727-4d3b-ab04-a50fb0125863",
   "metadata": {},
   "outputs": [
    {
     "data": {
      "text/plain": [
       "36"
      ]
     },
     "execution_count": 7,
     "metadata": {},
     "output_type": "execute_result"
    }
   ],
   "source": [
    "multiply"
   ]
  },
  {
   "cell_type": "markdown",
   "id": "100d0019-ad24-4b19-9774-ec037399e114",
   "metadata": {},
   "source": [
    "## Division (/)"
   ]
  },
  {
   "cell_type": "code",
   "execution_count": 8,
   "id": "611536f2-43ac-4ca5-9bc3-6345fcce24ba",
   "metadata": {},
   "outputs": [],
   "source": [
    "# Division of two numbers\n",
    "division = a / b"
   ]
  },
  {
   "cell_type": "code",
   "execution_count": 9,
   "id": "70a4dcd7-072f-4b8b-beb3-c7f81fb3d741",
   "metadata": {},
   "outputs": [
    {
     "data": {
      "text/plain": [
       "4.0"
      ]
     },
     "execution_count": 9,
     "metadata": {},
     "output_type": "execute_result"
    }
   ],
   "source": [
    "division"
   ]
  },
  {
   "cell_type": "markdown",
   "id": "8c4f0d33-750f-44d8-91c7-4ffa0433d343",
   "metadata": {},
   "source": [
    "## Floor Division (//)"
   ]
  },
  {
   "cell_type": "code",
   "execution_count": 30,
   "id": "c17762ca-1986-452c-9418-37e7c388762e",
   "metadata": {},
   "outputs": [],
   "source": [
    "# Floor division of two numbers\n",
    "x = 14\n",
    "y = 5"
   ]
  },
  {
   "cell_type": "code",
   "execution_count": 28,
   "id": "cccc23c8-76e7-48ff-a64e-fd8f5741a44e",
   "metadata": {},
   "outputs": [
    {
     "data": {
      "text/plain": [
       "2"
      ]
     },
     "execution_count": 28,
     "metadata": {},
     "output_type": "execute_result"
    }
   ],
   "source": [
    "fdiv = x // y\n",
    "fdiv"
   ]
  },
  {
   "cell_type": "markdown",
   "id": "95de80ba-9e3e-41e2-bd1a-eafd9ec6126b",
   "metadata": {},
   "source": [
    "## Modulus (%)"
   ]
  },
  {
   "cell_type": "code",
   "execution_count": 31,
   "id": "6526b51c-c276-488d-9ddd-b658f37b9f1e",
   "metadata": {},
   "outputs": [
    {
     "data": {
      "text/plain": [
       "4"
      ]
     },
     "execution_count": 31,
     "metadata": {},
     "output_type": "execute_result"
    }
   ],
   "source": [
    "# Remainder of division operation\n",
    "modulus = x % y\n",
    "modulus"
   ]
  },
  {
   "cell_type": "markdown",
   "id": "dd265e89-3b1b-4f4c-b3f7-e7119847aaa2",
   "metadata": {},
   "source": [
    "## Exponentiation (**)"
   ]
  },
  {
   "cell_type": "code",
   "execution_count": 34,
   "id": "5562d6c5-84cd-4016-9db9-e2fedb81d5da",
   "metadata": {},
   "outputs": [],
   "source": [
    "# Power of a number\n",
    "power = a ** b"
   ]
  },
  {
   "cell_type": "code",
   "execution_count": 35,
   "id": "dc97c6e1-677b-4383-af44-c24dacca6279",
   "metadata": {},
   "outputs": [
    {
     "data": {
      "text/plain": [
       "8"
      ]
     },
     "execution_count": 35,
     "metadata": {},
     "output_type": "execute_result"
    }
   ],
   "source": [
    "power"
   ]
  }
 ],
 "metadata": {
  "kernelspec": {
   "display_name": "Python 3 (ipykernel)",
   "language": "python",
   "name": "python3"
  },
  "language_info": {
   "codemirror_mode": {
    "name": "ipython",
    "version": 3
   },
   "file_extension": ".py",
   "mimetype": "text/x-python",
   "name": "python",
   "nbconvert_exporter": "python",
   "pygments_lexer": "ipython3",
   "version": "3.10.10"
  }
 },
 "nbformat": 4,
 "nbformat_minor": 5
}
