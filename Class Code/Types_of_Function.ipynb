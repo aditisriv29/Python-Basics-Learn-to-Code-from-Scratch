{
 "cells": [
  {
   "cell_type": "markdown",
   "id": "c0726ae2-78c9-4094-84b3-6ee9c96d1b61",
   "metadata": {},
   "source": [
    "# Types of Function"
   ]
  },
  {
   "cell_type": "markdown",
   "id": "b7ab4472-2cc7-406a-9700-f10c06403b35",
   "metadata": {},
   "source": [
    "## Built-in Function"
   ]
  },
  {
   "cell_type": "code",
   "execution_count": 1,
   "id": "a38a4ae9-8044-4957-9d9c-b1ddf7a41c14",
   "metadata": {},
   "outputs": [],
   "source": [
    "name = [1, 2, 3, 4, 5]"
   ]
  },
  {
   "cell_type": "code",
   "execution_count": 2,
   "id": "64503a03-bb8c-4d23-a7c6-1fb40c3280b7",
   "metadata": {},
   "outputs": [
    {
     "data": {
      "text/plain": [
       "5"
      ]
     },
     "execution_count": 2,
     "metadata": {},
     "output_type": "execute_result"
    }
   ],
   "source": [
    "len(name)"
   ]
  },
  {
   "cell_type": "code",
   "execution_count": 3,
   "id": "91d934d3-c4d3-4ba6-b706-4c6c7a6fe94f",
   "metadata": {},
   "outputs": [
    {
     "name": "stdout",
     "output_type": "stream",
     "text": [
      "[1, 2, 3, 4, 5]\n"
     ]
    }
   ],
   "source": [
    "print(name)"
   ]
  },
  {
   "cell_type": "markdown",
   "id": "4aae6647-a3b5-4be8-96ff-619d5ffb1a13",
   "metadata": {},
   "source": [
    "## Lambda Function"
   ]
  },
  {
   "cell_type": "code",
   "execution_count": 4,
   "id": "dc5bf55e-51a8-4860-9094-90e9e5bf1894",
   "metadata": {},
   "outputs": [],
   "source": [
    "square = lambda x: x ** 2 # One line function"
   ]
  },
  {
   "cell_type": "code",
   "execution_count": 5,
   "id": "cd935699-408c-4da7-9454-defab3917663",
   "metadata": {},
   "outputs": [
    {
     "data": {
      "text/plain": [
       "100"
      ]
     },
     "execution_count": 5,
     "metadata": {},
     "output_type": "execute_result"
    }
   ],
   "source": [
    "square(10)"
   ]
  },
  {
   "cell_type": "code",
   "execution_count": 6,
   "id": "5f98df90-4a4d-4ba1-b797-9fc521753707",
   "metadata": {},
   "outputs": [
    {
     "data": {
      "text/plain": [
       "1296"
      ]
     },
     "execution_count": 6,
     "metadata": {},
     "output_type": "execute_result"
    }
   ],
   "source": [
    "square(36)"
   ]
  },
  {
   "cell_type": "code",
   "execution_count": 7,
   "id": "c9337a52-8393-4e0e-acc5-a10fcceeac5d",
   "metadata": {},
   "outputs": [],
   "source": [
    "average = lambda x, y: (x + y) / 2"
   ]
  },
  {
   "cell_type": "code",
   "execution_count": 8,
   "id": "2f1704eb-46fe-471a-9072-0c01f6c67829",
   "metadata": {},
   "outputs": [
    {
     "data": {
      "text/plain": [
       "15.0"
      ]
     },
     "execution_count": 8,
     "metadata": {},
     "output_type": "execute_result"
    }
   ],
   "source": [
    "average(10, 20)"
   ]
  },
  {
   "cell_type": "markdown",
   "id": "3080938b-9d1a-4c58-8ce0-3b08c88f8314",
   "metadata": {},
   "source": [
    "## Function Overloading"
   ]
  },
  {
   "cell_type": "code",
   "execution_count": 9,
   "id": "bb60b48c-6249-4b1e-bf2e-85dde52ca579",
   "metadata": {},
   "outputs": [],
   "source": [
    "from multipledispatch import dispatch"
   ]
  },
  {
   "cell_type": "code",
   "execution_count": 10,
   "id": "d04397b6-bcda-4085-8459-3a34e4d5f40c",
   "metadata": {},
   "outputs": [],
   "source": [
    "@dispatch(int, int)\n",
    "def add(x, y):\n",
    "    return x + y"
   ]
  },
  {
   "cell_type": "code",
   "execution_count": 11,
   "id": "a6106847-3303-4530-9926-2010a2a628b3",
   "metadata": {},
   "outputs": [
    {
     "data": {
      "text/plain": [
       "5"
      ]
     },
     "execution_count": 11,
     "metadata": {},
     "output_type": "execute_result"
    }
   ],
   "source": [
    "add(2, 3)"
   ]
  },
  {
   "cell_type": "code",
   "execution_count": 12,
   "id": "98b1617c-2826-4005-a13d-38f88a64b706",
   "metadata": {},
   "outputs": [],
   "source": [
    "@dispatch(int, int, int)\n",
    "def add(x, y, z):\n",
    "    return x + y + z"
   ]
  },
  {
   "cell_type": "code",
   "execution_count": 13,
   "id": "558566d8-c01e-4ced-812e-1711884121ab",
   "metadata": {},
   "outputs": [
    {
     "data": {
      "text/plain": [
       "5"
      ]
     },
     "execution_count": 13,
     "metadata": {},
     "output_type": "execute_result"
    }
   ],
   "source": [
    "add(2, 3)"
   ]
  },
  {
   "cell_type": "code",
   "execution_count": 14,
   "id": "9290553f-19e0-48cd-9c32-f285afb1ba07",
   "metadata": {},
   "outputs": [
    {
     "data": {
      "text/plain": [
       "10"
      ]
     },
     "execution_count": 14,
     "metadata": {},
     "output_type": "execute_result"
    }
   ],
   "source": [
    "add(2, 3, 5)"
   ]
  }
 ],
 "metadata": {
  "kernelspec": {
   "display_name": "Python 3 (ipykernel)",
   "language": "python",
   "name": "python3"
  },
  "language_info": {
   "codemirror_mode": {
    "name": "ipython",
    "version": 3
   },
   "file_extension": ".py",
   "mimetype": "text/x-python",
   "name": "python",
   "nbconvert_exporter": "python",
   "pygments_lexer": "ipython3",
   "version": "3.10.10"
  }
 },
 "nbformat": 4,
 "nbformat_minor": 5
}
