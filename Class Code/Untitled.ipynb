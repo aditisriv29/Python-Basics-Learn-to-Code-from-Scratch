{
 "cells": [
  {
   "cell_type": "markdown",
   "id": "00e4aee0-26cd-428b-a014-f0d6d342ee52",
   "metadata": {},
   "source": [
    "### Create a program that calculates the area of a rectangle, given its length and width. The program should take the length and width as user input, perform the calculation, and then print the result to the console."
   ]
  },
  {
   "cell_type": "code",
   "execution_count": 1,
   "id": "d6d0e6f7-86e7-4d8c-8d98-0479b7d158d4",
   "metadata": {},
   "outputs": [
    {
     "name": "stdin",
     "output_type": "stream",
     "text": [
      "Enter the length of the rectangle: 8.45\n",
      "Enter the width of the rectangle: 5.2\n"
     ]
    }
   ],
   "source": [
    "length = float(input(\"Enter the length of the rectangle:\"))\n",
    "width = float(input(\"Enter the width of the rectangle:\"))"
   ]
  },
  {
   "cell_type": "code",
   "execution_count": 2,
   "id": "0c8f6769-4948-4150-9002-59192a1d6155",
   "metadata": {},
   "outputs": [],
   "source": [
    "area = length * width"
   ]
  },
  {
   "cell_type": "code",
   "execution_count": 3,
   "id": "c73a15d2-8532-44b0-b234-bac4199ce6e9",
   "metadata": {},
   "outputs": [
    {
     "name": "stdout",
     "output_type": "stream",
     "text": [
      "The area of the rectangle is 43.94\n"
     ]
    }
   ],
   "source": [
    "print(\"The area of the rectangle is\", area)"
   ]
  }
 ],
 "metadata": {
  "kernelspec": {
   "display_name": "Python 3 (ipykernel)",
   "language": "python",
   "name": "python3"
  },
  "language_info": {
   "codemirror_mode": {
    "name": "ipython",
    "version": 3
   },
   "file_extension": ".py",
   "mimetype": "text/x-python",
   "name": "python",
   "nbconvert_exporter": "python",
   "pygments_lexer": "ipython3",
   "version": "3.10.10"
  }
 },
 "nbformat": 4,
 "nbformat_minor": 5
}
