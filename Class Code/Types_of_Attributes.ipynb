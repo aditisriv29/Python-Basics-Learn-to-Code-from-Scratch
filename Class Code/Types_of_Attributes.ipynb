{
  "nbformat": 4,
  "nbformat_minor": 0,
  "metadata": {
    "colab": {
      "provenance": []
    },
    "kernelspec": {
      "name": "python3",
      "display_name": "Python 3"
    },
    "language_info": {
      "name": "python"
    }
  },
  "cells": [
    {
      "cell_type": "markdown",
      "source": [
        "# Types of Attributes"
      ],
      "metadata": {
        "id": "p68NJzhhNPom"
      }
    },
    {
      "cell_type": "markdown",
      "source": [
        "## Instance Attributes"
      ],
      "metadata": {
        "id": "zzGwKXMqQ_21"
      }
    },
    {
      "cell_type": "code",
      "source": [
        "class Car:\n",
        "  # Creating the constructor\n",
        "  # Attributes defined within the constructor are instance attributes\n",
        "  def __init__(self, name, topspeed):\n",
        "    self.name = name\n",
        "    self.topspeed = topspeed\n",
        "\n",
        "  def print_details(self):\n",
        "    print(\"Car Name:\", self.name)\n",
        "    print(\"Top Speed:\", self.topspeed, \"Km/h\")"
      ],
      "metadata": {
        "id": "UyAklNp5OsFY"
      },
      "execution_count": 8,
      "outputs": []
    },
    {
      "cell_type": "code",
      "source": [
        "# Creating instances from Car class\n",
        "car1 = Car(\"Maruti 800\", 120)\n",
        "car2 = Car(\"Ferrari\", 400)"
      ],
      "metadata": {
        "id": "SefcmFMdQBJK"
      },
      "execution_count": 10,
      "outputs": []
    },
    {
      "cell_type": "code",
      "source": [
        "# Printing the details of the car objects\n",
        "car1.print_details()"
      ],
      "metadata": {
        "colab": {
          "base_uri": "https://localhost:8080/"
        },
        "id": "xqfWFYCzP-ZK",
        "outputId": "dc19a5fd-0947-4b0c-9d66-946f4eb01568"
      },
      "execution_count": 11,
      "outputs": [
        {
          "output_type": "stream",
          "name": "stdout",
          "text": [
            "Car Name: Maruti 800\n",
            "Top Speed: 120 Km/h\n"
          ]
        }
      ]
    },
    {
      "cell_type": "code",
      "source": [
        "car2.print_details()"
      ],
      "metadata": {
        "colab": {
          "base_uri": "https://localhost:8080/"
        },
        "id": "0uxlKwh3Qp4v",
        "outputId": "69480eb8-c9a9-41d8-f580-9a54c8c5add2"
      },
      "execution_count": 12,
      "outputs": [
        {
          "output_type": "stream",
          "name": "stdout",
          "text": [
            "Car Name: Ferrari\n",
            "Top Speed: 400 Km/h\n"
          ]
        }
      ]
    },
    {
      "cell_type": "markdown",
      "source": [
        "## Class Attributes"
      ],
      "metadata": {
        "id": "FA2d68I_RUKw"
      }
    },
    {
      "cell_type": "code",
      "source": [
        "class Car:\n",
        "  # Creating a class attribute\n",
        "  no_of_wheels = 4\n",
        "\n",
        "  def __init__(self, name, topspeed):\n",
        "    self.name = name\n",
        "    self.topspeed = topspeed\n",
        "\n",
        "  def print_details(self):\n",
        "    print(\"Car Name:\", self.name)\n",
        "    print(\"Top Speed:\", self.topspeed, \"Km/h\")\n",
        "    print(\"No of wheels:\", self.no_of_wheels)"
      ],
      "metadata": {
        "id": "uoTZ3rqQRTba"
      },
      "execution_count": 19,
      "outputs": []
    },
    {
      "cell_type": "code",
      "source": [
        "# Creating some instances from the new car class\n",
        "car1 = Car(\"Creta\", 300)\n",
        "car2 = Car(\"Toyato\", 240)"
      ],
      "metadata": {
        "id": "R8tw1Ay2SIZC"
      },
      "execution_count": 20,
      "outputs": []
    },
    {
      "cell_type": "code",
      "source": [
        "# Print the car details\n",
        "car1.print_details()"
      ],
      "metadata": {
        "colab": {
          "base_uri": "https://localhost:8080/"
        },
        "id": "xGKvJT44SU46",
        "outputId": "7df8b5ca-48ce-4fa3-9e5f-53d80bfee4b5"
      },
      "execution_count": 21,
      "outputs": [
        {
          "output_type": "stream",
          "name": "stdout",
          "text": [
            "Car Name: Creta\n",
            "Top Speed: 300 Km/h\n",
            "No of wheels: 4\n"
          ]
        }
      ]
    },
    {
      "cell_type": "code",
      "source": [
        "car2.print_details()"
      ],
      "metadata": {
        "colab": {
          "base_uri": "https://localhost:8080/"
        },
        "id": "njgfCOnTSiWs",
        "outputId": "bf2f223c-6ee2-44e4-8f84-d9a108f18f85"
      },
      "execution_count": 22,
      "outputs": [
        {
          "output_type": "stream",
          "name": "stdout",
          "text": [
            "Car Name: Toyato\n",
            "Top Speed: 240 Km/h\n",
            "No of wheels: 4\n"
          ]
        }
      ]
    },
    {
      "cell_type": "code",
      "source": [
        "# Calling the class attribute\n",
        "car1.no_of_wheels\n",
        "car2.no_of_wheels"
      ],
      "metadata": {
        "colab": {
          "base_uri": "https://localhost:8080/"
        },
        "id": "z4bALEkQSqyV",
        "outputId": "20e83144-258b-40a9-c112-58971f65f5de"
      },
      "execution_count": 23,
      "outputs": [
        {
          "output_type": "execute_result",
          "data": {
            "text/plain": [
              "4"
            ]
          },
          "metadata": {},
          "execution_count": 23
        }
      ]
    },
    {
      "cell_type": "code",
      "source": [
        "Car.no_of_wheels"
      ],
      "metadata": {
        "colab": {
          "base_uri": "https://localhost:8080/"
        },
        "id": "Qqf1iDcrTTWp",
        "outputId": "7b59e218-49f7-40bd-fccc-f3f80b782f70"
      },
      "execution_count": 24,
      "outputs": [
        {
          "output_type": "execute_result",
          "data": {
            "text/plain": [
              "4"
            ]
          },
          "metadata": {},
          "execution_count": 24
        }
      ]
    }
  ]
}