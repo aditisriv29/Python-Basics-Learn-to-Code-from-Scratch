{
 "cells": [
  {
   "cell_type": "markdown",
   "id": "4edd8b55-1e34-40f2-9a1a-4fff2a085df1",
   "metadata": {},
   "source": [
    "# Bitwise Operators"
   ]
  },
  {
   "cell_type": "markdown",
   "id": "81686eb6-d993-49fa-8ae3-c440b7633ec3",
   "metadata": {},
   "source": [
    "## & (Bitwise AND)"
   ]
  },
  {
   "cell_type": "code",
   "execution_count": 1,
   "id": "32664371-6b88-4a44-9ed8-06c9efde69f4",
   "metadata": {},
   "outputs": [],
   "source": [
    "a = 20\n",
    "b = 8"
   ]
  },
  {
   "cell_type": "code",
   "execution_count": 2,
   "id": "ddd83572-1ab6-4ca1-a981-ef716924e4b4",
   "metadata": {},
   "outputs": [
    {
     "name": "stdout",
     "output_type": "stream",
     "text": [
      "0\n"
     ]
    }
   ],
   "source": [
    "print(a & b)"
   ]
  },
  {
   "cell_type": "code",
   "execution_count": 3,
   "id": "1baff525-cd48-478c-b910-c8ee56d875b5",
   "metadata": {},
   "outputs": [],
   "source": [
    "x = 7\n",
    "y = 5"
   ]
  },
  {
   "cell_type": "code",
   "execution_count": 4,
   "id": "b741054c-b034-450a-b4fe-f2caf0d7944f",
   "metadata": {},
   "outputs": [
    {
     "name": "stdout",
     "output_type": "stream",
     "text": [
      "5\n"
     ]
    }
   ],
   "source": [
    "print(x & y)"
   ]
  },
  {
   "cell_type": "markdown",
   "id": "33f36e4b-0b24-4087-bb67-3ad015c83a8c",
   "metadata": {},
   "source": [
    "## | (Bitwise OR)"
   ]
  },
  {
   "cell_type": "code",
   "execution_count": 6,
   "id": "8dc5b898-1286-4d12-8fb0-495d216828be",
   "metadata": {},
   "outputs": [
    {
     "name": "stdout",
     "output_type": "stream",
     "text": [
      "28\n"
     ]
    }
   ],
   "source": [
    "print(a | b)"
   ]
  },
  {
   "cell_type": "markdown",
   "id": "b065bf43-2f6c-4b7f-84f0-f3424072d171",
   "metadata": {},
   "source": [
    "## ^ (Bitwise XOR)"
   ]
  },
  {
   "cell_type": "code",
   "execution_count": 7,
   "id": "df814036-62d0-47f9-968e-17238f4cc22a",
   "metadata": {},
   "outputs": [
    {
     "name": "stdout",
     "output_type": "stream",
     "text": [
      "28\n"
     ]
    }
   ],
   "source": [
    "print(a ^ b)"
   ]
  },
  {
   "cell_type": "markdown",
   "id": "e9ac7a05-4f1e-4141-b4e4-409eff2f444d",
   "metadata": {},
   "source": [
    "## ~ (Bitwise NOT)"
   ]
  },
  {
   "cell_type": "code",
   "execution_count": 8,
   "id": "85077bfc-bcd0-4c2f-a1d4-839fe301e824",
   "metadata": {},
   "outputs": [
    {
     "name": "stdout",
     "output_type": "stream",
     "text": [
      "-21\n"
     ]
    }
   ],
   "source": [
    "print(~a)"
   ]
  },
  {
   "cell_type": "code",
   "execution_count": 13,
   "id": "df4fa28c-e637-4979-bbb1-172dcdc4e18e",
   "metadata": {},
   "outputs": [
    {
     "name": "stdout",
     "output_type": "stream",
     "text": [
      "-29\n"
     ]
    }
   ],
   "source": [
    "c = 28\n",
    "print(~c)"
   ]
  },
  {
   "cell_type": "markdown",
   "id": "d3c7918e-1954-4971-afe2-83b1f7a84c65",
   "metadata": {},
   "source": [
    "## << (Bitwise left shift)"
   ]
  },
  {
   "cell_type": "code",
   "execution_count": 14,
   "id": "ef1899c7-4dbb-40b9-8356-15c47579c809",
   "metadata": {},
   "outputs": [
    {
     "name": "stdout",
     "output_type": "stream",
     "text": [
      "80\n"
     ]
    }
   ],
   "source": [
    "print(a << 2)"
   ]
  },
  {
   "cell_type": "markdown",
   "id": "148d11fb-c2a8-4210-8733-1f021ce4dd86",
   "metadata": {},
   "source": [
    "## >> (Bitwise right shift)"
   ]
  },
  {
   "cell_type": "code",
   "execution_count": 15,
   "id": "58684a1b-c598-453a-8af9-dde8a670d79a",
   "metadata": {},
   "outputs": [
    {
     "name": "stdout",
     "output_type": "stream",
     "text": [
      "5\n"
     ]
    }
   ],
   "source": [
    "print(a >> 2)"
   ]
  }
 ],
 "metadata": {
  "kernelspec": {
   "display_name": "Python 3 (ipykernel)",
   "language": "python",
   "name": "python3"
  },
  "language_info": {
   "codemirror_mode": {
    "name": "ipython",
    "version": 3
   },
   "file_extension": ".py",
   "mimetype": "text/x-python",
   "name": "python",
   "nbconvert_exporter": "python",
   "pygments_lexer": "ipython3",
   "version": "3.10.10"
  }
 },
 "nbformat": 4,
 "nbformat_minor": 5
}
