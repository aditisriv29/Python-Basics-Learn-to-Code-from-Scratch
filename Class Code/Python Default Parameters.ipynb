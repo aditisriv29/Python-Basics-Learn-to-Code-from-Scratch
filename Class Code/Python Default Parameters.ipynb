{
 "cells": [
  {
   "cell_type": "markdown",
   "id": "3df882fa-dca7-4ae3-b888-5128cda84b76",
   "metadata": {},
   "source": [
    "# Python Default Parameter"
   ]
  },
  {
   "cell_type": "code",
   "execution_count": 1,
   "id": "8f1c42e7-dd78-4534-a294-998684f4fd31",
   "metadata": {},
   "outputs": [],
   "source": [
    "def programmer(name, age, coreLang=\"Python\"):\n",
    "    print(\"The name of the programmer is\", name)\n",
    "    print(\"The age of the programmer is\", age)\n",
    "    print(\"The core programming language is\", coreLang)"
   ]
  },
  {
   "cell_type": "code",
   "execution_count": 2,
   "id": "5a8660dd-c7e2-4a1b-9a55-277d04981f09",
   "metadata": {},
   "outputs": [
    {
     "name": "stdout",
     "output_type": "stream",
     "text": [
      "The name of the programmer is Abir Sen\n",
      "The age of the programmer is 26\n",
      "The core programming language is Python\n"
     ]
    }
   ],
   "source": [
    "# Calling the funtion with the deafult value of coreLang parameter\n",
    "programmer(\"Abir Sen\", 26)"
   ]
  },
  {
   "cell_type": "code",
   "execution_count": 4,
   "id": "e0a075ac-a0bc-4f7b-9b64-5618d69fb59d",
   "metadata": {},
   "outputs": [
    {
     "name": "stdout",
     "output_type": "stream",
     "text": [
      "The name of the programmer is Abir Sen\n",
      "The age of the programmer is 26\n",
      "The core programming language is C++\n"
     ]
    }
   ],
   "source": [
    "# Calling function with the changed value of coreLang parameter\n",
    "programmer(\"Abir Sen\", 26, \"C++\")"
   ]
  },
  {
   "cell_type": "code",
   "execution_count": 5,
   "id": "9023bda8-b5a8-4547-a80a-256ca520f63b",
   "metadata": {},
   "outputs": [
    {
     "name": "stdout",
     "output_type": "stream",
     "text": [
      "The name of the programmer is Abir Sen\n",
      "The age of the programmer is 26\n",
      "The core programming language is C++\n"
     ]
    }
   ],
   "source": [
    "programmer(name=\"Abir Sen\", age=26, coreLang=\"C++\")"
   ]
  }
 ],
 "metadata": {
  "kernelspec": {
   "display_name": "Python 3 (ipykernel)",
   "language": "python",
   "name": "python3"
  },
  "language_info": {
   "codemirror_mode": {
    "name": "ipython",
    "version": 3
   },
   "file_extension": ".py",
   "mimetype": "text/x-python",
   "name": "python",
   "nbconvert_exporter": "python",
   "pygments_lexer": "ipython3",
   "version": "3.10.10"
  }
 },
 "nbformat": 4,
 "nbformat_minor": 5
}
