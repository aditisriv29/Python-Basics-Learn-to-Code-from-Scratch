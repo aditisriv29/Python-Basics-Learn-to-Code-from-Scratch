{
 "cells": [
  {
   "cell_type": "markdown",
   "id": "cd9e6a15-ef2e-4bae-8b9c-d086d5d30a3a",
   "metadata": {
    "tags": []
   },
   "source": [
    "# Conditional Statement"
   ]
  },
  {
   "cell_type": "markdown",
   "id": "525d1c7c-13c9-48fa-8697-ee2599c9229d",
   "metadata": {},
   "source": [
    "## if Statement"
   ]
  },
  {
   "cell_type": "code",
   "execution_count": 5,
   "id": "f8fac8eb-8cf2-401d-ac1c-4a6e480898f5",
   "metadata": {},
   "outputs": [
    {
     "name": "stdin",
     "output_type": "stream",
     "text": [
      "Enter a number:  22\n"
     ]
    }
   ],
   "source": [
    "# Check whether a given number is even or odd.\n",
    "num = int(input(\"Enter a number: \"))"
   ]
  },
  {
   "cell_type": "code",
   "execution_count": 6,
   "id": "7cf4ddb1-0444-42d8-b375-df443a062a17",
   "metadata": {},
   "outputs": [
    {
     "name": "stdout",
     "output_type": "stream",
     "text": [
      "22 is even\n"
     ]
    }
   ],
   "source": [
    "if (num % 2) == 0:\n",
    "    print(num, \"is even\")"
   ]
  },
  {
   "cell_type": "markdown",
   "id": "2e6e7bb2-e8d1-47a9-afac-3cbb72cb8edf",
   "metadata": {},
   "source": [
    "## if-else Statement"
   ]
  },
  {
   "cell_type": "code",
   "execution_count": 9,
   "id": "c2ed4d32-721d-474a-b47d-ca15844b1ebb",
   "metadata": {},
   "outputs": [
    {
     "name": "stdin",
     "output_type": "stream",
     "text": [
      "Enter a number:  17\n"
     ]
    }
   ],
   "source": [
    "# Check whether a given number is even or odd\n",
    "num2 = int(input(\"Enter a number: \"))"
   ]
  },
  {
   "cell_type": "code",
   "execution_count": 10,
   "id": "f77f97d0-f4fb-4e7f-b0ec-27bdb3e0cfea",
   "metadata": {},
   "outputs": [
    {
     "name": "stdout",
     "output_type": "stream",
     "text": [
      "17 is odd\n"
     ]
    }
   ],
   "source": [
    "if (num2 % 2) == 0:\n",
    "    print(num2, \"is even\")\n",
    "else:\n",
    "    print(num2, \"is odd\")"
   ]
  },
  {
   "cell_type": "markdown",
   "id": "02565e8f-b5a9-4609-a443-3f1f0f96a785",
   "metadata": {},
   "source": [
    "## if-elif-else Statement"
   ]
  },
  {
   "cell_type": "code",
   "execution_count": 21,
   "id": "ba9b7660-eb6a-49b4-87e2-ddd95c16e7be",
   "metadata": {},
   "outputs": [
    {
     "name": "stdin",
     "output_type": "stream",
     "text": [
      "Enter three numbers separated by space:  101 52 14\n"
     ]
    }
   ],
   "source": [
    "# Find the largest among three numbers\n",
    "\n",
    "# Taking a space-separated input from the user\n",
    "x, y, z = input(\"Enter three numbers separated by space: \").split()"
   ]
  },
  {
   "cell_type": "code",
   "execution_count": 22,
   "id": "ea86cb11-fea2-40a7-a0ed-20c034035085",
   "metadata": {},
   "outputs": [],
   "source": [
    "x = int(x)\n",
    "y = int(y)\n",
    "z = int(z)"
   ]
  },
  {
   "cell_type": "code",
   "execution_count": 24,
   "id": "20db99ed-4084-4102-b7ba-c3bc3bf131e0",
   "metadata": {},
   "outputs": [
    {
     "name": "stdout",
     "output_type": "stream",
     "text": [
      "x is greater\n"
     ]
    }
   ],
   "source": [
    "if x >= y and x >= z:\n",
    "    print(\"x is greater\")\n",
    "elif y >= x and y >= z:\n",
    "    print(\"y is greater\")\n",
    "else:\n",
    "    print(\"z is greater\")"
   ]
  },
  {
   "cell_type": "markdown",
   "id": "2f90ecc9-6b9e-477f-993f-975bb03671dd",
   "metadata": {},
   "source": [
    "## Examples"
   ]
  },
  {
   "cell_type": "code",
   "execution_count": 30,
   "id": "320882b2-0f66-43e7-893b-90ae34f934be",
   "metadata": {},
   "outputs": [
    {
     "name": "stdin",
     "output_type": "stream",
     "text": [
      "Enter the city population:  232000\n"
     ]
    }
   ],
   "source": [
    "city_pop = int(input(\"Enter the city population: \"))"
   ]
  },
  {
   "cell_type": "code",
   "execution_count": 32,
   "id": "88c69fd0-7baf-4d7c-8462-d71958e58b08",
   "metadata": {},
   "outputs": [
    {
     "name": "stdout",
     "output_type": "stream",
     "text": [
      "The city is a Small City.\n"
     ]
    }
   ],
   "source": [
    "if city_pop >= 10000000:\n",
    "    print(\"The city is a Super City.\")\n",
    "elif city_pop >= 5000000:\n",
    "    print(\"The city is a Mega City.\")\n",
    "elif city_pop >= 1000000:\n",
    "    print(\"The city is a Large City.\")\n",
    "elif city_pop >= 500000:\n",
    "    print(\"The city is a Medium City.\")\n",
    "else:\n",
    "    print(\"The city is a Small City.\")"
   ]
  }
 ],
 "metadata": {
  "kernelspec": {
   "display_name": "Python 3 (ipykernel)",
   "language": "python",
   "name": "python3"
  },
  "language_info": {
   "codemirror_mode": {
    "name": "ipython",
    "version": 3
   },
   "file_extension": ".py",
   "mimetype": "text/x-python",
   "name": "python",
   "nbconvert_exporter": "python",
   "pygments_lexer": "ipython3",
   "version": "3.10.10"
  }
 },
 "nbformat": 4,
 "nbformat_minor": 5
}
