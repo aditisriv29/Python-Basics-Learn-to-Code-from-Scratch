{
 "cells": [
  {
   "cell_type": "markdown",
   "id": "edc76b35-d65a-4fbb-9204-5e7c9605ebda",
   "metadata": {},
   "source": [
    "# List Comprehension"
   ]
  },
  {
   "cell_type": "code",
   "execution_count": 1,
   "id": "97ef178f-9014-4935-abc4-2d5794f3599d",
   "metadata": {},
   "outputs": [],
   "source": [
    "myList = [1, 2, 3, 4]"
   ]
  },
  {
   "cell_type": "code",
   "execution_count": 2,
   "id": "bc836b50-497a-49f7-8171-8f99fb785e65",
   "metadata": {},
   "outputs": [
    {
     "data": {
      "text/plain": [
       "list"
      ]
     },
     "execution_count": 2,
     "metadata": {},
     "output_type": "execute_result"
    }
   ],
   "source": [
    "type(myList)"
   ]
  },
  {
   "cell_type": "markdown",
   "id": "08689505-0cfc-42fd-8e90-3990e3d5ccfd",
   "metadata": {},
   "source": [
    "## Example"
   ]
  },
  {
   "cell_type": "code",
   "execution_count": 5,
   "id": "149c4cfb-eb33-4482-ac5f-1c0080071c61",
   "metadata": {},
   "outputs": [],
   "source": [
    "pow2 = [2 ** x for x in range(10)] # range(10) 0-9"
   ]
  },
  {
   "cell_type": "code",
   "execution_count": 6,
   "id": "a51a8c0d-63f1-4ea4-b8c8-d32666c2ed74",
   "metadata": {},
   "outputs": [
    {
     "data": {
      "text/plain": [
       "[1, 2, 4, 8, 16, 32, 64, 128, 256, 512]"
      ]
     },
     "execution_count": 6,
     "metadata": {},
     "output_type": "execute_result"
    }
   ],
   "source": [
    "pow2"
   ]
  },
  {
   "cell_type": "code",
   "execution_count": 9,
   "id": "6b734e0d-05f6-4950-8d1f-e9858a1c2a11",
   "metadata": {},
   "outputs": [
    {
     "name": "stdout",
     "output_type": "stream",
     "text": [
      "[1, 2, 4, 8, 16, 32, 64, 128, 256, 512]\n"
     ]
    }
   ],
   "source": [
    "# The above code can be written in this way also\n",
    "pow2 = []\n",
    "for i in range(10):\n",
    "    pow2.append(2 ** i)\n",
    "print(pow2)"
   ]
  },
  {
   "cell_type": "code",
   "execution_count": 15,
   "id": "4b127763-4e7e-4d74-8314-d391001c686b",
   "metadata": {},
   "outputs": [],
   "source": [
    "# We can use other expression to modify and create a new list\n",
    "oddNumbers = [x for x in range(1, 11) if x % 2 == 1]"
   ]
  },
  {
   "cell_type": "code",
   "execution_count": 16,
   "id": "9826e594-7ead-4526-8cd0-ab12a2362939",
   "metadata": {},
   "outputs": [
    {
     "name": "stdout",
     "output_type": "stream",
     "text": [
      "[1, 3, 5, 7, 9]\n"
     ]
    }
   ],
   "source": [
    "print(oddNumbers)"
   ]
  }
 ],
 "metadata": {
  "kernelspec": {
   "display_name": "Python 3 (ipykernel)",
   "language": "python",
   "name": "python3"
  },
  "language_info": {
   "codemirror_mode": {
    "name": "ipython",
    "version": 3
   },
   "file_extension": ".py",
   "mimetype": "text/x-python",
   "name": "python",
   "nbconvert_exporter": "python",
   "pygments_lexer": "ipython3",
   "version": "3.10.10"
  }
 },
 "nbformat": 4,
 "nbformat_minor": 5
}
