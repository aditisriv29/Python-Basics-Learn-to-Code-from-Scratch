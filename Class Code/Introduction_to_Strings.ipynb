{
 "cells": [
  {
   "cell_type": "markdown",
   "id": "ef161d5c-eac8-4570-99c8-d9e47615fe7c",
   "metadata": {},
   "source": [
    "# Introduction to String"
   ]
  },
  {
   "cell_type": "markdown",
   "id": "3632d482-f4b3-4e47-97cf-b24157290a3a",
   "metadata": {},
   "source": [
    "## String Creation"
   ]
  },
  {
   "cell_type": "code",
   "execution_count": 1,
   "id": "6401ba6c-607b-4ee5-8e3b-7ce9558befdd",
   "metadata": {},
   "outputs": [],
   "source": [
    "name = \"Krishnagopal Halder\""
   ]
  },
  {
   "cell_type": "code",
   "execution_count": 6,
   "id": "8a5cb206-ecee-48f7-b2bd-833331d42136",
   "metadata": {},
   "outputs": [
    {
     "data": {
      "text/plain": [
       "str"
      ]
     },
     "execution_count": 6,
     "metadata": {},
     "output_type": "execute_result"
    }
   ],
   "source": [
    "fruit = 'Mango'\n",
    "type(fruit)"
   ]
  },
  {
   "cell_type": "code",
   "execution_count": 2,
   "id": "64b0aa2a-2824-4fa1-be35-0bdfedca2265",
   "metadata": {},
   "outputs": [
    {
     "data": {
      "text/plain": [
       "str"
      ]
     },
     "execution_count": 2,
     "metadata": {},
     "output_type": "execute_result"
    }
   ],
   "source": [
    "type(name)"
   ]
  },
  {
   "cell_type": "code",
   "execution_count": 7,
   "id": "8d983773-7206-4963-8df1-8c9cb258080a",
   "metadata": {},
   "outputs": [],
   "source": [
    "message = '''\n",
    "This\n",
    "is a \n",
    "multiline string\n",
    "'''"
   ]
  },
  {
   "cell_type": "code",
   "execution_count": 11,
   "id": "a75c790e-26c2-4aeb-bb59-73eecbe6b66a",
   "metadata": {},
   "outputs": [
    {
     "name": "stdout",
     "output_type": "stream",
     "text": [
      "\n",
      "This\n",
      "is a \n",
      "multiline string\n",
      "\n"
     ]
    }
   ],
   "source": [
    "print(message)"
   ]
  },
  {
   "cell_type": "markdown",
   "id": "28ee3a3b-b148-421e-9689-d11a5ac0a9d8",
   "metadata": {},
   "source": [
    "## Accessing Characters in a String"
   ]
  },
  {
   "cell_type": "code",
   "execution_count": 15,
   "id": "988148bd-3aff-4a4b-868e-12c72ba465cc",
   "metadata": {},
   "outputs": [],
   "source": [
    "name = \"GeoNext\""
   ]
  },
  {
   "cell_type": "code",
   "execution_count": 14,
   "id": "ef3ac4e5-8053-432b-bd33-8ef13b0b5d96",
   "metadata": {},
   "outputs": [
    {
     "data": {
      "text/plain": [
       "'N'"
      ]
     },
     "execution_count": 14,
     "metadata": {},
     "output_type": "execute_result"
    }
   ],
   "source": [
    "name[3]"
   ]
  },
  {
   "cell_type": "markdown",
   "id": "2000d4e3-5127-46a6-bfc8-2f0febacb34f",
   "metadata": {},
   "source": [
    "## Negative Indexing"
   ]
  },
  {
   "cell_type": "code",
   "execution_count": 22,
   "id": "a342adca-7088-4ff6-8586-f49a236c85ee",
   "metadata": {},
   "outputs": [
    {
     "data": {
      "text/plain": [
       "'N'"
      ]
     },
     "execution_count": 22,
     "metadata": {},
     "output_type": "execute_result"
    }
   ],
   "source": [
    "name[-4] # I have used Negative index"
   ]
  },
  {
   "cell_type": "code",
   "execution_count": 23,
   "id": "be30249c-02f9-44dc-948b-d9c70ba41c66",
   "metadata": {},
   "outputs": [
    {
     "data": {
      "text/plain": [
       "'N'"
      ]
     },
     "execution_count": 23,
     "metadata": {},
     "output_type": "execute_result"
    }
   ],
   "source": [
    "name[3] # I have used Positive index"
   ]
  },
  {
   "cell_type": "markdown",
   "id": "5ddce198-ef1a-4303-9b06-a84efe872bf3",
   "metadata": {},
   "source": [
    "## String Slicing"
   ]
  },
  {
   "cell_type": "code",
   "execution_count": 24,
   "id": "4d1e9dac-e9aa-4284-9710-94ccfc61bf57",
   "metadata": {},
   "outputs": [
    {
     "data": {
      "text/plain": [
       "'GeoNext'"
      ]
     },
     "execution_count": 24,
     "metadata": {},
     "output_type": "execute_result"
    }
   ],
   "source": [
    "name"
   ]
  },
  {
   "cell_type": "code",
   "execution_count": 27,
   "id": "4edc26ca-636e-412d-8a7c-ff659af3651b",
   "metadata": {},
   "outputs": [
    {
     "data": {
      "text/plain": [
       "'Geo'"
      ]
     },
     "execution_count": 27,
     "metadata": {},
     "output_type": "execute_result"
    }
   ],
   "source": [
    "name[0:3]"
   ]
  },
  {
   "cell_type": "code",
   "execution_count": 33,
   "id": "9a64b90b-3357-4374-afb2-cb153c9456cd",
   "metadata": {},
   "outputs": [
    {
     "data": {
      "text/plain": [
       "'Next'"
      ]
     },
     "execution_count": 33,
     "metadata": {},
     "output_type": "execute_result"
    }
   ],
   "source": [
    "name[3:]"
   ]
  },
  {
   "cell_type": "code",
   "execution_count": 36,
   "id": "f79b870a-efa4-47d9-85c0-ef5e81d57d49",
   "metadata": {},
   "outputs": [
    {
     "data": {
      "text/plain": [
       "'Nex'"
      ]
     },
     "execution_count": 36,
     "metadata": {},
     "output_type": "execute_result"
    }
   ],
   "source": [
    "name[-4:-1]"
   ]
  },
  {
   "cell_type": "code",
   "execution_count": 38,
   "id": "f8c992ed-389d-4fb0-ba18-a16dbe01aa17",
   "metadata": {},
   "outputs": [
    {
     "data": {
      "text/plain": [
       "'GNt'"
      ]
     },
     "execution_count": 38,
     "metadata": {},
     "output_type": "execute_result"
    }
   ],
   "source": [
    "name[::3]"
   ]
  }
 ],
 "metadata": {
  "kernelspec": {
   "display_name": "Python 3 (ipykernel)",
   "language": "python",
   "name": "python3"
  },
  "language_info": {
   "codemirror_mode": {
    "name": "ipython",
    "version": 3
   },
   "file_extension": ".py",
   "mimetype": "text/x-python",
   "name": "python",
   "nbconvert_exporter": "python",
   "pygments_lexer": "ipython3",
   "version": "3.10.10"
  }
 },
 "nbformat": 4,
 "nbformat_minor": 5
}
