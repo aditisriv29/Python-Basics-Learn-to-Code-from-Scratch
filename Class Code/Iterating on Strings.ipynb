{
 "cells": [
  {
   "cell_type": "markdown",
   "id": "300894d6-070f-4061-afa2-236cdb2249e0",
   "metadata": {},
   "source": [
    "# Iterating on Strings"
   ]
  },
  {
   "cell_type": "markdown",
   "id": "dd50aed2-454b-484c-b49f-bd9dadb8b891",
   "metadata": {},
   "source": [
    "## Using for loop"
   ]
  },
  {
   "cell_type": "code",
   "execution_count": 1,
   "id": "193a0fcc-5c92-4582-b277-d58235cb0953",
   "metadata": {},
   "outputs": [],
   "source": [
    "name = \"Krishnagopal Halder\""
   ]
  },
  {
   "cell_type": "code",
   "execution_count": 2,
   "id": "7dbf618d-d784-47ab-ac6e-85a6e685ea6d",
   "metadata": {},
   "outputs": [
    {
     "name": "stdout",
     "output_type": "stream",
     "text": [
      "K\n",
      "r\n",
      "i\n",
      "s\n",
      "h\n",
      "n\n",
      "a\n",
      "g\n",
      "o\n",
      "p\n",
      "a\n",
      "l\n",
      " \n",
      "H\n",
      "a\n",
      "l\n",
      "d\n",
      "e\n",
      "r\n"
     ]
    }
   ],
   "source": [
    "for character in name:\n",
    "    print(character)"
   ]
  },
  {
   "cell_type": "code",
   "execution_count": 3,
   "id": "5ff505b3-bf90-4fd4-b096-c56e3ca408aa",
   "metadata": {},
   "outputs": [
    {
     "data": {
      "text/plain": [
       "19"
      ]
     },
     "execution_count": 3,
     "metadata": {},
     "output_type": "execute_result"
    }
   ],
   "source": [
    "len(name)"
   ]
  },
  {
   "cell_type": "markdown",
   "id": "cd02111c-0baf-4f66-b4b1-24247a0f35ad",
   "metadata": {},
   "source": [
    "## Using for loop and range()"
   ]
  },
  {
   "cell_type": "code",
   "execution_count": 4,
   "id": "56146cef-f8de-4ff9-a011-1b3e4284136f",
   "metadata": {},
   "outputs": [
    {
     "name": "stdout",
     "output_type": "stream",
     "text": [
      "The Character 1: K\n",
      "The Character 2: r\n",
      "The Character 3: i\n",
      "The Character 4: s\n",
      "The Character 5: h\n",
      "The Character 6: n\n",
      "The Character 7: a\n",
      "The Character 8: g\n",
      "The Character 9: o\n",
      "The Character 10: p\n",
      "The Character 11: a\n",
      "The Character 12: l\n",
      "The Character 13:  \n",
      "The Character 14: H\n",
      "The Character 15: a\n",
      "The Character 16: l\n",
      "The Character 17: d\n",
      "The Character 18: e\n",
      "The Character 19: r\n"
     ]
    }
   ],
   "source": [
    "for i in range(len(name)):# 0 - 19\n",
    "    print(f\"The Character {i+1}:\", name[i])\n",
    "    i += 1"
   ]
  },
  {
   "cell_type": "markdown",
   "id": "575ca33c-013d-41c2-ab0d-09f354681ca8",
   "metadata": {},
   "source": [
    "## Using while loop"
   ]
  },
  {
   "cell_type": "code",
   "execution_count": 5,
   "id": "79d6c9c0-e65e-456f-b6f4-b10b48e14584",
   "metadata": {},
   "outputs": [
    {
     "name": "stdout",
     "output_type": "stream",
     "text": [
      "K\n",
      "r\n",
      "i\n",
      "s\n",
      "h\n",
      "n\n",
      "a\n",
      "g\n",
      "o\n",
      "p\n",
      "a\n",
      "l\n",
      " \n",
      "H\n",
      "a\n",
      "l\n",
      "d\n",
      "e\n",
      "r\n"
     ]
    }
   ],
   "source": [
    "i = 0 \n",
    "while i < len(name):\n",
    "    print(name[i])\n",
    "    i += 1"
   ]
  }
 ],
 "metadata": {
  "kernelspec": {
   "display_name": "Python 3 (ipykernel)",
   "language": "python",
   "name": "python3"
  },
  "language_info": {
   "codemirror_mode": {
    "name": "ipython",
    "version": 3
   },
   "file_extension": ".py",
   "mimetype": "text/x-python",
   "name": "python",
   "nbconvert_exporter": "python",
   "pygments_lexer": "ipython3",
   "version": "3.10.10"
  }
 },
 "nbformat": 4,
 "nbformat_minor": 5
}
