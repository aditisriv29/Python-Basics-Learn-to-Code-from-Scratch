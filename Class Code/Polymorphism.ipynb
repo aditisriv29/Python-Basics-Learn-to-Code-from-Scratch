{
 "cells": [
  {
   "cell_type": "markdown",
   "id": "d9b2ded0-c930-4fa9-8f50-029e7c6a433f",
   "metadata": {},
   "source": [
    "## Polymorphism"
   ]
  },
  {
   "cell_type": "markdown",
   "id": "111946a5-f6e3-41e7-ab79-665e6b5c70a6",
   "metadata": {},
   "source": [
    "### Example 1: Polymorphism in addition(+) operator"
   ]
  },
  {
   "cell_type": "code",
   "execution_count": 1,
   "id": "4e325637-2830-4e3e-ae82-ea555af49943",
   "metadata": {
    "tags": []
   },
   "outputs": [],
   "source": [
    "a = 5 # int datatype\n",
    "b = 10"
   ]
  },
  {
   "cell_type": "code",
   "execution_count": 2,
   "id": "f14225f2-17ef-4a8e-aef9-0a6996ffd4e3",
   "metadata": {
    "tags": []
   },
   "outputs": [
    {
     "data": {
      "text/plain": [
       "15"
      ]
     },
     "execution_count": 2,
     "metadata": {},
     "output_type": "execute_result"
    }
   ],
   "source": [
    "a + b"
   ]
  },
  {
   "cell_type": "code",
   "execution_count": 3,
   "id": "fd53d478-6bb6-4d1f-977b-4e3201b1e44f",
   "metadata": {
    "tags": []
   },
   "outputs": [
    {
     "data": {
      "text/plain": [
       "int"
      ]
     },
     "execution_count": 3,
     "metadata": {},
     "output_type": "execute_result"
    }
   ],
   "source": [
    "type(a)"
   ]
  },
  {
   "cell_type": "code",
   "execution_count": 4,
   "id": "8560ea69-2c29-4117-a97a-bb283c1c083a",
   "metadata": {
    "tags": []
   },
   "outputs": [],
   "source": [
    "str1 = \"Geo\"\n",
    "str2 = \"Next\""
   ]
  },
  {
   "cell_type": "code",
   "execution_count": 5,
   "id": "780bb8fe-023b-4786-bdec-7344b98625c5",
   "metadata": {
    "tags": []
   },
   "outputs": [
    {
     "data": {
      "text/plain": [
       "str"
      ]
     },
     "execution_count": 5,
     "metadata": {},
     "output_type": "execute_result"
    }
   ],
   "source": [
    "type(str1)"
   ]
  },
  {
   "cell_type": "code",
   "execution_count": 6,
   "id": "7bf1a789-fe63-4a98-aa1c-256fb07d2ca8",
   "metadata": {
    "tags": []
   },
   "outputs": [
    {
     "data": {
      "text/plain": [
       "'GeoNext'"
      ]
     },
     "execution_count": 6,
     "metadata": {},
     "output_type": "execute_result"
    }
   ],
   "source": [
    "str1 + str2"
   ]
  },
  {
   "cell_type": "markdown",
   "id": "acae3b88-17e8-4d5e-b82d-aadf3f10f3d0",
   "metadata": {},
   "source": [
    "### Example 2: Functional Polymorphism in Python"
   ]
  },
  {
   "cell_type": "code",
   "execution_count": 7,
   "id": "b8cd4c9d-da98-404a-b986-657322884b7c",
   "metadata": {
    "tags": []
   },
   "outputs": [],
   "source": [
    "list1 = [1, 2, 3, 4, 5]\n",
    "str1 = \"GeoNext\"\n",
    "dict1 = {\"a\": 10, \"b\": 20}"
   ]
  },
  {
   "cell_type": "code",
   "execution_count": 8,
   "id": "f53a8f87-3fc8-4fa8-918a-1330bc6548d1",
   "metadata": {
    "tags": []
   },
   "outputs": [
    {
     "name": "stdout",
     "output_type": "stream",
     "text": [
      "5\n",
      "7\n",
      "2\n"
     ]
    }
   ],
   "source": [
    "print(len(list1))\n",
    "print(len(str1))\n",
    "print(len(dict1))"
   ]
  },
  {
   "cell_type": "markdown",
   "id": "ebfaf281-0cdc-44f5-b6fe-fec21870b2b0",
   "metadata": {},
   "source": [
    "## Class Polymorphism in Python"
   ]
  },
  {
   "cell_type": "code",
   "execution_count": 9,
   "id": "1def2819-f185-4827-b604-5787fef9a6bf",
   "metadata": {
    "tags": []
   },
   "outputs": [],
   "source": [
    "class Male:\n",
    "    \n",
    "    # constructor\n",
    "    def __init__(self, name, age):\n",
    "        self.name = name\n",
    "        self.age = age\n",
    "        \n",
    "    def info(self):\n",
    "        print(\"Hello, I am Male.\")\n",
    "        print(f\"My name is {self.name}.\")\n",
    "        print(f\"I am {self.age} years old.\")"
   ]
  },
  {
   "cell_type": "code",
   "execution_count": 10,
   "id": "8b27d3b0-cbd3-4d84-aa59-924a9a583bc5",
   "metadata": {
    "tags": []
   },
   "outputs": [],
   "source": [
    "class Female:\n",
    "    \n",
    "    def __init__(self, name, age):\n",
    "        self.name = name\n",
    "        self.age = age\n",
    "        \n",
    "    def info(self):\n",
    "        print(\"Hello, I am Female.\")\n",
    "        print(f\"My name is {self.name}.\")\n",
    "        print(f\"I am {self.age} years old.\")"
   ]
  },
  {
   "cell_type": "code",
   "execution_count": 11,
   "id": "fad0663c-532e-471d-ad73-f5b62d08ec26",
   "metadata": {
    "tags": []
   },
   "outputs": [],
   "source": [
    "# Creating instances\n",
    "male1 = Male(\"Ayan Pal\", 48)\n",
    "female1 = Female(\"Sayani Pal\", 40)"
   ]
  },
  {
   "cell_type": "code",
   "execution_count": 12,
   "id": "a08c82e8-5113-49fe-acc3-7d812e7389f8",
   "metadata": {
    "tags": []
   },
   "outputs": [
    {
     "name": "stdout",
     "output_type": "stream",
     "text": [
      "Hello, I am Male.\n",
      "My name is Ayan Pal.\n",
      "I am 48 years old.\n",
      "\n",
      "\n",
      "Hello, I am Female.\n",
      "My name is Sayani Pal.\n",
      "I am 40 years old.\n",
      "\n",
      "\n"
     ]
    }
   ],
   "source": [
    "# Running a loop over the set of objects\n",
    "# Calling the info() function common to both\n",
    "for human in (male1, female1):\n",
    "    human.info()\n",
    "    print(\"\\n\")"
   ]
  },
  {
   "cell_type": "markdown",
   "id": "4ad26d56-49af-4151-9dee-090c834643dc",
   "metadata": {},
   "source": [
    "### Polymorphism and Inheritance"
   ]
  },
  {
   "cell_type": "code",
   "execution_count": 21,
   "id": "67e63e0a-9c2d-44c0-ba3e-2baa5e3f6228",
   "metadata": {
    "tags": []
   },
   "outputs": [],
   "source": [
    "# Create a parent / super class\n",
    "class Human:\n",
    "    def __init__(self, name):\n",
    "        self.name = name\n",
    "        \n",
    "    def info(self):\n",
    "        print(\"I am a Human.\")\n",
    "        print(f\"My name is {self.name}\")"
   ]
  },
  {
   "cell_type": "code",
   "execution_count": 22,
   "id": "7a85ecf3-e565-48f9-be15-2071177251cb",
   "metadata": {
    "tags": []
   },
   "outputs": [],
   "source": [
    "# Create two child class\n",
    "class Male(Human):\n",
    "    def __init__(self, name, age):\n",
    "        super().__init__(name)\n",
    "        self.age = age\n",
    "    \n",
    "    def info(self):\n",
    "        print(\"Hello, I am a Male.\")\n",
    "        print(f\"My name is {self.name}.\")\n",
    "        print(f\"I am {self.age} years old.\")"
   ]
  },
  {
   "cell_type": "code",
   "execution_count": 23,
   "id": "18fa2b3f-c202-41ad-9cb4-ceaa6aa9a832",
   "metadata": {
    "tags": []
   },
   "outputs": [],
   "source": [
    "class Female(Human):\n",
    "    def __init__(self, name, age):\n",
    "        super().__init__(name)\n",
    "        self.age = age\n",
    "        \n",
    "    def info(self):\n",
    "        print(\"Hello, I am a Female.\")\n",
    "        print(f\"My name is {self.name}.\")\n",
    "        print(f\"I am {self.age} years old.\")"
   ]
  },
  {
   "cell_type": "code",
   "execution_count": 24,
   "id": "575ce976-1c99-4592-9f7b-9f788b8feb83",
   "metadata": {
    "tags": []
   },
   "outputs": [],
   "source": [
    "# Creating instances\n",
    "human1 = Human(\"Ayan Roy\")\n",
    "male1 = Male(\"Bijay Pal\", 28)\n",
    "female1 = Female(\"Jayita Sen\", 25)"
   ]
  },
  {
   "cell_type": "code",
   "execution_count": 25,
   "id": "65638fc7-736e-4b6d-8bc6-60b99b64cda3",
   "metadata": {
    "tags": []
   },
   "outputs": [
    {
     "name": "stdout",
     "output_type": "stream",
     "text": [
      "I am a Human.\n",
      "My name is Ayan Roy\n",
      "\n",
      "\n",
      "Hello, I am a Male.\n",
      "My name is Bijay Pal.\n",
      "I am 28 years old.\n",
      "\n",
      "\n",
      "Hello, I am a Female.\n",
      "My name is Jayita Sen.\n",
      "I am 25 years old.\n",
      "\n",
      "\n"
     ]
    }
   ],
   "source": [
    "for i in (human1, male1, female1):\n",
    "    i.info()\n",
    "    print(\"\\n\")"
   ]
  }
 ],
 "metadata": {
  "kernelspec": {
   "display_name": "Python 3 (ipykernel)",
   "language": "python",
   "name": "python3"
  },
  "language_info": {
   "codemirror_mode": {
    "name": "ipython",
    "version": 3
   },
   "file_extension": ".py",
   "mimetype": "text/x-python",
   "name": "python",
   "nbconvert_exporter": "python",
   "pygments_lexer": "ipython3",
   "version": "3.10.9"
  }
 },
 "nbformat": 4,
 "nbformat_minor": 5
}
