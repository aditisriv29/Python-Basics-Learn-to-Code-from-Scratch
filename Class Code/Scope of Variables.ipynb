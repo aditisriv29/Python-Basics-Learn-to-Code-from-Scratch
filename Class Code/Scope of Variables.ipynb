{
 "cells": [
  {
   "cell_type": "markdown",
   "id": "41c66b38-907a-4e76-b629-1cc7125c2a6f",
   "metadata": {},
   "source": [
    "# Scope of Variables"
   ]
  },
  {
   "cell_type": "code",
   "execution_count": 17,
   "id": "409f910f-fb29-4199-96b1-a9c391e4e9df",
   "metadata": {},
   "outputs": [],
   "source": [
    "def myName():\n",
    "    name = \"Local Variable\"\n",
    "    city = \"Bankura\"\n",
    "    print(name)\n",
    "    print(city)"
   ]
  },
  {
   "cell_type": "code",
   "execution_count": 18,
   "id": "7fd3f33f-dba6-4470-b646-4c3df3c51618",
   "metadata": {},
   "outputs": [
    {
     "name": "stdout",
     "output_type": "stream",
     "text": [
      "Local Variable\n",
      "Bankura\n"
     ]
    }
   ],
   "source": [
    "myName()"
   ]
  },
  {
   "cell_type": "code",
   "execution_count": 19,
   "id": "7ced70b4-be95-4d41-bab7-43bcc4f770a0",
   "metadata": {},
   "outputs": [],
   "source": [
    "name = \"Global Variable\""
   ]
  },
  {
   "cell_type": "code",
   "execution_count": 20,
   "id": "3256698a-a925-4561-9e45-f90a1568626f",
   "metadata": {},
   "outputs": [
    {
     "name": "stdout",
     "output_type": "stream",
     "text": [
      "Global Variable\n"
     ]
    }
   ],
   "source": [
    "print(name)"
   ]
  },
  {
   "cell_type": "code",
   "execution_count": 22,
   "id": "89727bd8-99bb-43fc-98c7-ea2186210121",
   "metadata": {},
   "outputs": [],
   "source": [
    "city = \"Bankura\""
   ]
  },
  {
   "cell_type": "code",
   "execution_count": 23,
   "id": "9cc678f5-efe6-4e72-bbce-924e522ae266",
   "metadata": {},
   "outputs": [
    {
     "name": "stdout",
     "output_type": "stream",
     "text": [
      "Bankura\n"
     ]
    }
   ],
   "source": [
    "print(city)"
   ]
  },
  {
   "cell_type": "markdown",
   "id": "2859046a-c513-48cd-8065-4fbeaf3527ba",
   "metadata": {},
   "source": [
    "## Creating a Global Variable"
   ]
  },
  {
   "cell_type": "code",
   "execution_count": 27,
   "id": "a80785c8-b9d8-40ed-90ed-0902057fd3f7",
   "metadata": {},
   "outputs": [],
   "source": [
    "x = \"Global Variable\"\n",
    "def checkScope():\n",
    "    print(\"x is a\", x)"
   ]
  },
  {
   "cell_type": "code",
   "execution_count": 26,
   "id": "01b7fe20-7147-483a-a57c-652928ea2f1b",
   "metadata": {},
   "outputs": [
    {
     "name": "stdout",
     "output_type": "stream",
     "text": [
      "x is a Global Variable\n"
     ]
    }
   ],
   "source": [
    "checkScope()"
   ]
  },
  {
   "cell_type": "code",
   "execution_count": 29,
   "id": "dff0aefc-62fb-4d24-8130-aea6ca749e52",
   "metadata": {},
   "outputs": [
    {
     "name": "stdout",
     "output_type": "stream",
     "text": [
      "Global Variable\n"
     ]
    }
   ],
   "source": [
    "print(x)"
   ]
  },
  {
   "cell_type": "markdown",
   "id": "9659eed0-c1b9-410d-809c-57208d5ce955",
   "metadata": {},
   "source": [
    "## Creating a Local Variable"
   ]
  },
  {
   "cell_type": "code",
   "execution_count": 32,
   "id": "4fcb193e-40aa-4858-9742-2e9cec803c27",
   "metadata": {},
   "outputs": [],
   "source": [
    "def checkLocal():\n",
    "    y = \"Local Variable\"\n",
    "    print(\"y is a\", y)"
   ]
  },
  {
   "cell_type": "code",
   "execution_count": 33,
   "id": "9a5f7856-0fdd-4aed-b4d0-49893a8c3b3a",
   "metadata": {},
   "outputs": [
    {
     "name": "stdout",
     "output_type": "stream",
     "text": [
      "y is a Local Variable\n"
     ]
    }
   ],
   "source": [
    "checkLocal()"
   ]
  },
  {
   "cell_type": "code",
   "execution_count": 36,
   "id": "51353ea5-f9f7-4473-a111-b1aa266280ef",
   "metadata": {},
   "outputs": [],
   "source": [
    "# If we call a local variable outside of its scope, we will get an error.\n",
    "# print(y)"
   ]
  }
 ],
 "metadata": {
  "kernelspec": {
   "display_name": "Python 3 (ipykernel)",
   "language": "python",
   "name": "python3"
  },
  "language_info": {
   "codemirror_mode": {
    "name": "ipython",
    "version": 3
   },
   "file_extension": ".py",
   "mimetype": "text/x-python",
   "name": "python",
   "nbconvert_exporter": "python",
   "pygments_lexer": "ipython3",
   "version": "3.10.10"
  }
 },
 "nbformat": 4,
 "nbformat_minor": 5
}
