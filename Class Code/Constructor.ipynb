{
 "cells": [
  {
   "cell_type": "markdown",
   "id": "af865508-9fc9-4c8c-89ba-231d25d4abe5",
   "metadata": {
    "tags": []
   },
   "source": [
    "## Constructor"
   ]
  },
  {
   "cell_type": "markdown",
   "id": "0ec8f6dd-e5f1-4169-9971-84b398fe252d",
   "metadata": {},
   "source": [
    "### Defining a Class with Constructor"
   ]
  },
  {
   "cell_type": "code",
   "execution_count": 1,
   "id": "8a13e65a-a4fe-4d9c-b298-7765fd099141",
   "metadata": {
    "tags": []
   },
   "outputs": [],
   "source": [
    "class Car:\n",
    "    # Default constructor\n",
    "    def __init__(self, name, topspeed, color):\n",
    "        pass"
   ]
  },
  {
   "cell_type": "code",
   "execution_count": 2,
   "id": "8ae69a80-2609-45da-8d18-324e8843ce54",
   "metadata": {
    "tags": []
   },
   "outputs": [],
   "source": [
    "# Creating a class with parameterized constructor\n",
    "class Car:\n",
    "    def __init__(self, name, topspeed, color):\n",
    "        self.name = name\n",
    "        self.topspeed = topspeed\n",
    "        self.color = color"
   ]
  },
  {
   "cell_type": "code",
   "execution_count": 3,
   "id": "06fa79ab-bb71-4d93-8f00-794f9f2aedfe",
   "metadata": {
    "tags": []
   },
   "outputs": [],
   "source": [
    "# Creating an object from the car class\n",
    "car1 = Car(\"Ferrari\", 400, \"Red\")\n",
    "car2 = Car(\"Maruti 800\", 120, \"White\")\n",
    "car3 = Car(\"Creta\", 300, \"Yellow\")"
   ]
  },
  {
   "cell_type": "code",
   "execution_count": 4,
   "id": "ff328db1-4f81-417d-b74a-f01e12d1f771",
   "metadata": {
    "tags": []
   },
   "outputs": [
    {
     "name": "stdout",
     "output_type": "stream",
     "text": [
      "The name of the first car is Ferrari\n",
      "The topspeed of the first car is 400 Km/h\n",
      "The color of the first car is Red\n"
     ]
    }
   ],
   "source": [
    "# Print the attributes of the car1 object\n",
    "print(\"The name of the first car is\", car1.name)\n",
    "print(\"The topspeed of the first car is\", car1.topspeed, \"Km/h\")\n",
    "print(\"The color of the first car is\", car1.color)"
   ]
  },
  {
   "cell_type": "code",
   "execution_count": 5,
   "id": "803ddfd0-0ff9-4675-8fdb-e697accf3736",
   "metadata": {
    "tags": []
   },
   "outputs": [
    {
     "name": "stdout",
     "output_type": "stream",
     "text": [
      "The name of the second car is Maruti 800\n",
      "The topspeed of the second car is 120 Km/h\n",
      "The color of the second car is White\n"
     ]
    }
   ],
   "source": [
    "# Print the attributes of the car2 object\n",
    "print(\"The name of the second car is\", car2.name)\n",
    "print(\"The topspeed of the second car is\", car2.topspeed, \"Km/h\")\n",
    "print(\"The color of the second car is\", car2.color)"
   ]
  },
  {
   "cell_type": "code",
   "execution_count": 6,
   "id": "09181066-c2ac-4040-a9f3-741a6acdb8dd",
   "metadata": {
    "tags": []
   },
   "outputs": [
    {
     "name": "stdout",
     "output_type": "stream",
     "text": [
      "The name of the third car is Creta\n",
      "The topspeed of the third car is 300 Km/h\n",
      "The color of the third car is Yellow\n"
     ]
    }
   ],
   "source": [
    "# Print the attributes of the car2 object\n",
    "print(\"The name of the third car is\", car3.name)\n",
    "print(\"The topspeed of the third car is\", car3.topspeed, \"Km/h\")\n",
    "print(\"The color of the third car is\", car3.color)"
   ]
  },
  {
   "cell_type": "code",
   "execution_count": 7,
   "id": "b69c1d7c-3eeb-49d0-9cde-cc6986279ec2",
   "metadata": {
    "tags": []
   },
   "outputs": [],
   "source": [
    "# Creating the car class from scratch\n",
    "class Car:\n",
    "    def __init__(self, name, topspeed, color):\n",
    "        self.name = name\n",
    "        self.topspeed = topspeed\n",
    "        self.color = color\n",
    "        \n",
    "    def car_info(self):\n",
    "        print(\"Car's Information:\")\n",
    "        print(\"The name of the car is\", self.name)\n",
    "        print(\"The topspeed of the car is\", self.topspeed)\n",
    "        print(\"The color of the car is\", self.color)"
   ]
  },
  {
   "cell_type": "code",
   "execution_count": 8,
   "id": "819589e6-a06d-4312-897d-d5fcc6724299",
   "metadata": {
    "tags": []
   },
   "outputs": [],
   "source": [
    "# Creating 3 instances / objects from the car class\n",
    "car1 = Car(\"Ferrari\", 400, \"Red\")\n",
    "car2 = Car(\"Maruti 800\", 120, \"White\")\n",
    "car3 = Car(\"Creta\", 300, \"Yellow\")"
   ]
  },
  {
   "cell_type": "code",
   "execution_count": 9,
   "id": "6e6cb663-0ca7-424c-8c6e-e1e43a232021",
   "metadata": {
    "tags": []
   },
   "outputs": [
    {
     "name": "stdout",
     "output_type": "stream",
     "text": [
      "Car's Information:\n",
      "The name of the car is Ferrari\n",
      "The topspeed of the car is 400\n",
      "The color of the car is Red\n"
     ]
    }
   ],
   "source": [
    "# Print the information of the car1\n",
    "car1.car_info()"
   ]
  },
  {
   "cell_type": "code",
   "execution_count": 10,
   "id": "76f6d19a-4dec-4758-8631-15272787b7c6",
   "metadata": {
    "tags": []
   },
   "outputs": [
    {
     "name": "stdout",
     "output_type": "stream",
     "text": [
      "Car's Information:\n",
      "The name of the car is Maruti 800\n",
      "The topspeed of the car is 120\n",
      "The color of the car is White\n"
     ]
    }
   ],
   "source": [
    "# Print the information of the car2\n",
    "car2.car_info()"
   ]
  },
  {
   "cell_type": "code",
   "execution_count": 11,
   "id": "8ce64d27-f3df-482b-8776-380f04cfe988",
   "metadata": {
    "tags": []
   },
   "outputs": [
    {
     "name": "stdout",
     "output_type": "stream",
     "text": [
      "Car's Information:\n",
      "The name of the car is Creta\n",
      "The topspeed of the car is 300\n",
      "The color of the car is Yellow\n"
     ]
    }
   ],
   "source": [
    "# Print the information of the car3\n",
    "car3.car_info()"
   ]
  },
  {
   "cell_type": "markdown",
   "id": "b2aac08a-c824-4e31-b4b6-1d5d1584f5a9",
   "metadata": {},
   "source": [
    "### Creating Application Form using Class in Python"
   ]
  },
  {
   "cell_type": "code",
   "execution_count": 12,
   "id": "042750ae-b52c-43fe-8861-57057a64bdf2",
   "metadata": {
    "tags": []
   },
   "outputs": [],
   "source": [
    "class ApplicationForm:\n",
    "    def __init__(self, name, age, dob, phone):\n",
    "        self.name = name\n",
    "        self.age = age\n",
    "        self.dob = dob\n",
    "        self.phone = phone\n",
    "        \n",
    "    def set_email(self, email):\n",
    "        self.email = email\n",
    "        \n",
    "    def set_address(self, address):\n",
    "        self.address = address\n",
    "        \n",
    "    def print_form(self):\n",
    "        print(\"Application Form:\")\n",
    "        print(f\"Name: {self.name}\")\n",
    "        print(f\"Age: {self.age}\")\n",
    "        print(f\"DOB: {self.dob}\")\n",
    "        print(f\"Phone: {self.phone}\")\n",
    "        print(f\"Emai: {self.email}\")\n",
    "        print(f\"Address: {self.address}\")\n",
    "              "
   ]
  },
  {
   "cell_type": "code",
   "execution_count": 13,
   "id": "4d3d80e6-4004-4506-b491-25cd8a14a0dd",
   "metadata": {
    "tags": []
   },
   "outputs": [],
   "source": [
    "# Create some object of the Application Form\n",
    "form1 = ApplicationForm(\"Bijay Roy\", 26, \"2000-01-01\", 6245648967)\n",
    "form1.set_email(\"roy_bijay123@gmail.com\")\n",
    "form1.set_address(\"Newtown, Kolkata\")"
   ]
  },
  {
   "cell_type": "code",
   "execution_count": 14,
   "id": "676ec90f-d7b7-404d-924a-8a53ebfecd1b",
   "metadata": {
    "tags": []
   },
   "outputs": [
    {
     "name": "stdout",
     "output_type": "stream",
     "text": [
      "Application Form:\n",
      "Name: Bijay Roy\n",
      "Age: 26\n",
      "DOB: 2000-01-01\n",
      "Phone: 6245648967\n",
      "Emai: roy_bijay123@gmail.com\n",
      "Address: Newtown, Kolkata\n"
     ]
    }
   ],
   "source": [
    "# Printing the applicant form\n",
    "form1.print_form()"
   ]
  },
  {
   "cell_type": "code",
   "execution_count": 15,
   "id": "5f7c3994-a2dc-459d-9d7e-eba19fb6a445",
   "metadata": {
    "tags": []
   },
   "outputs": [],
   "source": [
    "# Creating another object\n",
    "form2 = ApplicationForm(\"Sovon Dey\", 28, \"1994-01-12\", 7894256127)\n",
    "form2.set_email(\"sovon123@gmail.com\")\n",
    "form2.set_address(\"Arambag, Hooghly\")"
   ]
  },
  {
   "cell_type": "code",
   "execution_count": 16,
   "id": "11c04b02-3765-4d1a-bfbf-5a992fd46263",
   "metadata": {
    "tags": []
   },
   "outputs": [
    {
     "name": "stdout",
     "output_type": "stream",
     "text": [
      "Application Form:\n",
      "Name: Sovon Dey\n",
      "Age: 28\n",
      "DOB: 1994-01-12\n",
      "Phone: 7894256127\n",
      "Emai: sovon123@gmail.com\n",
      "Address: Arambag, Hooghly\n"
     ]
    }
   ],
   "source": [
    "form2.print_form()"
   ]
  }
 ],
 "metadata": {
  "kernelspec": {
   "display_name": "Python 3 (ipykernel)",
   "language": "python",
   "name": "python3"
  },
  "language_info": {
   "codemirror_mode": {
    "name": "ipython",
    "version": 3
   },
   "file_extension": ".py",
   "mimetype": "text/x-python",
   "name": "python",
   "nbconvert_exporter": "python",
   "pygments_lexer": "ipython3",
   "version": "3.10.9"
  }
 },
 "nbformat": 4,
 "nbformat_minor": 5
}
