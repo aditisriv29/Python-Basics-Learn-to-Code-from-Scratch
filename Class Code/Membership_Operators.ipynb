{
 "cells": [
  {
   "cell_type": "markdown",
   "id": "adea43b8-07bd-46e0-86b4-a90d1fddf10d",
   "metadata": {},
   "source": [
    "# Membership Operators"
   ]
  },
  {
   "cell_type": "markdown",
   "id": "cbff066f-25b1-4c93-95c2-b0b060c7384e",
   "metadata": {},
   "source": [
    "## in"
   ]
  },
  {
   "cell_type": "code",
   "execution_count": 15,
   "id": "81f98088-ddca-4b49-a65f-5a6fd6fdfd41",
   "metadata": {},
   "outputs": [
    {
     "name": "stdout",
     "output_type": "stream",
     "text": [
      "True\n"
     ]
    }
   ],
   "source": [
    "name = \"GeoNext\"\n",
    "print(\"G\" in name)"
   ]
  },
  {
   "cell_type": "code",
   "execution_count": 16,
   "id": "6284b799-3ea2-4d4b-a7ac-c25b06a0b52d",
   "metadata": {},
   "outputs": [],
   "source": [
    "lst1 = [1, 2, 3]"
   ]
  },
  {
   "cell_type": "code",
   "execution_count": 17,
   "id": "0f07e143-6560-4f43-8f0b-eff6cdbd0ea5",
   "metadata": {},
   "outputs": [
    {
     "name": "stdout",
     "output_type": "stream",
     "text": [
      "False\n"
     ]
    }
   ],
   "source": [
    "print(5 in lst1)"
   ]
  },
  {
   "cell_type": "markdown",
   "id": "0e1d2fe5-b1a8-4ae2-b3e7-508347682bd6",
   "metadata": {},
   "source": [
    "## not in"
   ]
  },
  {
   "cell_type": "code",
   "execution_count": 18,
   "id": "d1b40217-90c5-4b6e-b6b2-86081d40a46d",
   "metadata": {},
   "outputs": [],
   "source": [
    "name2 = \"Apple\""
   ]
  },
  {
   "cell_type": "code",
   "execution_count": 21,
   "id": "c6446257-4a58-4781-b320-3857b53a36cf",
   "metadata": {},
   "outputs": [
    {
     "name": "stdout",
     "output_type": "stream",
     "text": [
      "True\n"
     ]
    }
   ],
   "source": [
    "print(\"N\" not in name2)"
   ]
  },
  {
   "cell_type": "code",
   "execution_count": 24,
   "id": "0fd2cfa3-98b5-418f-88d6-5bbb3d0596b7",
   "metadata": {},
   "outputs": [],
   "source": [
    "lst2 = [5, 6, 7, 10]"
   ]
  },
  {
   "cell_type": "code",
   "execution_count": 25,
   "id": "b233a410-8af0-4ea1-90f9-33d4578c8fe4",
   "metadata": {},
   "outputs": [
    {
     "name": "stdout",
     "output_type": "stream",
     "text": [
      "False\n"
     ]
    }
   ],
   "source": [
    "print(10 not in lst2)"
   ]
  }
 ],
 "metadata": {
  "kernelspec": {
   "display_name": "Python 3 (ipykernel)",
   "language": "python",
   "name": "python3"
  },
  "language_info": {
   "codemirror_mode": {
    "name": "ipython",
    "version": 3
   },
   "file_extension": ".py",
   "mimetype": "text/x-python",
   "name": "python",
   "nbconvert_exporter": "python",
   "pygments_lexer": "ipython3",
   "version": "3.10.10"
  }
 },
 "nbformat": 4,
 "nbformat_minor": 5
}
