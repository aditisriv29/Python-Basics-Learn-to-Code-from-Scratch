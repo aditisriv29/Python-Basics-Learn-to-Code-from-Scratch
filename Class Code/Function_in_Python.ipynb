{
 "cells": [
  {
   "cell_type": "markdown",
   "id": "792d543c-8c63-458c-87fe-8bfef1c35dff",
   "metadata": {},
   "source": [
    "# Function in Python"
   ]
  },
  {
   "cell_type": "code",
   "execution_count": 1,
   "id": "7df89bf3-7fd7-4d13-bd51-658dcfd19233",
   "metadata": {},
   "outputs": [],
   "source": [
    "def addTwoNumbers(x, y):\n",
    "    \"This function returns the sum of two numbers\"\n",
    "    sum_of_two_numbers = x + y\n",
    "    return sum_of_two_numbers"
   ]
  },
  {
   "cell_type": "code",
   "execution_count": 2,
   "id": "a3cde6b8-21cd-422d-a3dd-cfefc36bbbd0",
   "metadata": {},
   "outputs": [
    {
     "data": {
      "text/plain": [
       "60"
      ]
     },
     "execution_count": 2,
     "metadata": {},
     "output_type": "execute_result"
    }
   ],
   "source": [
    "addTwoNumbers(15, 45)"
   ]
  },
  {
   "cell_type": "code",
   "execution_count": 3,
   "id": "1f52d1f4-f649-4e08-b05a-bd092265dca7",
   "metadata": {},
   "outputs": [],
   "source": [
    "def multiplyTwoNumbers(x, y):\n",
    "    \"This function returns the product of two numbers\"\n",
    "    product = x * y\n",
    "    return product"
   ]
  },
  {
   "cell_type": "code",
   "execution_count": 4,
   "id": "078ea2b1-03fb-4088-8382-c5e195768fe8",
   "metadata": {},
   "outputs": [
    {
     "data": {
      "text/plain": [
       "231952"
      ]
     },
     "execution_count": 4,
     "metadata": {},
     "output_type": "execute_result"
    }
   ],
   "source": [
    "multiplyTwoNumbers(1526, 152)"
   ]
  },
  {
   "cell_type": "code",
   "execution_count": 5,
   "id": "670a3a89-3be8-4a67-b216-4e2a8ac4de00",
   "metadata": {},
   "outputs": [],
   "source": [
    "def divideTwoNumbers(x, y):\n",
    "    \"This function returns the division of two numbers\"\n",
    "    divide = x / y\n",
    "    return divide"
   ]
  },
  {
   "cell_type": "code",
   "execution_count": 6,
   "id": "6823cb1a-0f27-4828-94ca-8de3d1b86e16",
   "metadata": {},
   "outputs": [
    {
     "data": {
      "text/plain": [
       "5.0"
      ]
     },
     "execution_count": 6,
     "metadata": {},
     "output_type": "execute_result"
    }
   ],
   "source": [
    "divideTwoNumbers(10, 2)"
   ]
  },
  {
   "cell_type": "markdown",
   "id": "8d47af4b-d1b2-492e-8690-5c57ea462fee",
   "metadata": {},
   "source": [
    "## Create a function that will calculate the standard deviation of a dataset"
   ]
  },
  {
   "cell_type": "code",
   "execution_count": 7,
   "id": "9d0c598f-b528-43fa-a210-86dcb3020a0c",
   "metadata": {},
   "outputs": [],
   "source": [
    "myLst = [10, 14, 36, 12, 14, 75, 28, 45, 31, 98, 18, 24, 45, 30]"
   ]
  },
  {
   "cell_type": "code",
   "execution_count": 8,
   "id": "05465d04-7c5b-487c-aa71-d487c9260ad7",
   "metadata": {},
   "outputs": [
    {
     "data": {
      "text/plain": [
       "480"
      ]
     },
     "execution_count": 8,
     "metadata": {},
     "output_type": "execute_result"
    }
   ],
   "source": [
    "sum(myLst) # Sum of all the numbers"
   ]
  },
  {
   "cell_type": "code",
   "execution_count": 9,
   "id": "54f8f753-a404-4203-8844-001230785613",
   "metadata": {},
   "outputs": [
    {
     "data": {
      "text/plain": [
       "14"
      ]
     },
     "execution_count": 9,
     "metadata": {},
     "output_type": "execute_result"
    }
   ],
   "source": [
    "len(myLst) # Number of items"
   ]
  },
  {
   "cell_type": "code",
   "execution_count": 10,
   "id": "cb808fd0-4132-4eb0-b906-81b38502584c",
   "metadata": {},
   "outputs": [
    {
     "data": {
      "text/plain": [
       "34.285714285714285"
      ]
     },
     "execution_count": 10,
     "metadata": {},
     "output_type": "execute_result"
    }
   ],
   "source": [
    "# Mean = (sum of all the numbers) / (no of items)\n",
    "mean = sum(myLst) / len(myLst)\n",
    "mean"
   ]
  },
  {
   "cell_type": "code",
   "execution_count": 11,
   "id": "ab02ecbf-87e2-47c3-b52f-c50b5099cede",
   "metadata": {},
   "outputs": [],
   "source": [
    "from math import sqrt\n",
    "def standard_deviation(lst):\n",
    "    \"This function return the standard deviation value of a dataset\"\n",
    "    mean = sum(lst) / len(lst)\n",
    "    sum_of_squares = 0\n",
    "    \n",
    "    for num in lst:\n",
    "        deviation = num - mean\n",
    "        sqrd_deviation = deviation ** 2\n",
    "        sum_of_squares += sqrd_deviation\n",
    "        \n",
    "    std_deviation =  sqrt((sum_of_squares / (len(lst)-1)))\n",
    "    return std_deviation"
   ]
  },
  {
   "cell_type": "code",
   "execution_count": 12,
   "id": "0c02d215-a8ce-4438-8f47-817f1a6d8a59",
   "metadata": {},
   "outputs": [
    {
     "data": {
      "text/plain": [
       "25.266056803023822"
      ]
     },
     "execution_count": 12,
     "metadata": {},
     "output_type": "execute_result"
    }
   ],
   "source": [
    "standard_deviation(myLst)"
   ]
  },
  {
   "cell_type": "code",
   "execution_count": 14,
   "id": "dcc1c02a-2157-49bf-8e26-e1681873bf8d",
   "metadata": {},
   "outputs": [
    {
     "data": {
      "text/plain": [
       "1.5811388300841898"
      ]
     },
     "execution_count": 14,
     "metadata": {},
     "output_type": "execute_result"
    }
   ],
   "source": [
    "standard_deviation([1, 2, 3, 4, 5])"
   ]
  },
  {
   "cell_type": "code",
   "execution_count": 15,
   "id": "a24a099d-b4c9-47fe-93e4-4bc751cb252e",
   "metadata": {},
   "outputs": [],
   "source": [
    "def average(lst):\n",
    "    \"This function return the average of a dataset\"\n",
    "    sum_of_dataset = sum(lst)\n",
    "    no_of_items = len(lst)\n",
    "    avg = sum_of_dataset / no_of_items\n",
    "    return avg"
   ]
  },
  {
   "cell_type": "code",
   "execution_count": 16,
   "id": "dc767a3d-ead8-44da-ba3c-d2bcc4e81398",
   "metadata": {},
   "outputs": [],
   "source": [
    "myData = [1, 2, 3, 4, 5]"
   ]
  },
  {
   "cell_type": "code",
   "execution_count": 17,
   "id": "80d992c1-c74d-4799-9657-fd34a7f40400",
   "metadata": {},
   "outputs": [
    {
     "data": {
      "text/plain": [
       "3.0"
      ]
     },
     "execution_count": 17,
     "metadata": {},
     "output_type": "execute_result"
    }
   ],
   "source": [
    "average(myData)"
   ]
  }
 ],
 "metadata": {
  "kernelspec": {
   "display_name": "Python 3 (ipykernel)",
   "language": "python",
   "name": "python3"
  },
  "language_info": {
   "codemirror_mode": {
    "name": "ipython",
    "version": 3
   },
   "file_extension": ".py",
   "mimetype": "text/x-python",
   "name": "python",
   "nbconvert_exporter": "python",
   "pygments_lexer": "ipython3",
   "version": "3.10.10"
  }
 },
 "nbformat": 4,
 "nbformat_minor": 5
}
