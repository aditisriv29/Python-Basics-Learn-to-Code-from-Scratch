{
 "cells": [
  {
   "cell_type": "markdown",
   "id": "48163fed-c623-46a6-8951-2cac1096297c",
   "metadata": {},
   "source": [
    "# Assignment Operators"
   ]
  },
  {
   "cell_type": "markdown",
   "id": "e4eb6cfc-137f-43ce-a7f4-7e77c8d9fe62",
   "metadata": {},
   "source": [
    "## Simple Assignment (=)"
   ]
  },
  {
   "cell_type": "code",
   "execution_count": 1,
   "id": "a502eb10-a75f-48b9-805f-83e9e72ee412",
   "metadata": {},
   "outputs": [],
   "source": [
    "a = 5"
   ]
  },
  {
   "cell_type": "markdown",
   "id": "0412174b-b7a3-4802-841d-87012fded49e",
   "metadata": {},
   "source": [
    "## Addition Assignment (+=)"
   ]
  },
  {
   "cell_type": "code",
   "execution_count": 2,
   "id": "c09d018a-7580-4b3a-82c8-a4bc57a5d122",
   "metadata": {},
   "outputs": [],
   "source": [
    "a += 2"
   ]
  },
  {
   "cell_type": "code",
   "execution_count": 3,
   "id": "6014501d-797b-49b9-a4f7-4b9cbb65d6b5",
   "metadata": {},
   "outputs": [
    {
     "data": {
      "text/plain": [
       "7"
      ]
     },
     "execution_count": 3,
     "metadata": {},
     "output_type": "execute_result"
    }
   ],
   "source": [
    "a"
   ]
  },
  {
   "cell_type": "markdown",
   "id": "f5927607-9246-48cb-a9c4-ee92a81ee7cb",
   "metadata": {},
   "source": [
    "## Subtraction Assignment (-=)"
   ]
  },
  {
   "cell_type": "code",
   "execution_count": 4,
   "id": "29ed996c-d8d6-4961-a86c-3e66178c5246",
   "metadata": {},
   "outputs": [],
   "source": [
    "a -= 2"
   ]
  },
  {
   "cell_type": "code",
   "execution_count": 5,
   "id": "b1975019-64c8-446d-9cf6-62fe1968259e",
   "metadata": {},
   "outputs": [
    {
     "data": {
      "text/plain": [
       "5"
      ]
     },
     "execution_count": 5,
     "metadata": {},
     "output_type": "execute_result"
    }
   ],
   "source": [
    "a"
   ]
  },
  {
   "cell_type": "markdown",
   "id": "40383fd6-c4b6-4e23-a1e9-45e8f7b7e366",
   "metadata": {},
   "source": [
    "## Multiplication assignment (*=)"
   ]
  },
  {
   "cell_type": "code",
   "execution_count": 6,
   "id": "279d6221-8cb3-4991-b785-b70f18c43c68",
   "metadata": {},
   "outputs": [],
   "source": [
    "a *= 2"
   ]
  },
  {
   "cell_type": "code",
   "execution_count": 7,
   "id": "27a87d42-e8e8-4d3d-9acd-730b71f7816a",
   "metadata": {},
   "outputs": [
    {
     "data": {
      "text/plain": [
       "10"
      ]
     },
     "execution_count": 7,
     "metadata": {},
     "output_type": "execute_result"
    }
   ],
   "source": [
    "a"
   ]
  },
  {
   "cell_type": "markdown",
   "id": "b859e48a-69e8-40a6-be3a-46355ece1167",
   "metadata": {},
   "source": [
    "## Division assignment (/=)"
   ]
  },
  {
   "cell_type": "code",
   "execution_count": 8,
   "id": "95b8bd9a-7e10-4ddc-b8dd-e44b566baaab",
   "metadata": {},
   "outputs": [],
   "source": [
    "a /= 2"
   ]
  },
  {
   "cell_type": "code",
   "execution_count": 9,
   "id": "34a15412-1647-44c8-aa37-84064b36760a",
   "metadata": {},
   "outputs": [
    {
     "data": {
      "text/plain": [
       "5.0"
      ]
     },
     "execution_count": 9,
     "metadata": {},
     "output_type": "execute_result"
    }
   ],
   "source": [
    "a"
   ]
  },
  {
   "cell_type": "markdown",
   "id": "13d241c0-031a-4cbb-b2ad-880542954c95",
   "metadata": {},
   "source": [
    "## Modulus assignment (%=)"
   ]
  },
  {
   "cell_type": "code",
   "execution_count": 10,
   "id": "9d78fd23-5bc6-4de1-8d5d-684b8f88dbc8",
   "metadata": {},
   "outputs": [],
   "source": [
    "a %= 2"
   ]
  },
  {
   "cell_type": "code",
   "execution_count": 11,
   "id": "50f60776-c955-421b-975c-1e9e3a34241c",
   "metadata": {},
   "outputs": [
    {
     "data": {
      "text/plain": [
       "1.0"
      ]
     },
     "execution_count": 11,
     "metadata": {},
     "output_type": "execute_result"
    }
   ],
   "source": [
    "a"
   ]
  },
  {
   "cell_type": "markdown",
   "id": "e4a790d3-8e63-44de-ab45-0cdaa53af2e6",
   "metadata": {},
   "source": [
    "## Exponentiation assignment (**=)"
   ]
  },
  {
   "cell_type": "code",
   "execution_count": 12,
   "id": "49364db4-1270-4bba-8567-625d9c702449",
   "metadata": {},
   "outputs": [],
   "source": [
    "a **= 2"
   ]
  },
  {
   "cell_type": "code",
   "execution_count": 14,
   "id": "2c87da36-ca7a-4b85-9bf0-a9c8b03ef069",
   "metadata": {},
   "outputs": [
    {
     "data": {
      "text/plain": [
       "1.0"
      ]
     },
     "execution_count": 14,
     "metadata": {},
     "output_type": "execute_result"
    }
   ],
   "source": [
    "a"
   ]
  },
  {
   "cell_type": "code",
   "execution_count": 15,
   "id": "ab5da801-a1a9-4bc6-9062-85dc7cde17fa",
   "metadata": {},
   "outputs": [],
   "source": [
    "a = 3"
   ]
  },
  {
   "cell_type": "code",
   "execution_count": 16,
   "id": "f0487c3f-2326-45c3-8dea-a377bd33f842",
   "metadata": {},
   "outputs": [],
   "source": [
    "a **= 3"
   ]
  },
  {
   "cell_type": "code",
   "execution_count": 17,
   "id": "5e99fc44-d4e1-4381-a50d-c16bcbe9b86e",
   "metadata": {},
   "outputs": [
    {
     "data": {
      "text/plain": [
       "27"
      ]
     },
     "execution_count": 17,
     "metadata": {},
     "output_type": "execute_result"
    }
   ],
   "source": [
    "a"
   ]
  }
 ],
 "metadata": {
  "kernelspec": {
   "display_name": "Python 3 (ipykernel)",
   "language": "python",
   "name": "python3"
  },
  "language_info": {
   "codemirror_mode": {
    "name": "ipython",
    "version": 3
   },
   "file_extension": ".py",
   "mimetype": "text/x-python",
   "name": "python",
   "nbconvert_exporter": "python",
   "pygments_lexer": "ipython3",
   "version": "3.10.10"
  }
 },
 "nbformat": 4,
 "nbformat_minor": 5
}
