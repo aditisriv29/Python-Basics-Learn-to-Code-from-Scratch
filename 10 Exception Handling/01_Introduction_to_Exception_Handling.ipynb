{
 "cells": [
  {
   "cell_type": "markdown",
   "id": "6729960a-a816-4285-b7e1-95c98c46e690",
   "metadata": {},
   "source": [
    "## Exception Handling\n",
    "An Exception (error) is an event due to which the normal flow of the program's instructions gets disrupted.\n",
    "Errors in Python can be of the following two types i.e. Syntax errors and Exceptions.\n",
    "\n",
    "* While exceptions are raised when some internal events occur which changes the normal flow of the program.\n",
    "* On the other hand, Errors are those type of problems in a program due to which the program will stop the execution."
   ]
  },
  {
   "cell_type": "markdown",
   "id": "a657add7-0090-4350-9888-1c45ee5d3102",
   "metadata": {},
   "source": [
    "### Difference between Syntax Errors and Exceptions\n",
    "**Syntax Error:** As the name suggests that this error is caused by the wrong syntax in the code. It leads to the termination of the program.\n",
    "\n",
    "Example:"
   ]
  },
  {
   "cell_type": "code",
   "execution_count": 7,
   "id": "4b3b7de5-6c43-435d-8a6c-4b40cb0aba62",
   "metadata": {
    "tags": []
   },
   "outputs": [],
   "source": [
    "# a = 10\n",
    "# if (a > 10)\n",
    "#     print(\"Example\")"
   ]
  },
  {
   "cell_type": "markdown",
   "id": "1b734730-8b63-4ec1-8e4e-2d29c7ffea0c",
   "metadata": {},
   "source": [
    "We will get the output as: **SyntaxError: expected ':'**. The syntax error is because there should be a \":\" (colon) at the end of an if statement. Since that is not presenet in the program, it gives a syntax error."
   ]
  },
  {
   "cell_type": "markdown",
   "id": "15f3de21-9e53-42b1-a456-a3a3a2b08e6e",
   "metadata": {},
   "source": [
    "**Exceptions:** Exceptions are raised when the program is syntactically correct but the code resulted in an error. This error does not stop the execution of the program, however, it changes the normal flow of the program.\n",
    "\n",
    "Example:"
   ]
  },
  {
   "cell_type": "code",
   "execution_count": 9,
   "id": "ef8283bc-2d15-4bed-a6ce-a12747948fa0",
   "metadata": {
    "tags": []
   },
   "outputs": [],
   "source": [
    "# balance = 10000\n",
    "# remaining = balance / 0\n",
    "# print(remaining)"
   ]
  },
  {
   "cell_type": "markdown",
   "id": "0bf58c80-9f0f-46e5-8017-c5bdae37fd61",
   "metadata": {},
   "source": [
    "The above example raised the **ZeroDivisionError** exception, as we are trying to divide a number by 0 which is not defined and arithmetically not possible."
   ]
  },
  {
   "cell_type": "markdown",
   "id": "a98fde9a-4b5a-4e40-9e93-053d90635756",
   "metadata": {},
   "source": [
    "### Exceptions in Python\n",
    "* Python has many built-in exceptions that are raised when your program encounters an error (something in the program goes wrong).\n",
    "* When these exceptions occur, the Python interpreter stops the current process and passes it to the calling process until it is handled.\n",
    "* If not handled, the program will crash.\n",
    "* For example, let us consider a program where we have a function A that calls function B, which in turn calls function C. If an exception occurs in function C but is not handled in C, the exception passes to B and then to A.\n",
    "* If never handled, an error message is displayed and the program comes to a sudden unexpected halt."
   ]
  },
  {
   "cell_type": "markdown",
   "id": "7924d29c-0902-4334-8683-66090feb757b",
   "metadata": {},
   "source": [
    "### Some Common Exceptions\n",
    "A list of common exceptions that can be thrown from a standard Python program is given below.\n",
    "* ZeroDivisionError: This occurs when a number is divided by zero.\n",
    "* NameError: It occurs when a name is not found. It may be local or global.\n",
    "* IndentationError: It occurs when incorrect indentation is given.\n",
    "* IOError: It occurs when an Input Output operation fails.\n",
    "* EOFError: It occurs when the end of the file is reached, and yet operations are being performed."
   ]
  }
 ],
 "metadata": {
  "kernelspec": {
   "display_name": "Python 3 (ipykernel)",
   "language": "python",
   "name": "python3"
  },
  "language_info": {
   "codemirror_mode": {
    "name": "ipython",
    "version": 3
   },
   "file_extension": ".py",
   "mimetype": "text/x-python",
   "name": "python",
   "nbconvert_exporter": "python",
   "pygments_lexer": "ipython3",
   "version": "3.10.9"
  }
 },
 "nbformat": 4,
 "nbformat_minor": 5
}
