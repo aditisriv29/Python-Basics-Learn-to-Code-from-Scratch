{
 "cells": [
  {
   "cell_type": "markdown",
   "id": "faa554d9-dcba-449c-9a03-1c7773e4069a",
   "metadata": {},
   "source": [
    "## finally Statement\n",
    "The try statement in Python can have an optional **finally** clause. This clause is executed no matter what and is generally used to release external resources. Here is an example of file operations to illustrate this: \n",
    "\n",
    "Let’s first understand how the try and except works - \n",
    "* First, the try clause is executed i.e. the code between try and except clause. \n",
    "* If there is no exception, then only try clause will run, except clause will not get executed. \n",
    "* If any exception occurs, the try clause will be skipped and except clause will run. \n",
    "* If any exception occurs, but the except clause within the code doesn’t handle it, it is passed on to the outer try statements. If the exception is left unhandled, then the execution stops. \n",
    "* A try statement can have more than one except clause."
   ]
  },
  {
   "cell_type": "markdown",
   "id": "8e05d203-1ddd-4ae4-b621-91f2ce1c1248",
   "metadata": {},
   "source": [
    "<center><img src=\"https://files.realpython.com/media/try_except_else_finally.a7fac6c36c55.png\" style=\"max-width: 650px; height:auto\"></center>"
   ]
  },
  {
   "cell_type": "markdown",
   "id": "c3a1009b-7dd3-4c95-a7b3-b8b50096eb36",
   "metadata": {},
   "source": [
    "**Syntax:**\n",
    "```python\n",
    "try:\n",
    "    # Some code...\n",
    "    \n",
    "except:\n",
    "    # Optional block\n",
    "    # Handling of exception (if required)\n",
    "    \n",
    "else:\n",
    "    # Execute if no exception\n",
    "    \n",
    "finally:\n",
    "    # Some code... (always executed)\n",
    "```"
   ]
  },
  {
   "cell_type": "markdown",
   "id": "afaa8809-e2d2-4bc2-ac96-54c5720840f8",
   "metadata": {
    "tags": []
   },
   "source": [
    "**Example:**"
   ]
  },
  {
   "cell_type": "code",
   "execution_count": 1,
   "id": "da8c8983-1b59-4196-a97b-7edb5139442d",
   "metadata": {
    "tags": []
   },
   "outputs": [],
   "source": [
    "def divide(x, y):\n",
    "    try:\n",
    "        result = x / y\n",
    "        \n",
    "    except ZeroDivisionError:\n",
    "        print(\"Error! Division by zero is not allowed.\")\n",
    "        \n",
    "    else:\n",
    "        print(\"Result:\", result)\n",
    "        \n",
    "    finally:\n",
    "        # This block is always executed\n",
    "        # regardless of exception generation\n",
    "        print(\"This is always executed.\")"
   ]
  },
  {
   "cell_type": "code",
   "execution_count": 2,
   "id": "7bb09d04-1af0-4d39-b2eb-4f7daaf1bf51",
   "metadata": {
    "tags": []
   },
   "outputs": [
    {
     "name": "stdout",
     "output_type": "stream",
     "text": [
      "Result: 2.5\n",
      "This is always executed.\n"
     ]
    }
   ],
   "source": [
    "# Look at parameters and note the working of program\n",
    "divide(5, 2)"
   ]
  },
  {
   "cell_type": "code",
   "execution_count": 3,
   "id": "43cf1e82-4cc4-47f0-add3-e3a269d99665",
   "metadata": {
    "tags": []
   },
   "outputs": [
    {
     "name": "stdout",
     "output_type": "stream",
     "text": [
      "Error! Division by zero is not allowed.\n",
      "This is always executed.\n"
     ]
    }
   ],
   "source": [
    "divide(5, 0)"
   ]
  },
  {
   "cell_type": "markdown",
   "id": "a92714f6-2782-4ec3-ac4e-6eb84046155f",
   "metadata": {},
   "source": [
    "### Raising Exception in Python\n",
    "In Python programming, exceptions are raised when errors occur at runtime. We can also manually raise exceptions using the raise keyword. We can optionally pass values to the exception to clarify why that exception was raised. Given below are some examples to help you understand this better."
   ]
  },
  {
   "cell_type": "markdown",
   "id": "948b0914-fdb0-4832-b0f6-373c3aee0479",
   "metadata": {},
   "source": [
    "```python\n",
    ">>> raise KeyboardInterrupt\n",
    "Traceback (most recent call last):\n",
    "...\n",
    "KeyboardInterrupt\n",
    "```"
   ]
  },
  {
   "cell_type": "markdown",
   "id": "7e8b85ee-7ab3-430f-a4d6-5ca793e19d82",
   "metadata": {},
   "source": [
    "```python\n",
    ">>> raise MemoryError(\"This is an argument\")\n",
    "Traceback (most recent call last):\n",
    "...\n",
    "MemoryError: This is an argument\n",
    "```"
   ]
  },
  {
   "cell_type": "markdown",
   "id": "6cf0be1b-087a-41d8-95e2-c018c1ec4096",
   "metadata": {},
   "source": [
    "**Example:**"
   ]
  },
  {
   "cell_type": "code",
   "execution_count": 4,
   "id": "e453f36b-a5d3-4b6f-87e9-9c29ce9a4b8d",
   "metadata": {
    "tags": []
   },
   "outputs": [
    {
     "name": "stdin",
     "output_type": "stream",
     "text": [
      "Enter a number:  -5\n"
     ]
    },
    {
     "name": "stdout",
     "output_type": "stream",
     "text": [
      "Please enter a positive number.\n"
     ]
    }
   ],
   "source": [
    "try:\n",
    "    a = int(input(\"Enter a number: \"))\n",
    "    \n",
    "    if a <= 0:\n",
    "        raise ValueError(\"Please enter a positive number.\")\n",
    "        \n",
    "except ValueError as ve:\n",
    "    print(ve)"
   ]
  }
 ],
 "metadata": {
  "kernelspec": {
   "display_name": "Python 3 (ipykernel)",
   "language": "python",
   "name": "python3"
  },
  "language_info": {
   "codemirror_mode": {
    "name": "ipython",
    "version": 3
   },
   "file_extension": ".py",
   "mimetype": "text/x-python",
   "name": "python",
   "nbconvert_exporter": "python",
   "pygments_lexer": "ipython3",
   "version": "3.10.9"
  }
 },
 "nbformat": 4,
 "nbformat_minor": 5
}
