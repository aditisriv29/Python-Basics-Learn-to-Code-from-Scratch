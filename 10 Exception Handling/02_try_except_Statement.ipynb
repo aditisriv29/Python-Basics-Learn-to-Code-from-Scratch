{
 "cells": [
  {
   "cell_type": "markdown",
   "id": "4438521d-a198-4af9-b634-448e65fdc540",
   "metadata": {},
   "source": [
    "## try-except Statement\n",
    "In Python, exceptions can be handled using try-except blocks. \n",
    "* If the Python program contains suspicious code that may throw the exception, we must place that code in the try block. \n",
    "* The try block must be followed by the except statement, which contains a block of code that will be executed in case there is some exception in the try block. \n",
    "* We can thus choose what operations to perform once we have caught the exception"
   ]
  },
  {
   "cell_type": "markdown",
   "id": "aae2b4d8-d0e3-431b-ad11-7f63c3540186",
   "metadata": {},
   "source": [
    "<center><img src=\"https://files.realpython.com/media/try_except.c94eabed2c59.png\" style=\"max-width:650px; height:auto\"></center>"
   ]
  },
  {
   "cell_type": "markdown",
   "id": "0f743db4-d2aa-4874-acfb-c0d81414c9cb",
   "metadata": {},
   "source": [
    "**Syntax:**\n",
    "```python\n",
    "try:\n",
    "    # Some Code...\n",
    "    \n",
    "except SomeException as e:\n",
    "    # Optional block\n",
    "    # Handling of exception (if required)\n",
    "```\n",
    "\n",
    "**Example:**"
   ]
  },
  {
   "cell_type": "code",
   "execution_count": 1,
   "id": "9088a0a5-182b-442b-9bcf-c0e9a1a059d1",
   "metadata": {
    "tags": []
   },
   "outputs": [
    {
     "name": "stdout",
     "output_type": "stream",
     "text": [
      "The list item is: a\n",
      "Oops! <class 'ValueError'> occurred.\n",
      "\n",
      "The list item is: 0\n",
      "Oops! <class 'ZeroDivisionError'> occurred.\n",
      "\n",
      "The list item is: 2\n",
      "The reciprocal of 2 is 0.5\n"
     ]
    }
   ],
   "source": [
    "myList = [\"a\", 0, 2]\n",
    "\n",
    "for i in myList:\n",
    "    try:\n",
    "        print(\"The list item is:\", i)\n",
    "        reciprocal = 1/int(i)\n",
    "        print(\"The reciprocal of\", i, \"is\", reciprocal)\n",
    "        \n",
    "    except Exception as e: #Using Exception class\n",
    "        print(\"Oops!\", e.__class__, \"occurred.\")\n",
    "        print()"
   ]
  },
  {
   "cell_type": "markdown",
   "id": "d6cd5ce9-65d2-4db9-91fb-c7815d70b16e",
   "metadata": {},
   "source": [
    "* In this program, we loop through the values of a list 'myList'. \n",
    "* As previously mentioned, the portion that can cause an exception is placed inside the try block. \n",
    "* If no exception occurs, the except block is skipped and normal flow continues (for last value). \n",
    "* But if any exception occurs, it is caught by the except block (first and second values).\n",
    "* Here, we print the name of the exception using the exc_info() function inside sys module. \n",
    "* We can see that element “a” causes ValueError and 0 causes ZeroDivisionError."
   ]
  },
  {
   "cell_type": "markdown",
   "id": "1e1674a9-286f-42b6-b707-26dfe2d0e7fb",
   "metadata": {},
   "source": [
    "### Catching Specific Exceptions in Python\n",
    "* In the above example, we did not mention any specific exception in the **except** clause. \n",
    "* This is not a good programming practice as it will catch all exceptions and handle every case in the same way. \n",
    "* We can specify which exceptions an **except** clause should catch. \n",
    "* A try clause can have any number of **except** clauses to handle different exceptions, however, only one will be executed in case an exception occurs. \n",
    "* You can use multiple **except** blocks for different types of exceptions. \n",
    "* We can even use a tuple of values to specify multiple exceptions in an **except** clause. Here is an example to understand this better:"
   ]
  },
  {
   "cell_type": "markdown",
   "id": "e97b019d-0a77-45ba-af25-ddb49eb95cdb",
   "metadata": {},
   "source": [
    "**Example:**"
   ]
  },
  {
   "cell_type": "code",
   "execution_count": 2,
   "id": "a94e3590-95fb-4687-9181-6e55ea6f17df",
   "metadata": {
    "tags": []
   },
   "outputs": [
    {
     "name": "stdout",
     "output_type": "stream",
     "text": [
      "Arithmetic Exception\n"
     ]
    }
   ],
   "source": [
    "try:\n",
    "    a = 10/0\n",
    "    print(a)\n",
    "    \n",
    "except (ArithmeticError, IOError):\n",
    "    print(\"Arithmetic Exception\")"
   ]
  }
 ],
 "metadata": {
  "kernelspec": {
   "display_name": "Python 3 (ipykernel)",
   "language": "python",
   "name": "python3"
  },
  "language_info": {
   "codemirror_mode": {
    "name": "ipython",
    "version": 3
   },
   "file_extension": ".py",
   "mimetype": "text/x-python",
   "name": "python",
   "nbconvert_exporter": "python",
   "pygments_lexer": "ipython3",
   "version": "3.10.9"
  }
 },
 "nbformat": 4,
 "nbformat_minor": 5
}
