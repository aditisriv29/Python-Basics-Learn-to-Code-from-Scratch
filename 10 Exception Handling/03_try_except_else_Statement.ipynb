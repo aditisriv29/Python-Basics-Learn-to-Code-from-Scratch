{
 "cells": [
  {
   "cell_type": "markdown",
   "id": "25f7b953-3504-4819-8ee6-4526264eb0e2",
   "metadata": {},
   "source": [
    "## try-except-else Statement\n",
    "We can also use the else statement with the try-except statement in which, we can place the code which will be executed in the scenario if no exception occurs in the else block. The syntax is given below:"
   ]
  },
  {
   "cell_type": "markdown",
   "id": "72af654f-7978-442e-95b9-f1dfe821321b",
   "metadata": {},
   "source": [
    "<center><img src=\"https://files.realpython.com/media/try_except_else.703aaeeb63d3.png\" style=\"max-width: 650px; height: auto\"></center>"
   ]
  },
  {
   "cell_type": "markdown",
   "id": "216c87fe-e6b9-40bd-85ee-8a4c70581ea4",
   "metadata": {},
   "source": [
    "**Syntax:**\n",
    "```python\n",
    "try:\n",
    "    # Some code...\n",
    "    \n",
    "except SomeException as e:\n",
    "    # Optional block\n",
    "    # Handling of exception (if required)\n",
    "    \n",
    "else:\n",
    "    # execute if no exception\n",
    "```"
   ]
  },
  {
   "cell_type": "markdown",
   "id": "d353e766-1ad0-4fb3-9fbc-839b327b96c9",
   "metadata": {},
   "source": [
    "**Example:**"
   ]
  },
  {
   "cell_type": "code",
   "execution_count": 1,
   "id": "2cfc531d-612c-4a1d-b1db-8f673880a0f7",
   "metadata": {
    "tags": []
   },
   "outputs": [],
   "source": [
    "def divide_numbers(x, y):\n",
    "    try:\n",
    "        result = x / y\n",
    "        \n",
    "    except ZeroDivisionError as e:\n",
    "        print(\"Error: Divison by zero is not allowed.\")\n",
    "    \n",
    "    else:\n",
    "        print(\"Result:\", result)"
   ]
  },
  {
   "cell_type": "code",
   "execution_count": 2,
   "id": "e8a2456e-c97d-4dc6-9537-29a9e4d096d5",
   "metadata": {
    "tags": []
   },
   "outputs": [
    {
     "name": "stdout",
     "output_type": "stream",
     "text": [
      "Error: Divison by zero is not allowed.\n"
     ]
    }
   ],
   "source": [
    "divide_numbers(10, 0)"
   ]
  },
  {
   "cell_type": "code",
   "execution_count": 3,
   "id": "6309b098-8ffc-42e1-a655-f8bcfa27485b",
   "metadata": {
    "tags": []
   },
   "outputs": [
    {
     "name": "stdout",
     "output_type": "stream",
     "text": [
      "Result: 5.0\n"
     ]
    }
   ],
   "source": [
    "divide_numbers(10, 2)"
   ]
  },
  {
   "cell_type": "markdown",
   "id": "eb497650-54bc-4824-81b5-b7414960e910",
   "metadata": {},
   "source": [
    "We get this output because there is no exception in the try block when x is 10 and y is 2, and hence the else block is executed. If there was an exception in the try block, in the case of x=10, y=0, the else block will be skipped and except block will be executed."
   ]
  }
 ],
 "metadata": {
  "kernelspec": {
   "display_name": "Python 3 (ipykernel)",
   "language": "python",
   "name": "python3"
  },
  "language_info": {
   "codemirror_mode": {
    "name": "ipython",
    "version": 3
   },
   "file_extension": ".py",
   "mimetype": "text/x-python",
   "name": "python",
   "nbconvert_exporter": "python",
   "pygments_lexer": "ipython3",
   "version": "3.10.9"
  }
 },
 "nbformat": 4,
 "nbformat_minor": 5
}
