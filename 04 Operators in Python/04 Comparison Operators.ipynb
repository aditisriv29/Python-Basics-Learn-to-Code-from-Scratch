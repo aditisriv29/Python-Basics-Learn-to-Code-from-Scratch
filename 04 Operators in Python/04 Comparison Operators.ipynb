{
 "cells": [
  {
   "cell_type": "markdown",
   "id": "a7c7131f-2076-4406-907a-cf40d8b754f1",
   "metadata": {},
   "source": [
    "## Comparison Operators"
   ]
  },
  {
   "cell_type": "markdown",
   "id": "582a0db7-dc76-4078-bb48-705e7058bcb8",
   "metadata": {},
   "source": [
    "Comparison operators are used to compare values or expressions in Python, and they always return a Boolean value (True or False) depending on the result of the comparison.\n",
    "\n",
    "Here are the comparison operators in Python:\n",
    "\n",
    "* Equal to (==): This operator checks if the left-hand side is equal to the right-hand side.\n",
    "\n",
    "* Not equal to (!=): This operator checks if the left-hand side is not equal to the right-hand side.\n",
    "\n",
    "* Greater than (>): This operator checks if the left-hand side is greater than the right-hand side.\n",
    "\n",
    "* Less than (<): This operator checks if the left-hand side is less than the right-hand side.\n",
    "\n",
    "* Greater than or equal to (>=): This operator checks if the left-hand side is greater than or equal to the right-hand side.\n",
    "\n",
    "* Less than or equal to (<=): This operator checks if the left-hand side is less than or equal to the right-hand side."
   ]
  },
  {
   "cell_type": "markdown",
   "id": "604f0d8c-e5bb-47db-8b3a-1d24f17357c2",
   "metadata": {},
   "source": [
    "### Equal to (==)"
   ]
  },
  {
   "cell_type": "code",
   "execution_count": 1,
   "id": "e384c651-bcf5-4b88-86a7-742963024536",
   "metadata": {
    "tags": []
   },
   "outputs": [
    {
     "name": "stdout",
     "output_type": "stream",
     "text": [
      "False\n"
     ]
    }
   ],
   "source": [
    "a = 15\n",
    "b = 10\n",
    "print(a==b)"
   ]
  },
  {
   "cell_type": "markdown",
   "id": "4d3f7a1c-c47c-4ff8-9ae9-06e36e2a168a",
   "metadata": {},
   "source": [
    "### Not equal to (!=)"
   ]
  },
  {
   "cell_type": "code",
   "execution_count": 2,
   "id": "8204baf8-f0d9-4c14-99f5-78822d7b9665",
   "metadata": {
    "tags": []
   },
   "outputs": [
    {
     "name": "stdout",
     "output_type": "stream",
     "text": [
      "True\n"
     ]
    }
   ],
   "source": [
    "print(a!=b)"
   ]
  },
  {
   "cell_type": "markdown",
   "id": "0686d3bc-a6bb-429c-a9be-0789aa38f671",
   "metadata": {},
   "source": [
    "### Greater than (>)"
   ]
  },
  {
   "cell_type": "code",
   "execution_count": 3,
   "id": "cbaa0ffc-5ad9-4948-b587-88c74ae77d8a",
   "metadata": {
    "tags": []
   },
   "outputs": [
    {
     "name": "stdout",
     "output_type": "stream",
     "text": [
      "True\n"
     ]
    }
   ],
   "source": [
    "print(a>b)"
   ]
  },
  {
   "cell_type": "markdown",
   "id": "0e9a6403-c684-4698-bb2a-618bb42afb1b",
   "metadata": {},
   "source": [
    "### Less than (<)"
   ]
  },
  {
   "cell_type": "code",
   "execution_count": 4,
   "id": "89f010c8-71dc-48b3-8928-0dcc9c24a35e",
   "metadata": {
    "tags": []
   },
   "outputs": [
    {
     "name": "stdout",
     "output_type": "stream",
     "text": [
      "False\n"
     ]
    }
   ],
   "source": [
    "print(a<b)"
   ]
  },
  {
   "cell_type": "markdown",
   "id": "ef26488b-3738-443b-ae84-628842ea282b",
   "metadata": {
    "tags": []
   },
   "source": [
    "### Greater than or equal to (>=)"
   ]
  },
  {
   "cell_type": "code",
   "execution_count": 5,
   "id": "a5c9bb71-a093-474b-b2bf-23c6c559bb65",
   "metadata": {
    "tags": []
   },
   "outputs": [
    {
     "name": "stdout",
     "output_type": "stream",
     "text": [
      "True\n"
     ]
    }
   ],
   "source": [
    "print(a>=b)"
   ]
  },
  {
   "cell_type": "markdown",
   "id": "157f02c9-178c-478d-9d84-3300c8c31b74",
   "metadata": {},
   "source": [
    "### Less than or equal to (>=)"
   ]
  },
  {
   "cell_type": "code",
   "execution_count": 6,
   "id": "26fb11d2-78e0-44be-80fa-2c199b1428f5",
   "metadata": {
    "tags": []
   },
   "outputs": [
    {
     "name": "stdout",
     "output_type": "stream",
     "text": [
      "False\n"
     ]
    }
   ],
   "source": [
    "print(a<=b)"
   ]
  }
 ],
 "metadata": {
  "kernelspec": {
   "display_name": "Python 3 (ipykernel)",
   "language": "python",
   "name": "python3"
  },
  "language_info": {
   "codemirror_mode": {
    "name": "ipython",
    "version": 3
   },
   "file_extension": ".py",
   "mimetype": "text/x-python",
   "name": "python",
   "nbconvert_exporter": "python",
   "pygments_lexer": "ipython3",
   "version": "3.11.2"
  }
 },
 "nbformat": 4,
 "nbformat_minor": 5
}
