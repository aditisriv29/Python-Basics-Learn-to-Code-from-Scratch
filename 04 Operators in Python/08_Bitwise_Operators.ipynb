{
 "cells": [
  {
   "cell_type": "markdown",
   "id": "c87b1a3f-c0ef-479d-8ffb-e9bec7c116f0",
   "metadata": {},
   "source": [
    "## Bitwise Operators"
   ]
  },
  {
   "cell_type": "markdown",
   "id": "0c9f85d5-c188-40c7-b793-7087f04dd0b1",
   "metadata": {},
   "source": [
    "Bitwise operators are used to perform operations on the binary representation of integer values. In Python, the following bitwise operators are available:\n",
    "\n",
    "* & (Bitwise AND): This operator performs a bitwise AND operation on the binary representation of two integers.\n",
    "\n",
    "* | (Bitwise OR): This operator performs a bitwise OR operation on the binary representation of two integers.\n",
    "\n",
    "* ^ (Bitwise XOR): This operator performs a bitwise XOR (exclusive OR) operation on the binary representation of two integers.\n",
    "\n",
    "* ~ (Bitwise NOT): This operator performs a bitwise NOT operation on the binary representation of an integer, which flips all the bits.\n",
    "\n",
    "* << (Bitwise left shift): This operator shifts the bits of an integer to the left by a specified number of positions.\n",
    "\n",
    "*  (Bitwise right shift) >>: This operator shifts the bits of an integer to the right by a specified number of positions."
   ]
  },
  {
   "cell_type": "markdown",
   "id": "1b57f293-4fcf-4fb3-aa46-96b90cca19b8",
   "metadata": {},
   "source": [
    "### & (Bitwise AND)"
   ]
  },
  {
   "cell_type": "code",
   "execution_count": 1,
   "id": "19c05eb2-581c-4c50-9b5c-d7eb2abbc698",
   "metadata": {
    "tags": []
   },
   "outputs": [
    {
     "name": "stdout",
     "output_type": "stream",
     "text": [
      "0\n"
     ]
    }
   ],
   "source": [
    "a = 20\n",
    "b = 8\n",
    "print(a & b)"
   ]
  },
  {
   "cell_type": "markdown",
   "id": "f7c47f51-a788-4dd0-a1d9-fb2fb008d027",
   "metadata": {},
   "source": [
    "### | (Bitwise OR)"
   ]
  },
  {
   "cell_type": "code",
   "execution_count": 2,
   "id": "e63cf7c0-54f5-4036-861c-bfd71f829dfb",
   "metadata": {
    "tags": []
   },
   "outputs": [
    {
     "name": "stdout",
     "output_type": "stream",
     "text": [
      "28\n"
     ]
    }
   ],
   "source": [
    "print(a | b)"
   ]
  },
  {
   "cell_type": "markdown",
   "id": "b852dc6f-8ac3-4a86-b324-943d24aa8a43",
   "metadata": {},
   "source": [
    "### ^ (Bitwise XOR)"
   ]
  },
  {
   "cell_type": "code",
   "execution_count": 3,
   "id": "b65bc680-19b1-4ca3-bceb-0c3c696c0dda",
   "metadata": {
    "tags": []
   },
   "outputs": [
    {
     "name": "stdout",
     "output_type": "stream",
     "text": [
      "28\n"
     ]
    }
   ],
   "source": [
    "print(a ^ b)"
   ]
  },
  {
   "cell_type": "markdown",
   "id": "a382817a-bc9c-4bb2-8ef9-de14624d283b",
   "metadata": {},
   "source": [
    "### ~ (Bitwise NOT)"
   ]
  },
  {
   "cell_type": "code",
   "execution_count": 5,
   "id": "a3a89151-7ab6-432b-a73b-4f153e563900",
   "metadata": {
    "tags": []
   },
   "outputs": [
    {
     "name": "stdout",
     "output_type": "stream",
     "text": [
      "-21\n"
     ]
    }
   ],
   "source": [
    "print(~a)"
   ]
  },
  {
   "cell_type": "markdown",
   "id": "209d54b1-f6ca-4591-aa80-898d5e495f03",
   "metadata": {
    "tags": []
   },
   "source": [
    "### << (Bitwise left shift)"
   ]
  },
  {
   "cell_type": "code",
   "execution_count": 6,
   "id": "450eed0c-bbc7-434d-a25f-fd45b5c53d26",
   "metadata": {
    "tags": []
   },
   "outputs": [
    {
     "name": "stdout",
     "output_type": "stream",
     "text": [
      "80\n"
     ]
    }
   ],
   "source": [
    "print(a << 2)"
   ]
  },
  {
   "cell_type": "markdown",
   "id": "824620fb-e5f5-41a0-aeed-cc0de06dcd0c",
   "metadata": {
    "tags": []
   },
   "source": [
    "### >> (Bitwise right shift)"
   ]
  },
  {
   "cell_type": "code",
   "execution_count": 7,
   "id": "9207c4ef-dbbb-494b-b78a-5cb0216106c4",
   "metadata": {
    "tags": []
   },
   "outputs": [
    {
     "name": "stdout",
     "output_type": "stream",
     "text": [
      "5\n"
     ]
    }
   ],
   "source": [
    "print(a >> 2)"
   ]
  }
 ],
 "metadata": {
  "kernelspec": {
   "display_name": "Python 3 (ipykernel)",
   "language": "python",
   "name": "python3"
  },
  "language_info": {
   "codemirror_mode": {
    "name": "ipython",
    "version": 3
   },
   "file_extension": ".py",
   "mimetype": "text/x-python",
   "name": "python",
   "nbconvert_exporter": "python",
   "pygments_lexer": "ipython3",
   "version": "3.11.2"
  }
 },
 "nbformat": 4,
 "nbformat_minor": 5
}
