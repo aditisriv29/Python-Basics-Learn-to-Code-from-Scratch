{
 "cells": [
  {
   "cell_type": "markdown",
   "id": "675549cc-f281-4b98-a1d8-ba2bbfc83571",
   "metadata": {},
   "source": [
    "## Logical Operators"
   ]
  },
  {
   "cell_type": "markdown",
   "id": "d352d74f-2914-4182-8afd-adc727a9a21b",
   "metadata": {},
   "source": [
    "Logical operators are used to combine two or more conditions in Python. They always return a Boolean value (True or False) depending on the result of the logical operation.\n",
    "\n",
    "Here are the logical operators in Python:\n",
    "\n",
    "* and: This operator returns True if both conditions are True.\n",
    "\n",
    "* or: This operator returns True if at least one of the conditions is True.\n",
    "\n",
    "* not: This operator returns the opposite Boolean value of the condition."
   ]
  },
  {
   "cell_type": "markdown",
   "id": "af98e323-2cf5-4171-8359-cc8b8e699180",
   "metadata": {},
   "source": [
    "### and"
   ]
  },
  {
   "cell_type": "code",
   "execution_count": 1,
   "id": "265a0ad8-79ac-44f4-870a-b0b17ddccad6",
   "metadata": {
    "tags": []
   },
   "outputs": [
    {
     "name": "stdout",
     "output_type": "stream",
     "text": [
      "False\n"
     ]
    }
   ],
   "source": [
    "x = True\n",
    "y = False\n",
    "print(x and y)"
   ]
  },
  {
   "cell_type": "markdown",
   "id": "966ee076-485d-4187-86a0-5d43b24029c8",
   "metadata": {},
   "source": [
    "### or"
   ]
  },
  {
   "cell_type": "code",
   "execution_count": 2,
   "id": "852bf436-29d2-4443-90a5-b3af49e6b347",
   "metadata": {
    "tags": []
   },
   "outputs": [
    {
     "name": "stdout",
     "output_type": "stream",
     "text": [
      "True\n"
     ]
    }
   ],
   "source": [
    "print(x or y)"
   ]
  },
  {
   "cell_type": "markdown",
   "id": "14d091f3-4ab6-4e67-ba4a-8cbabe6b77ce",
   "metadata": {},
   "source": [
    "### not"
   ]
  },
  {
   "cell_type": "code",
   "execution_count": 4,
   "id": "7a790030-559a-45ea-b88e-bbdc0c364c24",
   "metadata": {
    "tags": []
   },
   "outputs": [
    {
     "name": "stdout",
     "output_type": "stream",
     "text": [
      "False\n",
      "True\n"
     ]
    }
   ],
   "source": [
    "print(not x)\n",
    "print(not y)"
   ]
  }
 ],
 "metadata": {
  "kernelspec": {
   "display_name": "Python 3 (ipykernel)",
   "language": "python",
   "name": "python3"
  },
  "language_info": {
   "codemirror_mode": {
    "name": "ipython",
    "version": 3
   },
   "file_extension": ".py",
   "mimetype": "text/x-python",
   "name": "python",
   "nbconvert_exporter": "python",
   "pygments_lexer": "ipython3",
   "version": "3.11.2"
  }
 },
 "nbformat": 4,
 "nbformat_minor": 5
}
