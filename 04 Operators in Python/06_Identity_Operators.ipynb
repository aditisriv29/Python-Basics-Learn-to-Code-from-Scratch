{
 "cells": [
  {
   "cell_type": "markdown",
   "id": "3e97db98-f2d4-4a04-b117-3aee8f560831",
   "metadata": {},
   "source": [
    "## Identity Operators"
   ]
  },
  {
   "cell_type": "markdown",
   "id": "24f8e070-4963-4917-aacb-a0ec8d07bcac",
   "metadata": {},
   "source": [
    "Identity operators are used to compare the memory addresses of two objects in Python. They always return a Boolean value (True or False) depending on the result of the comparison.\n",
    "\n",
    "Here are the identity operators in Python:\n",
    "\n",
    "* is: This operator returns True if both variables point to the same object in memory.\n",
    "\n",
    "* is not: This operator returns True if both variables do not point to the same object in memory."
   ]
  },
  {
   "cell_type": "markdown",
   "id": "9b68123b-318e-4a60-9889-d1d287c3ea77",
   "metadata": {},
   "source": [
    "### is"
   ]
  },
  {
   "cell_type": "code",
   "execution_count": 4,
   "id": "e2de5017-57cd-45af-a7fe-c61962ed709b",
   "metadata": {
    "tags": []
   },
   "outputs": [
    {
     "name": "stdout",
     "output_type": "stream",
     "text": [
      "140734980355144\n",
      "140734980355144\n",
      "True\n"
     ]
    }
   ],
   "source": [
    "a = 10\n",
    "b = 10\n",
    "print(id(a))\n",
    "print(id(b))\n",
    "print(a is b)"
   ]
  },
  {
   "cell_type": "code",
   "execution_count": 6,
   "id": "266ece30-1c78-4f73-81c8-f42dc1e5db46",
   "metadata": {
    "tags": []
   },
   "outputs": [
    {
     "name": "stdout",
     "output_type": "stream",
     "text": [
      "1631071752624\n",
      "1631071752624\n",
      "True\n"
     ]
    }
   ],
   "source": [
    "name1 = \"GeoNext\"\n",
    "name2  =\"GeoNext\"\n",
    "print(id(name1))\n",
    "print(id(name2))\n",
    "print(name1 is name2)"
   ]
  },
  {
   "cell_type": "code",
   "execution_count": 9,
   "id": "5e0ba3ba-0c6f-41eb-b183-45303197d404",
   "metadata": {
    "tags": []
   },
   "outputs": [
    {
     "name": "stdout",
     "output_type": "stream",
     "text": [
      "1631075109440 1631072168128\n",
      "False\n"
     ]
    }
   ],
   "source": [
    "lst1 = [1, 2, 3]\n",
    "lst2 = [1, 2, 3]\n",
    "print(id(lst1), id(lst2))\n",
    "print(lst1 is lst2) # Output will be false since lists are mutable"
   ]
  },
  {
   "cell_type": "markdown",
   "id": "9ca2f0aa-1501-4494-b289-d30d045c6065",
   "metadata": {},
   "source": [
    "### is not"
   ]
  },
  {
   "cell_type": "code",
   "execution_count": 10,
   "id": "620b6046-3f4c-4e80-a249-6ed568a6930f",
   "metadata": {
    "tags": []
   },
   "outputs": [
    {
     "name": "stdout",
     "output_type": "stream",
     "text": [
      "False\n"
     ]
    }
   ],
   "source": [
    "print(a is not b)"
   ]
  },
  {
   "cell_type": "code",
   "execution_count": 11,
   "id": "2792e4e7-f05a-4bac-af03-9c1b8346076a",
   "metadata": {
    "tags": []
   },
   "outputs": [
    {
     "name": "stdout",
     "output_type": "stream",
     "text": [
      "False\n"
     ]
    }
   ],
   "source": [
    "print(name1 is not name2)"
   ]
  },
  {
   "cell_type": "code",
   "execution_count": 12,
   "id": "b40ea61d-6f41-4c8b-8c91-a6a8909328ee",
   "metadata": {
    "tags": []
   },
   "outputs": [
    {
     "name": "stdout",
     "output_type": "stream",
     "text": [
      "True\n"
     ]
    }
   ],
   "source": [
    "print(lst1 is not lst2)"
   ]
  }
 ],
 "metadata": {
  "kernelspec": {
   "display_name": "Python 3 (ipykernel)",
   "language": "python",
   "name": "python3"
  },
  "language_info": {
   "codemirror_mode": {
    "name": "ipython",
    "version": 3
   },
   "file_extension": ".py",
   "mimetype": "text/x-python",
   "name": "python",
   "nbconvert_exporter": "python",
   "pygments_lexer": "ipython3",
   "version": "3.11.2"
  }
 },
 "nbformat": 4,
 "nbformat_minor": 5
}
