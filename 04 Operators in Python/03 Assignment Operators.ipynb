{
 "cells": [
  {
   "cell_type": "markdown",
   "id": "ddee7ecb-1cc4-47c8-b5c0-8329b4b0ac36",
   "metadata": {},
   "source": [
    "## Assignment Operators"
   ]
  },
  {
   "cell_type": "markdown",
   "id": "f8eac56c-d864-4586-9fc2-2078ed86c4f4",
   "metadata": {},
   "source": [
    "Assignment operators are used to assign values to variables in Python. They are a shorthand way of performing arithmetic or bitwise operations and then assigning the result to a variable.\n",
    "\n",
    "There are several types of assignment operators available in Python, which are listed below:\n",
    "\n",
    "* Simple assignment (=): The simple assignment operator is used to assign a value to a variable.\n",
    "\n",
    "* Addition assignment (+=): The addition assignment operator adds a value to a variable and then assigns the result to the same variable.\n",
    "\n",
    "* Subtraction assignment (-=): The subtraction assignment operator subtracts a value from a variable and then assigns the result to the same variable.\n",
    "\n",
    "* Multiplication assignment (*=): The multiplication assignment operator multiplies a variable by a value and then assigns the result to the same variable.\n",
    "\n",
    "* Division assignment (/=): The division assignment operator divides a variable by a value and then assigns the result to the same variable.\n",
    "\n",
    "* Modulus assignment (%=): The modulus assignment operator finds the remainder of dividing a variable by a value and then assigns the result to the same variable.\n",
    "\n",
    "* Exponentiation assignment (**=): The exponentiation assignment operator raises a variable to a power and then assigns the result to the same variable."
   ]
  },
  {
   "cell_type": "markdown",
   "id": "b186bb18-47dc-4fa0-9122-d8f71d84c91a",
   "metadata": {},
   "source": [
    "### Simple Assignment (=)"
   ]
  },
  {
   "cell_type": "code",
   "execution_count": 1,
   "id": "9e092ab8-ec88-4b20-b3c3-54dc89c3fd3c",
   "metadata": {
    "tags": []
   },
   "outputs": [],
   "source": [
    "a = 5"
   ]
  },
  {
   "cell_type": "markdown",
   "id": "b92de5df-fff9-44b3-b287-d0ad80847c1d",
   "metadata": {},
   "source": [
    "### Addition Assignment (+=)"
   ]
  },
  {
   "cell_type": "code",
   "execution_count": 2,
   "id": "5e97a693-6cea-43d8-81e5-13c62abfe255",
   "metadata": {
    "tags": []
   },
   "outputs": [
    {
     "name": "stdout",
     "output_type": "stream",
     "text": [
      "10\n"
     ]
    }
   ],
   "source": [
    "a += 5\n",
    "print(a)"
   ]
  },
  {
   "cell_type": "markdown",
   "id": "fd0500a6-d6e8-4c3c-a0db-5076abd8e843",
   "metadata": {},
   "source": [
    "### Subtraction Assignment (-=)"
   ]
  },
  {
   "cell_type": "code",
   "execution_count": 3,
   "id": "4f164439-57f7-4e41-b284-76dc1b70e17d",
   "metadata": {
    "tags": []
   },
   "outputs": [
    {
     "name": "stdout",
     "output_type": "stream",
     "text": [
      "5\n"
     ]
    }
   ],
   "source": [
    "a -= 5\n",
    "print(a)"
   ]
  },
  {
   "cell_type": "markdown",
   "id": "e999c428-90ad-4e62-9b00-b98cb2f34af9",
   "metadata": {},
   "source": [
    "### Multiplication Assignment (*=)"
   ]
  },
  {
   "cell_type": "code",
   "execution_count": 4,
   "id": "67224409-6ae2-498f-802b-b8121750adda",
   "metadata": {
    "tags": []
   },
   "outputs": [
    {
     "name": "stdout",
     "output_type": "stream",
     "text": [
      "25\n"
     ]
    }
   ],
   "source": [
    "a *= 5\n",
    "print(a)"
   ]
  },
  {
   "cell_type": "markdown",
   "id": "2e79226a-c9ad-4b10-bd9d-c9b315ec7e7c",
   "metadata": {},
   "source": [
    "### Division Assignment (/=)"
   ]
  },
  {
   "cell_type": "code",
   "execution_count": 5,
   "id": "6c5fcb06-0480-46d1-9541-8c64fca0523b",
   "metadata": {
    "tags": []
   },
   "outputs": [
    {
     "name": "stdout",
     "output_type": "stream",
     "text": [
      "5.0\n"
     ]
    }
   ],
   "source": [
    "a /= 5\n",
    "print(a)"
   ]
  },
  {
   "cell_type": "markdown",
   "id": "cdc75b57-9a46-4939-8484-e8885d05ba36",
   "metadata": {},
   "source": [
    "### Modulus Assignment (%=)"
   ]
  },
  {
   "cell_type": "code",
   "execution_count": 6,
   "id": "f5759a6b-b3b4-47ab-aef8-276dc49784bc",
   "metadata": {
    "tags": []
   },
   "outputs": [
    {
     "name": "stdout",
     "output_type": "stream",
     "text": [
      "1.0\n"
     ]
    }
   ],
   "source": [
    "a %= 2\n",
    "print(a)"
   ]
  },
  {
   "cell_type": "markdown",
   "id": "454883a5-8fcb-497f-98ef-d4954b08df85",
   "metadata": {},
   "source": [
    "### Exponentiation Assignment (**=)"
   ]
  },
  {
   "cell_type": "code",
   "execution_count": 8,
   "id": "e80b4541-d8c4-4209-8c92-c973030f8bf8",
   "metadata": {
    "tags": []
   },
   "outputs": [
    {
     "name": "stdout",
     "output_type": "stream",
     "text": [
      "16\n"
     ]
    }
   ],
   "source": [
    "b = 4\n",
    "b **= 2\n",
    "print(b)"
   ]
  }
 ],
 "metadata": {
  "kernelspec": {
   "display_name": "Python 3 (ipykernel)",
   "language": "python",
   "name": "python3"
  },
  "language_info": {
   "codemirror_mode": {
    "name": "ipython",
    "version": 3
   },
   "file_extension": ".py",
   "mimetype": "text/x-python",
   "name": "python",
   "nbconvert_exporter": "python",
   "pygments_lexer": "ipython3",
   "version": "3.11.2"
  }
 },
 "nbformat": 4,
 "nbformat_minor": 5
}
