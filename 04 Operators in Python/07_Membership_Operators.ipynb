{
 "cells": [
  {
   "cell_type": "markdown",
   "id": "97a02668-6302-46a0-b708-49155a3edf6e",
   "metadata": {},
   "source": [
    "## Membership Operators"
   ]
  },
  {
   "cell_type": "markdown",
   "id": "02f4481b-5884-467f-8a92-991723abe995",
   "metadata": {},
   "source": [
    "Membership operators are used to test if a value is a member of a sequence or not. The two membership operators in Python are:\n",
    "\n",
    "* in: This operator returns True if a value is found in the sequence, and False otherwise.\n",
    "\n",
    "* not in: This operator returns True if a value is not found in the sequence, and False otherwise."
   ]
  },
  {
   "cell_type": "markdown",
   "id": "0c7955f9-f0fb-4436-b976-be1f0a114c80",
   "metadata": {},
   "source": [
    "### in"
   ]
  },
  {
   "cell_type": "code",
   "execution_count": 3,
   "id": "334b2064-3fb5-40bf-ae39-042b6c641189",
   "metadata": {
    "tags": []
   },
   "outputs": [
    {
     "name": "stdout",
     "output_type": "stream",
     "text": [
      "True\n",
      "True\n",
      "False\n"
     ]
    }
   ],
   "source": [
    "name = \"GeoNext\"\n",
    "lst = [1, 2, 3]\n",
    "print(\"G\" in name)\n",
    "print(3 in lst)\n",
    "print(\"S\" in name)"
   ]
  },
  {
   "cell_type": "markdown",
   "id": "45561b7c-b3e6-4d51-a033-e7b80bd28103",
   "metadata": {},
   "source": [
    "## not in"
   ]
  },
  {
   "cell_type": "code",
   "execution_count": 4,
   "id": "99f8e0fa-c54d-468f-b38a-400d6e3d1a7c",
   "metadata": {
    "tags": []
   },
   "outputs": [
    {
     "name": "stdout",
     "output_type": "stream",
     "text": [
      "True\n"
     ]
    }
   ],
   "source": [
    "print(\"S\" not in name)"
   ]
  },
  {
   "cell_type": "code",
   "execution_count": 5,
   "id": "78a8fb14-185f-4de5-b3dc-f5d054b2581b",
   "metadata": {
    "tags": []
   },
   "outputs": [
    {
     "name": "stdout",
     "output_type": "stream",
     "text": [
      "False\n"
     ]
    }
   ],
   "source": [
    "print(1 not in lst)"
   ]
  }
 ],
 "metadata": {
  "kernelspec": {
   "display_name": "Python 3 (ipykernel)",
   "language": "python",
   "name": "python3"
  },
  "language_info": {
   "codemirror_mode": {
    "name": "ipython",
    "version": 3
   },
   "file_extension": ".py",
   "mimetype": "text/x-python",
   "name": "python",
   "nbconvert_exporter": "python",
   "pygments_lexer": "ipython3",
   "version": "3.11.2"
  }
 },
 "nbformat": 4,
 "nbformat_minor": 5
}
