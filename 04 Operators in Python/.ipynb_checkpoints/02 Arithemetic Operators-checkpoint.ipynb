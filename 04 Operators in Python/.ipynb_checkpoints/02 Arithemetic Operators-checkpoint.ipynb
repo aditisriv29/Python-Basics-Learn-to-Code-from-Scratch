{
 "cells": [
  {
   "cell_type": "markdown",
   "id": "014f90c4-23ea-4319-8356-eda6e5f29505",
   "metadata": {},
   "source": [
    "## Arithmetic Operators"
   ]
  },
  {
   "cell_type": "markdown",
   "id": "cd97bbb5-e484-43eb-8ec1-5c15e018cec7",
   "metadata": {},
   "source": [
    "Arithmetic operators are used to perform basic mathematical operations on numeric data types in Python. There are several arithmetic operators available in Python, which are listed below:\n",
    "\n",
    "* Addition (+): The addition operator is used to add two or more numbers or concatenate two or more strings.\n",
    "\n",
    "* Subtraction (-): The subtraction operator is used to subtract one number from another.\n",
    "\n",
    "* Multiplication (*): The multiplication operator is used to multiply two or more numbers.\n",
    "\n",
    "* Division (/): The division operator is used to divide one number by another. It always returns a float value, even if the division result is an integer.\n",
    "\n",
    "* Floor Division (//): The floor division operator is used to divide one number by another and return the integer quotient. It rounds down to the nearest whole number.\n",
    "\n",
    "* Modulus (%): The modulus operator is used to find the remainder of the division operation.\n",
    "\n",
    "* Exponentiation (**): The exponentiation operator is used to raise a number to a power."
   ]
  },
  {
   "cell_type": "markdown",
   "id": "a2549b0f-f2ba-4af9-b5e5-193c408b1363",
   "metadata": {},
   "source": [
    "### Addition (+)"
   ]
  },
  {
   "cell_type": "code",
   "execution_count": 4,
   "id": "57e0b3c0-1a65-4b50-9741-9c0fa83a939b",
   "metadata": {
    "tags": []
   },
   "outputs": [
    {
     "name": "stdout",
     "output_type": "stream",
     "text": [
      "25\n"
     ]
    }
   ],
   "source": [
    "# Addition of two numbers\n",
    "a = 10\n",
    "b = 15 \n",
    "add = a + b\n",
    "print(add)"
   ]
  },
  {
   "cell_type": "markdown",
   "id": "0bc9880b-e1a8-493b-a549-71ef5571ac52",
   "metadata": {},
   "source": [
    "### Subtraction (-)"
   ]
  },
  {
   "cell_type": "code",
   "execution_count": 7,
   "id": "1dbd6428-f596-4b26-a6f5-20bff190bb20",
   "metadata": {
    "tags": []
   },
   "outputs": [
    {
     "name": "stdout",
     "output_type": "stream",
     "text": [
      "10\n"
     ]
    }
   ],
   "source": [
    "# Subtraction of two numbers\n",
    "a = 20\n",
    "b = 10\n",
    "sub = a - b\n",
    "print(sub)"
   ]
  },
  {
   "cell_type": "markdown",
   "id": "1ac8cea3-4f8e-4d70-8ff9-0f0602aeeca4",
   "metadata": {},
   "source": [
    "### Multiplication (*)"
   ]
  },
  {
   "cell_type": "code",
   "execution_count": 8,
   "id": "7272c8a2-e7e4-43af-b7d6-44c3af10107c",
   "metadata": {
    "tags": []
   },
   "outputs": [
    {
     "name": "stdout",
     "output_type": "stream",
     "text": [
      "15\n"
     ]
    }
   ],
   "source": [
    "# Multiplication of two numbers\n",
    "a = 3\n",
    "b = 5\n",
    "mul = a * b\n",
    "print(mul)"
   ]
  },
  {
   "cell_type": "markdown",
   "id": "8995db7b-8ec1-472c-ac35-18e576a22d10",
   "metadata": {},
   "source": [
    "### Division (/)"
   ]
  },
  {
   "cell_type": "code",
   "execution_count": 9,
   "id": "ce5e0c74-f67c-4483-9d34-e66422df6d6f",
   "metadata": {
    "tags": []
   },
   "outputs": [
    {
     "name": "stdout",
     "output_type": "stream",
     "text": [
      "3.75\n"
     ]
    }
   ],
   "source": [
    "# Division of two numbers\n",
    "a = 15\n",
    "b = 4\n",
    "div = a / b\n",
    "print(div)"
   ]
  },
  {
   "cell_type": "markdown",
   "id": "c423808a-4012-449b-8bee-867c188b67a4",
   "metadata": {},
   "source": [
    "### Floor Division (//)"
   ]
  },
  {
   "cell_type": "code",
   "execution_count": 10,
   "id": "0376acd9-7f3e-40d7-8c0f-ec3d7c7ba02e",
   "metadata": {
    "tags": []
   },
   "outputs": [
    {
     "name": "stdout",
     "output_type": "stream",
     "text": [
      "3\n"
     ]
    }
   ],
   "source": [
    "# Floor division of two numbers\n",
    "a = 15\n",
    "b = 4\n",
    "fdiv = a // b\n",
    "print(fdiv)"
   ]
  },
  {
   "cell_type": "markdown",
   "id": "2b835020-c4b4-47b9-83d2-ba26e3a0e9e8",
   "metadata": {},
   "source": [
    "### Modulus (%)"
   ]
  },
  {
   "cell_type": "code",
   "execution_count": 11,
   "id": "86c7a8d1-5498-4ad9-970d-9a3bdc74a563",
   "metadata": {
    "tags": []
   },
   "outputs": [
    {
     "name": "stdout",
     "output_type": "stream",
     "text": [
      "3\n"
     ]
    }
   ],
   "source": [
    "# Remainder of division operation\n",
    "a = 15\n",
    "b = 4\n",
    "mod = a % b\n",
    "print(mod)"
   ]
  },
  {
   "cell_type": "markdown",
   "id": "606846e3-d8c5-478d-b889-9c9bd8ba4a6e",
   "metadata": {},
   "source": [
    "### Exponentiation (**)"
   ]
  },
  {
   "cell_type": "code",
   "execution_count": 12,
   "id": "36662590-2b60-410c-b3ad-7f07366b5c58",
   "metadata": {
    "tags": []
   },
   "outputs": [
    {
     "name": "stdout",
     "output_type": "stream",
     "text": [
      "16\n"
     ]
    }
   ],
   "source": [
    "# Power of a number\n",
    "a = 4\n",
    "b = 2\n",
    "exp = a ** b\n",
    "print(exp)"
   ]
  }
 ],
 "metadata": {
  "kernelspec": {
   "display_name": "Python 3 (ipykernel)",
   "language": "python",
   "name": "python3"
  },
  "language_info": {
   "codemirror_mode": {
    "name": "ipython",
    "version": 3
   },
   "file_extension": ".py",
   "mimetype": "text/x-python",
   "name": "python",
   "nbconvert_exporter": "python",
   "pygments_lexer": "ipython3",
   "version": "3.11.2"
  }
 },
 "nbformat": 4,
 "nbformat_minor": 5
}
