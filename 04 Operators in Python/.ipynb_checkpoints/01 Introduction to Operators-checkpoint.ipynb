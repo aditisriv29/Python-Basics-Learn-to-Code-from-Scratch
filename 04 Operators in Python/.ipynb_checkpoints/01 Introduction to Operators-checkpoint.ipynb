{
 "cells": [
  {
   "cell_type": "markdown",
   "id": "fe5197d5-a0c9-4d8d-aff4-2eeea294078f",
   "metadata": {},
   "source": [
    "## Operators in Python"
   ]
  },
  {
   "cell_type": "markdown",
   "id": "43d168cb-b407-43c9-afc0-0e7e4a0cf353",
   "metadata": {},
   "source": [
    "In Python, operators are special symbols or keywords that are used to perform operations on values or variables. They can be classified into several categories based on the type of operation they perform:\n",
    "\n",
    "Python supports a wide range of operators, which can be categorized as follows:\n",
    "\n",
    "* Arithmetic Operators: These are used to perform arithmetic operations such as addition, subtraction, multiplication, division, modulus, and exponentiation.\n",
    "\n",
    "* Comparison Operators: These are used to compare values and return a Boolean value (True or False) based on the result of the comparison.\n",
    "\n",
    "* Assignment Operators: These are used to assign values to variables.\n",
    "\n",
    "* Logical Operators: These are used to perform logical operations such as AND, OR, and NOT.\n",
    "\n",
    "* Bitwise Operators: These are used to perform operations on binary numbers.\n",
    "\n",
    "* Membership Operators: These are used to test whether a value or variable is a member of a sequence.\n",
    "\n",
    "* Identity Operators: These are used to test whether two objects are the same or not."
   ]
  },
  {
   "cell_type": "markdown",
   "id": "31e4dfb1-d9c5-44ff-8fd0-9c8504c5aa8b",
   "metadata": {},
   "source": [
    "### Example"
   ]
  },
  {
   "cell_type": "code",
   "execution_count": 3,
   "id": "24b6f78a-405c-4c38-94f5-e406488697fa",
   "metadata": {
    "tags": []
   },
   "outputs": [
    {
     "name": "stdout",
     "output_type": "stream",
     "text": [
      "25\n"
     ]
    }
   ],
   "source": [
    "print(10 + 15)"
   ]
  }
 ],
 "metadata": {
  "kernelspec": {
   "display_name": "Python 3 (ipykernel)",
   "language": "python",
   "name": "python3"
  },
  "language_info": {
   "codemirror_mode": {
    "name": "ipython",
    "version": 3
   },
   "file_extension": ".py",
   "mimetype": "text/x-python",
   "name": "python",
   "nbconvert_exporter": "python",
   "pygments_lexer": "ipython3",
   "version": "3.11.2"
  }
 },
 "nbformat": 4,
 "nbformat_minor": 5
}
