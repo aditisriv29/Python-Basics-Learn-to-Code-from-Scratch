{
 "cells": [
  {
   "cell_type": "markdown",
   "id": "b6c71ae6-7f42-473f-aec4-c51d37f021d7",
   "metadata": {},
   "source": [
    "## Odd & Even Number"
   ]
  },
  {
   "cell_type": "code",
   "execution_count": 6,
   "id": "641a7c4c-0d05-4813-8d98-3b813a7d690b",
   "metadata": {
    "tags": []
   },
   "outputs": [
    {
     "name": "stdin",
     "output_type": "stream",
     "text": [
      "Enter a number:  10\n"
     ]
    },
    {
     "name": "stdout",
     "output_type": "stream",
     "text": [
      "The number is even.\n"
     ]
    }
   ],
   "source": [
    "n = int(input(\"Enter a number: \"))\n",
    "\n",
    "def oddEven(num):\n",
    "    if num % 2 == 0:\n",
    "        print(\"The number is even.\")\n",
    "    else:\n",
    "        print(\"The number is odd.\")\n",
    "        \n",
    "oddEven(n)"
   ]
  },
  {
   "cell_type": "markdown",
   "id": "6abfb252-c34c-44a0-af2d-48553d15709b",
   "metadata": {},
   "source": [
    "## Prime numbers upto n"
   ]
  },
  {
   "cell_type": "code",
   "execution_count": 19,
   "id": "f04634ef-8682-4f23-8419-71791a497b6c",
   "metadata": {
    "tags": []
   },
   "outputs": [
    {
     "name": "stdin",
     "output_type": "stream",
     "text": [
      "Enter a number:  19\n"
     ]
    },
    {
     "name": "stdout",
     "output_type": "stream",
     "text": [
      "2\n",
      "3\n",
      "5\n",
      "7\n",
      "11\n",
      "13\n",
      "17\n",
      "19\n"
     ]
    }
   ],
   "source": [
    "n = int(input(\"Enter a number: \"))  \n",
    "\n",
    "for num in range(1, n+1):\n",
    "    if num > 1:\n",
    "        for i in range(2, num):\n",
    "            if num % i == 0:\n",
    "                break\n",
    "        else:\n",
    "            print(num)"
   ]
  },
  {
   "cell_type": "markdown",
   "id": "b1b14ebe-258e-4d02-9713-0be13b220b5d",
   "metadata": {},
   "source": [
    "## Read and Plot from File"
   ]
  },
  {
   "cell_type": "code",
   "execution_count": 46,
   "id": "cfe4c568-ce6a-4969-b47e-1c11c147738c",
   "metadata": {
    "tags": []
   },
   "outputs": [],
   "source": [
    "import matplotlib.pyplot as plt"
   ]
  },
  {
   "cell_type": "code",
   "execution_count": 48,
   "id": "2dfb676d-0519-402a-9a2a-936b5f8ace84",
   "metadata": {
    "tags": []
   },
   "outputs": [
    {
     "name": "stdout",
     "output_type": "stream",
     "text": [
      "[56, 84, 15, 35, 69, 24]\n",
      "[48, 65, 18, 35, 49, 20]\n"
     ]
    }
   ],
   "source": [
    "f = open(\"sample.txt\", \"r\")\n",
    "\n",
    "x = []\n",
    "a = f.readline().split()\n",
    "for item in a:\n",
    "    x.append(int(item))\n",
    "print(x)\n",
    "\n",
    "y = []\n",
    "b = f.readline().split()\n",
    "for item in b:\n",
    "    y.append(int(item))\n",
    "print(y)"
   ]
  },
  {
   "cell_type": "code",
   "execution_count": 51,
   "id": "7ceaf6b8-e5be-4dba-8fbe-ec04af4522fe",
   "metadata": {
    "tags": []
   },
   "outputs": [
    {
     "data": {
      "text/plain": [
       "<matplotlib.collections.PathCollection at 0x1a2e2913e50>"
      ]
     },
     "execution_count": 51,
     "metadata": {},
     "output_type": "execute_result"
    },
    {
     "data": {
      "image/png": "[encoded data removed]",
      "text/plain": [
       "<Figure size 640x480 with 1 Axes>"
      ]
     },
     "metadata": {},
     "output_type": "display_data"
    }
   ],
   "source": [
    "plt.scatter(x, y)"
   ]
  }
 ],
 "metadata": {
  "kernelspec": {
   "display_name": "Python 3 (ipykernel)",
   "language": "python",
   "name": "python3"
  },
  "language_info": {
   "codemirror_mode": {
    "name": "ipython",
    "version": 3
   },
   "file_extension": ".py",
   "mimetype": "text/x-python",
   "name": "python",
   "nbconvert_exporter": "python",
   "pygments_lexer": "ipython3",
   "version": "3.9.16"
  }
 },
 "nbformat": 4,
 "nbformat_minor": 5
}
