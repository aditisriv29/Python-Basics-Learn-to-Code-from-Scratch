{
  "cells": [
    {
      "cell_type": "markdown",
      "metadata": {
        "id": "Dn1WK0Rk5SQV"
      },
      "source": [
        "# Python Exercise (11-20)"
      ]
    },
    {
      "cell_type": "markdown",
      "metadata": {
        "id": "dr-ZjW0Q5SQZ"
      },
      "source": [
        "## Question 11\n",
        "\n",
        "Write a program which accepts a sequence of comma separated 4 digit binary numbers as its input and then check whether they are divisible by 5 or not. The numbers that are divisible by 5 are to be printed in a comma separated sequence.\n",
        "\n",
        "Example:\n",
        "```\n",
        "0100,0011,1010,1001\n",
        "```\n",
        "Then the output should be:\n",
        "```\n",
        "1010\n",
        "```\n",
        "\n"
      ]
    },
    {
      "cell_type": "code",
      "execution_count": 1,
      "metadata": {
        "id": "E2ATXvpq5SQc",
        "outputId": "2297cfd3-6760-4e41-d370-f0abd026aff0",
        "colab": {
          "base_uri": "https://localhost:8080/"
        }
      },
      "outputs": [
        {
          "output_type": "stream",
          "name": "stdout",
          "text": [
            "Enter your comma-separated binary numbers: 0100,0011,1010,1001\n",
            "1010\n"
          ]
        }
      ],
      "source": [
        "binary_numbers = input(\"Enter your comma-separated binary numbers: \").split(\",\")\n",
        "divisible_by_5 = []\n",
        "\n",
        "for num in binary_numbers:\n",
        "  decimal_value = int(num, 2)\n",
        "\n",
        "  if decimal_value % 5 == 0:\n",
        "    divisible_by_5.append(num)\n",
        "\n",
        "print(\",\".join(divisible_by_5))"
      ]
    },
    {
      "cell_type": "markdown",
      "metadata": {
        "id": "3FIR6V4n5SQd"
      },
      "source": [
        "## Question 12\n",
        "\n",
        "Write a program, which will find all such numbers between 1000 and 3000 (both included) such that each digit of the number is an even number.\n",
        "The numbers obtained should be printed in a comma-separated sequence on a single line."
      ]
    },
    {
      "cell_type": "code",
      "execution_count": null,
      "metadata": {
        "id": "bYKsdCCi5SQd"
      },
      "outputs": [],
      "source": [
        "even_digit_numbers = []\n",
        "\n",
        "for num in range(1000, 3001):\n",
        "\n",
        "  num_str = str(num)\n",
        "\n",
        "  is_valid = True\n",
        "\n",
        "  for digit in num_str:\n",
        "    if int(digit) % 2 != 0:\n",
        "      is_valid = False\n",
        "      break\n",
        "\n",
        "    if is_valid:\n",
        "      even_digit_numbers.append(num_str)\n",
        "\n",
        "print(\",\".join(even_digit_numbers))"
      ]
    },
    {
      "cell_type": "markdown",
      "metadata": {
        "id": "n-jQMspP5SQe"
      },
      "source": [
        "## Question 13\n",
        "\n",
        "Write a program that accepts a sentence and calculate the number of letters and digits.\n",
        "Suppose the following input is supplied to the program:\n",
        "```\n",
        "hello world! 123\n",
        "```\n",
        "Then, the output should be:\n",
        "```\n",
        "LETTERS 10\n",
        "DIGITS 3\n",
        "```"
      ]
    },
    {
      "cell_type": "code",
      "execution_count": null,
      "metadata": {
        "id": "x9phpRBH5SQe"
      },
      "outputs": [],
      "source": [
        "sentence = input(\"Enter a sentence: \")\n",
        "\n",
        "letter_count = 0\n",
        "digit_count = 0\n",
        "\n",
        "for char in sentence:\n",
        "  if char.isalpha():\n",
        "    letter_count += 1\n",
        "  elif char.isdigit():\n",
        "    digit_count += 1\n",
        "\n",
        "print(\"LETTERS\", letter_count)\n",
        "print(\"DIGITS\", digit_count)"
      ]
    },
    {
      "cell_type": "markdown",
      "metadata": {
        "id": "-sLfUNOE5SQf"
      },
      "source": [
        "## Question 14\n",
        "\n",
        "Write a program that accepts a sentence and calculate the number of upper case letters and lower case letters.\n",
        "Suppose the following input is supplied to the program:\n",
        "```\n",
        "Hello world!\n",
        "```\n",
        "Then, the output should be:\n",
        "```\n",
        "UPPER CASE 1\n",
        "LOWER CASE 9\n",
        "```"
      ]
    },
    {
      "cell_type": "code",
      "execution_count": null,
      "metadata": {
        "id": "I-BOc0yq5SQf"
      },
      "outputs": [],
      "source": [
        "sentence = input(\"Enter a sentence: \")\n",
        "\n",
        "uppercase_count = 0\n",
        "lowercase_count = 0\n",
        "\n",
        "for char in sentence:\n",
        "  if char.isupper():\n",
        "    uppercase_count += 1\n",
        "  elif char.islower():\n",
        "    lowercase_count += 1\n",
        "\n",
        "print(\"UPPER CASE:\", uppercase_count)\n",
        "print(\"LOWER CASE:\", lowercase_count)"
      ]
    },
    {
      "cell_type": "markdown",
      "metadata": {
        "id": "y9qUtrfB5SQg"
      },
      "source": [
        "## Question 15\n",
        "\n",
        "Write a program that computes the value of a+aa+aaa+aaaa with a given digit as the value of a.\n",
        "Suppose the following input is supplied to the program:\n",
        "```\n",
        "9\n",
        "```\n",
        "Then, the output should be:\n",
        "```\n",
        "11106\n",
        "```\n"
      ]
    },
    {
      "cell_type": "code",
      "execution_count": null,
      "metadata": {
        "id": "AfW33gUQ5SQg"
      },
      "outputs": [],
      "source": [
        "a = input(\"Enter a digit: \")\n",
        "\n",
        "total_sum = 0\n",
        "term = \"\"\n",
        "\n",
        "for i in range(1, 5):\n",
        "  term += a\n",
        "  total_sum += int(term)\n",
        "\n",
        "print(total_sum)"
      ]
    },
    {
      "cell_type": "markdown",
      "metadata": {
        "id": "HsK_Hrie5SQg"
      },
      "source": [
        "## Question 16\n",
        "\n",
        "Use a list comprehension to select each odd number in a list. The list is input by a sequence of comma-separated numbers.\n",
        "Suppose the following input is supplied to the program:\n",
        "```\n",
        "1,2,3,4,5,6,7,8,9\n",
        "```\n",
        "Then, the output should be:\n",
        "```\n",
        "1,3,5,7,9\n",
        "```\n"
      ]
    },
    {
      "cell_type": "code",
      "execution_count": null,
      "metadata": {
        "id": "2WlgCajn5SQh"
      },
      "outputs": [],
      "source": [
        "numbers = input(\"Enter comma-separated numbers: \").spilt(\",\")\n",
        "odd_numbers = []\n",
        "\n",
        "for num in numbers:\n",
        "  if int(num) % 2 != 0:\n",
        "    odd_numbers.append(num)\n",
        "\n",
        "print(\",\".join(odd_numbers))"
      ]
    },
    {
      "cell_type": "markdown",
      "metadata": {
        "id": "Cx4rJ7EC5SQh"
      },
      "source": [
        "## Question 17\n",
        "\n",
        "Question:\n",
        "Write a program that computes the net amount of a bank account based a transaction log from console input. The transaction log format is shown as following:\n",
        "```\n",
        "D 100\n",
        "W 200\n",
        "```\n",
        "D means deposit while W means withdrawal.\n",
        "Suppose the following input is supplied to the program:\n",
        "```\n",
        "D 300\n",
        "D 300\n",
        "W 200\n",
        "D 100\n",
        "\n",
        "```\n",
        "Then, the output should be:\n",
        "```\n",
        "500\n",
        "```"
      ]
    },
    {
      "cell_type": "code",
      "execution_count": null,
      "metadata": {
        "id": "_S-_0Hu-5SQi"
      },
      "outputs": [],
      "source": [
        "#balance = 0\n",
        "\n",
        "#while True:\n",
        "  #transaction = input(\"Enter transaction: \")\n",
        "  #if not transaction:\n",
        "    #break"
      ]
    },
    {
      "cell_type": "markdown",
      "metadata": {
        "id": "txzXRTef5SQi"
      },
      "source": [
        "## Question 18\n",
        "A website requires the users to input username and password to register. Write a program to check the validity of password input by users.\n",
        "Following are the criteria for checking the password:\n",
        "1. At least 1 letter between [a-z]\n",
        "2. At least 1 number between [0-9]\n",
        "1. At least 1 letter between [A-Z]\n",
        "3. At least 1 character from [$#@]\n",
        "4. Minimum length of transaction password: 6\n",
        "5. Maximum length of transaction password: 12\n",
        "\n",
        "Your program should accept a sequence of comma separated passwords and will check them according to the above criteria. Passwords that match the criteria are to be printed, each separated by a comma.\n",
        "\n",
        "If the following passwords are given as input to the program:\n",
        "\n",
        "```\n",
        "ABd1234@1,a F1#,2w3E*,2We3345\n",
        "```\n",
        "Then, the output of the program should be:\n",
        "```\n",
        "ABd1234@1\n",
        "\n",
        "```"
      ]
    },
    {
      "cell_type": "code",
      "execution_count": 4,
      "metadata": {
        "id": "VZjP6W4h5SQj"
      },
      "outputs": [],
      "source": [
        "#def is_valid(password):\n",
        "  #if (6 <= len(password) <= 12 and\n",
        "      #re.search(\"[a-z]\", password) and\n",
        "     # re.search(\"[A-Z]\", password) and\n",
        "     # re.search(\"[0-9]\", password) and\n",
        "     # re.search(\"[$#@]\", password)):\n",
        "     # return True\n",
        " # return False\n",
        "\n",
        "#passwords = input(\"Enter passwords: \").split(\",\")\n",
        "\n",
        "#valid_passwords = []\n",
        "#for pwd in passwords:\n",
        " # if is_valid(pwd):\n",
        "    #valid_passwords.append(pwd)\n",
        "\n",
        "#print(\",\".join(valid_passwords))"
      ]
    },
    {
      "cell_type": "markdown",
      "metadata": {
        "id": "xtAQq-O65SQj"
      },
      "source": [
        "## Question 19\n",
        "\n",
        "You are required to write a program to sort the (name, age, height) tuples by ascending order where name is string, age and height are numbers. The tuples are input by console. The sort criteria is:\n",
        "1: Sort based on name;\n",
        "2: Then sort based on age;\n",
        "3: Then sort by score.\n",
        "The priority is that name > age > score.\n",
        "If the following tuples are given as input to the program:\n",
        "\n",
        "```\n",
        "Tom,19,80\n",
        "John,20,90\n",
        "Jony,17,91\n",
        "Jony,17,93\n",
        "Json,21,85\n",
        "```\n",
        "Then, the output should be:\n",
        "```\n",
        "[('John', '20', '90'), ('Jony', '17', '91'), ('Jony', '17', '93'), ('Json', '21', '85'), ('Tom', '19', '80')]\n",
        "```\n"
      ]
    },
    {
      "cell_type": "code",
      "execution_count": null,
      "metadata": {
        "id": "rbWDIbj25SQk"
      },
      "outputs": [],
      "source": []
    },
    {
      "cell_type": "markdown",
      "metadata": {
        "id": "ClcqXs3v5SQk"
      },
      "source": [
        "## Question 20\n",
        "\n",
        "Define a class with a generator which can iterate the numbers, which are divisible by 7, between a given range 0 and n."
      ]
    },
    {
      "cell_type": "code",
      "execution_count": null,
      "metadata": {
        "id": "9WpNmncS5SQl"
      },
      "outputs": [],
      "source": []
    }
  ],
  "metadata": {
    "kernelspec": {
      "display_name": "Python 3",
      "language": "python",
      "name": "python3"
    },
    "language_info": {
      "codemirror_mode": {
        "name": "ipython",
        "version": 3
      },
      "file_extension": ".py",
      "mimetype": "text/x-python",
      "name": "python",
      "nbconvert_exporter": "python",
      "pygments_lexer": "ipython3",
      "version": "3.6.8"
    },
    "colab": {
      "provenance": []
    }
  },
  "nbformat": 4,
  "nbformat_minor": 0
}