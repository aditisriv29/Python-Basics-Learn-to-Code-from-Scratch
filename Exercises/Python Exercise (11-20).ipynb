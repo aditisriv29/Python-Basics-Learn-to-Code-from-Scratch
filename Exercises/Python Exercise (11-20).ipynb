{
  "cells": [
    {
      "cell_type": "markdown",
      "metadata": {
        "id": "EVBSLKHNVZqW"
      },
      "source": [
        "# Python Exercise (11-20)"
      ]
    },
    {
      "cell_type": "markdown",
      "metadata": {
        "id": "v_YfUt5KVZqe"
      },
      "source": [
        "## Question 11\n",
        "\n",
        "Write a program which accepts a sequence of comma separated 4 digit binary numbers as its input and then check whether they are divisible by 5 or not. The numbers that are divisible by 5 are to be printed in a comma separated sequence.\n",
        "\n",
        "Example:\n",
        "```\n",
        "0100,0011,1010,1001\n",
        "```\n",
        "Then the output should be:\n",
        "```\n",
        "1010\n",
        "```\n",
        "\n"
      ]
    },
    {
      "cell_type": "code",
      "execution_count": 1,
      "metadata": {
        "colab": {
          "base_uri": "https://localhost:8080/"
        },
        "id": "NYBEDufyVZqg",
        "outputId": "5309efd1-7cfa-4ab0-d41e-a57432696a4b"
      },
      "outputs": [
        {
          "output_type": "stream",
          "name": "stdout",
          "text": [
            "Enter your comma-separated numbers: 0100,0011,1010,1001\n",
            "0100,1010\n"
          ]
        }
      ],
      "source": [
        "binary_numbers = input(\"Enter your comma-separated numbers: \").split(\",\")\n",
        "divisible_by_5 = []\n",
        "for num in binary_numbers:\n",
        "  if int(num) % 5 == 0:\n",
        "    divisible_by_5.append(num)\n",
        "  else:\n",
        "    continue\n",
        "\n",
        "print(\",\".join(divisible_by_5))"
      ]
    },
    {
      "cell_type": "markdown",
      "metadata": {
        "id": "k2lkh_R7VZqh"
      },
      "source": [
        "## Question 12\n",
        "\n",
        "Write a program, which will find all such numbers between 1000 and 3000 (both included) such that each digit of the number is an even number.\n",
        "The numbers obtained should be printed in a comma-separated sequence on a single line."
      ]
    },
    {
      "cell_type": "code",
      "execution_count": 2,
      "metadata": {
        "colab": {
          "base_uri": "https://localhost:8080/"
        },
        "id": "gNkB-1U-VZqh",
        "outputId": "b1f53a1b-9500-40ce-a393-04a53700565c"
      },
      "outputs": [
        {
          "output_type": "stream",
          "name": "stdout",
          "text": [
            "2000,2002,2004,2006,2008,2020,2022,2024,2026,2028,2040,2042,2044,2046,2048,2060,2062,2064,2066,2068,2080,2082,2084,2086,2088,2200,2202,2204,2206,2208,2220,2222,2224,2226,2228,2240,2242,2244,2246,2248,2260,2262,2264,2266,2268,2280,2282,2284,2286,2288,2400,2402,2404,2406,2408,2420,2422,2424,2426,2428,2440,2442,2444,2446,2448,2460,2462,2464,2466,2468,2480,2482,2484,2486,2488,2600,2602,2604,2606,2608,2620,2622,2624,2626,2628,2640,2642,2644,2646,2648,2660,2662,2664,2666,2668,2680,2682,2684,2686,2688,2800,2802,2804,2806,2808,2820,2822,2824,2826,2828,2840,2842,2844,2846,2848,2860,2862,2864,2866,2868,2880,2882,2884,2886,2888\n"
          ]
        }
      ],
      "source": [
        "even_digit_numbers = []\n",
        "for num in range(1000,3001):\n",
        "  num_string = str(num)\n",
        "  condition = True\n",
        "\n",
        "  for digit in num_string:\n",
        "    if int(digit) % 2 != 0:\n",
        "      condition = False\n",
        "\n",
        "  if condition == True:\n",
        "    even_digit_numbers.append(str(num))\n",
        "\n",
        "print(\",\".join(even_digit_numbers))"
      ]
    },
    {
      "cell_type": "markdown",
      "metadata": {
        "id": "M4xb_yWGVZqi"
      },
      "source": [
        "## Question 13\n",
        "\n",
        "Write a program that accepts a sentence and calculate the number of letters and digits.\n",
        "Suppose the following input is supplied to the program:\n",
        "```\n",
        "hello world! 123\n",
        "```\n",
        "Then, the output should be:\n",
        "```\n",
        "LETTERS 10\n",
        "DIGITS 3\n",
        "```"
      ]
    },
    {
      "cell_type": "code",
      "execution_count": 4,
      "metadata": {
        "colab": {
          "base_uri": "https://localhost:8080/"
        },
        "id": "th3Px0OxVZqj",
        "outputId": "3622c478-b370-4422-eb80-13d0ab39a099"
      },
      "outputs": [
        {
          "output_type": "stream",
          "name": "stdout",
          "text": [
            "Enter a sentence: hello my name is aditi and im 14\n",
            "LETTERS 23\n",
            "DIGITS 2\n"
          ]
        }
      ],
      "source": [
        "sentence = input(\"Enter a sentence: \")\n",
        "letter_count = 0\n",
        "digit_count = 0\n",
        "\n",
        "for char in sentence:\n",
        "  if char.isalpha():\n",
        "    letter_count += 1\n",
        "  elif char.isdigit():\n",
        "    digit_count += 1\n",
        "  else:\n",
        "    continue\n",
        "\n",
        "print(\"LETTERS\", letter_count)\n",
        "print(\"DIGITS\", digit_count)"
      ]
    },
    {
      "cell_type": "markdown",
      "metadata": {
        "id": "J-1_e3j_VZqj"
      },
      "source": [
        "## Question 14\n",
        "\n",
        "Write a program that accepts a sentence and calculate the number of upper case letters and lower case letters.\n",
        "Suppose the following input is supplied to the program:\n",
        "```\n",
        "Hello world!\n",
        "```\n",
        "Then, the output should be:\n",
        "```\n",
        "UPPER CASE 1\n",
        "LOWER CASE 9\n",
        "```"
      ]
    },
    {
      "cell_type": "code",
      "execution_count": 5,
      "metadata": {
        "colab": {
          "base_uri": "https://localhost:8080/"
        },
        "id": "5b_kMp4HVZqk",
        "outputId": "bb22a748-f918-44bc-a526-c49db8e53b5e"
      },
      "outputs": [
        {
          "output_type": "stream",
          "name": "stdout",
          "text": [
            "Enter your sentence: HellO worLd\n",
            "UPPER CASE 3\n",
            "LOWER CASE 7\n"
          ]
        }
      ],
      "source": [
        "sentence = input(\"Enter your sentence: \")\n",
        "\n",
        "uppercase_count = 0\n",
        "lowercase_count = 0\n",
        "\n",
        "for char in sentence:\n",
        "  if char.isupper():\n",
        "    uppercase_count += 1\n",
        "  elif char.islower():\n",
        "    lowercase_count += 1\n",
        "  else:\n",
        "    continue\n",
        "\n",
        "print(\"UPPER CASE\", uppercase_count)\n",
        "print(\"LOWER CASE\", lowercase_count)"
      ]
    },
    {
      "cell_type": "markdown",
      "metadata": {
        "id": "Z6e0TVUUVZqk"
      },
      "source": [
        "## Question 15\n",
        "\n",
        "Write a program that computes the value of a+aa+aaa+aaaa with a given digit as the value of a.\n",
        "Suppose the following input is supplied to the program:\n",
        "```\n",
        "9\n",
        "```\n",
        "Then, the output should be:\n",
        "```\n",
        "11106\n",
        "```\n"
      ]
    },
    {
      "cell_type": "code",
      "execution_count": 6,
      "metadata": {
        "colab": {
          "base_uri": "https://localhost:8080/"
        },
        "id": "ZBK-U0UBVZql",
        "outputId": "4ddfe884-5b57-4d58-a7fe-f8de0983e5cc"
      },
      "outputs": [
        {
          "output_type": "stream",
          "name": "stdout",
          "text": [
            "enter your digit: 3\n",
            "3702\n"
          ]
        }
      ],
      "source": [
        "a = input(\"enter your digit: \")\n",
        "sum = 0\n",
        "for i in range(1, 5):\n",
        "  a_string = a*i\n",
        "  a_int = int(a_string)\n",
        "  sum = sum + a_int\n",
        "\n",
        "print(sum)"
      ]
    },
    {
      "cell_type": "code",
      "source": [
        "3+33+333+3333"
      ],
      "metadata": {
        "colab": {
          "base_uri": "https://localhost:8080/"
        },
        "id": "eQtMeSy6ffo2",
        "outputId": "cb019882-bb87-40a0-93ff-497115d21b3a"
      },
      "execution_count": 7,
      "outputs": [
        {
          "output_type": "execute_result",
          "data": {
            "text/plain": [
              "3702"
            ]
          },
          "metadata": {},
          "execution_count": 7
        }
      ]
    },
    {
      "cell_type": "markdown",
      "metadata": {
        "id": "djqf6bpJVZql"
      },
      "source": [
        "## Question 16\n",
        "\n",
        "Use a list comprehension to select each odd number in a list. The list is input by a sequence of comma-separated numbers.\n",
        "Suppose the following input is supplied to the program:\n",
        "```\n",
        "1,2,3,4,5,6,7,8,9\n",
        "```\n",
        "Then, the output should be:\n",
        "```\n",
        "1,3,5,7,9\n",
        "```\n"
      ]
    },
    {
      "cell_type": "code",
      "execution_count": null,
      "metadata": {
        "id": "76GRVT_hVZql"
      },
      "outputs": [],
      "source": []
    },
    {
      "cell_type": "markdown",
      "metadata": {
        "id": "PIE3NmcoVZqm"
      },
      "source": [
        "## Question 17\n",
        "\n",
        "Question:\n",
        "Write a program that computes the net amount of a bank account based a transaction log from console input. The transaction log format is shown as following:\n",
        "```\n",
        "D 100\n",
        "W 200\n",
        "```\n",
        "D means deposit while W means withdrawal.\n",
        "Suppose the following input is supplied to the program:\n",
        "```\n",
        "D 300\n",
        "D 300\n",
        "W 200\n",
        "D 100\n",
        "\n",
        "```\n",
        "Then, the output should be:\n",
        "```\n",
        "500\n",
        "```"
      ]
    },
    {
      "cell_type": "code",
      "execution_count": null,
      "metadata": {
        "id": "lRJKJaXuVZqm"
      },
      "outputs": [],
      "source": []
    },
    {
      "cell_type": "markdown",
      "metadata": {
        "id": "g3XSCa57VZqm"
      },
      "source": [
        "## Question 18\n",
        "A website requires the users to input username and password to register. Write a program to check the validity of password input by users.\n",
        "Following are the criteria for checking the password:\n",
        "1. At least 1 letter between [a-z]\n",
        "2. At least 1 number between [0-9]\n",
        "1. At least 1 letter between [A-Z]\n",
        "3. At least 1 character from [$#@]\n",
        "4. Minimum length of transaction password: 6\n",
        "5. Maximum length of transaction password: 12\n",
        "\n",
        "Your program should accept a sequence of comma separated passwords and will check them according to the above criteria. Passwords that match the criteria are to be printed, each separated by a comma.\n",
        "\n",
        "If the following passwords are given as input to the program:\n",
        "\n",
        "```\n",
        "ABd1234@1,a F1#,2w3E*,2We3345\n",
        "```\n",
        "Then, the output of the program should be:\n",
        "```\n",
        "ABd1234@1\n",
        "\n",
        "```"
      ]
    },
    {
      "cell_type": "code",
      "execution_count": null,
      "metadata": {
        "id": "IKJGAlNOVZqn"
      },
      "outputs": [],
      "source": []
    },
    {
      "cell_type": "markdown",
      "metadata": {
        "id": "ccW2hm8iVZqn"
      },
      "source": [
        "## Question 19\n",
        "\n",
        "You are required to write a program to sort the (name, age, height) tuples by ascending order where name is string, age and height are numbers. The tuples are input by console. The sort criteria is:\n",
        "1: Sort based on name;\n",
        "2: Then sort based on age;\n",
        "3: Then sort by score.\n",
        "The priority is that name > age > score.\n",
        "If the following tuples are given as input to the program:\n",
        "\n",
        "```\n",
        "Tom,19,80\n",
        "John,20,90\n",
        "Jony,17,91\n",
        "Jony,17,93\n",
        "Json,21,85\n",
        "```\n",
        "Then, the output should be:\n",
        "```\n",
        "[('John', '20', '90'), ('Jony', '17', '91'), ('Jony', '17', '93'), ('Json', '21', '85'), ('Tom', '19', '80')]\n",
        "```\n"
      ]
    },
    {
      "cell_type": "code",
      "execution_count": null,
      "metadata": {
        "id": "FjhDtCUdVZqn"
      },
      "outputs": [],
      "source": []
    },
    {
      "cell_type": "markdown",
      "metadata": {
        "id": "NZmeThxUVZqn"
      },
      "source": [
        "## Question 20\n",
        "\n",
        "Define a class with a generator which can iterate the numbers, which are divisible by 7, between a given range 0 and n."
      ]
    },
    {
      "cell_type": "code",
      "execution_count": null,
      "metadata": {
        "id": "MlOd30bmVZqo"
      },
      "outputs": [],
      "source": []
    }
  ],
  "metadata": {
    "kernelspec": {
      "display_name": "Python 3",
      "language": "python",
      "name": "python3"
    },
    "language_info": {
      "codemirror_mode": {
        "name": "ipython",
        "version": 3
      },
      "file_extension": ".py",
      "mimetype": "text/x-python",
      "name": "python",
      "nbconvert_exporter": "python",
      "pygments_lexer": "ipython3",
      "version": "3.6.8"
    },
    "colab": {
      "provenance": []
    }
  },
  "nbformat": 4,
  "nbformat_minor": 0
}