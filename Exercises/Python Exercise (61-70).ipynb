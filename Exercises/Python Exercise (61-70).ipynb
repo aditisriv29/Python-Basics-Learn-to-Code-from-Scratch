{
  "cells": [
    {
      "cell_type": "markdown",
      "metadata": {
        "id": "S5_abG3SiHcZ"
      },
      "source": [
        "# Python Exercise (61-70)"
      ]
    },
    {
      "cell_type": "markdown",
      "metadata": {
        "id": "ggUX5gYBiHcg"
      },
      "source": [
        "# Question 61\n",
        "\n",
        "\n",
        ">***The Fibonacci Sequence is computed based on the following formula:***\n",
        "```\n",
        "f(n)=0 if n=0\n",
        "f(n)=1 if n=1\n",
        "f(n)=f(n-1)+f(n-2) if n>1\n",
        "```\n",
        ">***Please write a program to compute the value of f(n) with a given n input by console.***\n",
        "\n",
        ">***Example:\n",
        "If the following n is given as input to the program:***\n",
        "```\n",
        "7\n",
        "```\n",
        ">***Then, the output of the program should be:***\n",
        "```\n",
        "13\n",
        "```\n",
        ">***In case of input data being supplied to the question, it should be assumed to be a console input.***\n",
        "\n",
        "----------------------\n",
        "### Hints\n",
        "> ***We can define recursive function in Python.***\n"
      ]
    },
    {
      "cell_type": "code",
      "execution_count": 1,
      "metadata": {
        "colab": {
          "base_uri": "https://localhost:8080/"
        },
        "id": "UPo-RigOiHch",
        "outputId": "a56c65b6-79ac-4def-ec12-3ac24279c515"
      },
      "outputs": [
        {
          "output_type": "stream",
          "name": "stdout",
          "text": [
            "Enter your number: 7\n",
            "13\n"
          ]
        }
      ],
      "source": [
        "def f(n):\n",
        "  if n == 0:\n",
        "    return 0\n",
        "  elif n == 1:\n",
        "    return 1\n",
        "  else:\n",
        "    return f(n-1) + f(n-2)\n",
        "\n",
        "n = int(input(\"Enter your number: \"))\n",
        "print(f(n))"
      ]
    },
    {
      "cell_type": "markdown",
      "metadata": {
        "id": "vcLqlflxiHch"
      },
      "source": [
        "## Question 62\n",
        "\n",
        ">***The Fibonacci Sequence is computed based on the following formula:***\n",
        "```\n",
        "f(n)=0 if n=0\n",
        "f(n)=1 if n=1\n",
        "f(n)=f(n-1)+f(n-2) if n>1\n",
        "```\n",
        ">***Please write a program to compute the value of f(n) with a given n input by console.***\n",
        "\n",
        ">***Example:\n",
        "If the following n is given as input to the program:***\n",
        "```\n",
        "7\n",
        "```\n",
        ">***Then, the output of the program should be:***\n",
        "```\n",
        "0,1,1,2,3,5,8,13\n",
        "```\n",
        ">***In case of input data being supplied to the question, it should be assumed to be a console input.***"
      ]
    },
    {
      "cell_type": "code",
      "execution_count": 6,
      "metadata": {
        "id": "1FTHrFhKiHci"
      },
      "outputs": [],
      "source": [
        "def fib_sequence(n):\n",
        "  f_sequence = []\n",
        "\n",
        "  a = 0\n",
        "  b = 1\n",
        "\n",
        "  for i in range(n):\n",
        "    f_sequence.append(a)\n",
        "    a,b = b, a + b\n",
        "  return f_sequence\n"
      ]
    },
    {
      "cell_type": "code",
      "source": [
        "fib_sequence(9)"
      ],
      "metadata": {
        "colab": {
          "base_uri": "https://localhost:8080/"
        },
        "id": "XoY5HjqXnIUp",
        "outputId": "d6ab1ef9-c084-4e87-d260-7c8fed0254c4"
      },
      "execution_count": 8,
      "outputs": [
        {
          "output_type": "execute_result",
          "data": {
            "text/plain": [
              "[0, 1, 1, 2, 3, 5, 8, 13, 21]"
            ]
          },
          "metadata": {},
          "execution_count": 8
        }
      ]
    },
    {
      "cell_type": "markdown",
      "metadata": {
        "id": "3sEYuCT8iHcj"
      },
      "source": [
        "## Question 63\n",
        "\n",
        ">***Please write a program using generator to print the even numbers between 0 and n in comma separated form while n is input by console.***\n",
        "\n",
        ">***Example:\n",
        "If the following n is given as input to the program:***\n",
        "```\n",
        "10\n",
        "```\n",
        ">***Then, the output of the program should be:***\n",
        "```\n",
        "0,2,4,6,8,10\n",
        "```\n",
        ">***In case of input data being supplied to the question, it should be assumed to be a console input.***\n",
        "\n",
        "----------------------\n",
        "### Hints\n",
        "> ***Use yield to produce the next value in generator.***"
      ]
    },
    {
      "cell_type": "code",
      "execution_count": 11,
      "metadata": {
        "id": "QF9M3H1WiHck"
      },
      "outputs": [],
      "source": [
        "def even_numbers(n):\n",
        "  for i in range(0, n + 1):\n",
        "    if i % 2 == 0:\n",
        "      yield i"
      ]
    },
    {
      "cell_type": "code",
      "source": [
        "for i in even_numbers(10):\n",
        "  print(i)"
      ],
      "metadata": {
        "colab": {
          "base_uri": "https://localhost:8080/"
        },
        "id": "PL_6XQnvrxYV",
        "outputId": "a441bd16-fe17-407a-85c5-3505f7448eb1"
      },
      "execution_count": 12,
      "outputs": [
        {
          "output_type": "stream",
          "name": "stdout",
          "text": [
            "0\n",
            "2\n",
            "4\n",
            "6\n",
            "8\n",
            "10\n"
          ]
        }
      ]
    },
    {
      "cell_type": "markdown",
      "metadata": {
        "id": "vzTtQKq0iHcm"
      },
      "source": [
        "## Question 64\n",
        "\n",
        ">***Please write a program using generator to print the numbers which can be divisible by 5 and 7 between 0 and n in comma separated form while n is input by console.***\n",
        "\n",
        ">***Example:\n",
        "If the following n is given as input to the program:***\n",
        "```\n",
        "100\n",
        "```\n",
        ">***Then, the output of the program should be:***\n",
        "```\n",
        "0,35,70\n",
        "```\n",
        ">***In case of input data being supplied to the question, it should be assumed to be a console input.***\n"
      ]
    },
    {
      "cell_type": "code",
      "execution_count": 17,
      "metadata": {
        "id": "6EjzvhXNiHcn"
      },
      "outputs": [],
      "source": [
        "def divisible_by_5_and_7(n):\n",
        "  for i in range(n + 1):\n",
        "    if i % 5 == 0 and i % 7 == 0:\n",
        "      yield i"
      ]
    },
    {
      "cell_type": "code",
      "source": [
        "for i in divisible_by_5_and_7(100):\n",
        "  print(i)"
      ],
      "metadata": {
        "colab": {
          "base_uri": "https://localhost:8080/"
        },
        "id": "sDyQmQ4Uswuo",
        "outputId": "92463137-08ac-47b9-cef0-38941b9d339b"
      },
      "execution_count": 18,
      "outputs": [
        {
          "output_type": "stream",
          "name": "stdout",
          "text": [
            "0\n",
            "35\n",
            "70\n"
          ]
        }
      ]
    },
    {
      "cell_type": "markdown",
      "metadata": {
        "id": "hEy0VGK-iHco"
      },
      "source": [
        "## Question 65\n",
        ">***Please write assert statements to verify that every number in the list [2,4,6,8] is even.***\n",
        "\n"
      ]
    },
    {
      "cell_type": "code",
      "execution_count": 2,
      "metadata": {
        "id": "OGXHyk2_iHcp"
      },
      "outputs": [],
      "source": [
        "numbers = [2,4,6,8]\n",
        "for i in numbers:\n",
        "  assert i % 2 == 0, \"the number must be even\""
      ]
    },
    {
      "cell_type": "markdown",
      "metadata": {
        "id": "t1G6sxgHiHcp"
      },
      "source": [
        "## Question 66\n",
        "\n",
        ">***Please write a program which accepts basic mathematic expression from console and print the evaluation result.***\n",
        "\n",
        ">***Example:\n",
        "If the following n is given as input to the program:***\n",
        "```\n",
        "35 + 3\n",
        "```\n",
        ">***Then, the output of the program should be:***\n",
        "```\n",
        "38\n",
        "```"
      ]
    },
    {
      "cell_type": "code",
      "execution_count": null,
      "metadata": {
        "id": "FYY2MLA0iHcp"
      },
      "outputs": [],
      "source": []
    },
    {
      "cell_type": "markdown",
      "metadata": {
        "id": "Y1m28iSLiHcp"
      },
      "source": [
        "## Question 67\n",
        "\n",
        "\n",
        ">***Please write a binary search function which searches an item in a sorted list. The function should return the index of element to be searched in the list.***"
      ]
    },
    {
      "cell_type": "markdown",
      "metadata": {
        "id": "HPpOku_PiHcq"
      },
      "source": [
        "> Solution1"
      ]
    },
    {
      "cell_type": "code",
      "execution_count": null,
      "metadata": {
        "id": "_PGHkceeiHcq"
      },
      "outputs": [],
      "source": []
    },
    {
      "cell_type": "markdown",
      "metadata": {
        "id": "E5k-JgauiHcq"
      },
      "source": [
        "## Question 68\n",
        "\n",
        ">***Please generate a random float where the value is between 10 and 100 using Python module.***\n"
      ]
    },
    {
      "cell_type": "code",
      "execution_count": null,
      "metadata": {
        "id": "_1-J7OediHcq"
      },
      "outputs": [],
      "source": []
    },
    {
      "cell_type": "markdown",
      "metadata": {
        "id": "YNqSiC3ZiHcr"
      },
      "source": [
        "## Question 69\n",
        ">***Please generate a random float where the value is between 5 and 95 using Python module.***\n",
        "\n"
      ]
    },
    {
      "cell_type": "code",
      "execution_count": null,
      "metadata": {
        "id": "Ci24UV00iHcr"
      },
      "outputs": [],
      "source": []
    },
    {
      "cell_type": "markdown",
      "metadata": {
        "id": "8QANc6AfiHcr"
      },
      "source": [
        "## Question 70\n",
        "\n",
        ">***Please write a program to output a random even number between 0 and 10 inclusive using random module and list comprehension.***\n"
      ]
    },
    {
      "cell_type": "code",
      "execution_count": null,
      "metadata": {
        "id": "eo26H_nwiHcr"
      },
      "outputs": [],
      "source": []
    }
  ],
  "metadata": {
    "kernelspec": {
      "display_name": "Python 3",
      "language": "python",
      "name": "python3"
    },
    "language_info": {
      "codemirror_mode": {
        "name": "ipython",
        "version": 3
      },
      "file_extension": ".py",
      "mimetype": "text/x-python",
      "name": "python",
      "nbconvert_exporter": "python",
      "pygments_lexer": "ipython3",
      "version": "3.7.3"
    },
    "colab": {
      "provenance": []
    }
  },
  "nbformat": 4,
  "nbformat_minor": 0
}